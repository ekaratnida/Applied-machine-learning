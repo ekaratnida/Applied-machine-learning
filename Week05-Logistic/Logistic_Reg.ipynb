{
  "cells": [
    {
      "cell_type": "markdown",
      "metadata": {
        "id": "view-in-github",
        "colab_type": "text"
      },
      "source": [
        "<a href=\"https://colab.research.google.com/github/ekaratnida/Applied-machine-learning/blob/master/Week05-Logistic/Logistic_Reg.ipynb\" target=\"_parent\"><img src=\"https://colab.research.google.com/assets/colab-badge.svg\" alt=\"Open In Colab\"/></a>"
      ]
    },
    {
      "cell_type": "markdown",
      "metadata": {
        "id": "i1P1JR5CL8VB"
      },
      "source": [
        "# Classification"
      ]
    },
    {
      "cell_type": "markdown",
      "metadata": {
        "id": "_VjIl3bmL8VC"
      },
      "source": [
        "# Logistic Regression"
      ]
    },
    {
      "cell_type": "code",
      "execution_count": 1,
      "metadata": {
        "id": "YsIW85lhL8VC"
      },
      "outputs": [],
      "source": [
        "from sklearn.datasets import make_classification\n",
        "import numpy as np\n",
        "np.random.seed(42)"
      ]
    },
    {
      "cell_type": "markdown",
      "metadata": {
        "id": "7PwXY6EaL8VD"
      },
      "source": [
        "# Sigmoid function"
      ]
    },
    {
      "cell_type": "code",
      "execution_count": 2,
      "metadata": {
        "id": "IusVaCo7L8VD"
      },
      "outputs": [],
      "source": [
        "def sigmoid(z):\n",
        "    \"\"\" sigmoid \"\"\"\n",
        "    return 1 / (1 + np.exp(-z))"
      ]
    },
    {
      "cell_type": "code",
      "source": [],
      "metadata": {
        "id": "uUr9oIVMHnZH"
      },
      "execution_count": 2,
      "outputs": []
    },
    {
      "cell_type": "markdown",
      "metadata": {
        "id": "0KRT60j_L8VE"
      },
      "source": [
        "# Cost function (NLLLoss)\n"
      ]
    },
    {
      "cell_type": "code",
      "execution_count": 3,
      "metadata": {
        "id": "szSUF9CgL8VE"
      },
      "outputs": [],
      "source": [
        "def cost(x, y, theta):\n",
        "    N = x.shape[0]\n",
        "    h = sigmoid(np.matmul(x, theta)) #hypothesis\n",
        "    #print(\"h = \",h)\n",
        "    cost = -1* (1/N)*(np.matmul(-y.T, np.log(h)) + np.matmul((1 - y.T), np.log(1 - h)))\n",
        "    return cost"
      ]
    },
    {
      "cell_type": "markdown",
      "metadata": {
        "id": "lDVJ3r-uL8VE"
      },
      "source": [
        "# Gradient descent"
      ]
    },
    {
      "cell_type": "code",
      "execution_count": 4,
      "metadata": {
        "id": "buum9PeWL8VE"
      },
      "outputs": [],
      "source": [
        "def gradient_Descent(theta, eta, x , y):\n",
        "    N = x.shape[0] #a number of rows\n",
        "    h = sigmoid(theta.T.dot(x.T)) #predicted value y^hat\n",
        "    error = h-y\n",
        "    grad = x.T.dot(error.T) #gradient\n",
        "    theta = theta - (eta * grad)/N\n",
        "    return theta"
      ]
    },
    {
      "cell_type": "markdown",
      "metadata": {
        "id": "NpA1eknAL8VF"
      },
      "source": [
        "# Training model"
      ]
    },
    {
      "cell_type": "code",
      "source": [
        "X, Y = make_classification(n_samples=10, n_features=4, random_state=123)\n",
        "print(X)\n",
        "print(Y)"
      ],
      "metadata": {
        "colab": {
          "base_uri": "https://localhost:8080/"
        },
        "id": "ucFrdaaPA_7n",
        "outputId": "b8ee2fd8-918a-42a1-c609-332fd5045a98"
      },
      "execution_count": 5,
      "outputs": [
        {
          "output_type": "stream",
          "name": "stdout",
          "text": [
            "[[-0.52503756 -0.89111891 -1.7132207   1.3151324 ]\n",
            " [ 0.35066574  0.78060054  1.89223867 -1.45339535]\n",
            " [-0.12831709 -0.40891671 -1.18968556  0.91411514]\n",
            " [ 1.42225579  1.03146683 -0.93564326  0.72451256]\n",
            " [-1.04364535 -1.32230348 -1.59420328  1.22173116]\n",
            " [ 0.79417498  0.9352515   0.92684339 -0.70960581]\n",
            " [-0.7732662  -0.35368578  1.34414743 -1.03617157]\n",
            " [-0.99234076 -0.86045595  0.08495255 -0.06895361]\n",
            " [-0.1522535   0.41174991  2.20648133 -1.69682095]\n",
            " [-1.54309852 -1.47087305 -0.40381336  0.30476851]]\n",
            "[0 1 0 0 0 1 1 1 1 0]\n"
          ]
        }
      ]
    },
    {
      "cell_type": "code",
      "source": [
        "X_b = np.c_[np.ones((X.shape[0],1)),X]\n",
        "print(X_b)"
      ],
      "metadata": {
        "colab": {
          "base_uri": "https://localhost:8080/"
        },
        "id": "CwolUuc0BDkS",
        "outputId": "570ccb81-4238-402a-e943-75088f661bbe"
      },
      "execution_count": 6,
      "outputs": [
        {
          "output_type": "stream",
          "name": "stdout",
          "text": [
            "[[ 1.         -0.52503756 -0.89111891 -1.7132207   1.3151324 ]\n",
            " [ 1.          0.35066574  0.78060054  1.89223867 -1.45339535]\n",
            " [ 1.         -0.12831709 -0.40891671 -1.18968556  0.91411514]\n",
            " [ 1.          1.42225579  1.03146683 -0.93564326  0.72451256]\n",
            " [ 1.         -1.04364535 -1.32230348 -1.59420328  1.22173116]\n",
            " [ 1.          0.79417498  0.9352515   0.92684339 -0.70960581]\n",
            " [ 1.         -0.7732662  -0.35368578  1.34414743 -1.03617157]\n",
            " [ 1.         -0.99234076 -0.86045595  0.08495255 -0.06895361]\n",
            " [ 1.         -0.1522535   0.41174991  2.20648133 -1.69682095]\n",
            " [ 1.         -1.54309852 -1.47087305 -0.40381336  0.30476851]]\n"
          ]
        }
      ]
    },
    {
      "cell_type": "code",
      "execution_count": 7,
      "metadata": {
        "id": "ty067FuZL8VF",
        "colab": {
          "base_uri": "https://localhost:8080/"
        },
        "outputId": "031efe9a-7c6a-40f1-d66d-408ecbbfa540"
      },
      "outputs": [
        {
          "output_type": "stream",
          "name": "stdout",
          "text": [
            "Theta =  [[0.37454012]\n",
            " [0.95071431]\n",
            " [0.73199394]\n",
            " [0.59865848]\n",
            " [0.15601864]]\n"
          ]
        }
      ],
      "source": [
        "n_iterations = 100\n",
        "eta = 0.01\n",
        "\n",
        "#init theta\n",
        "Theta = np.random.random((X_b.shape[1],1))\n",
        "print(\"Theta = \",Theta)\n"
      ]
    },
    {
      "cell_type": "code",
      "source": [
        "for i in range(n_iterations):\n",
        "    Theta = gradient_Descent(Theta, eta, X_b, Y)\n",
        "    if i % 10 == 0:\n",
        "      print(i, \"NLLL = \", cost(X_b, Y, Theta))\n",
        "      #print(\"Theta = \", Theta)"
      ],
      "metadata": {
        "id": "BPLhVra2J2zS",
        "outputId": "2211a177-641c-48ac-8a05-6041509644c4",
        "colab": {
          "base_uri": "https://localhost:8080/"
        }
      },
      "execution_count": 8,
      "outputs": [
        {
          "output_type": "stream",
          "name": "stdout",
          "text": [
            "0 NLLL =  [0.04485684]\n",
            "10 NLLL =  [0.04378645]\n",
            "20 NLLL =  [0.04253926]\n",
            "30 NLLL =  [0.04114974]\n",
            "40 NLLL =  [0.03964766]\n",
            "50 NLLL =  [0.03805878]\n",
            "60 NLLL =  [0.03640537]\n",
            "70 NLLL =  [0.03470672]\n",
            "80 NLLL =  [0.03297952]\n",
            "90 NLLL =  [0.03123814]\n"
          ]
        }
      ]
    },
    {
      "cell_type": "code",
      "source": [
        "h = sigmoid(Theta.T.dot(X_b.T))\n",
        "print(\"h = \",h)\n",
        "binary_array = (h > .5).astype(int)\n",
        "\n",
        "# Step 2: Convert the NumPy array to a list of lists\n",
        "h_list = binary_array.tolist()\n",
        "\n",
        "print(\"actual Y           = \",Y.tolist())\n",
        "print(\"predicted Y (h) = \",h_list[0])\n",
        "\n",
        "from sklearn.metrics import accuracy_score\n",
        "print(f\"accuracy = {accuracy_score(Y,h_list[0]) * 100} %\")"
      ],
      "metadata": {
        "colab": {
          "base_uri": "https://localhost:8080/"
        },
        "id": "W25v9FvxBgmO",
        "outputId": "114e0906-b359-414c-e978-d2b877a3f64b"
      },
      "execution_count": 9,
      "outputs": [
        {
          "output_type": "stream",
          "name": "stdout",
          "text": [
            "h =  [[0.10618824 0.94422843 0.25910406 0.7832192  0.06316274 0.91723949\n",
            "  0.67999375 0.29679826 0.92335368 0.10802069]]\n",
            "actual Y           =  [0, 1, 0, 0, 0, 1, 1, 1, 1, 0]\n",
            "predicted Y (h) =  [0, 1, 0, 1, 0, 1, 1, 0, 1, 0]\n",
            "accuracy = 80.0 %\n"
          ]
        }
      ]
    },
    {
      "cell_type": "markdown",
      "metadata": {
        "id": "hj2RuXR6L8VG"
      },
      "source": [
        "# SKLearn"
      ]
    },
    {
      "cell_type": "code",
      "execution_count": 21,
      "metadata": {
        "id": "oQRbmyPwL8VH",
        "outputId": "967eb33d-cc27-4e8a-ac12-f43d69dd7e43",
        "colab": {
          "base_uri": "https://localhost:8080/",
          "height": 287
        }
      },
      "outputs": [
        {
          "output_type": "display_data",
          "data": {
            "text/plain": [
              "<Figure size 400x300 with 1 Axes>"
            ],
            "image/png": "[encoded data removed]"
          },
          "metadata": {}
        }
      ],
      "source": [
        "# Code source: Gaël Varoquaux\n",
        "# Modified for documentation by Jaques Grobler\n",
        "# License: BSD 3 clause\n",
        "\n",
        "import numpy as np\n",
        "import matplotlib.pyplot as plt\n",
        "from sklearn.linear_model import LogisticRegression\n",
        "from sklearn import datasets\n",
        "\n",
        "# import some data to play with\n",
        "iris = datasets.load_iris()\n",
        "#print(iris.DESCR)\n",
        "X = iris.data[:, 2:]  # we only take the first two features.\n",
        "Y = iris.target\n",
        "#print(\"X = \",X)\n",
        "#print(\"Y = \",Y)\n",
        "\n",
        "logreg = LogisticRegression()\n",
        "\n",
        "# Create an instance of Logistic Regression Classifier and fit the data.\n",
        "logreg.fit(X, Y)\n",
        "\n",
        "# Plot the decision boundary. For that, we will assign a color to each\n",
        "# point in the mesh [x_min, x_max]x[y_min, y_max].\n",
        "x_min, x_max = X[:, 0].min() - .5, X[:, 0].max() + .5\n",
        "y_min, y_max = X[:, 1].min() - .5, X[:, 1].max() + .5\n",
        "h = .02  # step size in the mesh\n",
        "xx, yy = np.meshgrid(np.arange(x_min, x_max, h), np.arange(y_min, y_max, h))\n",
        "Z = logreg.predict(np.c_[xx.ravel(), yy.ravel()])\n",
        "\n",
        "# Put the result into a color plot\n",
        "Z = Z.reshape(xx.shape)\n",
        "plt.figure(1, figsize=(4, 3))\n",
        "plt.pcolormesh(xx, yy, Z, cmap=plt.cm.Paired)\n",
        "\n",
        "# Plot also the training points (150 samples)\n",
        "plt.scatter(X[:, 0], X[:, 1], c=Y, edgecolors='k', cmap=plt.cm.Paired)\n",
        "plt.xlabel('Petal length')\n",
        "plt.ylabel('Petal width')\n",
        "\n",
        "plt.xlim(xx.min(), xx.max())\n",
        "plt.ylim(yy.min(), yy.max())\n",
        "plt.xticks(())\n",
        "plt.yticks(())\n",
        "\n",
        "plt.show()"
      ]
    },
    {
      "cell_type": "code",
      "execution_count": 27,
      "metadata": {
        "id": "p7LFdTquL8VO",
        "colab": {
          "base_uri": "https://localhost:8080/",
          "height": 426
        },
        "outputId": "77a6f150-0cdf-4cb7-cb9f-a61c0c8baeb5"
      },
      "outputs": [
        {
          "output_type": "display_data",
          "data": {
            "text/plain": [
              "<Figure size 640x480 with 1 Axes>"
            ],
            "image/png": "[encoded data removed]"
          },
          "metadata": {}
        }
      ],
      "source": [
        "from sklearn.inspection import DecisionBoundaryDisplay\n",
        "display = DecisionBoundaryDisplay(\n",
        "    xx0=xx, xx1=yy, response=Z\n",
        ")\n",
        "display.plot()\n",
        "\n",
        "# Plot also the training points\n",
        "plt.scatter(X[:, 0], X[:, 1], c=Y, edgecolors='k', cmap='cool')\n",
        "plt.xlabel('Sepal length')\n",
        "plt.ylabel('Sepal width')\n",
        "\n",
        "plt.xlim(xx.min(), xx.max())\n",
        "plt.ylim(yy.min(), yy.max())\n",
        "plt.xticks(())\n",
        "plt.yticks(())\n",
        "\n",
        "plt.show()\n"
      ]
    },
    {
      "cell_type": "markdown",
      "source": [
        "Create a logistic regression model\n",
        "1. Use iris dataset with 4 features\n",
        "2. Split train/test dataset using 80/20 ratio\n",
        "3. Fit the train dataset to get the LR model (hypothesis)\n",
        "3. Predict the test dataset and show the accuracy metric.\n",
        "(from sklearn.metrics import accuracy_score)"
      ],
      "metadata": {
        "id": "vxRyhjlBOvgz"
      }
    }
  ],
  "metadata": {
    "kernelspec": {
      "display_name": "Python 3",
      "language": "python",
      "name": "python3"
    },
    "language_info": {
      "codemirror_mode": {
        "name": "ipython",
        "version": 3
      },
      "file_extension": ".py",
      "mimetype": "text/x-python",
      "name": "python",
      "nbconvert_exporter": "python",
      "pygments_lexer": "ipython3",
      "version": "3.7.4"
    },
    "colab": {
      "provenance": [],
      "include_colab_link": true
    }
  },
  "nbformat": 4,
  "nbformat_minor": 0
}