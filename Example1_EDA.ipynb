{
  "nbformat": 4,
  "nbformat_minor": 0,
  "metadata": {
    "colab": {
      "provenance": [],
      "authorship_tag": "ABX9TyN8jwFhOtSP+9TDMQkmRfOQ",
      "include_colab_link": true
    },
    "kernelspec": {
      "name": "python3",
      "display_name": "Python 3"
    },
    "language_info": {
      "name": "python"
    }
  },
  "cells": [
    {
      "cell_type": "markdown",
      "metadata": {
        "id": "view-in-github",
        "colab_type": "text"
      },
      "source": [
        "<a href=\"https://colab.research.google.com/github/ekaratnida/Applied-machine-learning/blob/master/Example1_EDA.ipynb\" target=\"_parent\"><img src=\"https://colab.research.google.com/assets/colab-badge.svg\" alt=\"Open In Colab\"/></a>"
      ]
    },
    {
      "cell_type": "code",
      "source": [
        "# Install necessary libraries if they are not already installed\n",
        "# !pip install pandas numpy matplotlib"
      ],
      "metadata": {
        "id": "R9xnLHL_NULk"
      },
      "execution_count": 14,
      "outputs": []
    },
    {
      "cell_type": "code",
      "source": [
        "import pandas as pd\n",
        "import numpy as np\n",
        "import matplotlib.pyplot as plt"
      ],
      "metadata": {
        "id": "Cvzjj0MjNdFr"
      },
      "execution_count": 15,
      "outputs": []
    },
    {
      "cell_type": "code",
      "source": [
        "# 1. Data Collection (Example: Simulated Pharmacy Data)\n",
        "# Simulate pharmacy prescription data\n",
        "def collect_data():\n",
        "    data = {\n",
        "        'Prescription_ID': range(1, 11),\n",
        "        'Drug_Name': ['Drug_A', 'Drug_B', 'Drug_C', 'Drug_A', 'Drug_B', 'Drug_C', 'Drug_A', 'Drug_B', 'Drug_C', 'Drug_A'],\n",
        "        'Patient_Age': [34, 67, 50, 45, 72, 30, 65, 60, 40, 38],\n",
        "        'Dosage_mg': [20, 50, 10, 20, 50, 10, 20, 50, 10, 20],\n",
        "        'Duration_days': [30, 15, 60, 45, 10, 30, 20, 15, 60, 45],\n",
        "        'Pharmacy_Name': ['Pharma_X', 'Pharma_Y', 'Pharma_Z', 'Pharma_X', 'Pharma_Y', 'Pharma_Z', 'Pharma_X', 'Pharma_Y', 'Pharma_Z', 'Pharma_X']\n",
        "    }\n",
        "    df = pd.DataFrame(data)\n",
        "    return df\n",
        "\n",
        "pharmacy_data = collect_data()\n",
        "print(\"Raw Pharmacy Data:\")\n",
        "print(pharmacy_data.head())"
      ],
      "metadata": {
        "colab": {
          "base_uri": "https://localhost:8080/"
        },
        "id": "amoA651dNZaL",
        "outputId": "2e818709-14af-4235-affc-3a6e563fade9"
      },
      "execution_count": 16,
      "outputs": [
        {
          "output_type": "stream",
          "name": "stdout",
          "text": [
            "Raw Pharmacy Data:\n",
            "   Prescription_ID Drug_Name  Patient_Age  Dosage_mg  Duration_days  \\\n",
            "0                1    Drug_A           34         20             30   \n",
            "1                2    Drug_B           67         50             15   \n",
            "2                3    Drug_C           50         10             60   \n",
            "3                4    Drug_A           45         20             45   \n",
            "4                5    Drug_B           72         50             10   \n",
            "\n",
            "  Pharmacy_Name  \n",
            "0      Pharma_X  \n",
            "1      Pharma_Y  \n",
            "2      Pharma_Z  \n",
            "3      Pharma_X  \n",
            "4      Pharma_Y  \n"
          ]
        }
      ]
    },
    {
      "cell_type": "code",
      "source": [
        "# 2. Data Cleaning (Example: Handle Missing Values, Duplicates)\n",
        "def clean_data(df):\n",
        "    # Add some NaN values for example\n",
        "    df.loc[0, 'Patient_Age'] = np.nan\n",
        "    df.loc[3, 'Duration_days'] = np.nan\n",
        "    print(\"\\nData with missing values:\")\n",
        "    print(df)\n",
        "\n",
        "    # Fill missing values (e.g., mean for Age, forward fill for Duration)\n",
        "    df['Patient_Age'].fillna(df['Patient_Age'].mean(), inplace=True)\n",
        "    df['Duration_days'].fillna(method='ffill', inplace=True)\n",
        "\n",
        "    # Remove any duplicate rows if they exist\n",
        "    df.drop_duplicates(inplace=True)\n",
        "    return df\n",
        "\n",
        "cleaned_data = clean_data(pharmacy_data)\n",
        "print(\"\\nCleaned Data:\")\n",
        "print(cleaned_data.head())\n"
      ],
      "metadata": {
        "colab": {
          "base_uri": "https://localhost:8080/"
        },
        "id": "anGaRRAeNn6B",
        "outputId": "2549a137-4fd5-42bf-ed3f-0ee7d50f546a"
      },
      "execution_count": 17,
      "outputs": [
        {
          "output_type": "stream",
          "name": "stdout",
          "text": [
            "\n",
            "Data with missing values:\n",
            "   Prescription_ID Drug_Name  Patient_Age  Dosage_mg  Duration_days  \\\n",
            "0                1    Drug_A          NaN         20           30.0   \n",
            "1                2    Drug_B         67.0         50           15.0   \n",
            "2                3    Drug_C         50.0         10           60.0   \n",
            "3                4    Drug_A         45.0         20            NaN   \n",
            "4                5    Drug_B         72.0         50           10.0   \n",
            "5                6    Drug_C         30.0         10           30.0   \n",
            "6                7    Drug_A         65.0         20           20.0   \n",
            "7                8    Drug_B         60.0         50           15.0   \n",
            "8                9    Drug_C         40.0         10           60.0   \n",
            "9               10    Drug_A         38.0         20           45.0   \n",
            "\n",
            "  Pharmacy_Name  \n",
            "0      Pharma_X  \n",
            "1      Pharma_Y  \n",
            "2      Pharma_Z  \n",
            "3      Pharma_X  \n",
            "4      Pharma_Y  \n",
            "5      Pharma_Z  \n",
            "6      Pharma_X  \n",
            "7      Pharma_Y  \n",
            "8      Pharma_Z  \n",
            "9      Pharma_X  \n",
            "\n",
            "Cleaned Data:\n",
            "   Prescription_ID Drug_Name  Patient_Age  Dosage_mg  Duration_days  \\\n",
            "0                1    Drug_A    51.888889         20           30.0   \n",
            "1                2    Drug_B    67.000000         50           15.0   \n",
            "2                3    Drug_C    50.000000         10           60.0   \n",
            "3                4    Drug_A    45.000000         20           60.0   \n",
            "4                5    Drug_B    72.000000         50           10.0   \n",
            "\n",
            "  Pharmacy_Name  \n",
            "0      Pharma_X  \n",
            "1      Pharma_Y  \n",
            "2      Pharma_Z  \n",
            "3      Pharma_X  \n",
            "4      Pharma_Y  \n"
          ]
        },
        {
          "output_type": "stream",
          "name": "stderr",
          "text": [
            "<ipython-input-17-0e12bf01b5c5>:10: FutureWarning: A value is trying to be set on a copy of a DataFrame or Series through chained assignment using an inplace method.\n",
            "The behavior will change in pandas 3.0. This inplace method will never work because the intermediate object on which we are setting values always behaves as a copy.\n",
            "\n",
            "For example, when doing 'df[col].method(value, inplace=True)', try using 'df.method({col: value}, inplace=True)' or df[col] = df[col].method(value) instead, to perform the operation inplace on the original object.\n",
            "\n",
            "\n",
            "  df['Patient_Age'].fillna(df['Patient_Age'].mean(), inplace=True)\n",
            "<ipython-input-17-0e12bf01b5c5>:11: FutureWarning: A value is trying to be set on a copy of a DataFrame or Series through chained assignment using an inplace method.\n",
            "The behavior will change in pandas 3.0. This inplace method will never work because the intermediate object on which we are setting values always behaves as a copy.\n",
            "\n",
            "For example, when doing 'df[col].method(value, inplace=True)', try using 'df.method({col: value}, inplace=True)' or df[col] = df[col].method(value) instead, to perform the operation inplace on the original object.\n",
            "\n",
            "\n",
            "  df['Duration_days'].fillna(method='ffill', inplace=True)\n",
            "<ipython-input-17-0e12bf01b5c5>:11: FutureWarning: Series.fillna with 'method' is deprecated and will raise in a future version. Use obj.ffill() or obj.bfill() instead.\n",
            "  df['Duration_days'].fillna(method='ffill', inplace=True)\n"
          ]
        }
      ]
    },
    {
      "cell_type": "code",
      "source": [
        "# 3. Data Structuring (Example: Reformat Data for Analysis)\n",
        "def structure_data(df):\n",
        "    # Pivot the data to see total dosage per pharmacy and drug\n",
        "    structured_df = df.pivot_table(values='Dosage_mg', index='Pharmacy_Name', columns='Drug_Name', aggfunc='sum', fill_value=0)\n",
        "    return structured_df\n",
        "\n",
        "structured_data = structure_data(cleaned_data)\n",
        "print(\"\\nStructured Data (Pivot Table):\")\n",
        "print(structured_data.head())\n"
      ],
      "metadata": {
        "colab": {
          "base_uri": "https://localhost:8080/"
        },
        "id": "5ZmlYdiqNj23",
        "outputId": "89b71207-3f86-4c2e-b39d-2ed1d6390eec"
      },
      "execution_count": 18,
      "outputs": [
        {
          "output_type": "stream",
          "name": "stdout",
          "text": [
            "\n",
            "Structured Data (Pivot Table):\n",
            "Drug_Name      Drug_A  Drug_B  Drug_C\n",
            "Pharmacy_Name                        \n",
            "Pharma_X           80       0       0\n",
            "Pharma_Y            0     150       0\n",
            "Pharma_Z            0       0      30\n"
          ]
        }
      ]
    },
    {
      "cell_type": "code",
      "source": [
        "\n",
        "# 4. Data Enrichment (Example: Add a Derived Column)\n",
        "def enrich_data(df):\n",
        "    # Add a column calculating total dosage over the duration of the prescription\n",
        "    df['Total_Dosage'] = df['Dosage_mg'] * df['Duration_days']\n",
        "    return df\n",
        "\n",
        "enriched_data = enrich_data(cleaned_data)\n",
        "print(\"\\nEnriched Data with Total Dosage:\")\n",
        "print(enriched_data.head())\n"
      ],
      "metadata": {
        "colab": {
          "base_uri": "https://localhost:8080/"
        },
        "id": "Mmlax5U6NpVM",
        "outputId": "af0d938a-9bfd-4a8a-b7a8-d522e817ed56"
      },
      "execution_count": 19,
      "outputs": [
        {
          "output_type": "stream",
          "name": "stdout",
          "text": [
            "\n",
            "Enriched Data with Total Dosage:\n",
            "   Prescription_ID Drug_Name  Patient_Age  Dosage_mg  Duration_days  \\\n",
            "0                1    Drug_A    51.888889         20           30.0   \n",
            "1                2    Drug_B    67.000000         50           15.0   \n",
            "2                3    Drug_C    50.000000         10           60.0   \n",
            "3                4    Drug_A    45.000000         20           60.0   \n",
            "4                5    Drug_B    72.000000         50           10.0   \n",
            "\n",
            "  Pharmacy_Name  Total_Dosage  \n",
            "0      Pharma_X         600.0  \n",
            "1      Pharma_Y         750.0  \n",
            "2      Pharma_Z         600.0  \n",
            "3      Pharma_X        1200.0  \n",
            "4      Pharma_Y         500.0  \n"
          ]
        }
      ]
    },
    {
      "cell_type": "code",
      "source": [
        "\n",
        "# 5. Data Transformation (Example: Normalize and Aggregate Data)\n",
        "def transform_data(df):\n",
        "    # Normalize the Dosage column (scaling between 0 and 1)\n",
        "    df['Dosage_mg_normalized'] = (df['Dosage_mg'] - df['Dosage_mg'].min()) / (df['Dosage_mg'].max() - df['Dosage_mg'].min())\n",
        "\n",
        "    # Aggregate data by Pharmacy_Name to see total dosage for each pharmacy\n",
        "    aggregated_data = df.groupby('Pharmacy_Name').agg({'Total_Dosage': 'sum'}).reset_index()\n",
        "\n",
        "    return df, aggregated_data\n",
        "\n",
        "transformed_data, aggregated_data = transform_data(enriched_data)\n",
        "print(\"\\nTransformed Data with Normalized Dosage:\")\n",
        "print(transformed_data.head())\n",
        "print(\"\\nAggregated Data by Pharmacy:\")\n",
        "print(aggregated_data.head())"
      ],
      "metadata": {
        "colab": {
          "base_uri": "https://localhost:8080/"
        },
        "id": "bn-Le4dxNsca",
        "outputId": "27a0e9df-475c-492e-9f60-efb235f5e8ca"
      },
      "execution_count": 20,
      "outputs": [
        {
          "output_type": "stream",
          "name": "stdout",
          "text": [
            "\n",
            "Transformed Data with Normalized Dosage:\n",
            "   Prescription_ID Drug_Name  Patient_Age  Dosage_mg  Duration_days  \\\n",
            "0                1    Drug_A    51.888889         20           30.0   \n",
            "1                2    Drug_B    67.000000         50           15.0   \n",
            "2                3    Drug_C    50.000000         10           60.0   \n",
            "3                4    Drug_A    45.000000         20           60.0   \n",
            "4                5    Drug_B    72.000000         50           10.0   \n",
            "\n",
            "  Pharmacy_Name  Total_Dosage  Dosage_mg_normalized  \n",
            "0      Pharma_X         600.0                  0.25  \n",
            "1      Pharma_Y         750.0                  1.00  \n",
            "2      Pharma_Z         600.0                  0.00  \n",
            "3      Pharma_X        1200.0                  0.25  \n",
            "4      Pharma_Y         500.0                  1.00  \n",
            "\n",
            "Aggregated Data by Pharmacy:\n",
            "  Pharmacy_Name  Total_Dosage\n",
            "0      Pharma_X        3100.0\n",
            "1      Pharma_Y        2000.0\n",
            "2      Pharma_Z        1500.0\n"
          ]
        }
      ]
    },
    {
      "cell_type": "code",
      "execution_count": 21,
      "metadata": {
        "colab": {
          "base_uri": "https://localhost:8080/",
          "height": 503
        },
        "id": "caECBohSM4v4",
        "outputId": "6e099bc2-f888-4f2a-df5a-7262b17d73f2"
      },
      "outputs": [
        {
          "output_type": "stream",
          "name": "stdout",
          "text": [
            "\n",
            "Data is consistent.\n"
          ]
        },
        {
          "output_type": "display_data",
          "data": {
            "text/plain": [
              "<Figure size 800x500 with 1 Axes>"
            ],
            "image/png": "[encoded data removed]"
          },
          "metadata": {}
        }
      ],
      "source": [
        "\n",
        "\n",
        "# 6. Validation (Example: Check for Consistency and Outliers)\n",
        "def validate_data(df):\n",
        "    # Check for any negative values in Dosage or Duration (inconsistent data)\n",
        "    if (df['Dosage_mg'] < 0).any() or (df['Duration_days'] < 0).any():\n",
        "        print(\"\\nWarning: Inconsistent data detected! Negative values found.\")\n",
        "    else:\n",
        "        print(\"\\nData is consistent.\")\n",
        "\n",
        "    # Visualize data to check for outliers in Total Dosage\n",
        "    plt.figure(figsize=(8,5))\n",
        "    plt.boxplot(df['Total_Dosage'], vert=False)\n",
        "    plt.title(\"Outlier Detection in Total Dosage\")\n",
        "    plt.show()\n",
        "\n",
        "validate_data(enriched_data.head())\n",
        "\n"
      ]
    }
  ]
}