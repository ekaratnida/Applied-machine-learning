{
  "cells": [
    {
      "cell_type": "markdown",
      "metadata": {
        "id": "view-in-github",
        "colab_type": "text"
      },
      "source": [
        "<a href=\"https://colab.research.google.com/github/ekaratnida/Applied-machine-learning/blob/master/Week15-pca/PCA.ipynb\" target=\"_parent\"><img src=\"https://colab.research.google.com/assets/colab-badge.svg\" alt=\"Open In Colab\"/></a>"
      ]
    },
    {
      "cell_type": "markdown",
      "metadata": {
        "id": "hHFwgyW4X8Uu"
      },
      "source": [
        "# PCA"
      ]
    },
    {
      "cell_type": "markdown",
      "source": [
        "#Note\n",
        "1. scikit-learn 's PCA does not apply standardization to the input dataset, it only centers it by subtracting the mean."
      ],
      "metadata": {
        "id": "O7cLvgv9frg3"
      }
    },
    {
      "cell_type": "code",
      "execution_count": 15,
      "metadata": {
        "id": "5xc4Vc7iX8Uv",
        "outputId": "c21985f2-fca0-4536-90e0-ab853dc23188",
        "colab": {
          "base_uri": "https://localhost:8080/",
          "height": 534
        }
      },
      "outputs": [
        {
          "output_type": "stream",
          "name": "stdout",
          "text": [
            "pca.explained_variance_ratio_ [0.9651413 0.0348587]\n",
            "cumsum of variance [0.9651413 1.       ]\n",
            "eigenvalues (lambda) =  [6.69164633 0.241687  ]\n",
            "eigenvectors (vectors)  [[ 0.6923352   0.72157603]\n",
            " [ 0.72157603 -0.6923352 ]]\n"
          ]
        },
        {
          "output_type": "execute_result",
          "data": {
            "text/plain": [
              "(np.float64(0.7), np.float64(7.3), np.float64(2.75), np.float64(8.25))"
            ]
          },
          "metadata": {},
          "execution_count": 15
        },
        {
          "output_type": "display_data",
          "data": {
            "text/plain": [
              "<Figure size 640x480 with 1 Axes>"
            ],
            "image/png": "[encoded data removed]"
          },
          "metadata": {}
        }
      ],
      "source": [
        "import numpy as np\n",
        "import pandas as pd\n",
        "import matplotlib.pyplot as plt\n",
        "from sklearn.decomposition import PCA\n",
        "from sklearn.preprocessing import StandardScaler\n",
        "#np.set_printoptions(formatter={'float': lambda x: \"{0:0.2f}\".format(x)})\n",
        "\n",
        "X = np.array([[1.0,3.0],\n",
        "              [2.0,3.0],\n",
        "              [3.0,4.0],\n",
        "              [3.0,5.0],\n",
        "              [4.0,4.0],\n",
        "              [4.0,6.0],\n",
        "              [5.0,6.0],\n",
        "              [5.0,7.0],\n",
        "              [6.0,8.0],\n",
        "              [7.0,8.0]])\n",
        "\n",
        "#Feature scaling\n",
        "#In the real use, we should apply the feature scaling in the first step.\n",
        "X_std = X #StandardScaler().fit_transform(X)\n",
        "#print(X_std)\n",
        "\n",
        "pca = PCA(n_components=2) # PCA(.95)\n",
        "pca.fit(X_std)\n",
        "\n",
        "print(\"pca.explained_variance_ratio_\", pca.explained_variance_ratio_)\n",
        "cs = np.cumsum(pca.explained_variance_ratio_)\n",
        "print(\"cumsum of variance\", cs)\n",
        "print(\"eigenvalues (lambda) = \", pca.explained_variance_)\n",
        "print(\"eigenvectors (vectors) \", pca.components_)\n",
        "\n",
        "def draw_vector(v0, v1, ax=None):\n",
        "    ax = ax or plt.gca()\n",
        "    arrowprops=dict(arrowstyle='->', linewidth=2, shrinkA=0, shrinkB=0)\n",
        "    ax.annotate('', v1, v0, arrowprops=arrowprops)\n",
        "\n",
        "# plot data\n",
        "plt.scatter(X[:, 0], X[:, 1], alpha=0.7)\n",
        "for length, vector in zip(pca.explained_variance_, pca.components_):\n",
        "    v = vector * np.sqrt(length)\n",
        "    draw_vector(pca.mean_, pca.mean_ + v)\n",
        "plt.axis('equal')"
      ]
    },
    {
      "cell_type": "markdown",
      "source": [
        "\n",
        "- Discover underlying factors with correlations between features and components"
      ],
      "metadata": {
        "id": "hh81frqMn2Mu"
      }
    },
    {
      "cell_type": "markdown",
      "metadata": {
        "id": "u2r118HQX8Ux"
      },
      "source": [
        "## Implement of Page 14 in lecture"
      ]
    },
    {
      "cell_type": "code",
      "execution_count": 18,
      "metadata": {
        "id": "cmFHgWinX8Ux",
        "outputId": "9b68aff6-041f-4cb8-b64f-7eebcebc9a81",
        "colab": {
          "base_uri": "https://localhost:8080/"
        }
      },
      "outputs": [
        {
          "output_type": "stream",
          "name": "stdout",
          "text": [
            "[[-3.80878808]\n",
            " [-3.11645288]\n",
            " [-1.70254164]\n",
            " [-0.98096562]\n",
            " [-1.01020644]\n",
            " [ 0.43294562]\n",
            " [ 1.12528082]\n",
            " [ 1.84685685]\n",
            " [ 3.26076808]\n",
            " [ 3.95310329]]\n",
            "original shape:    (10, 2)\n",
            "transformed shape: (10, 1)\n"
          ]
        }
      ],
      "source": [
        "pca = PCA(n_components=1)\n",
        "pca.fit(X)\n",
        "X_pca = pca.transform(X) #p.14 on slide\n",
        "print(X_pca)\n",
        "print(\"original shape:   \", X.shape)\n",
        "print(\"transformed shape:\", X_pca.shape)"
      ]
    },
    {
      "cell_type": "markdown",
      "source": [
        "## Page 16 of lecture"
      ],
      "metadata": {
        "id": "rIIiqF2AHnpQ"
      }
    },
    {
      "cell_type": "code",
      "execution_count": 3,
      "metadata": {
        "id": "qDwui925X8Ux",
        "outputId": "8e55c7b4-36b7-4f24-a3aa-bdf6a9cee2e6",
        "colab": {
          "base_uri": "https://localhost:8080/",
          "height": 795
        }
      },
      "outputs": [
        {
          "output_type": "stream",
          "name": "stdout",
          "text": [
            "X_approx  [[1.36304193 2.65166982]\n",
            " [1.84236996 3.15124231]\n",
            " [2.82127048 4.17148676]\n",
            " [3.32084297 4.69215873]\n",
            " [3.30059852 4.67105925]\n",
            " [4.29974349 5.71240318]\n",
            " [4.77907153 6.21197567]\n",
            " [5.27864401 6.73264763]\n",
            " [6.25754454 7.75289208]\n",
            " [6.73687257 8.25246457]]  \n",
            " \n",
            "X_original [[1. 3.]\n",
            " [2. 3.]\n",
            " [3. 4.]\n",
            " [3. 5.]\n",
            " [4. 4.]\n",
            " [4. 6.]\n",
            " [5. 6.]\n",
            " [5. 7.]\n",
            " [6. 8.]\n",
            " [7. 8.]]\n"
          ]
        },
        {
          "output_type": "display_data",
          "data": {
            "text/plain": [
              "<Figure size 640x480 with 1 Axes>"
            ],
            "image/png": "[encoded data removed]"
          },
          "metadata": {}
        }
      ],
      "source": [
        "X_approx = pca.inverse_transform(X_pca)\n",
        "print(\"X_approx \", X_approx, \" \\n \")\n",
        "print(\"X_original\",X)\n",
        "plt.scatter(X[:, 0], X[:, 1], alpha=0.2)\n",
        "#ต้องปัดทศนิยมก่อน Ceil function\n",
        "plt.scatter(X_approx[:, 0], X_approx[:, 1], alpha=1)\n",
        "plt.show()\n",
        "#plt.axis('equal');"
      ]
    },
    {
      "cell_type": "markdown",
      "metadata": {
        "id": "S19ys0sTX8Uy"
      },
      "source": [
        "# Implement PCA from scratch (Matrix 2x2)"
      ]
    },
    {
      "cell_type": "code",
      "execution_count": 4,
      "metadata": {
        "id": "mqFo2IEJX8Uy",
        "outputId": "0ada1483-186e-4293-d129-60402989f60e",
        "colab": {
          "base_uri": "https://localhost:8080/"
        }
      },
      "outputs": [
        {
          "output_type": "stream",
          "name": "stdout",
          "text": [
            "[[3.33333333 3.22222222]\n",
            " [3.22222222 3.6       ]]\n",
            "evecs  [[-0.72157603  0.6923352 ]\n",
            " [ 0.6923352   0.72157603]]\n",
            "evals  [0.241687   6.69164633]\n"
          ]
        }
      ],
      "source": [
        "import numpy as np\n",
        "from scipy import linalg as LA\n",
        "\n",
        "# Covariance\n",
        "def cov(x, y):\n",
        "    xbar, ybar = x.mean(), y.mean()\n",
        "    return np.sum((x - xbar)*(y - ybar))/(len(x)-1)\n",
        "\n",
        "# Covariance matrix\n",
        "def cov_mat(X):\n",
        "    return np.array([[cov(X[0], X[0]), cov(X[0], X[1])], \\\n",
        "                     [cov(X[1], X[0]), cov(X[1], X[1])]])\n",
        "\n",
        "# Calculate covariance matrix\n",
        "cc = cov_mat(X.T) # (or with np.cov(X.T))\n",
        "print(cc)\n",
        "\n",
        "evals , evecs = LA.eigh(cc)\n",
        "print(\"evecs \",evecs)\n",
        "print(\"evals \",evals)"
      ]
    },
    {
      "cell_type": "markdown",
      "metadata": {
        "id": "4QINkydCX8Uy"
      },
      "source": [
        "# Projection step"
      ]
    },
    {
      "cell_type": "code",
      "execution_count": 5,
      "metadata": {
        "id": "lH-Sr-XTX8Uy",
        "outputId": "8e96c51b-5603-4bad-b41f-1a3e996bd177",
        "colab": {
          "base_uri": "https://localhost:8080/"
        }
      },
      "outputs": [
        {
          "output_type": "stream",
          "name": "stdout",
          "text": [
            "e2  [[0.6923352  0.72157603]] \n",
            "\n",
            "[[-3.  -2.4]\n",
            " [-2.  -2.4]\n",
            " [-1.  -1.4]\n",
            " [-1.  -0.4]\n",
            " [ 0.  -1.4]\n",
            " [ 0.   0.6]\n",
            " [ 1.   0.6]\n",
            " [ 1.   1.6]\n",
            " [ 2.   2.6]\n",
            " [ 3.   2.6]] \n",
            "\n",
            "[[-3.80878808]\n",
            " [-3.11645288]\n",
            " [-1.70254164]\n",
            " [-0.98096562]\n",
            " [-1.01020644]\n",
            " [ 0.43294562]\n",
            " [ 1.12528082]\n",
            " [ 1.84685685]\n",
            " [ 3.26076808]\n",
            " [ 3.95310329]]\n"
          ]
        }
      ],
      "source": [
        "#idx = np.argsort(evals)[::-1]\n",
        "#evecs = evecs[:,idx]\n",
        "#evals = evals[idx]\n",
        "e2 = np.array([evecs[1,:]])\n",
        "print(\"e2 \",e2, \"\\n\")\n",
        "X -= np.mean(X, axis = 0) #step 2\n",
        "print(X,\"\\n\")\n",
        "a = np.dot(e2,X.T)\n",
        "print(a.T)"
      ]
    },
    {
      "cell_type": "markdown",
      "metadata": {
        "id": "ihcioBs9X8Uz"
      },
      "source": [
        "# Retrieving old data (x1,x2)"
      ]
    },
    {
      "cell_type": "code",
      "execution_count": 6,
      "metadata": {
        "id": "AQgQvI1OX8Uz",
        "outputId": "1398898f-677d-4063-fb92-ec5da48dcfb5",
        "colab": {
          "base_uri": "https://localhost:8080/"
        }
      },
      "outputs": [
        {
          "output_type": "stream",
          "name": "stdout",
          "text": [
            "[[-2.63695807 -2.74833018]\n",
            " [-2.15763004 -2.24875769]\n",
            " [-1.17872952 -1.22851324]\n",
            " [-0.67915703 -0.70784127]\n",
            " [-0.69940148 -0.72894075]\n",
            " [ 0.29974349  0.31240318]\n",
            " [ 0.77907153  0.81197567]\n",
            " [ 1.27864401  1.33264763]\n",
            " [ 2.25754454  2.35289208]\n",
            " [ 2.73687257  2.85246457]]  \n",
            "\n",
            "[[1.36304193 2.65166982]\n",
            " [1.84236996 3.15124231]\n",
            " [2.82127048 4.17148676]\n",
            " [3.32084297 4.69215873]\n",
            " [3.30059852 4.67105925]\n",
            " [4.29974349 5.71240318]\n",
            " [4.77907153 6.21197567]\n",
            " [5.27864401 6.73264763]\n",
            " [6.25754454 7.75289208]\n",
            " [6.73687257 8.25246457]]\n"
          ]
        }
      ],
      "source": [
        "#Reverse\n",
        "b = np.dot(a.T,e2)\n",
        "print(b,\" \\n\")\n",
        "print(b+np.array([4,5.4]))\n"
      ]
    },
    {
      "cell_type": "markdown",
      "metadata": {
        "id": "0cxG0_DmX8Uz"
      },
      "source": [
        "# Exercise"
      ]
    },
    {
      "cell_type": "markdown",
      "source": [],
      "metadata": {
        "id": "v19HqIShSK6G"
      }
    },
    {
      "cell_type": "markdown",
      "metadata": {
        "id": "K-9m2oW2X8Uz"
      },
      "source": [
        "1. Generate data using make_regression, sample = 100, dim = 20, random_state=1234 <br/>\n",
        "2. Find PCA in data <br/>\n",
        " - model = PCA(.95) <br/>\n",
        " - model.fit(x) <br/>\n",
        "3. show  <br/>\n",
        "print(\"pca.explained_variance_ratio_\", pca.explained_variance_ratio_) <br/>\n",
        "cs = np.cumsum(pca.explained_variance_ratio_) <br/>\n",
        "print(cs) <br/>\n",
        "print(pca.explained_variance_) <br/>\n",
        "print(pca.components_) <br/>\n",
        "Plot bar chart of cumulative variance"
      ]
    },
    {
      "cell_type": "markdown",
      "metadata": {
        "id": "Lvv7DwItX8U0"
      },
      "source": [
        "# Application\n",
        "## Apply PCA for dimension reduction and use Logistic Regression to classify the data."
      ]
    },
    {
      "cell_type": "code",
      "execution_count": 7,
      "metadata": {
        "id": "nFmFlU_-X8U0",
        "outputId": "976b9301-c677-4b82-ccf3-0c8cc898e998",
        "colab": {
          "base_uri": "https://localhost:8080/"
        }
      },
      "outputs": [
        {
          "output_type": "stream",
          "name": "stdout",
          "text": [
            "**Author**: Yann LeCun, Corinna Cortes, Christopher J.C. Burges  \n",
            "**Source**: [MNIST Website](http://yann.lecun.com/exdb/mnist/) - Date unknown  \n",
            "**Please cite**:  \n",
            "\n",
            "The MNIST database of handwritten digits with 784 features, raw data available at: http://yann.lecun.com/exdb/mnist/. It can be split in a training set of the first 60,000 examples, and a test set of 10,000 examples  \n",
            "\n",
            "It is a subset of a larger set available from NIST. The digits have been size-normalized and centered in a fixed-size image. It is a good database for people who want to try learning techniques and pattern recognition methods on real-world data while spending minimal efforts on preprocessing and formatting. The original black and white (bilevel) images from NIST were size normalized to fit in a 20x20 pixel box while preserving their aspect ratio. The resulting images contain grey levels as a result of the anti-aliasing technique used by the normalization algorithm. the images were centered in a 28x28 image by computing the center of mass of the pixels, and translating the image so as to position this point at the center of the 28x28 field.  \n",
            "\n",
            "With some classification methods (particularly template-based methods, such as SVM and K-nearest neighbors), the error rate improves when the digits are centered by bounding box rather than center of mass. If you do this kind of pre-processing, you should report it in your publications. The MNIST database was constructed from NIST's NIST originally designated SD-3 as their training set and SD-1 as their test set. However, SD-3 is much cleaner and easier to recognize than SD-1. The reason for this can be found on the fact that SD-3 was collected among Census Bureau employees, while SD-1 was collected among high-school students. Drawing sensible conclusions from learning experiments requires that the result be independent of the choice of training set and test among the complete set of samples. Therefore it was necessary to build a new database by mixing NIST's datasets.  \n",
            "\n",
            "The MNIST training set is composed of 30,000 patterns from SD-3 and 30,000 patterns from SD-1. Our test set was composed of 5,000 patterns from SD-3 and 5,000 patterns from SD-1. The 60,000 pattern training set contained examples from approximately 250 writers. We made sure that the sets of writers of the training set and test set were disjoint. SD-1 contains 58,527 digit images written by 500 different writers. In contrast to SD-3, where blocks of data from each writer appeared in sequence, the data in SD-1 is scrambled. Writer identities for SD-1 is available and we used this information to unscramble the writers. We then split SD-1 in two: characters written by the first 250 writers went into our new training set. The remaining 250 writers were placed in our test set. Thus we had two sets with nearly 30,000 examples each. The new training set was completed with enough examples from SD-3, starting at pattern # 0, to make a full set of 60,000 training patterns. Similarly, the new test set was completed with SD-3 examples starting at pattern # 35,000 to make a full set with 60,000 test patterns. Only a subset of 10,000 test images (5,000 from SD-1 and 5,000 from SD-3) is available on this site. The full 60,000 sample training set is available.\n",
            "\n",
            "Downloaded from openml.org.\n"
          ]
        }
      ],
      "source": [
        "from sklearn.datasets import fetch_openml\n",
        "mnist = fetch_openml('mnist_784')\n",
        "print(mnist.DESCR)"
      ]
    },
    {
      "cell_type": "code",
      "execution_count": 8,
      "metadata": {
        "id": "rTvtvNmTX8U0",
        "outputId": "06041e72-d767-4921-972e-8ab5f9a0adf0",
        "colab": {
          "base_uri": "https://localhost:8080/"
        }
      },
      "outputs": [
        {
          "output_type": "stream",
          "name": "stdout",
          "text": [
            "(63000, 784)\n",
            "(7000, 784)\n"
          ]
        }
      ],
      "source": [
        "from sklearn.model_selection import train_test_split\n",
        "from sklearn.preprocessing import StandardScaler\n",
        "\n",
        "train_img, test_img, train_lbl, test_lbl = train_test_split(mnist.data, #X\n",
        "                                                           mnist.target, #y\n",
        "                                                           test_size = 0.1,\n",
        "                                                           random_state=0)\n",
        "print(train_img.shape)\n",
        "print(test_img.shape)\n",
        "\n",
        "\n",
        "test_img_original = test_img.copy() #copy for reuse in visualized step.\n",
        "\n",
        "\n",
        "#Standardization\n",
        "scaler = StandardScaler()\n",
        "scaler.fit(train_img)\n",
        "train_img_std = scaler.transform(train_img)\n",
        "test_img_std = scaler.transform(test_img)"
      ]
    },
    {
      "cell_type": "code",
      "execution_count": 28,
      "metadata": {
        "id": "Jlw6TH9cX8U0",
        "outputId": "201eaedd-bbb8-46a7-feb5-078ef4111cf0",
        "colab": {
          "base_uri": "https://localhost:8080/"
        }
      },
      "outputs": [
        {
          "output_type": "stream",
          "name": "stdout",
          "text": [
            "400\n",
            "[0.05671436 0.04047083 0.03753538 0.02914118 0.02524998 0.02200322\n",
            " 0.01920165 0.01750663 0.01534805 0.01403067 0.01345596 0.01206541\n",
            " 0.01117851 0.0109567  0.01031841 0.00997927 0.00933567 0.00922389\n",
            " 0.00895114 0.00870465 0.00825657 0.00800672 0.00765328 0.00743891\n",
            " 0.00719272 0.00694117 0.00687699 0.00662345 0.00630299 0.00614446\n",
            " 0.00602085 0.00589295 0.00569335 0.00563158 0.00557288 0.00534532\n",
            " 0.00530663 0.00519092 0.00510428 0.00482269 0.00478215 0.00467734\n",
            " 0.00455263 0.00447202 0.00444518 0.00440869 0.00439085 0.0043174\n",
            " 0.0042717  0.00416993 0.004072   0.00398319 0.00393296 0.00391567\n",
            " 0.00386536 0.00374242 0.00372153 0.0036862  0.0036339  0.00360273\n",
            " 0.00353315 0.00348031 0.00344659 0.00343489 0.00335186 0.00334152\n",
            " 0.0033042  0.00320033 0.00317826 0.00315576 0.00311865 0.00308318\n",
            " 0.00306167 0.00305505 0.00297158 0.00296861 0.00293492 0.00292709\n",
            " 0.00290329 0.00288194 0.00284659 0.00282503 0.00280926 0.00279584\n",
            " 0.00278464 0.00278224 0.00277792 0.0027613  0.00271768 0.00269874\n",
            " 0.00267608 0.002655   0.00262715 0.00260655 0.00260238 0.00258578\n",
            " 0.0025396  0.00251585 0.00250362 0.00246042 0.00243767 0.00240281\n",
            " 0.00237748 0.00236028 0.00232081 0.00228562 0.00225685 0.00224425\n",
            " 0.00222125 0.00219783 0.00217683 0.00216652 0.00214916 0.00212564\n",
            " 0.00208013 0.00206463 0.00205036 0.00202092 0.00200329 0.00197977\n",
            " 0.0019706  0.00195999 0.00194369 0.00193502 0.00190948 0.00189169\n",
            " 0.00187507 0.00185598 0.00183847 0.00181254 0.00179723 0.00178802\n",
            " 0.00177336 0.00175586 0.00174595 0.00171521 0.00169174 0.00168254\n",
            " 0.00166888 0.00165278 0.00165046 0.00163274 0.00161254 0.00160138\n",
            " 0.00159858 0.00156614 0.00156231 0.0015499  0.00153697 0.00153562\n",
            " 0.00151313 0.00149085 0.00147958 0.00147323 0.00147107 0.00146173\n",
            " 0.0014432  0.00143973 0.00143007 0.00141745 0.001407   0.00140251\n",
            " 0.00139823 0.00139662 0.0013949  0.00139181 0.00138851 0.00137271\n",
            " 0.00136689 0.00136127 0.00135063 0.00134612 0.00133333 0.00131799\n",
            " 0.00130398 0.00129725 0.00129206 0.00127399 0.00126931 0.00125567\n",
            " 0.0012463  0.00122451 0.00121743 0.00121304 0.00120963 0.00119678\n",
            " 0.00118548 0.00117662 0.00116272 0.00115825 0.00115249 0.00114588\n",
            " 0.00112858 0.00111741 0.00111539 0.00110842 0.00108865 0.00107967\n",
            " 0.00106051 0.00105475 0.00104866 0.00103887 0.00103629 0.0010255\n",
            " 0.00100885 0.00099944 0.00099791 0.00097727 0.00097447 0.0009686\n",
            " 0.00096566 0.00096265 0.00094808 0.00094026 0.00093233 0.00092685\n",
            " 0.00091005 0.00090669 0.00089361 0.00088605 0.00087647 0.00087244\n",
            " 0.00086826 0.0008569  0.00085194 0.00084049 0.00083216 0.00082638\n",
            " 0.0008227  0.0008154  0.00080896 0.0008045  0.00079849 0.00079224\n",
            " 0.00078679 0.00078098 0.00077775 0.00076749 0.00075853 0.00075562\n",
            " 0.0007426  0.00074096 0.00073026 0.00072212 0.00072045 0.00070557\n",
            " 0.00069951 0.00069901 0.00069167 0.0006864  0.00068467 0.00068148\n",
            " 0.00067692 0.00066284 0.00065634 0.00065349 0.00064127 0.0006382\n",
            " 0.00063618 0.00063348 0.0006262  0.00062314 0.00061278 0.00061251\n",
            " 0.00060763 0.00060503 0.0005989  0.00059081 0.00058413 0.00058388\n",
            " 0.00057463 0.0005741  0.00056936 0.00056154 0.00055675 0.00055158\n",
            " 0.00055068 0.00054451 0.00054299 0.000538   0.00053625 0.00052962\n",
            " 0.00052456 0.00051822 0.00051419 0.00051114 0.00050842 0.00050438\n",
            " 0.00049995 0.00049856 0.00049538 0.00049186 0.00048433 0.00048303\n",
            " 0.00047971 0.00047729 0.00046726 0.00046195 0.00045842 0.00045177\n",
            " 0.00044794 0.00044502 0.00043976 0.00043721 0.0004362  0.00043369\n",
            " 0.00043149 0.00042333 0.00041986 0.00041851 0.00041536 0.00041126\n",
            " 0.00041027 0.00040504 0.0003999  0.00039647 0.00039345 0.00038941\n",
            " 0.00038683 0.00038353 0.00038221 0.00038047 0.00037801 0.00037392\n",
            " 0.00037203 0.00037121 0.00036684 0.00036494 0.00036211 0.00036023\n",
            " 0.00035636 0.00035383 0.00035309 0.00035107 0.00034679 0.00034559\n",
            " 0.00034319 0.00033698 0.00033419 0.00033238 0.0003287  0.00032585\n",
            " 0.00032164 0.00032038 0.00031916 0.00031511 0.0003112  0.0003107\n",
            " 0.00030985 0.00030682 0.00030531 0.00030314 0.00030009 0.00029868\n",
            " 0.0002972  0.00028995 0.00028986 0.00028532 0.00028443 0.0002831\n",
            " 0.000282   0.00028105 0.00027781 0.00027595 0.0002744  0.00027076\n",
            " 0.00026895 0.00026802 0.00026681 0.00026478 0.00026382 0.00026153\n",
            " 0.00026012 0.00025697 0.00025625 0.00025117 0.00025023 0.00024884\n",
            " 0.00024745 0.00024667 0.00024296 0.00024167 0.00024113 0.00023853\n",
            " 0.00023689 0.00023636 0.00023327 0.00023227 0.00023089 0.0002305\n",
            " 0.00022808 0.000228   0.00022647 0.00022497 0.00022363 0.0002221\n",
            " 0.00022075 0.00021857 0.00021627 0.00021526]\n",
            "cumsum of variance [0.05671436 0.09718518 0.13472057 0.16386174 0.18911172 0.21111494\n",
            " 0.23031659 0.24782322 0.26317127 0.27720194 0.2906579  0.30272332\n",
            " 0.31390182 0.32485852 0.33517693 0.34515619 0.35449187 0.36371576\n",
            " 0.3726669  0.38137155 0.38962812 0.39763484 0.40528812 0.41272703\n",
            " 0.41991976 0.42686093 0.43373792 0.44036137 0.44666436 0.45280882\n",
            " 0.45882967 0.46472262 0.47041598 0.47604756 0.48162044 0.48696576\n",
            " 0.49227239 0.4974633  0.50256758 0.50739027 0.51217242 0.51684976\n",
            " 0.52140239 0.52587441 0.53031959 0.53472828 0.53911913 0.54343654\n",
            " 0.54770824 0.55187817 0.55595017 0.55993336 0.56386632 0.56778199\n",
            " 0.57164735 0.57538977 0.5791113  0.5827975  0.5864314  0.59003413\n",
            " 0.59356728 0.59704759 0.60049419 0.60392908 0.60728094 0.61062246\n",
            " 0.61392666 0.61712699 0.62030525 0.62346101 0.62657967 0.62966285\n",
            " 0.63272452 0.63577957 0.63875115 0.64171976 0.64465468 0.64758177\n",
            " 0.65048507 0.65336701 0.6562136  0.65903863 0.66184789 0.66464373\n",
            " 0.66742837 0.67021061 0.67298853 0.67574983 0.67846751 0.68116624\n",
            " 0.68384233 0.68649733 0.68912448 0.69173103 0.69433341 0.69691919\n",
            " 0.69945879 0.70197464 0.70447826 0.70693868 0.70937635 0.71177916\n",
            " 0.71415663 0.71651691 0.71883773 0.72112335 0.72338019 0.72562444\n",
            " 0.72784569 0.73004353 0.73222035 0.73438687 0.73653604 0.73866167\n",
            " 0.7407418  0.74280643 0.74485679 0.74687771 0.748881   0.75086077\n",
            " 0.75283137 0.75479136 0.75673504 0.75867006 0.76057954 0.76247123\n",
            " 0.7643463  0.76620228 0.76804076 0.7698533  0.77165053 0.77343854\n",
            " 0.7752119  0.77696776 0.77871372 0.78042893 0.78212067 0.78380321\n",
            " 0.78547208 0.78712486 0.78877532 0.79040807 0.79202061 0.79362199\n",
            " 0.79522057 0.79678671 0.79834901 0.79989892 0.80143589 0.80297151\n",
            " 0.80448464 0.8059755  0.80745507 0.8089283  0.81039938 0.8118611\n",
            " 0.8133043  0.81474403 0.8161741  0.81759155 0.81899855 0.82040107\n",
            " 0.82179929 0.82319591 0.82459082 0.82598262 0.82737113 0.82874384\n",
            " 0.83011073 0.831472   0.83282262 0.83416875 0.83550208 0.83682007\n",
            " 0.83812405 0.8394213  0.84071336 0.84198735 0.84325667 0.84451234\n",
            " 0.84575864 0.84698314 0.84820057 0.84941362 0.85062325 0.85182003\n",
            " 0.85300551 0.85418213 0.85534485 0.8565031  0.85765559 0.85880147\n",
            " 0.85993004 0.86104746 0.86216285 0.86327127 0.86435992 0.86543959\n",
            " 0.8665001  0.86755485 0.86860351 0.86964238 0.87067866 0.87170416\n",
            " 0.87271301 0.87371244 0.87471036 0.87568763 0.8766621  0.8776307\n",
            " 0.87859635 0.87955901 0.88050709 0.88144734 0.88237968 0.88330653\n",
            " 0.88421658 0.88512327 0.88601687 0.88690292 0.88777939 0.88865183\n",
            " 0.88952009 0.89037699 0.89122893 0.89206942 0.89290158 0.89372795\n",
            " 0.89455065 0.89536605 0.89617502 0.89697951 0.897778   0.89857024\n",
            " 0.89935703 0.90013801 0.90091576 0.90168324 0.90244177 0.90319739\n",
            " 0.90393999 0.90468095 0.90541121 0.90613333 0.90685378 0.90755935\n",
            " 0.90825886 0.90895787 0.90964954 0.91033594 0.9110206  0.91170209\n",
            " 0.91237901 0.91304185 0.91369819 0.91435168 0.91499295 0.91563115\n",
            " 0.91626733 0.91690081 0.91752701 0.91815015 0.91876293 0.91937545\n",
            " 0.91998308 0.92058811 0.92118701 0.92177782 0.92236195 0.92294584\n",
            " 0.92352047 0.92409458 0.92466394 0.92522548 0.92578223 0.92633381\n",
            " 0.92688449 0.927429   0.92797199 0.92850999 0.92904624 0.92957587\n",
            " 0.93010043 0.93061865 0.93113284 0.93164399 0.93215241 0.93265679\n",
            " 0.93315674 0.9336553  0.93415068 0.93464254 0.93512687 0.9356099\n",
            " 0.93608961 0.9365669  0.93703416 0.93749611 0.93795453 0.9384063\n",
            " 0.93885424 0.93929926 0.93973902 0.94017623 0.94061243 0.94104612\n",
            " 0.94147761 0.94190094 0.9423208  0.94273931 0.94315466 0.94356592\n",
            " 0.94397619 0.94438123 0.94478113 0.9451776  0.94557105 0.94596046\n",
            " 0.94634729 0.94673081 0.94711302 0.94749349 0.9478715  0.94824542\n",
            " 0.94861744 0.94898865 0.94935549 0.94972043 0.95008254 0.95044277\n",
            " 0.95079913 0.95115296 0.95150605 0.95185713 0.95220392 0.95254951\n",
            " 0.9528927  0.95322967 0.95356387 0.95389624 0.95422494 0.9545508\n",
            " 0.95487244 0.95519282 0.95551199 0.9558271  0.9561383  0.95644899\n",
            " 0.95675885 0.95706567 0.95737098 0.95767412 0.9579742  0.95827288\n",
            " 0.95857009 0.95886003 0.9591499  0.95943522 0.95971965 0.96000276\n",
            " 0.96028476 0.96056581 0.96084361 0.96111956 0.96139396 0.96166472\n",
            " 0.96193367 0.9622017  0.96246851 0.96273329 0.96299711 0.96325864\n",
            " 0.96351876 0.96377573 0.96403199 0.96428315 0.96453338 0.96478222\n",
            " 0.96502967 0.96527634 0.96551929 0.96576097 0.9660021  0.96624062\n",
            " 0.96647751 0.96671387 0.96694713 0.9671794  0.96741029 0.96764079\n",
            " 0.96786888 0.96809688 0.96832336 0.96854833 0.96877196 0.96899406\n",
            " 0.96921481 0.96943338 0.96964965 0.96986491]\n"
          ]
        }
      ],
      "source": [
        "from sklearn.decomposition import PCA\n",
        "pca = PCA(.95)\n",
        "pca.fit(train_img_std)\n",
        "\n",
        "print(pca.n_components_) #329 components explain 95% of variance from 768 features\n",
        "print(pca.explained_variance_ratio_)\n",
        "cs = np.cumsum(pca.explained_variance_ratio_)\n",
        "print(\"cumsum of variance\", cs)\n",
        "\n",
        "train_img_compress = pca.transform(train_img_std)\n",
        "test_img_compress = pca.transform(test_img_std)"
      ]
    },
    {
      "cell_type": "code",
      "source": [
        "from sklearn.ensemble import RandomForestClassifier\n",
        "clf = RandomForestClassifier(max_depth=2, random_state=0)\n",
        "clf.fit(train_img_std, train_lbl)\n",
        "print(type(clf.feature_importances_))\n"
      ],
      "metadata": {
        "id": "Wc_ow2HiVx9B",
        "outputId": "77cc68d1-c24f-4d9b-b965-f18e7660df18",
        "colab": {
          "base_uri": "https://localhost:8080/"
        }
      },
      "execution_count": 10,
      "outputs": [
        {
          "output_type": "stream",
          "name": "stdout",
          "text": [
            "<class 'numpy.ndarray'>\n"
          ]
        }
      ]
    },
    {
      "cell_type": "code",
      "source": [
        "# prompt: Please plot bar graph with clf.feature_importances_\n",
        "\n",
        "import matplotlib.pyplot as plt\n",
        "\n",
        "plt.figure(figsize=(10, 6))\n",
        "plt.bar(range(len(clf.feature_importances_)), clf.feature_importances_)\n",
        "plt.xlabel(\"Feature Index\")\n",
        "plt.ylabel(\"Feature Importance\")\n",
        "plt.title(\"Feature Importance Plot\")\n",
        "plt.show()\n"
      ],
      "metadata": {
        "id": "sHzK3wq5XIcx",
        "outputId": "f96da057-4bda-4744-bdea-c3800c7c5bdd",
        "colab": {
          "base_uri": "https://localhost:8080/",
          "height": 564
        }
      },
      "execution_count": 11,
      "outputs": [
        {
          "output_type": "display_data",
          "data": {
            "text/plain": [
              "<Figure size 1000x600 with 1 Axes>"
            ],
            "image/png": "[encoded data removed]"
          },
          "metadata": {}
        }
      ]
    },
    {
      "cell_type": "markdown",
      "source": [],
      "metadata": {
        "id": "4cH8mrVwV17x"
      }
    },
    {
      "cell_type": "code",
      "execution_count": 29,
      "metadata": {
        "id": "qSH4Dw0UX8U1",
        "outputId": "a70a4967-3e8c-4c69-bc01-05dc2d6c98a9",
        "colab": {
          "base_uri": "https://localhost:8080/",
          "height": 219
        }
      },
      "outputs": [
        {
          "output_type": "stream",
          "name": "stderr",
          "text": [
            "/usr/local/lib/python3.11/dist-packages/sklearn/linear_model/_logistic.py:465: ConvergenceWarning: lbfgs failed to converge (status=1):\n",
            "STOP: TOTAL NO. OF ITERATIONS REACHED LIMIT.\n",
            "\n",
            "Increase the number of iterations (max_iter) or scale the data as shown in:\n",
            "    https://scikit-learn.org/stable/modules/preprocessing.html\n",
            "Please also refer to the documentation for alternative solver options:\n",
            "    https://scikit-learn.org/stable/modules/linear_model.html#logistic-regression\n",
            "  n_iter_i = _check_optimize_result(\n"
          ]
        },
        {
          "output_type": "execute_result",
          "data": {
            "text/plain": [
              "LogisticRegression()"
            ],
            "text/html": [
              "<style>#sk-container-id-3 {\n",
              "  /* Definition of color scheme common for light and dark mode */\n",
              "  --sklearn-color-text: #000;\n",
              "  --sklearn-color-text-muted: #666;\n",
              "  --sklearn-color-line: gray;\n",
              "  /* Definition of color scheme for unfitted estimators */\n",
              "  --sklearn-color-unfitted-level-0: #fff5e6;\n",
              "  --sklearn-color-unfitted-level-1: #f6e4d2;\n",
              "  --sklearn-color-unfitted-level-2: #ffe0b3;\n",
              "  --sklearn-color-unfitted-level-3: chocolate;\n",
              "  /* Definition of color scheme for fitted estimators */\n",
              "  --sklearn-color-fitted-level-0: #f0f8ff;\n",
              "  --sklearn-color-fitted-level-1: #d4ebff;\n",
              "  --sklearn-color-fitted-level-2: #b3dbfd;\n",
              "  --sklearn-color-fitted-level-3: cornflowerblue;\n",
              "\n",
              "  /* Specific color for light theme */\n",
              "  --sklearn-color-text-on-default-background: var(--sg-text-color, var(--theme-code-foreground, var(--jp-content-font-color1, black)));\n",
              "  --sklearn-color-background: var(--sg-background-color, var(--theme-background, var(--jp-layout-color0, white)));\n",
              "  --sklearn-color-border-box: var(--sg-text-color, var(--theme-code-foreground, var(--jp-content-font-color1, black)));\n",
              "  --sklearn-color-icon: #696969;\n",
              "\n",
              "  @media (prefers-color-scheme: dark) {\n",
              "    /* Redefinition of color scheme for dark theme */\n",
              "    --sklearn-color-text-on-default-background: var(--sg-text-color, var(--theme-code-foreground, var(--jp-content-font-color1, white)));\n",
              "    --sklearn-color-background: var(--sg-background-color, var(--theme-background, var(--jp-layout-color0, #111)));\n",
              "    --sklearn-color-border-box: var(--sg-text-color, var(--theme-code-foreground, var(--jp-content-font-color1, white)));\n",
              "    --sklearn-color-icon: #878787;\n",
              "  }\n",
              "}\n",
              "\n",
              "#sk-container-id-3 {\n",
              "  color: var(--sklearn-color-text);\n",
              "}\n",
              "\n",
              "#sk-container-id-3 pre {\n",
              "  padding: 0;\n",
              "}\n",
              "\n",
              "#sk-container-id-3 input.sk-hidden--visually {\n",
              "  border: 0;\n",
              "  clip: rect(1px 1px 1px 1px);\n",
              "  clip: rect(1px, 1px, 1px, 1px);\n",
              "  height: 1px;\n",
              "  margin: -1px;\n",
              "  overflow: hidden;\n",
              "  padding: 0;\n",
              "  position: absolute;\n",
              "  width: 1px;\n",
              "}\n",
              "\n",
              "#sk-container-id-3 div.sk-dashed-wrapped {\n",
              "  border: 1px dashed var(--sklearn-color-line);\n",
              "  margin: 0 0.4em 0.5em 0.4em;\n",
              "  box-sizing: border-box;\n",
              "  padding-bottom: 0.4em;\n",
              "  background-color: var(--sklearn-color-background);\n",
              "}\n",
              "\n",
              "#sk-container-id-3 div.sk-container {\n",
              "  /* jupyter's `normalize.less` sets `[hidden] { display: none; }`\n",
              "     but bootstrap.min.css set `[hidden] { display: none !important; }`\n",
              "     so we also need the `!important` here to be able to override the\n",
              "     default hidden behavior on the sphinx rendered scikit-learn.org.\n",
              "     See: https://github.com/scikit-learn/scikit-learn/issues/21755 */\n",
              "  display: inline-block !important;\n",
              "  position: relative;\n",
              "}\n",
              "\n",
              "#sk-container-id-3 div.sk-text-repr-fallback {\n",
              "  display: none;\n",
              "}\n",
              "\n",
              "div.sk-parallel-item,\n",
              "div.sk-serial,\n",
              "div.sk-item {\n",
              "  /* draw centered vertical line to link estimators */\n",
              "  background-image: linear-gradient(var(--sklearn-color-text-on-default-background), var(--sklearn-color-text-on-default-background));\n",
              "  background-size: 2px 100%;\n",
              "  background-repeat: no-repeat;\n",
              "  background-position: center center;\n",
              "}\n",
              "\n",
              "/* Parallel-specific style estimator block */\n",
              "\n",
              "#sk-container-id-3 div.sk-parallel-item::after {\n",
              "  content: \"\";\n",
              "  width: 100%;\n",
              "  border-bottom: 2px solid var(--sklearn-color-text-on-default-background);\n",
              "  flex-grow: 1;\n",
              "}\n",
              "\n",
              "#sk-container-id-3 div.sk-parallel {\n",
              "  display: flex;\n",
              "  align-items: stretch;\n",
              "  justify-content: center;\n",
              "  background-color: var(--sklearn-color-background);\n",
              "  position: relative;\n",
              "}\n",
              "\n",
              "#sk-container-id-3 div.sk-parallel-item {\n",
              "  display: flex;\n",
              "  flex-direction: column;\n",
              "}\n",
              "\n",
              "#sk-container-id-3 div.sk-parallel-item:first-child::after {\n",
              "  align-self: flex-end;\n",
              "  width: 50%;\n",
              "}\n",
              "\n",
              "#sk-container-id-3 div.sk-parallel-item:last-child::after {\n",
              "  align-self: flex-start;\n",
              "  width: 50%;\n",
              "}\n",
              "\n",
              "#sk-container-id-3 div.sk-parallel-item:only-child::after {\n",
              "  width: 0;\n",
              "}\n",
              "\n",
              "/* Serial-specific style estimator block */\n",
              "\n",
              "#sk-container-id-3 div.sk-serial {\n",
              "  display: flex;\n",
              "  flex-direction: column;\n",
              "  align-items: center;\n",
              "  background-color: var(--sklearn-color-background);\n",
              "  padding-right: 1em;\n",
              "  padding-left: 1em;\n",
              "}\n",
              "\n",
              "\n",
              "/* Toggleable style: style used for estimator/Pipeline/ColumnTransformer box that is\n",
              "clickable and can be expanded/collapsed.\n",
              "- Pipeline and ColumnTransformer use this feature and define the default style\n",
              "- Estimators will overwrite some part of the style using the `sk-estimator` class\n",
              "*/\n",
              "\n",
              "/* Pipeline and ColumnTransformer style (default) */\n",
              "\n",
              "#sk-container-id-3 div.sk-toggleable {\n",
              "  /* Default theme specific background. It is overwritten whether we have a\n",
              "  specific estimator or a Pipeline/ColumnTransformer */\n",
              "  background-color: var(--sklearn-color-background);\n",
              "}\n",
              "\n",
              "/* Toggleable label */\n",
              "#sk-container-id-3 label.sk-toggleable__label {\n",
              "  cursor: pointer;\n",
              "  display: flex;\n",
              "  width: 100%;\n",
              "  margin-bottom: 0;\n",
              "  padding: 0.5em;\n",
              "  box-sizing: border-box;\n",
              "  text-align: center;\n",
              "  align-items: start;\n",
              "  justify-content: space-between;\n",
              "  gap: 0.5em;\n",
              "}\n",
              "\n",
              "#sk-container-id-3 label.sk-toggleable__label .caption {\n",
              "  font-size: 0.6rem;\n",
              "  font-weight: lighter;\n",
              "  color: var(--sklearn-color-text-muted);\n",
              "}\n",
              "\n",
              "#sk-container-id-3 label.sk-toggleable__label-arrow:before {\n",
              "  /* Arrow on the left of the label */\n",
              "  content: \"▸\";\n",
              "  float: left;\n",
              "  margin-right: 0.25em;\n",
              "  color: var(--sklearn-color-icon);\n",
              "}\n",
              "\n",
              "#sk-container-id-3 label.sk-toggleable__label-arrow:hover:before {\n",
              "  color: var(--sklearn-color-text);\n",
              "}\n",
              "\n",
              "/* Toggleable content - dropdown */\n",
              "\n",
              "#sk-container-id-3 div.sk-toggleable__content {\n",
              "  max-height: 0;\n",
              "  max-width: 0;\n",
              "  overflow: hidden;\n",
              "  text-align: left;\n",
              "  /* unfitted */\n",
              "  background-color: var(--sklearn-color-unfitted-level-0);\n",
              "}\n",
              "\n",
              "#sk-container-id-3 div.sk-toggleable__content.fitted {\n",
              "  /* fitted */\n",
              "  background-color: var(--sklearn-color-fitted-level-0);\n",
              "}\n",
              "\n",
              "#sk-container-id-3 div.sk-toggleable__content pre {\n",
              "  margin: 0.2em;\n",
              "  border-radius: 0.25em;\n",
              "  color: var(--sklearn-color-text);\n",
              "  /* unfitted */\n",
              "  background-color: var(--sklearn-color-unfitted-level-0);\n",
              "}\n",
              "\n",
              "#sk-container-id-3 div.sk-toggleable__content.fitted pre {\n",
              "  /* unfitted */\n",
              "  background-color: var(--sklearn-color-fitted-level-0);\n",
              "}\n",
              "\n",
              "#sk-container-id-3 input.sk-toggleable__control:checked~div.sk-toggleable__content {\n",
              "  /* Expand drop-down */\n",
              "  max-height: 200px;\n",
              "  max-width: 100%;\n",
              "  overflow: auto;\n",
              "}\n",
              "\n",
              "#sk-container-id-3 input.sk-toggleable__control:checked~label.sk-toggleable__label-arrow:before {\n",
              "  content: \"▾\";\n",
              "}\n",
              "\n",
              "/* Pipeline/ColumnTransformer-specific style */\n",
              "\n",
              "#sk-container-id-3 div.sk-label input.sk-toggleable__control:checked~label.sk-toggleable__label {\n",
              "  color: var(--sklearn-color-text);\n",
              "  background-color: var(--sklearn-color-unfitted-level-2);\n",
              "}\n",
              "\n",
              "#sk-container-id-3 div.sk-label.fitted input.sk-toggleable__control:checked~label.sk-toggleable__label {\n",
              "  background-color: var(--sklearn-color-fitted-level-2);\n",
              "}\n",
              "\n",
              "/* Estimator-specific style */\n",
              "\n",
              "/* Colorize estimator box */\n",
              "#sk-container-id-3 div.sk-estimator input.sk-toggleable__control:checked~label.sk-toggleable__label {\n",
              "  /* unfitted */\n",
              "  background-color: var(--sklearn-color-unfitted-level-2);\n",
              "}\n",
              "\n",
              "#sk-container-id-3 div.sk-estimator.fitted input.sk-toggleable__control:checked~label.sk-toggleable__label {\n",
              "  /* fitted */\n",
              "  background-color: var(--sklearn-color-fitted-level-2);\n",
              "}\n",
              "\n",
              "#sk-container-id-3 div.sk-label label.sk-toggleable__label,\n",
              "#sk-container-id-3 div.sk-label label {\n",
              "  /* The background is the default theme color */\n",
              "  color: var(--sklearn-color-text-on-default-background);\n",
              "}\n",
              "\n",
              "/* On hover, darken the color of the background */\n",
              "#sk-container-id-3 div.sk-label:hover label.sk-toggleable__label {\n",
              "  color: var(--sklearn-color-text);\n",
              "  background-color: var(--sklearn-color-unfitted-level-2);\n",
              "}\n",
              "\n",
              "/* Label box, darken color on hover, fitted */\n",
              "#sk-container-id-3 div.sk-label.fitted:hover label.sk-toggleable__label.fitted {\n",
              "  color: var(--sklearn-color-text);\n",
              "  background-color: var(--sklearn-color-fitted-level-2);\n",
              "}\n",
              "\n",
              "/* Estimator label */\n",
              "\n",
              "#sk-container-id-3 div.sk-label label {\n",
              "  font-family: monospace;\n",
              "  font-weight: bold;\n",
              "  display: inline-block;\n",
              "  line-height: 1.2em;\n",
              "}\n",
              "\n",
              "#sk-container-id-3 div.sk-label-container {\n",
              "  text-align: center;\n",
              "}\n",
              "\n",
              "/* Estimator-specific */\n",
              "#sk-container-id-3 div.sk-estimator {\n",
              "  font-family: monospace;\n",
              "  border: 1px dotted var(--sklearn-color-border-box);\n",
              "  border-radius: 0.25em;\n",
              "  box-sizing: border-box;\n",
              "  margin-bottom: 0.5em;\n",
              "  /* unfitted */\n",
              "  background-color: var(--sklearn-color-unfitted-level-0);\n",
              "}\n",
              "\n",
              "#sk-container-id-3 div.sk-estimator.fitted {\n",
              "  /* fitted */\n",
              "  background-color: var(--sklearn-color-fitted-level-0);\n",
              "}\n",
              "\n",
              "/* on hover */\n",
              "#sk-container-id-3 div.sk-estimator:hover {\n",
              "  /* unfitted */\n",
              "  background-color: var(--sklearn-color-unfitted-level-2);\n",
              "}\n",
              "\n",
              "#sk-container-id-3 div.sk-estimator.fitted:hover {\n",
              "  /* fitted */\n",
              "  background-color: var(--sklearn-color-fitted-level-2);\n",
              "}\n",
              "\n",
              "/* Specification for estimator info (e.g. \"i\" and \"?\") */\n",
              "\n",
              "/* Common style for \"i\" and \"?\" */\n",
              "\n",
              ".sk-estimator-doc-link,\n",
              "a:link.sk-estimator-doc-link,\n",
              "a:visited.sk-estimator-doc-link {\n",
              "  float: right;\n",
              "  font-size: smaller;\n",
              "  line-height: 1em;\n",
              "  font-family: monospace;\n",
              "  background-color: var(--sklearn-color-background);\n",
              "  border-radius: 1em;\n",
              "  height: 1em;\n",
              "  width: 1em;\n",
              "  text-decoration: none !important;\n",
              "  margin-left: 0.5em;\n",
              "  text-align: center;\n",
              "  /* unfitted */\n",
              "  border: var(--sklearn-color-unfitted-level-1) 1pt solid;\n",
              "  color: var(--sklearn-color-unfitted-level-1);\n",
              "}\n",
              "\n",
              ".sk-estimator-doc-link.fitted,\n",
              "a:link.sk-estimator-doc-link.fitted,\n",
              "a:visited.sk-estimator-doc-link.fitted {\n",
              "  /* fitted */\n",
              "  border: var(--sklearn-color-fitted-level-1) 1pt solid;\n",
              "  color: var(--sklearn-color-fitted-level-1);\n",
              "}\n",
              "\n",
              "/* On hover */\n",
              "div.sk-estimator:hover .sk-estimator-doc-link:hover,\n",
              ".sk-estimator-doc-link:hover,\n",
              "div.sk-label-container:hover .sk-estimator-doc-link:hover,\n",
              ".sk-estimator-doc-link:hover {\n",
              "  /* unfitted */\n",
              "  background-color: var(--sklearn-color-unfitted-level-3);\n",
              "  color: var(--sklearn-color-background);\n",
              "  text-decoration: none;\n",
              "}\n",
              "\n",
              "div.sk-estimator.fitted:hover .sk-estimator-doc-link.fitted:hover,\n",
              ".sk-estimator-doc-link.fitted:hover,\n",
              "div.sk-label-container:hover .sk-estimator-doc-link.fitted:hover,\n",
              ".sk-estimator-doc-link.fitted:hover {\n",
              "  /* fitted */\n",
              "  background-color: var(--sklearn-color-fitted-level-3);\n",
              "  color: var(--sklearn-color-background);\n",
              "  text-decoration: none;\n",
              "}\n",
              "\n",
              "/* Span, style for the box shown on hovering the info icon */\n",
              ".sk-estimator-doc-link span {\n",
              "  display: none;\n",
              "  z-index: 9999;\n",
              "  position: relative;\n",
              "  font-weight: normal;\n",
              "  right: .2ex;\n",
              "  padding: .5ex;\n",
              "  margin: .5ex;\n",
              "  width: min-content;\n",
              "  min-width: 20ex;\n",
              "  max-width: 50ex;\n",
              "  color: var(--sklearn-color-text);\n",
              "  box-shadow: 2pt 2pt 4pt #999;\n",
              "  /* unfitted */\n",
              "  background: var(--sklearn-color-unfitted-level-0);\n",
              "  border: .5pt solid var(--sklearn-color-unfitted-level-3);\n",
              "}\n",
              "\n",
              ".sk-estimator-doc-link.fitted span {\n",
              "  /* fitted */\n",
              "  background: var(--sklearn-color-fitted-level-0);\n",
              "  border: var(--sklearn-color-fitted-level-3);\n",
              "}\n",
              "\n",
              ".sk-estimator-doc-link:hover span {\n",
              "  display: block;\n",
              "}\n",
              "\n",
              "/* \"?\"-specific style due to the `<a>` HTML tag */\n",
              "\n",
              "#sk-container-id-3 a.estimator_doc_link {\n",
              "  float: right;\n",
              "  font-size: 1rem;\n",
              "  line-height: 1em;\n",
              "  font-family: monospace;\n",
              "  background-color: var(--sklearn-color-background);\n",
              "  border-radius: 1rem;\n",
              "  height: 1rem;\n",
              "  width: 1rem;\n",
              "  text-decoration: none;\n",
              "  /* unfitted */\n",
              "  color: var(--sklearn-color-unfitted-level-1);\n",
              "  border: var(--sklearn-color-unfitted-level-1) 1pt solid;\n",
              "}\n",
              "\n",
              "#sk-container-id-3 a.estimator_doc_link.fitted {\n",
              "  /* fitted */\n",
              "  border: var(--sklearn-color-fitted-level-1) 1pt solid;\n",
              "  color: var(--sklearn-color-fitted-level-1);\n",
              "}\n",
              "\n",
              "/* On hover */\n",
              "#sk-container-id-3 a.estimator_doc_link:hover {\n",
              "  /* unfitted */\n",
              "  background-color: var(--sklearn-color-unfitted-level-3);\n",
              "  color: var(--sklearn-color-background);\n",
              "  text-decoration: none;\n",
              "}\n",
              "\n",
              "#sk-container-id-3 a.estimator_doc_link.fitted:hover {\n",
              "  /* fitted */\n",
              "  background-color: var(--sklearn-color-fitted-level-3);\n",
              "}\n",
              "</style><div id=\"sk-container-id-3\" class=\"sk-top-container\"><div class=\"sk-text-repr-fallback\"><pre>LogisticRegression()</pre><b>In a Jupyter environment, please rerun this cell to show the HTML representation or trust the notebook. <br />On GitHub, the HTML representation is unable to render, please try loading this page with nbviewer.org.</b></div><div class=\"sk-container\" hidden><div class=\"sk-item\"><div class=\"sk-estimator fitted sk-toggleable\"><input class=\"sk-toggleable__control sk-hidden--visually\" id=\"sk-estimator-id-3\" type=\"checkbox\" checked><label for=\"sk-estimator-id-3\" class=\"sk-toggleable__label fitted sk-toggleable__label-arrow\"><div><div>LogisticRegression</div></div><div><a class=\"sk-estimator-doc-link fitted\" rel=\"noreferrer\" target=\"_blank\" href=\"https://scikit-learn.org/1.6/modules/generated/sklearn.linear_model.LogisticRegression.html\">?<span>Documentation for LogisticRegression</span></a><span class=\"sk-estimator-doc-link fitted\">i<span>Fitted</span></span></div></label><div class=\"sk-toggleable__content fitted\"><pre>LogisticRegression()</pre></div> </div></div></div></div>"
            ]
          },
          "metadata": {},
          "execution_count": 29
        }
      ],
      "source": [
        "from sklearn.linear_model import LogisticRegression\n",
        "clf = LogisticRegression(solver='lbfgs')\n",
        "clf.fit(train_img_compress, train_lbl)"
      ]
    },
    {
      "cell_type": "code",
      "execution_count": 30,
      "metadata": {
        "id": "VX22VR4IX8U1",
        "outputId": "0aa18d42-f078-430e-ccbb-d79d70651cc5",
        "colab": {
          "base_uri": "https://localhost:8080/"
        }
      },
      "outputs": [
        {
          "output_type": "stream",
          "name": "stdout",
          "text": [
            "['0']\n",
            "0.9251428571428572\n"
          ]
        }
      ],
      "source": [
        "print(clf.predict(test_img_compress[0].reshape(1,-1)))\n",
        "print(clf.score(test_img_compress,test_lbl))"
      ]
    },
    {
      "cell_type": "code",
      "source": [
        "n_rows = 5\n",
        "n_cols = 5\n",
        "max_index = n_rows * n_cols\n",
        "fig, axs = plt.subplots(nrows=n_rows, ncols=n_cols, figsize=(n_cols, n_rows),\n",
        "                        subplot_kw={'xticks': [], 'yticks': []})\n",
        "\n",
        "print(\"Note that the title of each image is the predicted result.\")\n",
        "\n",
        "for ax, i in zip(axs.flat, range(max_index)):\n",
        "\n",
        "    # Convert array size 784x1 to 28x28 to be able to plot\n",
        "    my_image = np.array(test_img_compress[i], dtype='float')\n",
        "    #my_image = np.array(test_img_compress[i], dtype='float')\n",
        "    pixels = my_image.reshape((28, 28))\n",
        "\n",
        "    # Plot image with color mapping (cmap) in grayscale\n",
        "    ax.imshow(pixels, cmap='gray')\n",
        "\n",
        "    print(type(test_img_compress[i]))\n",
        "    # Set title with its result\n",
        "    result = clf.predict(test_img_compress[i].reshape(1,-1)) # convert dimension (327,) to (1,327)\n",
        "    ax.set_title(result[0])\n",
        "\n",
        "# Display plot\n",
        "plt.tight_layout()\n",
        "plt.show()"
      ],
      "metadata": {
        "id": "SyJKjXauK3LP",
        "outputId": "f30439ee-d401-4db9-dfc3-366601ed9eb1",
        "colab": {
          "base_uri": "https://localhost:8080/",
          "height": 958
        }
      },
      "execution_count": 32,
      "outputs": [
        {
          "output_type": "stream",
          "name": "stdout",
          "text": [
            "Note that the title of each image is the predicted result.\n",
            "<class 'numpy.ndarray'>\n",
            "<class 'numpy.ndarray'>\n",
            "<class 'numpy.ndarray'>\n",
            "<class 'numpy.ndarray'>\n",
            "<class 'numpy.ndarray'>\n",
            "<class 'numpy.ndarray'>\n",
            "<class 'numpy.ndarray'>\n",
            "<class 'numpy.ndarray'>\n",
            "<class 'numpy.ndarray'>\n",
            "<class 'numpy.ndarray'>\n",
            "<class 'numpy.ndarray'>\n",
            "<class 'numpy.ndarray'>\n",
            "<class 'numpy.ndarray'>\n",
            "<class 'numpy.ndarray'>\n",
            "<class 'numpy.ndarray'>\n",
            "<class 'numpy.ndarray'>\n",
            "<class 'numpy.ndarray'>\n",
            "<class 'numpy.ndarray'>\n",
            "<class 'numpy.ndarray'>\n",
            "<class 'numpy.ndarray'>\n",
            "<class 'numpy.ndarray'>\n",
            "<class 'numpy.ndarray'>\n",
            "<class 'numpy.ndarray'>\n",
            "<class 'numpy.ndarray'>\n",
            "<class 'numpy.ndarray'>\n"
          ]
        },
        {
          "output_type": "display_data",
          "data": {
            "text/plain": [
              "<Figure size 500x500 with 25 Axes>"
            ],
            "image/png": "[encoded data removed]"
          },
          "metadata": {}
        }
      ]
    },
    {
      "cell_type": "markdown",
      "source": [
        "1. Further reading\n",
        "- AutoEncoder\n",
        "- GAN\n"
      ],
      "metadata": {
        "id": "R1tGYLejcC7x"
      }
    }
  ],
  "metadata": {
    "kernelspec": {
      "display_name": "Python 3",
      "language": "python",
      "name": "python3"
    },
    "language_info": {
      "codemirror_mode": {
        "name": "ipython",
        "version": 3
      },
      "file_extension": ".py",
      "mimetype": "text/x-python",
      "name": "python",
      "nbconvert_exporter": "python",
      "pygments_lexer": "ipython3",
      "version": "3.7.4"
    },
    "colab": {
      "name": "PCA.ipynb",
      "provenance": [],
      "include_colab_link": true
    }
  },
  "nbformat": 4,
  "nbformat_minor": 0
}