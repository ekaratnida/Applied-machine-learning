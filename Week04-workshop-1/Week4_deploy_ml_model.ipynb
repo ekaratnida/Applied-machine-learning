{
  "nbformat": 4,
  "nbformat_minor": 0,
  "metadata": {
    "colab": {
      "name": "Week4-deploy-ml-model.ipynb",
      "provenance": [],
      "include_colab_link": true
    },
    "kernelspec": {
      "name": "python3",
      "display_name": "Python 3"
    },
    "language_info": {
      "name": "python"
    }
  },
  "cells": [
    {
      "cell_type": "markdown",
      "metadata": {
        "id": "view-in-github",
        "colab_type": "text"
      },
      "source": [
        "<a href=\"https://colab.research.google.com/github/ekaratnida/Applied-machine-learning/blob/master/Week04-workshop-1/Week4_deploy_ml_model.ipynb\" target=\"_parent\"><img src=\"https://colab.research.google.com/assets/colab-badge.svg\" alt=\"Open In Colab\"/></a>"
      ]
    },
    {
      "cell_type": "markdown",
      "source": [
        "## ***Step 1 Import library***"
      ],
      "metadata": {
        "id": "O28KZmZ4J91l"
      }
    },
    {
      "cell_type": "code",
      "source": [
        "from sklearn.linear_model import LinearRegression\n",
        "import pickle\n",
        "import numpy as np\n",
        "import pandas as pd\n",
        "import os\n",
        "import matplotlib.pyplot as plt #dpi 600\n",
        "import seaborn as sns\n",
        "np.set_printoptions(suppress=True)"
      ],
      "metadata": {
        "id": "kzRt8pZXIQKu"
      },
      "execution_count": 1,
      "outputs": []
    },
    {
      "cell_type": "markdown",
      "source": [
        "## ***Step 2 Load data***"
      ],
      "metadata": {
        "id": "-9ljdDI0L4zZ"
      }
    },
    {
      "cell_type": "code",
      "source": [
        "data = pd.read_csv('https://raw.githubusercontent.com/ekaratnida/Applied-machine-learning/master/Week04-workshop-1/data.txt')\n",
        "print(data.head()) # show the first 5 rows\n",
        "print(data.shape) #set{}, list[], tuple(), dict {'key':'value'}\n",
        "print(data.info())\n",
        "print(data.describe())"
      ],
      "metadata": {
        "id": "WHWEEoD7IXGo",
        "outputId": "6f692cdd-322b-44f3-cdf7-3b8ee79739f6",
        "colab": {
          "base_uri": "https://localhost:8080/"
        }
      },
      "execution_count": 7,
      "outputs": [
        {
          "output_type": "stream",
          "name": "stdout",
          "text": [
            "   area  rooms   price\n",
            "0  2104      3  399900\n",
            "1  1600      3  329900\n",
            "2  2400      3  369000\n",
            "3  1416      2  232000\n",
            "4  3000      4  539900\n",
            "(47, 3)\n",
            "<class 'pandas.core.frame.DataFrame'>\n",
            "RangeIndex: 47 entries, 0 to 46\n",
            "Data columns (total 3 columns):\n",
            " #   Column  Non-Null Count  Dtype\n",
            "---  ------  --------------  -----\n",
            " 0   area    47 non-null     int64\n",
            " 1   rooms   47 non-null     int64\n",
            " 2   price   47 non-null     int64\n",
            "dtypes: int64(3)\n",
            "memory usage: 1.2 KB\n",
            "None\n",
            "              area      rooms          price\n",
            "count    47.000000  47.000000      47.000000\n",
            "mean   2000.680851   3.170213  340412.659574\n",
            "std     794.702354   0.760982  125039.899586\n",
            "min     852.000000   1.000000  169900.000000\n",
            "25%    1432.000000   3.000000  249900.000000\n",
            "50%    1888.000000   3.000000  299900.000000\n",
            "75%    2269.000000   4.000000  384450.000000\n",
            "max    4478.000000   5.000000  699900.000000\n"
          ]
        }
      ]
    },
    {
      "cell_type": "markdown",
      "source": [
        "##Step 3: split X and Y"
      ],
      "metadata": {
        "id": "D-QgQ_tnOO9L"
      }
    },
    {
      "cell_type": "code",
      "source": [
        "#X = data[[\"area\",\"rooms\"]]\n",
        "X = data.iloc[:,0:2]\n",
        "print(X.head())\n",
        "\n",
        "#y = data.price\n",
        "#y = data.iloc[:,2]\n",
        "y = data[[\"price\"]]\n",
        "print(y.head())"
      ],
      "metadata": {
        "id": "ks9nb1zGIs_q",
        "outputId": "58858d86-e9f9-4e01-8f97-9d692a901695",
        "colab": {
          "base_uri": "https://localhost:8080/"
        }
      },
      "execution_count": 8,
      "outputs": [
        {
          "output_type": "stream",
          "name": "stdout",
          "text": [
            "   area  rooms\n",
            "0  2104      3\n",
            "1  1600      3\n",
            "2  2400      3\n",
            "3  1416      2\n",
            "4  3000      4\n",
            "    price\n",
            "0  399900\n",
            "1  329900\n",
            "2  369000\n",
            "3  232000\n",
            "4  539900\n"
          ]
        }
      ]
    },
    {
      "cell_type": "code",
      "source": [
        "plt.figure(figsize = (15,4), dpi=600)\n",
        "plt.subplot(121)\n",
        "plt.scatter(X.iloc[:,0],y)\n",
        "plt.xlabel(\"Size of house (X1)\")\n",
        "plt.ylabel(\"Price (Y)\")\n",
        "\n",
        "plt.subplot(122)\n",
        "plt.scatter(X.iloc[:,1],y)\n",
        "plt.xlabel(\"Number of Bedrooms (X2)\")\n",
        "plt.ylabel(\"Price (Y)\")"
      ],
      "metadata": {
        "id": "O4BCKuVCI8J5"
      },
      "execution_count": null,
      "outputs": []
    },
    {
      "cell_type": "code",
      "source": [
        "#sns.heatmap(data)\n",
        "\"\"\"Train model\"\"\"\n",
        "print(\"Train\")\n",
        "lin_reg = LinearRegression()\n",
        "lin_reg.fit(X, y) #training process\n",
        "print(type(lin_reg.intercept_)) #theta0\n",
        "print(type(lin_reg.coef_)) #theta1, theta2,..."
      ],
      "metadata": {
        "id": "WfIQk_u6JjPb"
      },
      "execution_count": null,
      "outputs": []
    },
    {
      "cell_type": "code",
      "source": [
        "\"\"\"Predict\"\"\"\n",
        "print(\"Predict\")\n",
        "#X_test = np.array([[2000,6]])\n",
        "X_test = pd.DataFrame(\n",
        "    {\n",
        "    \"area\":[2000],\n",
        "    \"rooms\":[6]\n",
        "    }\n",
        ")\n",
        "result = lin_reg.predict(X_test)\n",
        "print(result)"
      ],
      "metadata": {
        "id": "XURaO5_hJoLH"
      },
      "execution_count": null,
      "outputs": []
    },
    {
      "cell_type": "code",
      "execution_count": null,
      "metadata": {
        "id": "AECntigAPEwl"
      },
      "outputs": [],
      "source": [
        "\"\"\"Deploy\"\"\"\n",
        "print(\"Deploy\")\n",
        "pickle.dump(lin_reg, open('model.sav','wb') )\n",
        "from google.colab import files\n",
        "files.download('model.sav')"
      ]
    },
    {
      "cell_type": "code",
      "source": [
        "sns.pairplot(data)"
      ],
      "metadata": {
        "colab": {
          "base_uri": "https://localhost:8080/",
          "height": 775
        },
        "id": "bwb_YPBE1BUR",
        "outputId": "c1018b71-6a9c-4759-bc4e-4ddc758711d7"
      },
      "execution_count": null,
      "outputs": [
        {
          "output_type": "execute_result",
          "data": {
            "text/plain": [
              "<seaborn.axisgrid.PairGrid at 0x7d016bc85ab0>"
            ]
          },
          "metadata": {},
          "execution_count": 2
        },
        {
          "output_type": "display_data",
          "data": {
            "text/plain": [
              "<Figure size 750x750 with 12 Axes>"
            ],
            "image/png": "[encoded data removed]"
          },
          "metadata": {}
        }
      ]
    },
    {
      "cell_type": "code",
      "source": [
        "plt.figure(figsize=(14,8))\n",
        "sns.set_theme(style=\"white\")\n",
        "corr = data.corr()\n",
        "heatmap = sns.heatmap(corr, annot=True, cmap=\"Blues\", fmt='.1g')\n",
        "#is 0.4 closed to randomness?"
      ],
      "metadata": {
        "id": "tqJ_wvI0dHxN",
        "outputId": "93ef13c4-b327-4e06-f4e7-ea63701afb21",
        "colab": {
          "base_uri": "https://localhost:8080/",
          "height": 687
        }
      },
      "execution_count": null,
      "outputs": [
        {
          "output_type": "display_data",
          "data": {
            "text/plain": [
              "<Figure size 1400x800 with 2 Axes>"
            ],
            "image/png": "[encoded data removed]"
          },
          "metadata": {}
        }
      ]
    },
    {
      "cell_type": "markdown",
      "source": [
        "#Appendix\n",
        "1. Standardization\n",
        "- min-max\n",
        "- z-score"
      ],
      "metadata": {
        "id": "fQRIj1zI1zc3"
      }
    },
    {
      "cell_type": "markdown",
      "source": [
        "Info\n",
        "https://developers.google.com/machine-learning/data-prep/transform/normalization?hl=en"
      ],
      "metadata": {
        "id": "YTeQYMfBUfL2"
      }
    },
    {
      "cell_type": "code",
      "source": [
        "from sklearn.preprocessing import StandardScaler\n",
        "from sklearn.preprocessing import MinMaxScaler\n",
        "\n",
        "scaler = StandardScaler()\n",
        "scaler.fit(X) #calculate mu, sd\n",
        "print(scaler.mean_)\n",
        "\n",
        "Xs = scaler.transform(X)\n",
        "print(Xs)\n",
        "\n",
        "mscaler = MinMaxScaler()\n",
        "mscaler.fit_transform(X) #calculate mu, sd\n",
        "print(Xs)\n"
      ],
      "metadata": {
        "id": "NEy3WKOjufBv",
        "outputId": "69ecd424-0560-4ffb-dfc8-79e429c48a0d",
        "colab": {
          "base_uri": "https://localhost:8080/"
        }
      },
      "execution_count": null,
      "outputs": [
        {
          "output_type": "stream",
          "name": "stdout",
          "text": [
            "[2000.68085106    3.17021277]\n",
            "[[ 0.13141542 -0.22609337]\n",
            " [-0.5096407  -0.22609337]\n",
            " [ 0.5079087  -0.22609337]\n",
            " [-0.74367706 -1.5543919 ]\n",
            " [ 1.27107075  1.10220517]\n",
            " [-0.01994505  1.10220517]\n",
            " [-0.59358852 -0.22609337]\n",
            " [-0.72968575 -0.22609337]\n",
            " [-0.78946678 -0.22609337]\n",
            " [-0.64446599 -0.22609337]\n",
            " [-0.0771822   1.10220517]\n",
            " [-0.000866   -0.22609337]\n",
            " [-0.14077904 -0.22609337]\n",
            " [ 3.15099326  2.4305037 ]\n",
            " [-0.9319237  -0.22609337]\n",
            " [ 0.38071502  1.10220517]\n",
            " [-0.86578299 -1.5543919 ]\n",
            " [-0.97262567 -0.22609337]\n",
            " [ 0.77374348  1.10220517]\n",
            " [ 1.31050078  1.10220517]\n",
            " [-0.29722726 -0.22609337]\n",
            " [-0.14332291 -1.5543919 ]\n",
            " [-0.50455295 -0.22609337]\n",
            " [-0.0491996   1.10220517]\n",
            " [ 2.40309445 -0.22609337]\n",
            " [-1.14560907 -0.22609337]\n",
            " [-0.69025572 -0.22609337]\n",
            " [ 0.66817273 -0.22609337]\n",
            " [ 0.25352135 -0.22609337]\n",
            " [ 0.80935771 -0.22609337]\n",
            " [-0.20564782 -1.5543919 ]\n",
            " [-1.27280274 -2.88269044]\n",
            " [ 0.05001147  1.10220517]\n",
            " [ 1.44532608 -0.22609337]\n",
            " [-0.24126204  1.10220517]\n",
            " [-0.71696639 -0.22609337]\n",
            " [-0.96880986 -0.22609337]\n",
            " [ 0.16702965  1.10220517]\n",
            " [ 2.81647389  1.10220517]\n",
            " [ 0.20518775  1.10220517]\n",
            " [-0.42823675 -1.5543919 ]\n",
            " [ 0.30185495 -0.22609337]\n",
            " [ 0.72032214  1.10220517]\n",
            " [-1.0184154  -0.22609337]\n",
            " [-1.46104938 -1.5543919 ]\n",
            " [-0.18911264  1.10220517]\n",
            " [-1.01459959 -0.22609337]]\n",
            "[[ 0.13141542 -0.22609337]\n",
            " [-0.5096407  -0.22609337]\n",
            " [ 0.5079087  -0.22609337]\n",
            " [-0.74367706 -1.5543919 ]\n",
            " [ 1.27107075  1.10220517]\n",
            " [-0.01994505  1.10220517]\n",
            " [-0.59358852 -0.22609337]\n",
            " [-0.72968575 -0.22609337]\n",
            " [-0.78946678 -0.22609337]\n",
            " [-0.64446599 -0.22609337]\n",
            " [-0.0771822   1.10220517]\n",
            " [-0.000866   -0.22609337]\n",
            " [-0.14077904 -0.22609337]\n",
            " [ 3.15099326  2.4305037 ]\n",
            " [-0.9319237  -0.22609337]\n",
            " [ 0.38071502  1.10220517]\n",
            " [-0.86578299 -1.5543919 ]\n",
            " [-0.97262567 -0.22609337]\n",
            " [ 0.77374348  1.10220517]\n",
            " [ 1.31050078  1.10220517]\n",
            " [-0.29722726 -0.22609337]\n",
            " [-0.14332291 -1.5543919 ]\n",
            " [-0.50455295 -0.22609337]\n",
            " [-0.0491996   1.10220517]\n",
            " [ 2.40309445 -0.22609337]\n",
            " [-1.14560907 -0.22609337]\n",
            " [-0.69025572 -0.22609337]\n",
            " [ 0.66817273 -0.22609337]\n",
            " [ 0.25352135 -0.22609337]\n",
            " [ 0.80935771 -0.22609337]\n",
            " [-0.20564782 -1.5543919 ]\n",
            " [-1.27280274 -2.88269044]\n",
            " [ 0.05001147  1.10220517]\n",
            " [ 1.44532608 -0.22609337]\n",
            " [-0.24126204  1.10220517]\n",
            " [-0.71696639 -0.22609337]\n",
            " [-0.96880986 -0.22609337]\n",
            " [ 0.16702965  1.10220517]\n",
            " [ 2.81647389  1.10220517]\n",
            " [ 0.20518775  1.10220517]\n",
            " [-0.42823675 -1.5543919 ]\n",
            " [ 0.30185495 -0.22609337]\n",
            " [ 0.72032214  1.10220517]\n",
            " [-1.0184154  -0.22609337]\n",
            " [-1.46104938 -1.5543919 ]\n",
            " [-0.18911264  1.10220517]\n",
            " [-1.01459959 -0.22609337]]\n"
          ]
        }
      ]
    },
    {
      "cell_type": "code",
      "source": [
        "print(Xs[0:5])"
      ],
      "metadata": {
        "colab": {
          "base_uri": "https://localhost:8080/"
        },
        "id": "rGbBZH-6QIVM",
        "outputId": "ccc83b15-8978-4224-c30e-359a5056c02e"
      },
      "execution_count": null,
      "outputs": [
        {
          "output_type": "stream",
          "name": "stdout",
          "text": [
            "[[ 0.13141542 -0.22609337]\n",
            " [-0.5096407  -0.22609337]\n",
            " [ 0.5079087  -0.22609337]\n",
            " [-0.74367706 -1.5543919 ]\n",
            " [ 1.27107075  1.10220517]]\n"
          ]
        }
      ]
    },
    {
      "cell_type": "code",
      "source": [
        "lin_reg.fit(Xs,y)\n",
        "print(lin_reg.intercept_) #theta0\n",
        "print(lin_reg.coef_) #theta1, theta2,..."
      ],
      "metadata": {
        "id": "YGTYQ-9uu_gP",
        "outputId": "61e95f5b-8aa7-43b5-ef92-38ae284ce8e7",
        "colab": {
          "base_uri": "https://localhost:8080/"
        }
      },
      "execution_count": null,
      "outputs": [
        {
          "output_type": "stream",
          "name": "stdout",
          "text": [
            "[340412.65957447]\n",
            "[[109447.79646964  -6578.35485416]]\n"
          ]
        }
      ]
    },
    {
      "cell_type": "code",
      "source": [
        "print(X_test)"
      ],
      "metadata": {
        "colab": {
          "base_uri": "https://localhost:8080/"
        },
        "id": "M0ZeKsEmRrke",
        "outputId": "0318cd6c-4217-4403-9bda-3e0bf9804042"
      },
      "execution_count": null,
      "outputs": [
        {
          "output_type": "stream",
          "name": "stdout",
          "text": [
            "   area  rooms\n",
            "0  2000      6\n"
          ]
        }
      ]
    },
    {
      "cell_type": "code",
      "source": [
        "x_test_s = scaler.transform(X_test)\n",
        "print(x_test_s)"
      ],
      "metadata": {
        "id": "Tt4LSH0evROq",
        "outputId": "1d5d8f4e-ddd6-4a45-885f-28c5532f2b5e",
        "colab": {
          "base_uri": "https://localhost:8080/"
        }
      },
      "execution_count": null,
      "outputs": [
        {
          "output_type": "stream",
          "name": "stdout",
          "text": [
            "[[-0.000866    3.75880224]]\n"
          ]
        }
      ]
    },
    {
      "cell_type": "code",
      "source": [
        "result = lin_reg.predict(x_test_s)\n",
        "print(result)"
      ],
      "metadata": {
        "id": "m4VNnZZvvbEy",
        "outputId": "1cb7a57d-ef12-4e01-e541-03bc691d1e3b",
        "colab": {
          "base_uri": "https://localhost:8080/"
        }
      },
      "execution_count": null,
      "outputs": [
        {
          "output_type": "stream",
          "name": "stdout",
          "text": [
            "[[315591.14290408]]\n"
          ]
        }
      ]
    },
    {
      "cell_type": "code",
      "source": [
        "from sklearn.preprocessing import StandardScaler\n",
        "from sklearn.pipeline import Pipeline\n",
        "\n",
        "pipe = Pipeline([\n",
        "      ('scaler', StandardScaler()),\n",
        "      ('lr', LinearRegression())\n",
        "      ])\n",
        "pipe.fit(X, y)"
      ],
      "metadata": {
        "id": "xKXvQ8CGpdqL",
        "outputId": "9f610cc5-f114-4ef6-edc3-8b2469643c41",
        "colab": {
          "base_uri": "https://localhost:8080/",
          "height": 126
        }
      },
      "execution_count": null,
      "outputs": [
        {
          "output_type": "execute_result",
          "data": {
            "text/plain": [
              "Pipeline(steps=[('scaler', StandardScaler()), ('lr', LinearRegression())])"
            ],
            "text/html": [
              "<style>#sk-container-id-1 {color: black;}#sk-container-id-1 pre{padding: 0;}#sk-container-id-1 div.sk-toggleable {background-color: white;}#sk-container-id-1 label.sk-toggleable__label {cursor: pointer;display: block;width: 100%;margin-bottom: 0;padding: 0.3em;box-sizing: border-box;text-align: center;}#sk-container-id-1 label.sk-toggleable__label-arrow:before {content: \"▸\";float: left;margin-right: 0.25em;color: #696969;}#sk-container-id-1 label.sk-toggleable__label-arrow:hover:before {color: black;}#sk-container-id-1 div.sk-estimator:hover label.sk-toggleable__label-arrow:before {color: black;}#sk-container-id-1 div.sk-toggleable__content {max-height: 0;max-width: 0;overflow: hidden;text-align: left;background-color: #f0f8ff;}#sk-container-id-1 div.sk-toggleable__content pre {margin: 0.2em;color: black;border-radius: 0.25em;background-color: #f0f8ff;}#sk-container-id-1 input.sk-toggleable__control:checked~div.sk-toggleable__content {max-height: 200px;max-width: 100%;overflow: auto;}#sk-container-id-1 input.sk-toggleable__control:checked~label.sk-toggleable__label-arrow:before {content: \"▾\";}#sk-container-id-1 div.sk-estimator input.sk-toggleable__control:checked~label.sk-toggleable__label {background-color: #d4ebff;}#sk-container-id-1 div.sk-label input.sk-toggleable__control:checked~label.sk-toggleable__label {background-color: #d4ebff;}#sk-container-id-1 input.sk-hidden--visually {border: 0;clip: rect(1px 1px 1px 1px);clip: rect(1px, 1px, 1px, 1px);height: 1px;margin: -1px;overflow: hidden;padding: 0;position: absolute;width: 1px;}#sk-container-id-1 div.sk-estimator {font-family: monospace;background-color: #f0f8ff;border: 1px dotted black;border-radius: 0.25em;box-sizing: border-box;margin-bottom: 0.5em;}#sk-container-id-1 div.sk-estimator:hover {background-color: #d4ebff;}#sk-container-id-1 div.sk-parallel-item::after {content: \"\";width: 100%;border-bottom: 1px solid gray;flex-grow: 1;}#sk-container-id-1 div.sk-label:hover label.sk-toggleable__label {background-color: #d4ebff;}#sk-container-id-1 div.sk-serial::before {content: \"\";position: absolute;border-left: 1px solid gray;box-sizing: border-box;top: 0;bottom: 0;left: 50%;z-index: 0;}#sk-container-id-1 div.sk-serial {display: flex;flex-direction: column;align-items: center;background-color: white;padding-right: 0.2em;padding-left: 0.2em;position: relative;}#sk-container-id-1 div.sk-item {position: relative;z-index: 1;}#sk-container-id-1 div.sk-parallel {display: flex;align-items: stretch;justify-content: center;background-color: white;position: relative;}#sk-container-id-1 div.sk-item::before, #sk-container-id-1 div.sk-parallel-item::before {content: \"\";position: absolute;border-left: 1px solid gray;box-sizing: border-box;top: 0;bottom: 0;left: 50%;z-index: -1;}#sk-container-id-1 div.sk-parallel-item {display: flex;flex-direction: column;z-index: 1;position: relative;background-color: white;}#sk-container-id-1 div.sk-parallel-item:first-child::after {align-self: flex-end;width: 50%;}#sk-container-id-1 div.sk-parallel-item:last-child::after {align-self: flex-start;width: 50%;}#sk-container-id-1 div.sk-parallel-item:only-child::after {width: 0;}#sk-container-id-1 div.sk-dashed-wrapped {border: 1px dashed gray;margin: 0 0.4em 0.5em 0.4em;box-sizing: border-box;padding-bottom: 0.4em;background-color: white;}#sk-container-id-1 div.sk-label label {font-family: monospace;font-weight: bold;display: inline-block;line-height: 1.2em;}#sk-container-id-1 div.sk-label-container {text-align: center;}#sk-container-id-1 div.sk-container {/* jupyter's `normalize.less` sets `[hidden] { display: none; }` but bootstrap.min.css set `[hidden] { display: none !important; }` so we also need the `!important` here to be able to override the default hidden behavior on the sphinx rendered scikit-learn.org. See: https://github.com/scikit-learn/scikit-learn/issues/21755 */display: inline-block !important;position: relative;}#sk-container-id-1 div.sk-text-repr-fallback {display: none;}</style><div id=\"sk-container-id-1\" class=\"sk-top-container\"><div class=\"sk-text-repr-fallback\"><pre>Pipeline(steps=[(&#x27;scaler&#x27;, StandardScaler()), (&#x27;lr&#x27;, LinearRegression())])</pre><b>In a Jupyter environment, please rerun this cell to show the HTML representation or trust the notebook. <br />On GitHub, the HTML representation is unable to render, please try loading this page with nbviewer.org.</b></div><div class=\"sk-container\" hidden><div class=\"sk-item sk-dashed-wrapped\"><div class=\"sk-label-container\"><div class=\"sk-label sk-toggleable\"><input class=\"sk-toggleable__control sk-hidden--visually\" id=\"sk-estimator-id-1\" type=\"checkbox\" ><label for=\"sk-estimator-id-1\" class=\"sk-toggleable__label sk-toggleable__label-arrow\">Pipeline</label><div class=\"sk-toggleable__content\"><pre>Pipeline(steps=[(&#x27;scaler&#x27;, StandardScaler()), (&#x27;lr&#x27;, LinearRegression())])</pre></div></div></div><div class=\"sk-serial\"><div class=\"sk-item\"><div class=\"sk-estimator sk-toggleable\"><input class=\"sk-toggleable__control sk-hidden--visually\" id=\"sk-estimator-id-2\" type=\"checkbox\" ><label for=\"sk-estimator-id-2\" class=\"sk-toggleable__label sk-toggleable__label-arrow\">StandardScaler</label><div class=\"sk-toggleable__content\"><pre>StandardScaler()</pre></div></div></div><div class=\"sk-item\"><div class=\"sk-estimator sk-toggleable\"><input class=\"sk-toggleable__control sk-hidden--visually\" id=\"sk-estimator-id-3\" type=\"checkbox\" ><label for=\"sk-estimator-id-3\" class=\"sk-toggleable__label sk-toggleable__label-arrow\">LinearRegression</label><div class=\"sk-toggleable__content\"><pre>LinearRegression()</pre></div></div></div></div></div></div></div>"
            ]
          },
          "metadata": {},
          "execution_count": 10
        }
      ]
    },
    {
      "cell_type": "code",
      "source": [
        "pipe.predict(X_test)"
      ],
      "metadata": {
        "id": "0vGQMO0gueN9",
        "colab": {
          "base_uri": "https://localhost:8080/"
        },
        "outputId": "3ad47c5a-6cf9-4938-b310-51861e794893"
      },
      "execution_count": null,
      "outputs": [
        {
          "output_type": "execute_result",
          "data": {
            "text/plain": [
              "array([[315591.14290408]])"
            ]
          },
          "metadata": {},
          "execution_count": 11
        }
      ]
    }
  ]
}