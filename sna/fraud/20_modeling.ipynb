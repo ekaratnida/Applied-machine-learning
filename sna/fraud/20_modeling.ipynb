{
  "nbformat": 4,
  "nbformat_minor": 0,
  "metadata": {
    "orig_nbformat": 2,
    "kernelspec": {
      "name": "python3710jvsc74a57bd0563d867f513b1db22a50c0772d3498166496ad16228d7c1d495fd4c7e7a93ad6",
      "display_name": "Python 3.7.10 64-bit ('graph': conda)"
    },
    "metadata": {
      "interpreter": {
        "hash": "31f2aee4e71d21fbe5cf8b01ff0e069b9275f58929596ceb00d14d90e3e16cd6"
      }
    },
    "colab": {
      "name": "20_modeling_pytoch.ipynb",
      "provenance": [],
      "gpuType": "T4",
      "include_colab_link": true
    },
    "language_info": {
      "name": "python",
      "version": "3.7.10"
    }
  },
  "cells": [
    {
      "cell_type": "markdown",
      "metadata": {
        "id": "view-in-github",
        "colab_type": "text"
      },
      "source": [
        "<a href=\"https://colab.research.google.com/github/ekaratnida/Applied-machine-learning/blob/master/sna/fraud/20_modeling.ipynb\" target=\"_parent\"><img src=\"https://colab.research.google.com/assets/colab-badge.svg\" alt=\"Open In Colab\"/></a>"
      ]
    },
    {
      "cell_type": "markdown",
      "metadata": {
        "id": "4714VKOKo8cK"
      },
      "source": [
        "# Modeling\n",
        "\n",
        "This notebook will guide you through the process of loading heterogeneous graphs and training models. The heterogeneous graph is based on Deep Graph Library (DGL) implementation, and the training process is based on PyTorch implementation.\n",
        "\n",
        "The CPU is recommended for training when the equipment allows it. If you need to use GPU, please install GPU-based DGL separately."
      ]
    },
    {
      "cell_type": "markdown",
      "metadata": {
        "id": "lsBPiu9io8cR"
      },
      "source": [
        "## Colab setting\n",
        "\n",
        "If you want to train in Colab, please run both cells first and mount to the corresponding path."
      ]
    },
    {
      "cell_type": "code",
      "metadata": {
        "colab": {
          "base_uri": "https://localhost:8080/"
        },
        "id": "0AICBHAJHa56",
        "outputId": "1bfe346e-c738-4271-90bb-18b148fb75b7"
      },
      "source": [
        "from google.colab import drive\n",
        "drive.mount('/content/drive')"
      ],
      "execution_count": 1,
      "outputs": [
        {
          "output_type": "stream",
          "name": "stdout",
          "text": [
            "Mounted at /content/drive\n"
          ]
        }
      ]
    },
    {
      "cell_type": "code",
      "metadata": {
        "colab": {
          "base_uri": "https://localhost:8080/"
        },
        "id": "LtJfGQ6GHh88",
        "outputId": "8b1bd1b7-5060-471f-d9cd-1f019168a11c"
      },
      "source": [
        "import os\n",
        "cur_path = \"/content/drive/MyDrive/graph-fraud-detection/\"\n",
        "os.chdir(cur_path)\n",
        "!pwd"
      ],
      "execution_count": 2,
      "outputs": [
        {
          "output_type": "stream",
          "name": "stdout",
          "text": [
            "/content/drive/MyDrive/graph-fraud-detection\n"
          ]
        }
      ]
    },
    {
      "cell_type": "code",
      "metadata": {
        "colab": {
          "base_uri": "https://localhost:8080/"
        },
        "id": "aprSAaVaHiEX",
        "outputId": "2e991428-6906-4f0a-ebe4-894ff9aed182"
      },
      "source": [
        "#!pip install dgl # This might install a version compatible with the current PyTorch\n",
        "#!pip install  dgl -f https://data.dgl.ai/wheels/torch-2.3/repo.html\n",
        "!pip install dgl==1.1.2  # Or other version that works without GraphBolt\n",
        "\n",
        "#-cu101"
      ],
      "execution_count": 3,
      "outputs": [
        {
          "output_type": "stream",
          "name": "stdout",
          "text": [
            "Collecting dgl==1.1.2\n",
            "  Downloading dgl-1.1.2-cp311-cp311-manylinux1_x86_64.whl.metadata (530 bytes)\n",
            "Requirement already satisfied: numpy>=1.14.0 in /usr/local/lib/python3.11/dist-packages (from dgl==1.1.2) (2.0.2)\n",
            "Requirement already satisfied: scipy>=1.1.0 in /usr/local/lib/python3.11/dist-packages (from dgl==1.1.2) (1.15.3)\n",
            "Requirement already satisfied: networkx>=2.1 in /usr/local/lib/python3.11/dist-packages (from dgl==1.1.2) (3.5)\n",
            "Requirement already satisfied: requests>=2.19.0 in /usr/local/lib/python3.11/dist-packages (from dgl==1.1.2) (2.32.3)\n",
            "Requirement already satisfied: tqdm in /usr/local/lib/python3.11/dist-packages (from dgl==1.1.2) (4.67.1)\n",
            "Requirement already satisfied: psutil>=5.8.0 in /usr/local/lib/python3.11/dist-packages (from dgl==1.1.2) (5.9.5)\n",
            "Requirement already satisfied: charset-normalizer<4,>=2 in /usr/local/lib/python3.11/dist-packages (from requests>=2.19.0->dgl==1.1.2) (3.4.2)\n",
            "Requirement already satisfied: idna<4,>=2.5 in /usr/local/lib/python3.11/dist-packages (from requests>=2.19.0->dgl==1.1.2) (3.10)\n",
            "Requirement already satisfied: urllib3<3,>=1.21.1 in /usr/local/lib/python3.11/dist-packages (from requests>=2.19.0->dgl==1.1.2) (2.4.0)\n",
            "Requirement already satisfied: certifi>=2017.4.17 in /usr/local/lib/python3.11/dist-packages (from requests>=2.19.0->dgl==1.1.2) (2025.7.14)\n",
            "Downloading dgl-1.1.2-cp311-cp311-manylinux1_x86_64.whl (6.0 MB)\n",
            "\u001b[2K   \u001b[90m━━━━━━━━━━━━━━━━━━━━━━━━━━━━━━━━━━━━━━━━\u001b[0m \u001b[32m6.0/6.0 MB\u001b[0m \u001b[31m73.0 MB/s\u001b[0m eta \u001b[36m0:00:00\u001b[0m\n",
            "\u001b[?25hInstalling collected packages: dgl\n",
            "Successfully installed dgl-1.1.2\n"
          ]
        }
      ]
    },
    {
      "cell_type": "code",
      "source": [
        "#!pip install torchdata==0.9.0"
      ],
      "metadata": {
        "id": "inIRw5pA-qhM"
      },
      "execution_count": 4,
      "outputs": []
    },
    {
      "cell_type": "markdown",
      "metadata": {
        "id": "cgVPj47IMMG4"
      },
      "source": [
        "## Training (All in 1)\n",
        "\n",
        "In this part, you can use this all-in-one method to train the model easily."
      ]
    },
    {
      "cell_type": "code",
      "metadata": {
        "id": "W0mfuNcvBy6n",
        "outputId": "7bb23dd3-ef35-43f4-e5ba-437860131f87",
        "colab": {
          "base_uri": "https://localhost:8080/"
        }
      },
      "source": [
        "!python train.py --n-epochs 1000"
      ],
      "execution_count": 6,
      "outputs": [
        {
          "output_type": "stream",
          "name": "stdout",
          "text": [
            "DLG version: 1.1.2\n",
            "numpy version:2.0.2 PyTorch version:2.6.0+cu124 DGL version:1.1.2\n",
            "Namespace(training_dir='./data', model_dir='./model/2025_07_19_14_26_43', output_dir='./output', nodes='features.csv', target_ntype='TransactionID', edges='relation*', labels='tags.csv', new_accounts='test.csv', compute_metrics=True, threshold=0, num_gpus=0, optimizer='adam', lr=0.01, n_epochs=1000, n_hidden=16, n_layers=3, weight_decay=0.0005, dropout=0.2, embedding_size=360)\n",
            "Getting relation graphs from the following edge lists : ['relation_addr1_edgelist.csv', 'relation_card2_edgelist.csv', 'relation_addr2_edgelist.csv', 'relation_card6_edgelist.csv', 'relation_card4_edgelist.csv', 'relation_ProductCD_edgelist.csv', 'relation_card3_edgelist.csv', 'relation_card5_edgelist.csv', 'relation_P_emaildomain_edgelist.csv', 'relation_card1_edgelist.csv', 'relation_R_emaildomain_edgelist.csv', 'relation_id_03_edgelist.csv', 'relation_id_04_edgelist.csv', 'relation_id_01_edgelist.csv', 'relation_id_02_edgelist.csv', 'relation_TransactionID_edgelist.csv', 'relation_id_05_edgelist.csv', 'relation_id_06_edgelist.csv', 'relation_id_07_edgelist.csv', 'relation_id_08_edgelist.csv', 'relation_id_09_edgelist.csv', 'relation_id_11_edgelist.csv', 'relation_id_12_edgelist.csv', 'relation_id_10_edgelist.csv', 'relation_id_14_edgelist.csv', 'relation_id_13_edgelist.csv', 'relation_id_17_edgelist.csv', 'relation_id_18_edgelist.csv', 'relation_id_16_edgelist.csv', 'relation_id_15_edgelist.csv', 'relation_id_19_edgelist.csv', 'relation_id_21_edgelist.csv', 'relation_id_20_edgelist.csv', 'relation_id_22_edgelist.csv', 'relation_id_25_edgelist.csv', 'relation_id_24_edgelist.csv', 'relation_id_23_edgelist.csv', 'relation_id_27_edgelist.csv', 'relation_id_28_edgelist.csv', 'relation_id_26_edgelist.csv', 'relation_id_31_edgelist.csv', 'relation_id_30_edgelist.csv', 'relation_id_29_edgelist.csv', 'relation_id_33_edgelist.csv', 'relation_id_35_edgelist.csv', 'relation_id_36_edgelist.csv', 'relation_id_34_edgelist.csv', 'relation_id_32_edgelist.csv', 'relation_id_37_edgelist.csv', 'relation_id_38_edgelist.csv', 'relation_DeviceType_edgelist.csv', 'relation_DeviceInfo_edgelist.csv'] \n",
            "Read edges for target<addr1> from edgelist: ./data/relation_addr1_edgelist.csv\n",
            "Read edges for target<card2> from edgelist: ./data/relation_card2_edgelist.csv\n",
            "Read edges for target<addr2> from edgelist: ./data/relation_addr2_edgelist.csv\n",
            "Read edges for target<card6> from edgelist: ./data/relation_card6_edgelist.csv\n",
            "Read edges for target<card4> from edgelist: ./data/relation_card4_edgelist.csv\n",
            "Read edges for target<ProductCD> from edgelist: ./data/relation_ProductCD_edgelist.csv\n",
            "Read edges for target<card3> from edgelist: ./data/relation_card3_edgelist.csv\n",
            "Read edges for target<card5> from edgelist: ./data/relation_card5_edgelist.csv\n",
            "Read edges for target<P_emaildomain> from edgelist: ./data/relation_P_emaildomain_edgelist.csv\n",
            "Read edges for target<card1> from edgelist: ./data/relation_card1_edgelist.csv\n",
            "Read edges for target<R_emaildomain> from edgelist: ./data/relation_R_emaildomain_edgelist.csv\n",
            "Read edges for target<id_03> from edgelist: ./data/relation_id_03_edgelist.csv\n",
            "Read edges for target<id_04> from edgelist: ./data/relation_id_04_edgelist.csv\n",
            "Read edges for target<id_01> from edgelist: ./data/relation_id_01_edgelist.csv\n",
            "Read edges for target<id_02> from edgelist: ./data/relation_id_02_edgelist.csv\n",
            "Will add self loop for target later......\n",
            "Read edges for target<id_05> from edgelist: ./data/relation_id_05_edgelist.csv\n",
            "Read edges for target<id_06> from edgelist: ./data/relation_id_06_edgelist.csv\n",
            "Read edges for target<id_07> from edgelist: ./data/relation_id_07_edgelist.csv\n",
            "Read edges for target<id_08> from edgelist: ./data/relation_id_08_edgelist.csv\n",
            "Read edges for target<id_09> from edgelist: ./data/relation_id_09_edgelist.csv\n",
            "Read edges for target<id_11> from edgelist: ./data/relation_id_11_edgelist.csv\n",
            "Read edges for target<id_12> from edgelist: ./data/relation_id_12_edgelist.csv\n",
            "Read edges for target<id_10> from edgelist: ./data/relation_id_10_edgelist.csv\n",
            "Read edges for target<id_14> from edgelist: ./data/relation_id_14_edgelist.csv\n",
            "Read edges for target<id_13> from edgelist: ./data/relation_id_13_edgelist.csv\n",
            "Read edges for target<id_17> from edgelist: ./data/relation_id_17_edgelist.csv\n",
            "Read edges for target<id_18> from edgelist: ./data/relation_id_18_edgelist.csv\n",
            "Read edges for target<id_16> from edgelist: ./data/relation_id_16_edgelist.csv\n",
            "Read edges for target<id_15> from edgelist: ./data/relation_id_15_edgelist.csv\n",
            "Read edges for target<id_19> from edgelist: ./data/relation_id_19_edgelist.csv\n",
            "Read edges for target<id_21> from edgelist: ./data/relation_id_21_edgelist.csv\n",
            "Read edges for target<id_20> from edgelist: ./data/relation_id_20_edgelist.csv\n",
            "Read edges for target<id_22> from edgelist: ./data/relation_id_22_edgelist.csv\n",
            "Read edges for target<id_25> from edgelist: ./data/relation_id_25_edgelist.csv\n",
            "Read edges for target<id_24> from edgelist: ./data/relation_id_24_edgelist.csv\n",
            "Read edges for target<id_23> from edgelist: ./data/relation_id_23_edgelist.csv\n",
            "Read edges for target<id_27> from edgelist: ./data/relation_id_27_edgelist.csv\n",
            "Read edges for target<id_28> from edgelist: ./data/relation_id_28_edgelist.csv\n",
            "Read edges for target<id_26> from edgelist: ./data/relation_id_26_edgelist.csv\n",
            "Read edges for target<id_31> from edgelist: ./data/relation_id_31_edgelist.csv\n",
            "Read edges for target<id_30> from edgelist: ./data/relation_id_30_edgelist.csv\n",
            "Read edges for target<id_29> from edgelist: ./data/relation_id_29_edgelist.csv\n",
            "Read edges for target<id_33> from edgelist: ./data/relation_id_33_edgelist.csv\n",
            "Read edges for target<id_35> from edgelist: ./data/relation_id_35_edgelist.csv\n",
            "Read edges for target<id_36> from edgelist: ./data/relation_id_36_edgelist.csv\n",
            "Read edges for target<id_34> from edgelist: ./data/relation_id_34_edgelist.csv\n",
            "Read edges for target<id_32> from edgelist: ./data/relation_id_32_edgelist.csv\n",
            "Read edges for target<id_37> from edgelist: ./data/relation_id_37_edgelist.csv\n",
            "Read edges for target<id_38> from edgelist: ./data/relation_id_38_edgelist.csv\n",
            "Read edges for target<DeviceType> from edgelist: ./data/relation_DeviceType_edgelist.csv\n",
            "Read edges for target<DeviceInfo> from edgelist: ./data/relation_DeviceInfo_edgelist.csv\n",
            "Read in features for target nodes\n",
            "Constructed heterograph with the following metagraph structure: Node types ['DeviceInfo', 'DeviceType', 'P_emaildomain', 'ProductCD', 'R_emaildomain', 'addr1', 'addr2', 'card1', 'card2', 'card3', 'card4', 'card5', 'card6', 'id_01', 'id_02', 'id_03', 'id_04', 'id_05', 'id_06', 'id_07', 'id_08', 'id_09', 'id_10', 'id_11', 'id_12', 'id_13', 'id_14', 'id_15', 'id_16', 'id_17', 'id_18', 'id_19', 'id_20', 'id_21', 'id_22', 'id_23', 'id_24', 'id_25', 'id_26', 'id_27', 'id_28', 'id_29', 'id_30', 'id_31', 'id_32', 'id_33', 'id_34', 'id_35', 'id_36', 'id_37', 'id_38', 'target'], Edge types[('DeviceInfo', 'DeviceInfo<>target', 'target'), ('DeviceType', 'DeviceType<>target', 'target'), ('P_emaildomain', 'P_emaildomain<>target', 'target'), ('ProductCD', 'ProductCD<>target', 'target'), ('R_emaildomain', 'R_emaildomain<>target', 'target'), ('addr1', 'addr1<>target', 'target'), ('addr2', 'addr2<>target', 'target'), ('card1', 'card1<>target', 'target'), ('card2', 'card2<>target', 'target'), ('card3', 'card3<>target', 'target'), ('card4', 'card4<>target', 'target'), ('card5', 'card5<>target', 'target'), ('card6', 'card6<>target', 'target'), ('id_01', 'id_01<>target', 'target'), ('id_02', 'id_02<>target', 'target'), ('id_03', 'id_03<>target', 'target'), ('id_04', 'id_04<>target', 'target'), ('id_05', 'id_05<>target', 'target'), ('id_06', 'id_06<>target', 'target'), ('id_07', 'id_07<>target', 'target'), ('id_08', 'id_08<>target', 'target'), ('id_09', 'id_09<>target', 'target'), ('id_10', 'id_10<>target', 'target'), ('id_11', 'id_11<>target', 'target'), ('id_12', 'id_12<>target', 'target'), ('id_13', 'id_13<>target', 'target'), ('id_14', 'id_14<>target', 'target'), ('id_15', 'id_15<>target', 'target'), ('id_16', 'id_16<>target', 'target'), ('id_17', 'id_17<>target', 'target'), ('id_18', 'id_18<>target', 'target'), ('id_19', 'id_19<>target', 'target'), ('id_20', 'id_20<>target', 'target'), ('id_21', 'id_21<>target', 'target'), ('id_22', 'id_22<>target', 'target'), ('id_23', 'id_23<>target', 'target'), ('id_24', 'id_24<>target', 'target'), ('id_25', 'id_25<>target', 'target'), ('id_26', 'id_26<>target', 'target'), ('id_27', 'id_27<>target', 'target'), ('id_28', 'id_28<>target', 'target'), ('id_29', 'id_29<>target', 'target'), ('id_30', 'id_30<>target', 'target'), ('id_31', 'id_31<>target', 'target'), ('id_32', 'id_32<>target', 'target'), ('id_33', 'id_33<>target', 'target'), ('id_34', 'id_34<>target', 'target'), ('id_35', 'id_35<>target', 'target'), ('id_36', 'id_36<>target', 'target'), ('id_37', 'id_37<>target', 'target'), ('id_38', 'id_38<>target', 'target'), ('target', 'self_relation', 'target'), ('target', 'target<>DeviceInfo', 'DeviceInfo'), ('target', 'target<>DeviceType', 'DeviceType'), ('target', 'target<>P_emaildomain', 'P_emaildomain'), ('target', 'target<>ProductCD', 'ProductCD'), ('target', 'target<>R_emaildomain', 'R_emaildomain'), ('target', 'target<>addr1', 'addr1'), ('target', 'target<>addr2', 'addr2'), ('target', 'target<>card1', 'card1'), ('target', 'target<>card2', 'card2'), ('target', 'target<>card3', 'card3'), ('target', 'target<>card4', 'card4'), ('target', 'target<>card5', 'card5'), ('target', 'target<>card6', 'card6'), ('target', 'target<>id_01', 'id_01'), ('target', 'target<>id_02', 'id_02'), ('target', 'target<>id_03', 'id_03'), ('target', 'target<>id_04', 'id_04'), ('target', 'target<>id_05', 'id_05'), ('target', 'target<>id_06', 'id_06'), ('target', 'target<>id_07', 'id_07'), ('target', 'target<>id_08', 'id_08'), ('target', 'target<>id_09', 'id_09'), ('target', 'target<>id_10', 'id_10'), ('target', 'target<>id_11', 'id_11'), ('target', 'target<>id_12', 'id_12'), ('target', 'target<>id_13', 'id_13'), ('target', 'target<>id_14', 'id_14'), ('target', 'target<>id_15', 'id_15'), ('target', 'target<>id_16', 'id_16'), ('target', 'target<>id_17', 'id_17'), ('target', 'target<>id_18', 'id_18'), ('target', 'target<>id_19', 'id_19'), ('target', 'target<>id_20', 'id_20'), ('target', 'target<>id_21', 'id_21'), ('target', 'target<>id_22', 'id_22'), ('target', 'target<>id_23', 'id_23'), ('target', 'target<>id_24', 'id_24'), ('target', 'target<>id_25', 'id_25'), ('target', 'target<>id_26', 'id_26'), ('target', 'target<>id_27', 'id_27'), ('target', 'target<>id_28', 'id_28'), ('target', 'target<>id_29', 'id_29'), ('target', 'target<>id_30', 'id_30'), ('target', 'target<>id_31', 'id_31'), ('target', 'target<>id_32', 'id_32'), ('target', 'target<>id_33', 'id_33'), ('target', 'target<>id_34', 'id_34'), ('target', 'target<>id_35', 'id_35'), ('target', 'target<>id_36', 'id_36'), ('target', 'target<>id_37', 'id_37'), ('target', 'target<>id_38', 'id_38')]\n",
            "Number of nodes of type target : 59054\n",
            "feature mean shape:torch.Size([390]), std shape:torch.Size([390])\n",
            "Getting labels\n",
            "Got labels\n",
            "----Data statistics------'\n",
            "                #Nodes: 82464\n",
            "                #Edges: 1943174\n",
            "                #Features Shape: torch.Size([59054, 390])\n",
            "                #Labeled Test samples: 11811.0\n",
            "Initializing Model\n",
            "Initialized Model\n",
            "Starting Model training\n",
            "Epoch 00000, Time(s) 4.7612, Loss 0.9618, F1 0.0000 \n",
            "Epoch 00001, Time(s) 4.6988, Loss 0.8187, F1 0.0000 \n",
            "Epoch 00002, Time(s) 4.3313, Loss 0.5439, F1 0.0000 \n",
            "Epoch 00003, Time(s) 4.3996, Loss 0.3071, F1 0.0120 \n",
            "Epoch 00004, Time(s) 4.2258, Loss 0.1933, F1 0.0503 \n",
            "Epoch 00005, Time(s) 4.1439, Loss 0.1621, F1 0.0442 \n",
            "Epoch 00006, Time(s) 4.0748, Loss 0.1632, F1 0.0198 \n",
            "Epoch 00007, Time(s) 4.0191, Loss 0.1631, F1 0.0104 \n",
            "Epoch 00008, Time(s) 4.0947, Loss 0.1603, F1 0.0076 \n",
            "Epoch 00009, Time(s) 4.0659, Loss 0.1503, F1 0.0076 \n",
            "Epoch 00010, Time(s) 4.1189, Loss 0.1402, F1 0.0123 \n",
            "Epoch 00011, Time(s) 4.0698, Loss 0.1475, F1 0.0142 \n",
            "Epoch 00012, Time(s) 4.0748, Loss 0.1537, F1 0.0152 \n",
            "Epoch 00013, Time(s) 4.0497, Loss 0.1419, F1 0.0208 \n",
            "Epoch 00014, Time(s) 4.0245, Loss 0.1395, F1 0.0283 \n",
            "Epoch 00015, Time(s) 4.0257, Loss 0.1424, F1 0.0393 \n",
            "Epoch 00016, Time(s) 3.9998, Loss 0.1428, F1 0.0546 \n",
            "Epoch 00017, Time(s) 4.0235, Loss 0.1398, F1 0.0808 \n",
            "Epoch 00018, Time(s) 3.9939, Loss 0.1373, F1 0.1068 \n",
            "Epoch 00019, Time(s) 3.9672, Loss 0.1370, F1 0.1183 \n",
            "Epoch 00020, Time(s) 3.9601, Loss 0.1363, F1 0.1105 \n",
            "Epoch 00021, Time(s) 3.9363, Loss 0.1339, F1 0.1041 \n",
            "Epoch 00022, Time(s) 3.9652, Loss 0.1314, F1 0.0965 \n",
            "Epoch 00023, Time(s) 3.9446, Loss 0.1307, F1 0.1034 \n",
            "Epoch 00024, Time(s) 3.9575, Loss 0.1307, F1 0.1282 \n",
            "Epoch 00025, Time(s) 3.9394, Loss 0.1289, F1 0.1876 \n",
            "Epoch 00026, Time(s) 3.9193, Loss 0.1268, F1 0.2477 \n",
            "Epoch 00027, Time(s) 3.9255, Loss 0.1280, F1 0.2078 \n",
            "Epoch 00028, Time(s) 3.9101, Loss 0.1242, F1 0.1712 \n",
            "Epoch 00029, Time(s) 3.9277, Loss 0.1239, F1 0.1698 \n",
            "Epoch 00030, Time(s) 3.9149, Loss 0.1233, F1 0.2108 \n",
            "Epoch 00031, Time(s) 3.9212, Loss 0.1207, F1 0.2679 \n",
            "Epoch 00032, Time(s) 3.9146, Loss 0.1197, F1 0.2994 \n",
            "Epoch 00033, Time(s) 3.8982, Loss 0.1199, F1 0.2611 \n",
            "Epoch 00034, Time(s) 3.9107, Loss 0.1175, F1 0.2331 \n",
            "Epoch 00035, Time(s) 3.8983, Loss 0.1172, F1 0.2419 \n",
            "Epoch 00036, Time(s) 3.9109, Loss 0.1161, F1 0.2769 \n",
            "Epoch 00037, Time(s) 3.8977, Loss 0.1150, F1 0.3166 \n",
            "Epoch 00038, Time(s) 3.8914, Loss 0.1147, F1 0.3145 \n",
            "Epoch 00039, Time(s) 3.8872, Loss 0.1136, F1 0.2884 \n",
            "Epoch 00040, Time(s) 3.8754, Loss 0.1135, F1 0.2833 \n",
            "Epoch 00041, Time(s) 3.8911, Loss 0.1131, F1 0.3061 \n",
            "Epoch 00042, Time(s) 3.8826, Loss 0.1120, F1 0.3259 \n",
            "Epoch 00043, Time(s) 3.8860, Loss 0.1121, F1 0.3250 \n",
            "Epoch 00044, Time(s) 3.8759, Loss 0.1115, F1 0.3052 \n",
            "Epoch 00045, Time(s) 3.8660, Loss 0.1108, F1 0.3052 \n",
            "Epoch 00046, Time(s) 3.8787, Loss 0.1108, F1 0.3217 \n",
            "Epoch 00047, Time(s) 3.8694, Loss 0.1103, F1 0.3387 \n",
            "Epoch 00048, Time(s) 3.8831, Loss 0.1101, F1 0.3280 \n",
            "Epoch 00049, Time(s) 3.8754, Loss 0.1096, F1 0.3145 \n",
            "Epoch 00050, Time(s) 3.8845, Loss 0.1095, F1 0.3194 \n",
            "Epoch 00051, Time(s) 3.8754, Loss 0.1092, F1 0.3353 \n",
            "Epoch 00052, Time(s) 3.8686, Loss 0.1088, F1 0.3519 \n",
            "Epoch 00053, Time(s) 3.8687, Loss 0.1087, F1 0.3364 \n",
            "Epoch 00054, Time(s) 3.8627, Loss 0.1083, F1 0.3284 \n",
            "Epoch 00055, Time(s) 3.8831, Loss 0.1081, F1 0.3321 \n",
            "Epoch 00056, Time(s) 3.8746, Loss 0.1077, F1 0.3414 \n",
            "Epoch 00057, Time(s) 3.8900, Loss 0.1076, F1 0.3408 \n",
            "Epoch 00058, Time(s) 3.8832, Loss 0.1071, F1 0.3341 \n",
            "Epoch 00059, Time(s) 3.8832, Loss 0.1070, F1 0.3404 \n",
            "Epoch 00060, Time(s) 3.8801, Loss 0.1066, F1 0.3586 \n",
            "Epoch 00061, Time(s) 3.8725, Loss 0.1063, F1 0.3527 \n",
            "Epoch 00062, Time(s) 3.8811, Loss 0.1060, F1 0.3432 \n",
            "Epoch 00063, Time(s) 3.8746, Loss 0.1057, F1 0.3618 \n",
            "Epoch 00064, Time(s) 3.8869, Loss 0.1054, F1 0.3656 \n",
            "Epoch 00065, Time(s) 3.8864, Loss 0.1052, F1 0.3506 \n",
            "Epoch 00066, Time(s) 3.8963, Loss 0.1049, F1 0.3678 \n",
            "Epoch 00067, Time(s) 3.8921, Loss 0.1046, F1 0.3805 \n",
            "Epoch 00068, Time(s) 3.8964, Loss 0.1044, F1 0.3611 \n",
            "Epoch 00069, Time(s) 3.8905, Loss 0.1041, F1 0.3669 \n",
            "Epoch 00070, Time(s) 3.8885, Loss 0.1039, F1 0.3846 \n",
            "Epoch 00071, Time(s) 3.8892, Loss 0.1037, F1 0.3645 \n",
            "Epoch 00072, Time(s) 3.8864, Loss 0.1034, F1 0.3761 \n",
            "Epoch 00073, Time(s) 3.8926, Loss 0.1031, F1 0.3864 \n",
            "Epoch 00074, Time(s) 3.9704, Loss 0.1029, F1 0.3712 \n",
            "Epoch 00075, Time(s) 3.9621, Loss 0.1027, F1 0.3848 \n",
            "Epoch 00076, Time(s) 3.9596, Loss 0.1024, F1 0.3852 \n",
            "Epoch 00077, Time(s) 3.9543, Loss 0.1022, F1 0.3740 \n",
            "Epoch 00078, Time(s) 3.9470, Loss 0.1020, F1 0.3985 \n",
            "Epoch 00079, Time(s) 3.9570, Loss 0.1018, F1 0.3766 \n",
            "Epoch 00080, Time(s) 3.9533, Loss 0.1015, F1 0.3952 \n",
            "Epoch 00081, Time(s) 3.9616, Loss 0.1012, F1 0.3888 \n",
            "Epoch 00082, Time(s) 3.9577, Loss 0.1009, F1 0.3886 \n",
            "Epoch 00083, Time(s) 3.9553, Loss 0.1007, F1 0.4055 \n",
            "Epoch 00084, Time(s) 3.9527, Loss 0.1005, F1 0.3871 \n",
            "Epoch 00085, Time(s) 3.9461, Loss 0.1004, F1 0.4290 \n",
            "Epoch 00086, Time(s) 3.9531, Loss 0.1005, F1 0.3650 \n",
            "Epoch 00087, Time(s) 3.9578, Loss 0.1012, F1 0.4380 \n",
            "Epoch 00088, Time(s) 3.9670, Loss 0.1003, F1 0.3930 \n",
            "Epoch 00089, Time(s) 3.9648, Loss 0.0995, F1 0.4008 \n",
            "Epoch 00090, Time(s) 3.9695, Loss 0.0991, F1 0.4328 \n",
            "Epoch 00091, Time(s) 3.9640, Loss 0.0993, F1 0.3750 \n",
            "Epoch 00092, Time(s) 3.9589, Loss 0.1000, F1 0.4318 \n",
            "Epoch 00093, Time(s) 3.9623, Loss 0.0989, F1 0.4132 \n",
            "Epoch 00094, Time(s) 3.9579, Loss 0.0982, F1 0.4035 \n",
            "Epoch 00095, Time(s) 3.9646, Loss 0.0983, F1 0.4424 \n",
            "Epoch 00096, Time(s) 3.9612, Loss 0.0983, F1 0.3927 \n",
            "Epoch 00097, Time(s) 3.9647, Loss 0.0984, F1 0.4375 \n",
            "Epoch 00098, Time(s) 3.9608, Loss 0.0975, F1 0.4245 \n",
            "Epoch 00099, Time(s) 3.9569, Loss 0.0971, F1 0.4103 \n",
            "Epoch 00100, Time(s) 3.9593, Loss 0.0971, F1 0.4483 \n",
            "Epoch 00101, Time(s) 3.9580, Loss 0.0971, F1 0.4004 \n",
            "Epoch 00102, Time(s) 3.9621, Loss 0.0972, F1 0.4509 \n",
            "Epoch 00103, Time(s) 3.9618, Loss 0.0966, F1 0.4208 \n",
            "Epoch 00104, Time(s) 3.9700, Loss 0.0961, F1 0.4375 \n",
            "Epoch 00105, Time(s) 3.9690, Loss 0.0957, F1 0.4407 \n",
            "Epoch 00106, Time(s) 3.9803, Loss 0.0955, F1 0.4235 \n",
            "Epoch 00107, Time(s) 3.9774, Loss 0.0954, F1 0.4588 \n",
            "Epoch 00108, Time(s) 3.9821, Loss 0.0953, F1 0.4108 \n",
            "Epoch 00109, Time(s) 3.9790, Loss 0.0955, F1 0.4693 \n",
            "Epoch 00110, Time(s) 3.9757, Loss 0.0952, F1 0.4085 \n",
            "Epoch 00111, Time(s) 3.9779, Loss 0.0955, F1 0.4716 \n",
            "Epoch 00112, Time(s) 3.9753, Loss 0.0945, F1 0.4301 \n",
            "Epoch 00113, Time(s) 3.9811, Loss 0.0938, F1 0.4584 \n",
            "Epoch 00114, Time(s) 3.9785, Loss 0.0932, F1 0.4612 \n",
            "Epoch 00115, Time(s) 3.9844, Loss 0.0928, F1 0.4413 \n",
            "Epoch 00116, Time(s) 3.9796, Loss 0.0928, F1 0.4837 \n",
            "Epoch 00117, Time(s) 3.9780, Loss 0.0929, F1 0.4111 \n",
            "Epoch 00118, Time(s) 3.9756, Loss 0.0942, F1 0.4972 \n",
            "Epoch 00119, Time(s) 3.9714, Loss 0.0934, F1 0.4119 \n",
            "Epoch 00120, Time(s) 3.9764, Loss 0.0941, F1 0.4889 \n",
            "Epoch 00121, Time(s) 3.9720, Loss 0.0914, F1 0.4797 \n",
            "Epoch 00122, Time(s) 3.9740, Loss 0.0906, F1 0.4404 \n",
            "Epoch 00123, Time(s) 3.9711, Loss 0.0912, F1 0.5114 \n",
            "Epoch 00124, Time(s) 3.9678, Loss 0.0912, F1 0.4359 \n",
            "Traceback (most recent call last):\n",
            "  File \"/content/drive/MyDrive/graph-fraud-detection/train.py\", line 270, in <module>\n",
            "    model, class_preds, pred_proba = train_fg(model, optim, loss, features, labels, g, g,\n",
            "                                     ^^^^^^^^^^^^^^^^^^^^^^^^^^^^^^^^^^^^^^^^^^^^^^^^^^^^\n",
            "  File \"/content/drive/MyDrive/graph-fraud-detection/train.py\", line 54, in train_fg\n",
            "    l.backward()\n",
            "  File \"/usr/local/lib/python3.11/dist-packages/torch/_tensor.py\", line 626, in backward\n",
            "    torch.autograd.backward(\n",
            "  File \"/usr/local/lib/python3.11/dist-packages/torch/autograd/__init__.py\", line 347, in backward\n",
            "    _engine_run_backward(\n",
            "  File \"/usr/local/lib/python3.11/dist-packages/torch/autograd/graph.py\", line 823, in _engine_run_backward\n",
            "    return Variable._execution_engine.run_backward(  # Calls into the C++ engine to run the backward pass\n",
            "           ^^^^^^^^^^^^^^^^^^^^^^^^^^^^^^^^^^^^^^^^^^^^^^^^^^^^^^^^^^^^^^^^^^^^^^^^^^^^^^^^^^^^^^^^^^^^^^\n",
            "KeyboardInterrupt\n"
          ]
        }
      ]
    },
    {
      "cell_type": "markdown",
      "metadata": {
        "id": "lSmqRg1eo8cT"
      },
      "source": [
        "## Training (Detailed)\n",
        "\n",
        "Besides the approach mentioned before, you can also use this detailed approach."
      ]
    },
    {
      "cell_type": "markdown",
      "metadata": {
        "id": "TZWNPZTPOJSb"
      },
      "source": [
        "### Prepare environment"
      ]
    },
    {
      "cell_type": "code",
      "metadata": {
        "colab": {
          "base_uri": "https://localhost:8080/"
        },
        "id": "E6TREv-bfXKZ",
        "outputId": "586cc686-9f9c-4a2c-f22c-25b2b4a95699"
      },
      "source": [
        "import os\n",
        "import sys\n",
        "import glob\n",
        "\n",
        "os.environ['DGLBACKEND'] = 'pytorch'\n",
        "\n",
        "import torch as th\n",
        "import dgl\n",
        "import numpy as np\n",
        "\n",
        "from gnn.estimator_fns import *\n",
        "from gnn.graph_utils import *\n",
        "from gnn.data import *\n",
        "from gnn.utils import *\n",
        "from gnn.pytorch_model import *\n",
        "from train import *"
      ],
      "execution_count": 6,
      "outputs": [
        {
          "output_type": "stream",
          "name": "stdout",
          "text": [
            "DLG version: 1.1.2\n"
          ]
        }
      ]
    },
    {
      "cell_type": "code",
      "metadata": {
        "id": "_9CmUjgaHXdj"
      },
      "source": [],
      "execution_count": null,
      "outputs": []
    },
    {
      "cell_type": "markdown",
      "metadata": {
        "id": "E881gvwobfSz"
      },
      "source": [
        "### Load data\n",
        "\n",
        "Recall the edges we defined before and the csv files we used to save them."
      ]
    },
    {
      "cell_type": "code",
      "metadata": {
        "id": "BmqGrWm-HXdk"
      },
      "source": [
        "file_list = glob.glob('./data/*edgelist.csv')\n",
        "\n",
        "edges = \",\".join(map(lambda x: x.split(\"/\")[-1], [file for file in file_list if \"relation\" in file]))"
      ],
      "execution_count": 7,
      "outputs": []
    },
    {
      "cell_type": "markdown",
      "metadata": {
        "id": "cE2--V7AbfS0"
      },
      "source": [
        "To train the graph neural network, we need to define a few hyperparameters that determine properties such as the class of graph neural network models we will be using, the network architecture and the optimizer and optimization parameters.\n",
        "\n",
        "Here we're setting only a few of the hyperparameters, to see all the hyperparameters and their default values, see `gnn/estimator_fns.py`. The parameters set below are:\n",
        "\n",
        "- **nodes** is the name of the file that contains the node_ids of the target nodes and the node features.\n",
        "- **edges** is a regular expression that when expanded lists all the filenames for the edgelists\n",
        "- **labels** is the name of the file tha contains the target node_ids and their labels\n",
        "- **model** specify which graph neural network to use, this should be set to r-gcn\n",
        "\n",
        "The following hyperparameters can be tuned and adjusted to improve model performance\n",
        "\n",
        "- **batch-size** is the number nodes that are used to compute a single forward pass of the GNN\n",
        "- **embedding-size** is the size of the embedding dimension for non target nodes\n",
        "- **n-neighbors** is the number of neighbours to sample for each target node during graph sampling for mini-batch training\n",
        "- **n-layers** is the number of GNN layers in the model\n",
        "- **n-epochs** is the number of training epochs for the model training job\n",
        "- **optimizer** is the optimization algorithm used for gradient based parameter updates\n",
        "- **lr** is the learning rate for parameter updates"
      ]
    },
    {
      "cell_type": "markdown",
      "metadata": {
        "id": "BDQKAwpYo8cW"
      },
      "source": [
        "### Generate graph"
      ]
    },
    {
      "cell_type": "code",
      "metadata": {
        "id": "23aFsML_bfS1",
        "outputId": "97bd44f1-b5e5-49f8-bdf7-acc95da56614",
        "colab": {
          "base_uri": "https://localhost:8080/"
        }
      },
      "source": [
        "print('numpy version:{} PyTorch version:{} DGL version:{}'.format(np.__version__,\n",
        "                                                                    th.__version__,\n",
        "                                                                    dgl.__version__))\n",
        "\n",
        "args = parse_args()\n",
        "print(args)"
      ],
      "execution_count": 8,
      "outputs": [
        {
          "output_type": "stream",
          "name": "stdout",
          "text": [
            "numpy version:2.0.2 PyTorch version:2.6.0+cu124 DGL version:1.1.2\n",
            "Namespace(training_dir='./data', model_dir='./model/2025_07_19_13_15_06', output_dir='./output', nodes='features.csv', target_ntype='TransactionID', edges='relation*', labels='tags.csv', new_accounts='test.csv', compute_metrics=True, threshold=0, num_gpus=1, optimizer='adam', lr=0.01, n_epochs=700, n_hidden=16, n_layers=3, weight_decay=0.0005, dropout=0.2, embedding_size=360)\n"
          ]
        }
      ]
    },
    {
      "cell_type": "code",
      "metadata": {
        "id": "C4PfzLQKbfS1"
      },
      "source": [
        "args.edges = edges\n",
        "\n",
        "args.edges = get_edgelists('relation*', args.training_dir)\n",
        "\n",
        "g, features, target_id_to_node, id_to_node = construct_graph(args.training_dir,\n",
        "                                                                args.edges,\n",
        "                                                                args.nodes,\n",
        "                                                                args.target_ntype)\n",
        "\n",
        "mean, stdev, features = normalize(th.from_numpy(features))\n",
        "\n",
        "print('feature mean shape:{}, std shape:{}'.format(mean.shape, stdev.shape))"
      ],
      "execution_count": null,
      "outputs": []
    },
    {
      "cell_type": "code",
      "metadata": {
        "id": "8Bw1ceNebfS2"
      },
      "source": [
        "g.nodes['target'].data['features'] = features\n",
        "\n",
        "print(\"Getting labels\")\n",
        "n_nodes = g.number_of_nodes('target')\n",
        "\n",
        "labels, _, test_mask = get_labels(target_id_to_node,\n",
        "                                            n_nodes,\n",
        "                                            args.target_ntype,\n",
        "                                            os.path.join(args.training_dir, args.labels),\n",
        "                                            os.path.join(args.training_dir, args.new_accounts))\n",
        "print(\"Got labels\")\n",
        "\n",
        "labels = th.from_numpy(labels).float()\n",
        "test_mask = th.from_numpy(test_mask).float()\n",
        "\n",
        "n_nodes = th.sum(th.tensor([g.number_of_nodes(n_type) for n_type in g.ntypes]))\n",
        "n_edges = th.sum(th.tensor([g.number_of_edges(e_type) for e_type in g.etypes]))\n",
        "\n",
        "print(\"\"\"----Data statistics------'\n",
        "            #Nodes: {}\n",
        "            #Edges: {}\n",
        "            #Features Shape: {}\n",
        "            #Labeled Test samples: {}\"\"\".format(n_nodes,\n",
        "                                                    n_edges,\n",
        "                                                    features.shape,\n",
        "                                                    test_mask.sum()))"
      ],
      "execution_count": null,
      "outputs": []
    },
    {
      "cell_type": "markdown",
      "metadata": {
        "id": "FjhjypJEo8cX"
      },
      "source": [
        "### Start training\n",
        "\n",
        "The training process and result will be saved in the same folder."
      ]
    },
    {
      "cell_type": "code",
      "metadata": {
        "id": "UETWzSN6bfS3"
      },
      "source": [
        "if args.num_gpus:\n",
        "    cuda = True\n",
        "    device = th.device('cuda:0')\n",
        "else:\n",
        "    cuda = False\n",
        "    device = th.device('cpu')"
      ],
      "execution_count": null,
      "outputs": []
    },
    {
      "cell_type": "code",
      "metadata": {
        "id": "AWQp2MxLHXdo"
      },
      "source": [
        "print(\"Initializing Model\")\n",
        "in_feats = features.shape[1]\n",
        "n_classes = 2\n",
        "\n",
        "ntype_dict = {n_type: g.number_of_nodes(n_type) for n_type in g.ntypes}\n",
        "\n",
        "model = get_model(ntype_dict, g.etypes, vars(args), in_feats, n_classes, device)\n",
        "print(\"Initialized Model\")\n",
        "\n",
        "features = features.to(device)\n",
        "\n",
        "labels = labels.long().to(device)\n",
        "test_mask = test_mask.to(device)\n",
        "# g = g.to(device)\n",
        "\n",
        "loss = th.nn.CrossEntropyLoss()\n",
        "\n",
        "# print(model)\n",
        "optim = th.optim.Adam(model.parameters(), lr=args.lr, weight_decay=args.weight_decay)\n",
        "\n",
        "print(\"Starting Model training\")\n",
        "\n",
        "initial_record()\n",
        "\n",
        "model, class_preds, pred_proba = train_fg(model, optim, loss, features, labels, g, g,\n",
        "                                            test_mask, device, args.n_epochs,\n",
        "                                            args.threshold,  args.compute_metrics)\n",
        "print(\"Finished Model training\")\n",
        "\n",
        "print(\"Saving model\")\n",
        "\n",
        "if not os.path.exists(args.model_dir):\n",
        "    os.makedirs(args.model_dir)\n",
        "\n",
        "save_model(g, model, args.model_dir, id_to_node, mean, stdev)\n",
        "print(\"Model and metadata saved\")"
      ],
      "execution_count": null,
      "outputs": []
    },
    {
      "cell_type": "code",
      "metadata": {
        "id": "-u3-n_xdoZLc"
      },
      "source": [
        "%tb"
      ],
      "execution_count": null,
      "outputs": []
    },
    {
      "cell_type": "code",
      "metadata": {
        "id": "2be32852"
      },
      "source": [
        "!pip install torchdata"
      ],
      "execution_count": null,
      "outputs": []
    }
  ]
}