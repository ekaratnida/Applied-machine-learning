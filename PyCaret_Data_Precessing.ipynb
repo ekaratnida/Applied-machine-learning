{
  "cells": [
    {
      "cell_type": "markdown",
      "metadata": {
        "id": "view-in-github",
        "colab_type": "text"
      },
      "source": [
        "<a href=\"https://colab.research.google.com/github/ekaratnida/Applied-machine-learning/blob/master/PyCaret_Data_Precessing.ipynb\" target=\"_parent\"><img src=\"https://colab.research.google.com/assets/colab-badge.svg\" alt=\"Open In Colab\"/></a>"
      ]
    },
    {
      "cell_type": "code",
      "execution_count": null,
      "metadata": {
        "collapsed": true,
        "id": "WpDCQ4PKFDc2"
      },
      "outputs": [],
      "source": [
        "!pip install pycaret --upgrade\n",
        "#!pip install git+https://github.com/pycaret/pycaret.git@master --upgrade"
      ]
    },
    {
      "cell_type": "code",
      "execution_count": null,
      "metadata": {
        "id": "GSYLZ9GiE4_9"
      },
      "outputs": [],
      "source": [
        "# load dataset\n",
        "from pycaret.datasets import get_data\n",
        "hepatitis = get_data('hepatitis') #ตับอักเสบ"
      ]
    },
    {
      "cell_type": "code",
      "source": [
        "import sys, os\n",
        "import importlib, pkgutil\n",
        "\n",
        "import pycaret, sklearn\n",
        "print(\"python:\", sys.version.splitlines()[0])\n",
        "print(\"pycaret.__file__:\", getattr(pycaret, '__file__', None))\n",
        "print(\"pycaret.__version__:\", getattr(pycaret, '__version__', None))\n",
        "print(\"sklearn.__version__:\", sklearn.__version__)\n",
        "print(\"pycaret submodules:\", [m.name for m in pkgutil.iter_modules(pycaret.__path__)] if getattr(pycaret, '__path__', None) else \"no __path__\")\n"
      ],
      "metadata": {
        "id": "fMDojZqOfv2d"
      },
      "execution_count": null,
      "outputs": []
    },
    {
      "cell_type": "code",
      "source": [
        "# in Colab cell\n",
        "#!ls -1\n",
        "# if you see pycaret.py or utils.py -> remove/rename\n",
        "#!rm -f pycaret.py utils.py\n"
      ],
      "metadata": {
        "id": "x8Q30S40gIuf"
      },
      "execution_count": null,
      "outputs": []
    },
    {
      "cell_type": "code",
      "execution_count": null,
      "metadata": {
        "id": "lWlZ3__rpJq8"
      },
      "outputs": [],
      "source": [
        "# load dataset\n",
        "from pycaret.datasets import get_data\n",
        "hepatitis = get_data('hepatitis')\n",
        "\n",
        "# init setup\n",
        "from pycaret.classification import *\n",
        "clf1 = setup(data = hepatitis, target = 'Class')"
      ]
    },
    {
      "cell_type": "code",
      "execution_count": null,
      "metadata": {
        "id": "GxxpDjXr3tu_"
      },
      "outputs": [],
      "source": [
        "from google.colab import drive\n",
        "drive.mount('/content/drive')"
      ]
    },
    {
      "cell_type": "code",
      "execution_count": null,
      "metadata": {
        "id": "-uAhV34pFdJZ"
      },
      "outputs": [],
      "source": [
        "# init setup\n",
        "from pycaret.classification import *\n",
        "clf1 = setup(data = hepatitis, target = 'Class',imputation_type=\"simple\",numeric_imputation='mode') #เรียกซ่อมแบบ simple เก็บตัวแปรใน clf1"
      ]
    },
    {
      "cell_type": "code",
      "execution_count": null,
      "metadata": {
        "id": "4ENZm0PSM95Z"
      },
      "outputs": [],
      "source": [
        "clf1.dataset_transformed.loc[3] #dataset ที่ transform แล้ว [] เอา row ที่ 3 .loc[]"
      ]
    },
    {
      "cell_type": "code",
      "execution_count": null,
      "metadata": {
        "id": "auvIXKAVp33A"
      },
      "outputs": [],
      "source": [
        "# load dataset\n",
        "from pycaret.datasets import get_data\n",
        "pokemon = get_data('pokemon')\n"
      ]
    },
    {
      "cell_type": "code",
      "execution_count": null,
      "metadata": {
        "id": "jwrogWzTp5uv"
      },
      "outputs": [],
      "source": [
        "# init setup\n",
        "from pycaret.classification import *\n",
        "clf1 = setup(data = pokemon, target = 'Legendary', ignore_features = ['#', 'Name'])\n"
      ]
    },
    {
      "cell_type": "code",
      "execution_count": null,
      "metadata": {
        "id": "7nt7U6vvqY6T"
      },
      "outputs": [],
      "source": [
        "clf1.dataset_transformed.head()"
      ]
    },
    {
      "cell_type": "code",
      "execution_count": null,
      "metadata": {
        "id": "RBdxofpoq02T"
      },
      "outputs": [],
      "source": [
        "clf1.dataset_transformed.loc[0]"
      ]
    },
    {
      "cell_type": "code",
      "execution_count": null,
      "metadata": {
        "id": "c_VgNKL7NG2P"
      },
      "outputs": [],
      "source": [
        "\n",
        "# init setup\n",
        "from pycaret.classification import *\n",
        "clf1 = setup(data = pokemon, target = 'Legendary', categorical_imputation= \"knn\")"
      ]
    },
    {
      "cell_type": "code",
      "execution_count": null,
      "metadata": {
        "id": "j7LZz6YaTZk3"
      },
      "outputs": [],
      "source": [
        "clf1.dataset_transformed.loc[[4]]"
      ]
    },
    {
      "cell_type": "code",
      "execution_count": null,
      "metadata": {
        "id": "QKQGforh2ufC"
      },
      "outputs": [],
      "source": [
        "# load dataset\n",
        "from pycaret.datasets import get_data\n",
        "employee = get_data('employee')\n",
        "\n",
        "# init setup\n",
        "from pycaret.classification import *\n",
        "clf1 = setup(data = employee, target = 'left', ordinal_features = {'salary' :\n",
        " ['low', 'medium', 'high']})"
      ]
    },
    {
      "cell_type": "code",
      "execution_count": null,
      "metadata": {
        "id": "QUqcPq-Y4jMi"
      },
      "outputs": [],
      "source": [
        "clf1.dataset_transformed"
      ]
    },
    {
      "cell_type": "code",
      "execution_count": null,
      "metadata": {
        "id": "7YY8zL-ZUrsC"
      },
      "outputs": [],
      "source": [
        "# load dataset\n",
        "from pycaret.datasets import get_data\n",
        "insurance = get_data('insurance')\n",
        "\n",
        "# init setup\n",
        "from pycaret.regression import *\n",
        "reg1 = setup(data = insurance, target = 'charges', remove_outliers = True)"
      ]
    },
    {
      "cell_type": "code",
      "execution_count": null,
      "metadata": {
        "id": "W04SbagtWkUd"
      },
      "outputs": [],
      "source": [
        "reg1.dataset_transformed.head()"
      ]
    },
    {
      "cell_type": "code",
      "execution_count": null,
      "metadata": {
        "id": "pLtAvLTHblIA"
      },
      "outputs": [],
      "source": [
        "# load dataset\n",
        "from pycaret.datasets import get_data\n",
        "credit = get_data('credit')\n",
        "\n",
        "# init setup\n",
        "from pycaret.classification import *\n",
        "clf1 = setup(data = credit, target = 'default', fix_imbalance = True)"
      ]
    },
    {
      "cell_type": "code",
      "execution_count": 20,
      "metadata": {
        "id": "suwLqPc4dFG8",
        "colab": {
          "base_uri": "https://localhost:8080/",
          "height": 356
        },
        "outputId": "5d0fbf3c-f4a1-4b6d-df19-4d92d0c927f6"
      },
      "outputs": [
        {
          "output_type": "error",
          "ename": "TypeError",
          "evalue": "'NoneType' object is not subscriptable",
          "traceback": [
            "\u001b[0;31m---------------------------------------------------------------------------\u001b[0m",
            "\u001b[0;31mTypeError\u001b[0m                                 Traceback (most recent call last)",
            "\u001b[0;32m/tmp/ipython-input-655699839.py\u001b[0m in \u001b[0;36m<cell line: 0>\u001b[0;34m()\u001b[0m\n\u001b[1;32m      5\u001b[0m \u001b[0;31m# Upload the CSV file\u001b[0m\u001b[0;34m\u001b[0m\u001b[0;34m\u001b[0m\u001b[0m\n\u001b[1;32m      6\u001b[0m \u001b[0;32mfrom\u001b[0m \u001b[0mgoogle\u001b[0m\u001b[0;34m.\u001b[0m\u001b[0mcolab\u001b[0m \u001b[0;32mimport\u001b[0m \u001b[0mfiles\u001b[0m\u001b[0;34m\u001b[0m\u001b[0;34m\u001b[0m\u001b[0m\n\u001b[0;32m----> 7\u001b[0;31m \u001b[0muploaded\u001b[0m \u001b[0;34m=\u001b[0m \u001b[0mfiles\u001b[0m\u001b[0;34m.\u001b[0m\u001b[0mupload\u001b[0m\u001b[0;34m(\u001b[0m\u001b[0;34m)\u001b[0m\u001b[0;34m\u001b[0m\u001b[0;34m\u001b[0m\u001b[0m\n\u001b[0m\u001b[1;32m      8\u001b[0m \u001b[0;34m\u001b[0m\u001b[0m\n\u001b[1;32m      9\u001b[0m \u001b[0;31m# Read the CSV file into a pandas DataFrame\u001b[0m\u001b[0;34m\u001b[0m\u001b[0;34m\u001b[0m\u001b[0m\n",
            "\u001b[0;32m/usr/local/lib/python3.12/dist-packages/google/colab/files.py\u001b[0m in \u001b[0;36mupload\u001b[0;34m(target_dir)\u001b[0m\n\u001b[1;32m     70\u001b[0m   \"\"\"\n\u001b[1;32m     71\u001b[0m \u001b[0;34m\u001b[0m\u001b[0m\n\u001b[0;32m---> 72\u001b[0;31m   \u001b[0muploaded_files\u001b[0m \u001b[0;34m=\u001b[0m \u001b[0m_upload_files\u001b[0m\u001b[0;34m(\u001b[0m\u001b[0mmultiple\u001b[0m\u001b[0;34m=\u001b[0m\u001b[0;32mTrue\u001b[0m\u001b[0;34m)\u001b[0m\u001b[0;34m\u001b[0m\u001b[0;34m\u001b[0m\u001b[0m\n\u001b[0m\u001b[1;32m     73\u001b[0m   \u001b[0;31m# Mapping from original filename to filename as saved locally.\u001b[0m\u001b[0;34m\u001b[0m\u001b[0;34m\u001b[0m\u001b[0m\n\u001b[1;32m     74\u001b[0m   \u001b[0mlocal_filenames\u001b[0m \u001b[0;34m=\u001b[0m \u001b[0mdict\u001b[0m\u001b[0;34m(\u001b[0m\u001b[0;34m)\u001b[0m\u001b[0;34m\u001b[0m\u001b[0;34m\u001b[0m\u001b[0m\n",
            "\u001b[0;32m/usr/local/lib/python3.12/dist-packages/google/colab/files.py\u001b[0m in \u001b[0;36m_upload_files\u001b[0;34m(multiple)\u001b[0m\n\u001b[1;32m    169\u001b[0m   \u001b[0mfiles\u001b[0m \u001b[0;34m=\u001b[0m \u001b[0m_collections\u001b[0m\u001b[0;34m.\u001b[0m\u001b[0mdefaultdict\u001b[0m\u001b[0;34m(\u001b[0m\u001b[0mbytes\u001b[0m\u001b[0;34m)\u001b[0m\u001b[0;34m\u001b[0m\u001b[0;34m\u001b[0m\u001b[0m\n\u001b[1;32m    170\u001b[0m \u001b[0;34m\u001b[0m\u001b[0m\n\u001b[0;32m--> 171\u001b[0;31m   \u001b[0;32mwhile\u001b[0m \u001b[0mresult\u001b[0m\u001b[0;34m[\u001b[0m\u001b[0;34m'action'\u001b[0m\u001b[0;34m]\u001b[0m \u001b[0;34m!=\u001b[0m \u001b[0;34m'complete'\u001b[0m\u001b[0;34m:\u001b[0m\u001b[0;34m\u001b[0m\u001b[0;34m\u001b[0m\u001b[0m\n\u001b[0m\u001b[1;32m    172\u001b[0m     result = _output.eval_js(\n\u001b[1;32m    173\u001b[0m         'google.colab._files._uploadFilesContinue(\"{output_id}\")'.format(\n",
            "\u001b[0;31mTypeError\u001b[0m: 'NoneType' object is not subscriptable"
          ]
        }
      ],
      "source": [
        "# prompt: create code python to read csv from google colab\n",
        "\n",
        "import pandas as pd\n",
        "\n",
        "# Upload the CSV file\n",
        "from google.colab import files\n",
        "uploaded = files.upload()\n",
        "\n",
        "# Read the CSV file into a pandas DataFrame\n",
        "for fn in uploaded.keys():\n",
        "  print('User uploaded file \"{name}\" with length {length} bytes'.format(\n",
        "      name=fn, length=len(uploaded[fn])))\n",
        "  df = pd.read_excel(fn)\n",
        "\n",
        "# Now you can work with the DataFrame 'df'\n",
        "print(df.head())"
      ]
    },
    {
      "cell_type": "code",
      "execution_count": null,
      "metadata": {
        "id": "FaSjPYeEeU0y"
      },
      "outputs": [],
      "source": [
        "from pycaret.classification import* #ใช้เป็น classification เพราะ target เป็น...\n",
        "reg1 = setup(data = df, target ='ปัจจุบันท่านใช้สมาร์ทโฟนระบบปฎิบัติการใด')\n",
        "reg1.dataset_transformed.to_xls('newdata.xls')"
      ]
    },
    {
      "cell_type": "code",
      "execution_count": null,
      "metadata": {
        "id": "_kcL0coVgImD"
      },
      "outputs": [],
      "source": [
        "reg1.dataset_transformed.head()"
      ]
    },
    {
      "cell_type": "code",
      "execution_count": null,
      "metadata": {
        "id": "4jMEEgYIhspe"
      },
      "outputs": [],
      "source": []
    }
  ],
  "metadata": {
    "colab": {
      "provenance": [],
      "include_colab_link": true
    },
    "kernelspec": {
      "display_name": "Python 3",
      "name": "python3"
    },
    "language_info": {
      "name": "python"
    }
  },
  "nbformat": 4,
  "nbformat_minor": 0
}