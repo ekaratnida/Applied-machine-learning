{
  "cells": [
    {
      "cell_type": "markdown",
      "metadata": {
        "id": "view-in-github",
        "colab_type": "text"
      },
      "source": [
        "<a href=\"https://colab.research.google.com/github/ekaratnida/Applied-machine-learning/blob/master/Week02-LR/Lab2.ipynb\" target=\"_parent\"><img src=\"https://colab.research.google.com/assets/colab-badge.svg\" alt=\"Open In Colab\"/></a>"
      ]
    },
    {
      "metadata": {
        "id": "kDRb_r-c9zVR"
      },
      "cell_type": "markdown",
      "source": [
        "## 1.1 Normal equation (Numpy version)"
      ]
    },
    {
      "cell_type": "code",
      "source": [
        "import numpy as np\n",
        "np.set_printoptions(precision=2)\n",
        "\n",
        "x = np.array([0,0,0])\n",
        "y = np.array([12,9,6])\n",
        "x_b = np.c_[np.ones((len(x),1)),x]\n",
        "print(\"x_b = \",x_b)\n",
        "\n",
        "#call inverse function from linear algebra module\n",
        "theta = np.linalg.pinv(x_b.T.dot(x_b)).dot(x_b.T).dot(y)\n",
        "print(type(theta))\n",
        "print(\"theta = \", theta)"
      ],
      "metadata": {
        "id": "6FlAtRL_jqmW",
        "outputId": "2f113973-29b4-42ec-d5f7-5e871b21ec40",
        "colab": {
          "base_uri": "https://localhost:8080/"
        }
      },
      "execution_count": 22,
      "outputs": [
        {
          "output_type": "stream",
          "name": "stdout",
          "text": [
            "x_b =  [[1. 0.]\n",
            " [1. 0.]\n",
            " [1. 0.]]\n",
            "<class 'numpy.ndarray'>\n",
            "theta =  [9. 0.]\n"
          ]
        }
      ]
    },
    {
      "metadata": {
        "_uuid": "8f2839f25d086af736a60e9eeb907d3b93b6e0e5",
        "_cell_guid": "b1076dfc-b9ad-4769-8c92-a6c4dae69d19",
        "trusted": true,
        "id": "6_YVjzeQ9zVT",
        "outputId": "d4c5a651-0ac1-42ea-9b40-1a3c0b9c0410",
        "colab": {
          "base_uri": "https://localhost:8080/",
          "height": 509
        }
      },
      "cell_type": "code",
      "source": [
        "#prediction\n",
        "x_t = range(0,11)\n",
        "x_t_b = np.c_[np.ones((len(x_t),1)), x_t]\n",
        "y_p = x_t_b.dot(theta)\n",
        "print(\"x_test = \",x_t)\n",
        "print(\"y predict = \",y_p)\n",
        "\n",
        "import matplotlib.pyplot as plt\n",
        "plt.title(\"y = \"+str(np.round(theta[0],2))+\"+\"+str(np.round(theta[1],2))+r\"$x_1$\")\n",
        "plt.plot(x_t, y_p,\"r.-\")\n",
        "plt.plot(x, y, \"b+\")\n",
        "for x,y in zip(x_t, y_p):\n",
        "  plt.text( x ,y, f\"({np.round(x,2)} , {np.round(y,2)})\")\n",
        "plt.axis([0,20,0,20])\n",
        "plt.xlabel(r'$x$')\n",
        "plt.ylabel(r'$y$')\n",
        "plt.show()\n"
      ],
      "execution_count": 23,
      "outputs": [
        {
          "output_type": "stream",
          "name": "stdout",
          "text": [
            "x_test =  range(0, 11)\n",
            "y predict =  [9. 9. 9. 9. 9. 9. 9. 9. 9. 9. 9.]\n"
          ]
        },
        {
          "output_type": "display_data",
          "data": {
            "text/plain": [
              "<Figure size 640x480 with 1 Axes>"
            ],
            "image/png": "[encoded data removed]"
          },
          "metadata": {}
        }
      ]
    },
    {
      "metadata": {
        "id": "OK0G0dYD9zVV"
      },
      "cell_type": "markdown",
      "source": [
        "## 1.2 Normal equation (Sklearn version)"
      ]
    },
    {
      "metadata": {
        "_uuid": "d629ff2d2480ee46fbb7e2d37f6b5fab8052498a",
        "_cell_guid": "79c7e3d0-c299-4dcb-8224-4455121ee9b0",
        "trusted": true,
        "id": "c8kTg8vl9zVV",
        "outputId": "ba1386e6-4633-4350-fbd3-3fd45a2b759c",
        "colab": {
          "base_uri": "https://localhost:8080/",
          "height": 74
        }
      },
      "cell_type": "code",
      "source": [
        "from IPython.display import display, Latex\n",
        "from sklearn.linear_model import LinearRegression\n",
        "x = np.array([[0,0,0]]).T\n",
        "y = np.array([12,9,6])\n",
        "\n",
        "lin_reg = LinearRegression()\n",
        "lin_reg.fit(x, y)\n",
        "display(Latex(f'$y = {np.round(lin_reg.intercept_,2)}+{np.round(lin_reg.coef_[0],2)}x_{1}$'))\n",
        "x_n = np.array([[1,5]]).T\n",
        "ans = lin_reg.predict(x_n)\n",
        "print(\"Predicted results = \")\n",
        "print(ans)"
      ],
      "execution_count": 24,
      "outputs": [
        {
          "output_type": "display_data",
          "data": {
            "text/plain": [
              "<IPython.core.display.Latex object>"
            ],
            "text/latex": "$y = 9.0+0.0x_1$"
          },
          "metadata": {}
        },
        {
          "output_type": "stream",
          "name": "stdout",
          "text": [
            "Predicted results = \n",
            "[9. 9.]\n"
          ]
        }
      ]
    },
    {
      "metadata": {
        "id": "9U0RQy8g9zVW"
      },
      "cell_type": "markdown",
      "source": [
        "#2. Gradient descent\n"
      ]
    },
    {
      "cell_type": "code",
      "source": [
        "import random"
      ],
      "metadata": {
        "id": "T7PlibqlYnQP"
      },
      "execution_count": 25,
      "outputs": []
    },
    {
      "cell_type": "code",
      "source": [
        "#Relation between key=theta, value=J\n",
        "lossTheta0 = {}\n",
        "lossTheta1 = {}"
      ],
      "metadata": {
        "id": "_3Gpd7JTZJ9Q"
      },
      "execution_count": 26,
      "outputs": []
    },
    {
      "cell_type": "code",
      "source": [
        "def cost_function(theta0, theta1, x, y, N):\n",
        "    c = 1/(N) * sum([(theta0 + theta1*x[i] - y[i])**2 for i in range(N)])\n",
        "    return c"
      ],
      "metadata": {
        "id": "sjXaZJfvYpEV"
      },
      "execution_count": 32,
      "outputs": []
    },
    {
      "metadata": {
        "trusted": true,
        "id": "8vqoKCdK9zVW"
      },
      "cell_type": "code",
      "source": [
        "def gradient_descent(eta, x, y, ep=0.001, max_iter=10000):\n",
        "  converged = False\n",
        "  t = 0\n",
        "  N = x.shape[0] # number of samples\n",
        "\n",
        "  # initial theta\n",
        "  theta0 = 0.1 #np.random.random(x.shape[1])\n",
        "  print(\"Initial theta0 \",theta0)\n",
        "\n",
        "  theta1 = 0.1 #np.random.random(x.shape[1])\n",
        "  print(\"Initial theta1\",theta1)\n",
        "\n",
        "  # total error, J(theta)\n",
        "  J = cost_function(theta0,theta1,x,y,N)\n",
        "  print(\"First J = \",J)\n",
        "\n",
        "  #lossTheta0[t0[0]] = J[0]\n",
        "  #lossTheta1[t1[0]] = J[0]\n",
        "\n",
        "  # Iterate Loop\n",
        "  while not converged:\n",
        "\n",
        "    grad0 = sum([(theta0 + theta1*x[i] - y[i])*1 for i in range(N)])\n",
        "    grad1 = sum([(theta0 + theta1*x[i] - y[i])*x[i] for i in range(N)])\n",
        "\n",
        "    # update the theta_temp\n",
        "    theta0 = theta0 - eta * (1/N) * grad0\n",
        "    theta1 = theta1 - eta * (1/N) * grad1\n",
        "\n",
        "    # error\n",
        "    e = cost_function(theta0,theta1,x,y,N)\n",
        "    print(\"error = \",e)\n",
        "\n",
        "    #Terminate 1\n",
        "    if abs(J-e) <= ep:\n",
        "        print(\"Case eps: Converged at \", t, \"/\", max_iter)\n",
        "        converged = True\n",
        "\n",
        "    J = e   # update error s\n",
        "    t += 1  # update iter\n",
        "\n",
        "    print(\"\\niter = \",t)\n",
        "    print(\"t0 = \",theta0)\n",
        "    print(\"t1 = \",theta1)\n",
        "\n",
        "    #if iter % 100 == 0:\n",
        "    #  lossTheta0[theta0[0]] = J[0]\n",
        "    #  lossTheta1[theta1[0]] = J[0]\n",
        "    #  print(\"iter = \",iter, \", error = \", J)\n",
        "\n",
        "\n",
        "    #Termiate 2\n",
        "    if t == max_iter:\n",
        "        print('Case iter> Max interation exceeded!')\n",
        "        converged = True\n",
        "\n",
        "  return np.array([theta0,theta1]).reshape(-1)\n"
      ],
      "execution_count": 48,
      "outputs": []
    },
    {
      "cell_type": "code",
      "source": [
        "if __name__ == '__main__':\n",
        "\n",
        "  x = np.array([[2,5,1]]).T # or x = np.array([[0],[2],[3]])\n",
        "  y = np.array([12,9,6])\n",
        "  print(\"x.shape = %s y.shape = %s\" %(x.shape, y.shape))\n",
        "  eta = 0.01 # learning rate\n",
        "\n",
        "  theta = gradient_descent(eta, x, y,ep=0.00000000001, max_iter=3)\n",
        "  print(type(theta))\n",
        "  print (theta)\n",
        "\n",
        "\n",
        "  #prediction\n",
        "  x_t = range(0,11)\n",
        "  x_t_b = np.c_[np.ones((len(x_t),1)), x_t]\n",
        "  y_p = x_t_b.dot(theta)\n",
        "  #print(\"x_test = \",x_t)\n",
        "  #print(\"y predict = \",y_p)\n",
        "\n",
        "  # plot\n",
        "  plt.title(\"y = \"+str(np.round(theta[0],2))+\"+\"+str(np.round(theta[1],2))+r\"$x_1$\")\n",
        "  plt.plot(x_t, y_p,\"r.-\")\n",
        "  plt.plot(x, y, \"b.\",marker=\"+\")\n",
        "  for x,y in zip(x_t, y_p):\n",
        "    plt.text( x ,y, f\"({np.round(x,2)} , {np.round(y,2)})\")\n",
        "  plt.axis([0,10,0,10])\n",
        "  plt.xlabel(r'$x$')\n",
        "  plt.ylabel(r'$y$')\n",
        "  plt.show()"
      ],
      "metadata": {
        "id": "hSx-Ati3Ug8x",
        "colab": {
          "base_uri": "https://localhost:8080/",
          "height": 958
        },
        "outputId": "d7c6e1f5-48f7-4e5b-e505-5b41ddbce2e8"
      },
      "execution_count": 49,
      "outputs": [
        {
          "output_type": "stream",
          "name": "stdout",
          "text": [
            "x.shape = (3, 1) y.shape = (3,)\n",
            "Initial theta0  0.1\n",
            "Initial theta1 0.1\n",
            "First J =  [80.36]\n",
            "error =  [68.29]\n",
            "\n",
            "iter =  1\n",
            "t0 =  [0.19]\n",
            "t1 =  [0.34]\n",
            "error =  [58.65]\n",
            "\n",
            "iter =  2\n",
            "t0 =  [0.27]\n",
            "t1 =  [0.55]\n",
            "error =  [50.95]\n",
            "\n",
            "iter =  3\n",
            "t0 =  [0.34]\n",
            "t1 =  [0.74]\n",
            "Case iter> Max interation exceeded!\n",
            "<class 'numpy.ndarray'>\n",
            "[0.34 0.74]\n"
          ]
        },
        {
          "output_type": "stream",
          "name": "stderr",
          "text": [
            "/tmp/ipython-input-3192165435.py:23: UserWarning:\n",
            "\n",
            "marker is redundantly defined by the 'marker' keyword argument and the fmt string \"b.\" (-> marker='.'). The keyword argument will take precedence.\n",
            "\n"
          ]
        },
        {
          "output_type": "display_data",
          "data": {
            "text/plain": [
              "<Figure size 640x480 with 1 Axes>"
            ],
            "image/png": "[encoded data removed]"
          },
          "metadata": {}
        }
      ]
    },
    {
      "cell_type": "markdown",
      "source": [
        "#Gradient Descent curve Static VS Dynamic"
      ],
      "metadata": {
        "id": "JcLLXKDareic"
      }
    },
    {
      "cell_type": "code",
      "source": [
        "lists = sorted(lossTheta0.items()) # sorted by key, return a list of tuples\n",
        "numPoints = len(lists)\n",
        "print(numPoints)\n",
        "_x, _y = zip(*lists) # unpack a list of pairs into two tuples\n",
        "plt.scatter(range(numPoints),_y)\n",
        "plt.xticks(range(0,numPoints,10))\n",
        "plt.xlabel(r'$Iteration$')\n",
        "plt.ylabel(r'$Cost value (J)$')"
      ],
      "metadata": {
        "colab": {
          "base_uri": "https://localhost:8080/",
          "height": 486
        },
        "id": "2VA6vYmnbPAk",
        "outputId": "dafeee99-c7bd-4be6-acc6-96474bf101e3"
      },
      "execution_count": 50,
      "outputs": [
        {
          "output_type": "stream",
          "name": "stdout",
          "text": [
            "38\n"
          ]
        },
        {
          "output_type": "execute_result",
          "data": {
            "text/plain": [
              "Text(0, 0.5, '$Cost value (J)$')"
            ]
          },
          "metadata": {},
          "execution_count": 50
        },
        {
          "output_type": "display_data",
          "data": {
            "text/plain": [
              "<Figure size 640x480 with 1 Axes>"
            ],
            "image/png": "[encoded data removed]"
          },
          "metadata": {}
        }
      ]
    },
    {
      "cell_type": "code",
      "source": [
        "import plotly.graph_objects as go\n",
        "import numpy as np\n",
        "\n",
        "_x = list(_x)\n",
        "_y = list(_y)\n",
        "xm = np.min(_x) - 0.2\n",
        "xM = np.max(_x) + 0.2\n",
        "ym = np.min(_y) - 0.2\n",
        "yM = np.max(_y) + 0.2\n",
        "N = len(_x)\n",
        "\n",
        "# Create figure\n",
        "fig = go.Figure(\n",
        "    data=[go.Scatter(x=_x, y=_y,\n",
        "                     mode=\"lines\",\n",
        "                     line=dict(width=2, color=\"blue\")),\n",
        "          go.Scatter(x=_x, y=_y,\n",
        "                     mode=\"lines\",\n",
        "                     line=dict(width=2, color=\"blue\"))],\n",
        "\n",
        "    layout=go.Layout(\n",
        "\n",
        "        xaxis=dict(range=[xm, xM]),\n",
        "        yaxis=dict(range=[ym, yM]),\n",
        "\n",
        "        title_text=\"Gradient Descent\",\n",
        "        hovermode=\"closest\",\n",
        "        xaxis_title=r\"$\\theta_0$\",\n",
        "        yaxis_title=\"Cost function (J)\",\n",
        "\n",
        "        updatemenus=[\n",
        "            dict(type=\"buttons\",\n",
        "                          buttons=[dict(label=\"Click to play\",\n",
        "                                        method=\"animate\",\n",
        "                                        args=[None])]\n",
        "                 )\n",
        "            ]\n",
        "        ),\n",
        "\n",
        "    frames=[go.Frame(\n",
        "        data=[go.Scatter(\n",
        "            x=[_x[k]],\n",
        "            y=[_y[k]],\n",
        "            mode=\"markers\",\n",
        "            marker=dict(color=\"red\", size=10))])\n",
        "        for k in range(0,N,5)],\n",
        ")\n",
        "\n",
        "fig.show()"
      ],
      "metadata": {
        "colab": {
          "base_uri": "https://localhost:8080/",
          "height": 542
        },
        "id": "9dyO-KMLkS35",
        "outputId": "f1d97145-f67d-47ff-ea70-fb97206b4f0e"
      },
      "execution_count": 51,
      "outputs": [
        {
          "output_type": "display_data",
          "data": {
            "text/html": [
              "<html>\n",
              "<head><meta charset=\"utf-8\" /></head>\n",
              "<body>\n",
              "    <div>            <script src=\"https://cdnjs.cloudflare.com/ajax/libs/mathjax/2.7.5/MathJax.js?config=TeX-AMS-MML_SVG\"></script><script type=\"text/javascript\">if (window.MathJax && window.MathJax.Hub && window.MathJax.Hub.Config) {window.MathJax.Hub.Config({SVG: {font: \"STIX-Web\"}});}</script>                <script type=\"text/javascript\">window.PlotlyConfig = {MathJaxConfig: 'local'};</script>\n",
              "        <script charset=\"utf-8\" src=\"https://cdn.plot.ly/plotly-2.35.2.min.js\"></script>                <div id=\"551b713c-2136-4538-9e50-c625ce9a15bb\" class=\"plotly-graph-div\" style=\"height:525px; width:100%;\"></div>            <script type=\"text/javascript\">                                    window.PLOTLYENV=window.PLOTLYENV || {};                                    if (document.getElementById(\"551b713c-2136-4538-9e50-c625ce9a15bb\")) {                    Plotly.newPlot(                        \"551b713c-2136-4538-9e50-c625ce9a15bb\",                        [{\"line\":{\"color\":\"blue\",\"width\":2},\"mode\":\"lines\",\"x\":[2.4583962014990743,3.7860504682875407,4.7999766406668405,5.574313718468711,6.165676212546918,6.617300717465529,6.962207091280989,7.225612653651807,7.426775912887516,7.5804046233145375,7.697731120991801,7.787333559357333,7.855763088236082,7.908022831475041,7.947933682947381,7.978413665559699,8.001691278183186,8.019468429054351,8.033044868279779,8.043413217143872,8.051331542146656,8.057378779915327,8.06199706529993,8.065524057409297,8.06821762705769,8.070274710608135,8.071845708683512,8.073045482485746,8.073961751702806,8.074661508004015,8.075195913036897,8.075604039035454,8.075915725528747,8.076153761013975,8.076335549103753,8.076474380965552,8.076580407085697,8.076661379407247],\"y\":[14.790604372154519,10.982770754660075,8.761889154218892,7.466581746068753,6.711106406331887,6.270482825119136,6.013493443588328,5.863606907697968,5.776187055922806,5.725200284903016,5.6954627508505675,5.678118625819043,5.6680028350282345,5.662102899278389,5.658661819626561,5.656654843674236,5.655484294637086,5.654801583393441,5.654403398757509,5.654171161474514,5.654035711357297,5.653956711405099,5.653910635457914,5.653883762113691,5.653868088499282,5.653858947017428,5.653853615337804,5.653850505687968,5.653848692015201,5.653847634208356,5.653847017252886,5.653846657419658,5.653846447550461,5.653846325146308,5.65384625375529,5.653846212117178,5.653846187832156,5.653846173668157],\"type\":\"scatter\"},{\"line\":{\"color\":\"blue\",\"width\":2},\"mode\":\"lines\",\"x\":[2.4583962014990743,3.7860504682875407,4.7999766406668405,5.574313718468711,6.165676212546918,6.617300717465529,6.962207091280989,7.225612653651807,7.426775912887516,7.5804046233145375,7.697731120991801,7.787333559357333,7.855763088236082,7.908022831475041,7.947933682947381,7.978413665559699,8.001691278183186,8.019468429054351,8.033044868279779,8.043413217143872,8.051331542146656,8.057378779915327,8.06199706529993,8.065524057409297,8.06821762705769,8.070274710608135,8.071845708683512,8.073045482485746,8.073961751702806,8.074661508004015,8.075195913036897,8.075604039035454,8.075915725528747,8.076153761013975,8.076335549103753,8.076474380965552,8.076580407085697,8.076661379407247],\"y\":[14.790604372154519,10.982770754660075,8.761889154218892,7.466581746068753,6.711106406331887,6.270482825119136,6.013493443588328,5.863606907697968,5.776187055922806,5.725200284903016,5.6954627508505675,5.678118625819043,5.6680028350282345,5.662102899278389,5.658661819626561,5.656654843674236,5.655484294637086,5.654801583393441,5.654403398757509,5.654171161474514,5.654035711357297,5.653956711405099,5.653910635457914,5.653883762113691,5.653868088499282,5.653858947017428,5.653853615337804,5.653850505687968,5.653848692015201,5.653847634208356,5.653847017252886,5.653846657419658,5.653846447550461,5.653846325146308,5.65384625375529,5.653846212117178,5.653846187832156,5.653846173668157],\"type\":\"scatter\"}],                        {\"hovermode\":\"closest\",\"title\":{\"text\":\"Gradient Descent\"},\"updatemenus\":[{\"buttons\":[{\"args\":[null],\"label\":\"Click to play\",\"method\":\"animate\"}],\"type\":\"buttons\"}],\"xaxis\":{\"range\":[2.258396201499074,8.276661379407246],\"title\":{\"text\":\"$\\\\theta_0$\"}},\"yaxis\":{\"range\":[5.453846173668157,14.990604372154518],\"title\":{\"text\":\"Cost function (J)\"}},\"template\":{\"data\":{\"histogram2dcontour\":[{\"type\":\"histogram2dcontour\",\"colorbar\":{\"outlinewidth\":0,\"ticks\":\"\"},\"colorscale\":[[0.0,\"#0d0887\"],[0.1111111111111111,\"#46039f\"],[0.2222222222222222,\"#7201a8\"],[0.3333333333333333,\"#9c179e\"],[0.4444444444444444,\"#bd3786\"],[0.5555555555555556,\"#d8576b\"],[0.6666666666666666,\"#ed7953\"],[0.7777777777777778,\"#fb9f3a\"],[0.8888888888888888,\"#fdca26\"],[1.0,\"#f0f921\"]]}],\"choropleth\":[{\"type\":\"choropleth\",\"colorbar\":{\"outlinewidth\":0,\"ticks\":\"\"}}],\"histogram2d\":[{\"type\":\"histogram2d\",\"colorbar\":{\"outlinewidth\":0,\"ticks\":\"\"},\"colorscale\":[[0.0,\"#0d0887\"],[0.1111111111111111,\"#46039f\"],[0.2222222222222222,\"#7201a8\"],[0.3333333333333333,\"#9c179e\"],[0.4444444444444444,\"#bd3786\"],[0.5555555555555556,\"#d8576b\"],[0.6666666666666666,\"#ed7953\"],[0.7777777777777778,\"#fb9f3a\"],[0.8888888888888888,\"#fdca26\"],[1.0,\"#f0f921\"]]}],\"heatmap\":[{\"type\":\"heatmap\",\"colorbar\":{\"outlinewidth\":0,\"ticks\":\"\"},\"colorscale\":[[0.0,\"#0d0887\"],[0.1111111111111111,\"#46039f\"],[0.2222222222222222,\"#7201a8\"],[0.3333333333333333,\"#9c179e\"],[0.4444444444444444,\"#bd3786\"],[0.5555555555555556,\"#d8576b\"],[0.6666666666666666,\"#ed7953\"],[0.7777777777777778,\"#fb9f3a\"],[0.8888888888888888,\"#fdca26\"],[1.0,\"#f0f921\"]]}],\"heatmapgl\":[{\"type\":\"heatmapgl\",\"colorbar\":{\"outlinewidth\":0,\"ticks\":\"\"},\"colorscale\":[[0.0,\"#0d0887\"],[0.1111111111111111,\"#46039f\"],[0.2222222222222222,\"#7201a8\"],[0.3333333333333333,\"#9c179e\"],[0.4444444444444444,\"#bd3786\"],[0.5555555555555556,\"#d8576b\"],[0.6666666666666666,\"#ed7953\"],[0.7777777777777778,\"#fb9f3a\"],[0.8888888888888888,\"#fdca26\"],[1.0,\"#f0f921\"]]}],\"contourcarpet\":[{\"type\":\"contourcarpet\",\"colorbar\":{\"outlinewidth\":0,\"ticks\":\"\"}}],\"contour\":[{\"type\":\"contour\",\"colorbar\":{\"outlinewidth\":0,\"ticks\":\"\"},\"colorscale\":[[0.0,\"#0d0887\"],[0.1111111111111111,\"#46039f\"],[0.2222222222222222,\"#7201a8\"],[0.3333333333333333,\"#9c179e\"],[0.4444444444444444,\"#bd3786\"],[0.5555555555555556,\"#d8576b\"],[0.6666666666666666,\"#ed7953\"],[0.7777777777777778,\"#fb9f3a\"],[0.8888888888888888,\"#fdca26\"],[1.0,\"#f0f921\"]]}],\"surface\":[{\"type\":\"surface\",\"colorbar\":{\"outlinewidth\":0,\"ticks\":\"\"},\"colorscale\":[[0.0,\"#0d0887\"],[0.1111111111111111,\"#46039f\"],[0.2222222222222222,\"#7201a8\"],[0.3333333333333333,\"#9c179e\"],[0.4444444444444444,\"#bd3786\"],[0.5555555555555556,\"#d8576b\"],[0.6666666666666666,\"#ed7953\"],[0.7777777777777778,\"#fb9f3a\"],[0.8888888888888888,\"#fdca26\"],[1.0,\"#f0f921\"]]}],\"mesh3d\":[{\"type\":\"mesh3d\",\"colorbar\":{\"outlinewidth\":0,\"ticks\":\"\"}}],\"scatter\":[{\"fillpattern\":{\"fillmode\":\"overlay\",\"size\":10,\"solidity\":0.2},\"type\":\"scatter\"}],\"parcoords\":[{\"type\":\"parcoords\",\"line\":{\"colorbar\":{\"outlinewidth\":0,\"ticks\":\"\"}}}],\"scatterpolargl\":[{\"type\":\"scatterpolargl\",\"marker\":{\"colorbar\":{\"outlinewidth\":0,\"ticks\":\"\"}}}],\"bar\":[{\"error_x\":{\"color\":\"#2a3f5f\"},\"error_y\":{\"color\":\"#2a3f5f\"},\"marker\":{\"line\":{\"color\":\"#E5ECF6\",\"width\":0.5},\"pattern\":{\"fillmode\":\"overlay\",\"size\":10,\"solidity\":0.2}},\"type\":\"bar\"}],\"scattergeo\":[{\"type\":\"scattergeo\",\"marker\":{\"colorbar\":{\"outlinewidth\":0,\"ticks\":\"\"}}}],\"scatterpolar\":[{\"type\":\"scatterpolar\",\"marker\":{\"colorbar\":{\"outlinewidth\":0,\"ticks\":\"\"}}}],\"histogram\":[{\"marker\":{\"pattern\":{\"fillmode\":\"overlay\",\"size\":10,\"solidity\":0.2}},\"type\":\"histogram\"}],\"scattergl\":[{\"type\":\"scattergl\",\"marker\":{\"colorbar\":{\"outlinewidth\":0,\"ticks\":\"\"}}}],\"scatter3d\":[{\"type\":\"scatter3d\",\"line\":{\"colorbar\":{\"outlinewidth\":0,\"ticks\":\"\"}},\"marker\":{\"colorbar\":{\"outlinewidth\":0,\"ticks\":\"\"}}}],\"scattermapbox\":[{\"type\":\"scattermapbox\",\"marker\":{\"colorbar\":{\"outlinewidth\":0,\"ticks\":\"\"}}}],\"scatterternary\":[{\"type\":\"scatterternary\",\"marker\":{\"colorbar\":{\"outlinewidth\":0,\"ticks\":\"\"}}}],\"scattercarpet\":[{\"type\":\"scattercarpet\",\"marker\":{\"colorbar\":{\"outlinewidth\":0,\"ticks\":\"\"}}}],\"carpet\":[{\"aaxis\":{\"endlinecolor\":\"#2a3f5f\",\"gridcolor\":\"white\",\"linecolor\":\"white\",\"minorgridcolor\":\"white\",\"startlinecolor\":\"#2a3f5f\"},\"baxis\":{\"endlinecolor\":\"#2a3f5f\",\"gridcolor\":\"white\",\"linecolor\":\"white\",\"minorgridcolor\":\"white\",\"startlinecolor\":\"#2a3f5f\"},\"type\":\"carpet\"}],\"table\":[{\"cells\":{\"fill\":{\"color\":\"#EBF0F8\"},\"line\":{\"color\":\"white\"}},\"header\":{\"fill\":{\"color\":\"#C8D4E3\"},\"line\":{\"color\":\"white\"}},\"type\":\"table\"}],\"barpolar\":[{\"marker\":{\"line\":{\"color\":\"#E5ECF6\",\"width\":0.5},\"pattern\":{\"fillmode\":\"overlay\",\"size\":10,\"solidity\":0.2}},\"type\":\"barpolar\"}],\"pie\":[{\"automargin\":true,\"type\":\"pie\"}]},\"layout\":{\"autotypenumbers\":\"strict\",\"colorway\":[\"#636efa\",\"#EF553B\",\"#00cc96\",\"#ab63fa\",\"#FFA15A\",\"#19d3f3\",\"#FF6692\",\"#B6E880\",\"#FF97FF\",\"#FECB52\"],\"font\":{\"color\":\"#2a3f5f\"},\"hovermode\":\"closest\",\"hoverlabel\":{\"align\":\"left\"},\"paper_bgcolor\":\"white\",\"plot_bgcolor\":\"#E5ECF6\",\"polar\":{\"bgcolor\":\"#E5ECF6\",\"angularaxis\":{\"gridcolor\":\"white\",\"linecolor\":\"white\",\"ticks\":\"\"},\"radialaxis\":{\"gridcolor\":\"white\",\"linecolor\":\"white\",\"ticks\":\"\"}},\"ternary\":{\"bgcolor\":\"#E5ECF6\",\"aaxis\":{\"gridcolor\":\"white\",\"linecolor\":\"white\",\"ticks\":\"\"},\"baxis\":{\"gridcolor\":\"white\",\"linecolor\":\"white\",\"ticks\":\"\"},\"caxis\":{\"gridcolor\":\"white\",\"linecolor\":\"white\",\"ticks\":\"\"}},\"coloraxis\":{\"colorbar\":{\"outlinewidth\":0,\"ticks\":\"\"}},\"colorscale\":{\"sequential\":[[0.0,\"#0d0887\"],[0.1111111111111111,\"#46039f\"],[0.2222222222222222,\"#7201a8\"],[0.3333333333333333,\"#9c179e\"],[0.4444444444444444,\"#bd3786\"],[0.5555555555555556,\"#d8576b\"],[0.6666666666666666,\"#ed7953\"],[0.7777777777777778,\"#fb9f3a\"],[0.8888888888888888,\"#fdca26\"],[1.0,\"#f0f921\"]],\"sequentialminus\":[[0.0,\"#0d0887\"],[0.1111111111111111,\"#46039f\"],[0.2222222222222222,\"#7201a8\"],[0.3333333333333333,\"#9c179e\"],[0.4444444444444444,\"#bd3786\"],[0.5555555555555556,\"#d8576b\"],[0.6666666666666666,\"#ed7953\"],[0.7777777777777778,\"#fb9f3a\"],[0.8888888888888888,\"#fdca26\"],[1.0,\"#f0f921\"]],\"diverging\":[[0,\"#8e0152\"],[0.1,\"#c51b7d\"],[0.2,\"#de77ae\"],[0.3,\"#f1b6da\"],[0.4,\"#fde0ef\"],[0.5,\"#f7f7f7\"],[0.6,\"#e6f5d0\"],[0.7,\"#b8e186\"],[0.8,\"#7fbc41\"],[0.9,\"#4d9221\"],[1,\"#276419\"]]},\"xaxis\":{\"gridcolor\":\"white\",\"linecolor\":\"white\",\"ticks\":\"\",\"title\":{\"standoff\":15},\"zerolinecolor\":\"white\",\"automargin\":true,\"zerolinewidth\":2},\"yaxis\":{\"gridcolor\":\"white\",\"linecolor\":\"white\",\"ticks\":\"\",\"title\":{\"standoff\":15},\"zerolinecolor\":\"white\",\"automargin\":true,\"zerolinewidth\":2},\"scene\":{\"xaxis\":{\"backgroundcolor\":\"#E5ECF6\",\"gridcolor\":\"white\",\"linecolor\":\"white\",\"showbackground\":true,\"ticks\":\"\",\"zerolinecolor\":\"white\",\"gridwidth\":2},\"yaxis\":{\"backgroundcolor\":\"#E5ECF6\",\"gridcolor\":\"white\",\"linecolor\":\"white\",\"showbackground\":true,\"ticks\":\"\",\"zerolinecolor\":\"white\",\"gridwidth\":2},\"zaxis\":{\"backgroundcolor\":\"#E5ECF6\",\"gridcolor\":\"white\",\"linecolor\":\"white\",\"showbackground\":true,\"ticks\":\"\",\"zerolinecolor\":\"white\",\"gridwidth\":2}},\"shapedefaults\":{\"line\":{\"color\":\"#2a3f5f\"}},\"annotationdefaults\":{\"arrowcolor\":\"#2a3f5f\",\"arrowhead\":0,\"arrowwidth\":1},\"geo\":{\"bgcolor\":\"white\",\"landcolor\":\"#E5ECF6\",\"subunitcolor\":\"white\",\"showland\":true,\"showlakes\":true,\"lakecolor\":\"white\"},\"title\":{\"x\":0.05},\"mapbox\":{\"style\":\"light\"}}}},                        {\"responsive\": true}                    ).then(function(){\n",
              "                            Plotly.addFrames('551b713c-2136-4538-9e50-c625ce9a15bb', [{\"data\":[{\"marker\":{\"color\":\"red\",\"size\":10},\"mode\":\"markers\",\"x\":[2.4583962014990743],\"y\":[14.790604372154519],\"type\":\"scatter\"}]},{\"data\":[{\"marker\":{\"color\":\"red\",\"size\":10},\"mode\":\"markers\",\"x\":[6.617300717465529],\"y\":[6.270482825119136],\"type\":\"scatter\"}]},{\"data\":[{\"marker\":{\"color\":\"red\",\"size\":10},\"mode\":\"markers\",\"x\":[7.697731120991801],\"y\":[5.6954627508505675],\"type\":\"scatter\"}]},{\"data\":[{\"marker\":{\"color\":\"red\",\"size\":10},\"mode\":\"markers\",\"x\":[7.978413665559699],\"y\":[5.656654843674236],\"type\":\"scatter\"}]},{\"data\":[{\"marker\":{\"color\":\"red\",\"size\":10},\"mode\":\"markers\",\"x\":[8.051331542146656],\"y\":[5.654035711357297],\"type\":\"scatter\"}]},{\"data\":[{\"marker\":{\"color\":\"red\",\"size\":10},\"mode\":\"markers\",\"x\":[8.070274710608135],\"y\":[5.653858947017428],\"type\":\"scatter\"}]},{\"data\":[{\"marker\":{\"color\":\"red\",\"size\":10},\"mode\":\"markers\",\"x\":[8.075195913036897],\"y\":[5.653847017252886],\"type\":\"scatter\"}]},{\"data\":[{\"marker\":{\"color\":\"red\",\"size\":10},\"mode\":\"markers\",\"x\":[8.076474380965552],\"y\":[5.653846212117178],\"type\":\"scatter\"}]}]);\n",
              "                        }).then(function(){\n",
              "                            \n",
              "var gd = document.getElementById('551b713c-2136-4538-9e50-c625ce9a15bb');\n",
              "var x = new MutationObserver(function (mutations, observer) {{\n",
              "        var display = window.getComputedStyle(gd).display;\n",
              "        if (!display || display === 'none') {{\n",
              "            console.log([gd, 'removed!']);\n",
              "            Plotly.purge(gd);\n",
              "            observer.disconnect();\n",
              "        }}\n",
              "}});\n",
              "\n",
              "// Listen for the removal of the full notebook cells\n",
              "var notebookContainer = gd.closest('#notebook-container');\n",
              "if (notebookContainer) {{\n",
              "    x.observe(notebookContainer, {childList: true});\n",
              "}}\n",
              "\n",
              "// Listen for the clearing of the current output cell\n",
              "var outputEl = gd.closest('.output');\n",
              "if (outputEl) {{\n",
              "    x.observe(outputEl, {childList: true});\n",
              "}}\n",
              "\n",
              "                        })                };                            </script>        </div>\n",
              "</body>\n",
              "</html>"
            ]
          },
          "metadata": {}
        }
      ]
    }
  ],
  "metadata": {
    "kernelspec": {
      "name": "python3",
      "display_name": "Python 3",
      "language": "python"
    },
    "language_info": {
      "name": "python",
      "version": "3.7.6",
      "mimetype": "text/x-python",
      "codemirror_mode": {
        "name": "ipython",
        "version": 3
      },
      "pygments_lexer": "ipython3",
      "nbconvert_exporter": "python",
      "file_extension": ".py"
    },
    "colab": {
      "name": "Lab1.ipynb",
      "provenance": [],
      "include_colab_link": true
    }
  },
  "nbformat": 4,
  "nbformat_minor": 0
}