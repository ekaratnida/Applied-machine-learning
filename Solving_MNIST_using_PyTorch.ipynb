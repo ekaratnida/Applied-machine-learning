{
  "cells": [
    {
      "cell_type": "markdown",
      "metadata": {
        "id": "view-in-github",
        "colab_type": "text"
      },
      "source": [
        "<a href=\"https://colab.research.google.com/github/ekaratnida/Applied-machine-learning/blob/master/Solving_MNIST_using_PyTorch.ipynb\" target=\"_parent\"><img src=\"https://colab.research.google.com/assets/colab-badge.svg\" alt=\"Open In Colab\"/></a>"
      ]
    },
    {
      "source": [
        "# IMPORTANT: SOME KAGGLE DATA SOURCES ARE PRIVATE\n",
        "# RUN THIS CELL IN ORDER TO IMPORT YOUR KAGGLE DATA SOURCES.\n",
        "import kagglehub\n",
        "kagglehub.login()\n"
      ],
      "metadata": {
        "id": "EGF91WLKoPrj"
      },
      "cell_type": "code",
      "outputs": [],
      "execution_count": null
    },
    {
      "source": [
        "# IMPORTANT: RUN THIS CELL IN ORDER TO IMPORT YOUR KAGGLE DATA SOURCES,\n",
        "# THEN FEEL FREE TO DELETE THIS CELL.\n",
        "# NOTE: THIS NOTEBOOK ENVIRONMENT DIFFERS FROM KAGGLE'S PYTHON\n",
        "# ENVIRONMENT SO THERE MAY BE MISSING LIBRARIES USED BY YOUR\n",
        "# NOTEBOOK.\n",
        "\n",
        "digit_recognizer_path = kagglehub.competition_download('digit-recognizer')\n",
        "\n",
        "print('Data source import complete.')\n"
      ],
      "metadata": {
        "id": "RYHEXbndoPrl"
      },
      "cell_type": "code",
      "outputs": [],
      "execution_count": null
    },
    {
      "metadata": {
        "id": "x0ngnaz0oPrl"
      },
      "cell_type": "markdown",
      "source": [
        "# Identifying hand-written digits(MNIST) using PyTorch"
      ]
    },
    {
      "metadata": {
        "id": "FMFHDuyLoPrm"
      },
      "cell_type": "markdown",
      "source": [
        "We will use the famous <b>MNIST Handwritten Digits Databases</b> as our training dataset.It consists of 28px by 28px grayscale images of handwritten disgits(0 - 9), along with labels for each image indicating which digit it represents. MNIST stands for <b>Modified National Institute of Standards and Technology.</b>"
      ]
    },
    {
      "metadata": {
        "id": "yFUMkn0DoPrm"
      },
      "cell_type": "markdown",
      "source": [
        "![image.png](attachment:image.png)"
      ]
    },
    {
      "metadata": {
        "id": "_-f9RISroPrm"
      },
      "cell_type": "markdown",
      "source": [
        "<font color='black'><h2 align = 'center' style = 'background:LightGray'> Quick Navigation </h2></font>\n",
        "#### [1. Brief about PyTorch](#1)\n",
        "#### [2. Working with images in PyToch(using MNIST Dataset)](#2)\n",
        "#### [3. Splitting a dataset into training, Validation and test sets](#3)\n",
        "#### [4. Creating PyTorch models with custom logic by extending the nn.Module Class](#4)\n",
        "#### [5. Interpreting model outputs as probabilities using softmax, and picking predicted labels](#5)\n",
        "#### [6. Picking a good evaluation metric(accuracy) and loss function(cross entropy) for Classification problems](#6)\n",
        "#### [7.Setting up a training loop that also evaluates the model using Validation set](#7)\n",
        "#### [8. Testing the model manually on randomly picked examples](#8)\n",
        "#### [9.Saving and loading the model checkpoints to avoid retraining from scratch](#9)\n",
        "#### [10. References](#10)"
      ]
    },
    {
      "metadata": {
        "id": "bcb5TMuuoPrn"
      },
      "cell_type": "markdown",
      "source": [
        "PyTorch is an optimized tensor library for deep learning using GPUs and CPUs."
      ]
    },
    {
      "metadata": {
        "id": "_vmLN9pNoPrn"
      },
      "cell_type": "markdown",
      "source": [
        "<h1><font color='red'> If you learn anything new from this notebook, Please upvote....</font></h1>"
      ]
    },
    {
      "metadata": {
        "trusted": true,
        "id": "xqwVjBIIoPrn"
      },
      "cell_type": "code",
      "source": [
        "## Imports\n",
        "import torch\n",
        "import torchvision ## Contains some utilities for working with the image data\n",
        "from torchvision.datasets import MNIST\n",
        "import matplotlib.pyplot as plt\n",
        "#%matplotlib inline\n",
        "import torchvision.transforms as transforms\n",
        "from torch.utils.data import random_split\n",
        "from torch.utils.data import DataLoader\n",
        "import torch.nn.functional as F"
      ],
      "execution_count": 1,
      "outputs": []
    },
    {
      "metadata": {
        "id": "7nkTJijNoPrn"
      },
      "cell_type": "markdown",
      "source": [
        "We will import <b>torchvision</b> which contains some utility functions for working with the image data. It also contain helper classes to automatically download and import the famous datasets like MNIST.\n",
        "\n",
        "MNIST dataset has 60,000 images which can be used to train the model. There is also an additional test set of 10,000 images which can be created by passing <b>train = False</b> to the MNIST class."
      ]
    },
    {
      "metadata": {
        "id": "I7v_24JCoPrn"
      },
      "cell_type": "markdown",
      "source": [
        "### Loading the MNIST dataset"
      ]
    },
    {
      "metadata": {
        "trusted": true,
        "id": "fZpCUyOfoPro",
        "outputId": "2fab352a-695d-4d08-e842-c6933db84377",
        "colab": {
          "base_uri": "https://localhost:8080/"
        }
      },
      "cell_type": "code",
      "source": [
        "dataset = MNIST(root = 'data/', download = True)\n",
        "print(len(dataset))"
      ],
      "execution_count": 2,
      "outputs": [
        {
          "output_type": "stream",
          "name": "stderr",
          "text": [
            "100%|██████████| 9.91M/9.91M [00:02<00:00, 4.94MB/s]\n",
            "100%|██████████| 28.9k/28.9k [00:00<00:00, 62.8kB/s]\n",
            "100%|██████████| 1.65M/1.65M [00:01<00:00, 1.24MB/s]\n",
            "100%|██████████| 4.54k/4.54k [00:00<00:00, 8.45MB/s]"
          ]
        },
        {
          "output_type": "stream",
          "name": "stdout",
          "text": [
            "60000\n"
          ]
        },
        {
          "output_type": "stream",
          "name": "stderr",
          "text": [
            "\n"
          ]
        }
      ]
    },
    {
      "metadata": {
        "trusted": true,
        "id": "bau5Gq1NoPro",
        "outputId": "261f8b88-2277-49bf-f6f9-18599bfeeb89",
        "colab": {
          "base_uri": "https://localhost:8080/",
          "height": 447
        }
      },
      "cell_type": "code",
      "source": [
        "image, label = dataset[10]\n",
        "plt.imshow(image, cmap = 'gray')\n",
        "print('Label:', label)"
      ],
      "execution_count": 3,
      "outputs": [
        {
          "output_type": "stream",
          "name": "stdout",
          "text": [
            "Label: 3\n"
          ]
        },
        {
          "output_type": "display_data",
          "data": {
            "text/plain": [
              "<Figure size 640x480 with 1 Axes>"
            ],
            "image/png": "[encoded data removed]"
          },
          "metadata": {}
        }
      ]
    },
    {
      "metadata": {
        "id": "BJZgeVJsoPro"
      },
      "cell_type": "markdown",
      "source": [
        "These images are small in size, and recognizing the digits can sometimes be hard. <b>PyTorch</b> doesn't know how to work with images. We need to convert the images into <b>tensors</b>. We can do this by specifying a <b>transform</b> while creating our dataset.\n",
        "\n",
        "PyTorch datasets allow us to specify one or more transformation function which are applied to the images as they are loaded.\n",
        "\n",
        "<b>torchvision.transforms</b> contains many such predefined functions and we will use <b>ToTensor</b> transform to convert images into Pytorch tensors."
      ]
    },
    {
      "metadata": {
        "id": "6wUAJk_toPro"
      },
      "cell_type": "markdown",
      "source": [
        "### Loading the MNIST data with transformation applied while loading"
      ]
    },
    {
      "metadata": {
        "trusted": true,
        "id": "vyDhgKIpoPro",
        "outputId": "13f23568-2702-4de9-e77a-45f2ec1fa59c",
        "colab": {
          "base_uri": "https://localhost:8080/"
        }
      },
      "cell_type": "code",
      "source": [
        "## MNIST dataset(images and labels)\n",
        "mnist_dataset = MNIST(root = 'data/', train = True, transform = transforms.ToTensor())\n",
        "print(mnist_dataset)"
      ],
      "execution_count": 4,
      "outputs": [
        {
          "output_type": "stream",
          "name": "stdout",
          "text": [
            "Dataset MNIST\n",
            "    Number of datapoints: 60000\n",
            "    Root location: data/\n",
            "    Split: Train\n",
            "    StandardTransform\n",
            "Transform: ToTensor()\n"
          ]
        }
      ]
    },
    {
      "metadata": {
        "trusted": true,
        "id": "wkYNLCUQoPro",
        "outputId": "e9db8fae-e189-4ec0-fe4c-8a472d4524e6",
        "colab": {
          "base_uri": "https://localhost:8080/"
        }
      },
      "cell_type": "code",
      "source": [
        "image_tensor, label = mnist_dataset[0]\n",
        "print(image_tensor.shape, label)"
      ],
      "execution_count": 5,
      "outputs": [
        {
          "output_type": "stream",
          "name": "stdout",
          "text": [
            "torch.Size([1, 28, 28]) 5\n"
          ]
        }
      ]
    },
    {
      "metadata": {
        "id": "XY6GGhQFoPro"
      },
      "cell_type": "markdown",
      "source": [
        "The image is now convert to a <b>28 X 28 tensor</b>.The first dimension is used to keep track of the color channels. Since images in the <b>MNIST dataset are grayscale</b>, there's just one channel. Other datasets have images with color, in that case the color channels would be <b>3(Red, Green, Blue).</b>"
      ]
    },
    {
      "metadata": {
        "trusted": true,
        "id": "Htu_eDp7oPro",
        "outputId": "6b0e1013-0a95-46cd-ab28-7c1ff3f6d73f",
        "colab": {
          "base_uri": "https://localhost:8080/"
        }
      },
      "cell_type": "code",
      "source": [
        "print(image_tensor[:,10:15,10:15])\n",
        "print(torch.max(image_tensor), torch.min(image_tensor))"
      ],
      "execution_count": 6,
      "outputs": [
        {
          "output_type": "stream",
          "name": "stdout",
          "text": [
            "tensor([[[0.0039, 0.6039, 0.9922, 0.3529, 0.0000],\n",
            "         [0.0000, 0.5451, 0.9922, 0.7451, 0.0078],\n",
            "         [0.0000, 0.0431, 0.7451, 0.9922, 0.2745],\n",
            "         [0.0000, 0.0000, 0.1373, 0.9451, 0.8824],\n",
            "         [0.0000, 0.0000, 0.0000, 0.3176, 0.9412]]])\n",
            "tensor(1.) tensor(0.)\n"
          ]
        }
      ]
    },
    {
      "metadata": {
        "id": "5qntJHjfoPro"
      },
      "cell_type": "markdown",
      "source": [
        "The values range from 0 to 1, with 0 representing black, 1 white and the values between different shades of grey. We can also plot the tensor as an image using lt.imshow"
      ]
    },
    {
      "metadata": {
        "trusted": true,
        "id": "tkk9Pwq2oPro",
        "outputId": "f5e3f13e-1337-4fe7-b5ea-2d0507faba0d",
        "colab": {
          "base_uri": "https://localhost:8080/",
          "height": 447
        }
      },
      "cell_type": "code",
      "source": [
        "## Plot the image of the tensor\n",
        "plt.imshow(image_tensor[0,10:15,10:15],cmap = 'gray')"
      ],
      "execution_count": 7,
      "outputs": [
        {
          "output_type": "execute_result",
          "data": {
            "text/plain": [
              "<matplotlib.image.AxesImage at 0x7b849a6d2780>"
            ]
          },
          "metadata": {},
          "execution_count": 7
        },
        {
          "output_type": "display_data",
          "data": {
            "text/plain": [
              "<Figure size 640x480 with 1 Axes>"
            ],
            "image/png": "[encoded data removed]"
          },
          "metadata": {}
        }
      ]
    },
    {
      "metadata": {
        "id": "Gmvc-FYHoPrp"
      },
      "cell_type": "markdown",
      "source": [
        "## Training and Validation Datasets"
      ]
    },
    {
      "metadata": {
        "trusted": true,
        "id": "ZyC7sLrzoPrp",
        "outputId": "70ca9dfe-27c6-4c14-8e67-23155e1466ce",
        "colab": {
          "base_uri": "https://localhost:8080/"
        }
      },
      "cell_type": "code",
      "source": [
        "train_data, validation_data = random_split(mnist_dataset, [50000, 10000])\n",
        "## Print the length of train and validation datasets\n",
        "print(\"length of Train Datasets: \", len(train_data))\n",
        "print(\"length of Validation Datasets: \", len(validation_data))"
      ],
      "execution_count": 8,
      "outputs": [
        {
          "output_type": "stream",
          "name": "stdout",
          "text": [
            "length of Train Datasets:  50000\n",
            "length of Validation Datasets:  10000\n"
          ]
        }
      ]
    },
    {
      "metadata": {
        "id": "14fq_s4AoPrp"
      },
      "cell_type": "markdown",
      "source": [
        "While building a machine learning/Deep learning models, it is common to split the dataset into 3 parts:\n",
        "\n",
        "1. <b>Training set</b> - The part of the data will be used to train the model,compute the loss and adjust the weights of the model using gradient descent.\n",
        "\n",
        "\n",
        "2. <b>Validation set</b> - This part of the dataset will be used to evalute the traing model, adjusting the hyperparameters and pick the best version of the model.\n",
        "\n",
        "\n",
        "3. <b>Test set</b> - This part of the dataset is used to final check the model predictions on the new unseen data to evaluate how well the model is performing."
      ]
    },
    {
      "metadata": {
        "trusted": true,
        "id": "usj3jnzDoPrp"
      },
      "cell_type": "code",
      "source": [
        "batch_size = 128\n",
        "train_loader = DataLoader(train_data, batch_size, shuffle = True)\n",
        "val_loader = DataLoader(validation_data, batch_size, shuffle = False)"
      ],
      "execution_count": 9,
      "outputs": []
    },
    {
      "metadata": {
        "id": "Qa6WI2ULoPrp"
      },
      "cell_type": "markdown",
      "source": [
        "Here we will use <b>DataLoaders</b> to help us load the data in batches. We will use a batch size of 128. We will set <b>shuffle = True</b> for the training dataloader, so that the batches generated in each epoch are different, and this randomization helps in generalizing and speed up the process.\n",
        "\n",
        "Since Validation dataloader is used only for evaluating the model, there is no need to shuffle the images."
      ]
    },
    {
      "metadata": {
        "id": "-_oi0Yv6oPrp"
      },
      "cell_type": "markdown",
      "source": [
        "## Model"
      ]
    },
    {
      "metadata": {
        "id": "V0YESmVYoPrp"
      },
      "cell_type": "markdown",
      "source": [
        "<b>Logistic Regression</b> model is identical to a linear regression model i.e, there are weights and bias matrices, and the output is obtained using simple matrix operations(pred = x@ w.t() + b).\n",
        "\n",
        "We can use <b>nn.Linear</b> to create the model instead of defining and initializing the matrices manually.\n",
        "\n",
        "Since <b>nn.Linear</b> expects the each training example to a vector, each <b>1 X 28 X 28</b> image tensor needs to be flattened out into a vector of size <b>784(28 X 28)</b>, before being passed into the model.\n",
        "\n",
        "The output for each image is vector of size 10, with each element of the vector signifying the probability a particular target <b>label(i.e 0 to 9)</b>. The predicted label for an image is simply the one with the highest probability."
      ]
    },
    {
      "metadata": {
        "trusted": true,
        "id": "Pkb5DF1boPrp",
        "outputId": "0dbb912e-57b5-4d89-d5ca-5c1d4ede8a69",
        "colab": {
          "base_uri": "https://localhost:8080/"
        }
      },
      "cell_type": "code",
      "source": [
        "import torch.nn as nn\n",
        "\n",
        "input_size = 28 * 28\n",
        "num_classes = 10\n",
        "\n",
        "## Logistic regression model\n",
        "model = nn.Linear(input_size, num_classes)\n",
        "print(model.weight.shape)\n",
        "print(model.weight)\n",
        "print(model.bias.shape)\n",
        "print(model.bias)"
      ],
      "execution_count": 10,
      "outputs": [
        {
          "output_type": "stream",
          "name": "stdout",
          "text": [
            "torch.Size([10, 784])\n",
            "Parameter containing:\n",
            "tensor([[-0.0263, -0.0285, -0.0244,  ...,  0.0069,  0.0027, -0.0079],\n",
            "        [ 0.0293,  0.0101,  0.0038,  ...,  0.0242, -0.0018,  0.0135],\n",
            "        [ 0.0095,  0.0331,  0.0215,  ...,  0.0072, -0.0272, -0.0234],\n",
            "        ...,\n",
            "        [-0.0220, -0.0120, -0.0234,  ...,  0.0129,  0.0318,  0.0016],\n",
            "        [-0.0012, -0.0109, -0.0319,  ...,  0.0033,  0.0027, -0.0189],\n",
            "        [-0.0046, -0.0150,  0.0357,  ..., -0.0144, -0.0107,  0.0243]],\n",
            "       requires_grad=True)\n",
            "torch.Size([10])\n",
            "Parameter containing:\n",
            "tensor([ 0.0006,  0.0179,  0.0348, -0.0336, -0.0052,  0.0327, -0.0073,  0.0057,\n",
            "         0.0309,  0.0172], requires_grad=True)\n"
          ]
        }
      ]
    },
    {
      "metadata": {
        "trusted": true,
        "id": "ZLRHjyOooPrp",
        "outputId": "b4152fe6-d43c-4f94-9c42-4b34d7328fc6",
        "colab": {
          "base_uri": "https://localhost:8080/",
          "height": 35
        }
      },
      "cell_type": "code",
      "source": [
        "'''for images, labels in train_loader:\n",
        "    print(labels)\n",
        "    print(images.shape)\n",
        "    outputs = model(images)\n",
        "    break'''"
      ],
      "execution_count": 12,
      "outputs": [
        {
          "output_type": "execute_result",
          "data": {
            "text/plain": [
              "'for images, labels in train_loader:\\n    print(labels)\\n    print(images.shape)\\n    outputs = model(images)\\n    break'"
            ],
            "application/vnd.google.colaboratory.intrinsic+json": {
              "type": "string"
            }
          },
          "metadata": {},
          "execution_count": 12
        }
      ]
    },
    {
      "metadata": {
        "id": "dg7TF76hoPrq"
      },
      "cell_type": "markdown",
      "source": [
        "**Note** This leads to an error, because our input data does not have the right shape.\n",
        "Our images are of the shape 1X28X28, but we need them to be vectors of size 784 i.e we need to flatten them out. We will use the <b>.reshape()</b> method of a tensor, which will allow us to efficiently view each image as a flat vector, without really changing the underlying data.\n",
        "\n",
        "To include this additional functionality within model, we need to define a custom model, by extending the <b>nn.Module</b> class from PyTorch."
      ]
    },
    {
      "metadata": {
        "id": "aKZp-K1UoPrq"
      },
      "cell_type": "markdown",
      "source": [
        "### Defining the Logistic Model"
      ]
    },
    {
      "metadata": {
        "trusted": true,
        "id": "WnUL025voPrq",
        "outputId": "c25f3a58-7273-4df9-df95-5543ac7fb0c0",
        "colab": {
          "base_uri": "https://localhost:8080/"
        }
      },
      "cell_type": "code",
      "source": [
        "class MnistModel(nn.Module):\n",
        "    def __init__(self):\n",
        "        super().__init__()\n",
        "        self.linear = nn.Linear(input_size, num_classes)\n",
        "\n",
        "    def forward(self, xb):\n",
        "        xb = xb.reshape(-1, 784)\n",
        "        print(xb)\n",
        "        out = self.linear(xb)\n",
        "        print(out)\n",
        "        return(out)\n",
        "\n",
        "model = MnistModel()\n",
        "print(model.linear.weight.shape, model.linear.bias.shape)\n",
        "list(model.parameters())"
      ],
      "execution_count": 13,
      "outputs": [
        {
          "output_type": "stream",
          "name": "stdout",
          "text": [
            "torch.Size([10, 784]) torch.Size([10])\n"
          ]
        },
        {
          "output_type": "execute_result",
          "data": {
            "text/plain": [
              "[Parameter containing:\n",
              " tensor([[-0.0107, -0.0110, -0.0069,  ..., -0.0301, -0.0281,  0.0343],\n",
              "         [ 0.0328,  0.0048,  0.0357,  ..., -0.0106,  0.0214,  0.0023],\n",
              "         [ 0.0196, -0.0047, -0.0173,  ..., -0.0028,  0.0006,  0.0068],\n",
              "         ...,\n",
              "         [ 0.0216, -0.0004,  0.0043,  ...,  0.0270, -0.0009,  0.0084],\n",
              "         [-0.0180, -0.0244,  0.0117,  ...,  0.0274, -0.0075, -0.0109],\n",
              "         [ 0.0021,  0.0291, -0.0089,  ..., -0.0355, -0.0059,  0.0135]],\n",
              "        requires_grad=True),\n",
              " Parameter containing:\n",
              " tensor([ 0.0256, -0.0250, -0.0190,  0.0127, -0.0035,  0.0271, -0.0238, -0.0066,\n",
              "         -0.0074, -0.0195], requires_grad=True)]"
            ]
          },
          "metadata": {},
          "execution_count": 13
        }
      ]
    },
    {
      "metadata": {
        "id": "ujJscyXdoPrq"
      },
      "cell_type": "markdown",
      "source": [
        "Inside the __init__  constructor method, we instantiate the weights and biases using <b>nn.Linear</b>. Inside the <b>forward method</b>, which is invoked when we pass a batch of inputs to the model, we flatten out the input tensor, and then pass it into <b>self.linear</b>.\n",
        "\n",
        "<b>xb.reshape(-1, 28 * 28)</b> indicates to PyTorch that we want a view of the <b>xb</b> tensor with two dimensions, where the length along the 2nd dimension is <b>28 * 28(i.e 784)</b>. One argument to <b>.reshape</b> can be set to <b>-1(in this case the first dimension)</b>, to let PyTorch figure it out automatically based on the shape of the original tensor.\n",
        "\n",
        "Note that the model no longer has <b>.weight and .bias </b>attributes(as they are now inside the <b>.linear attribute)</b>,but it does have a <b>.parameters</b> method which returns a list containg the <b>weights and bias</b>, and can be used by a <b>PyTorch optimizer</b>."
      ]
    },
    {
      "metadata": {
        "trusted": true,
        "id": "qMOElVYuoPrq",
        "outputId": "7d36fc36-8039-4f06-a0e9-29638f2dd62a",
        "colab": {
          "base_uri": "https://localhost:8080/"
        }
      },
      "cell_type": "code",
      "source": [
        "for images, labels in train_loader:\n",
        "    outputs = model(images)\n",
        "    break\n",
        "\n",
        "print('outputs shape: ', outputs.shape)\n",
        "print('Sample outputs: \\n', outputs[:2].data)"
      ],
      "execution_count": 14,
      "outputs": [
        {
          "output_type": "stream",
          "name": "stdout",
          "text": [
            "tensor([[0., 0., 0.,  ..., 0., 0., 0.],\n",
            "        [0., 0., 0.,  ..., 0., 0., 0.],\n",
            "        [0., 0., 0.,  ..., 0., 0., 0.],\n",
            "        ...,\n",
            "        [0., 0., 0.,  ..., 0., 0., 0.],\n",
            "        [0., 0., 0.,  ..., 0., 0., 0.],\n",
            "        [0., 0., 0.,  ..., 0., 0., 0.]])\n",
            "tensor([[ 0.1079,  0.2195, -0.3128,  ..., -0.2764, -0.1683,  0.1478],\n",
            "        [-0.2373,  0.4591, -0.3207,  ..., -0.3549, -0.1618,  0.5247],\n",
            "        [ 0.1756,  0.1307, -0.3994,  ..., -0.1713, -0.0396,  0.1185],\n",
            "        ...,\n",
            "        [ 0.1373,  0.1470, -0.0841,  ..., -0.4795, -0.2970,  0.1066],\n",
            "        [-0.1622, -0.0303, -0.0974,  ..., -0.1476, -0.2211, -0.0887],\n",
            "        [-0.0356,  0.0402, -0.0697,  ..., -0.3796, -0.3143,  0.0782]],\n",
            "       grad_fn=<AddmmBackward0>)\n",
            "outputs shape:  torch.Size([128, 10])\n",
            "Sample outputs: \n",
            " tensor([[ 0.1079,  0.2195, -0.3128, -0.0225,  0.1495, -0.2420,  0.0637, -0.2764,\n",
            "         -0.1683,  0.1478],\n",
            "        [-0.2373,  0.4591, -0.3207,  0.6345, -0.0687,  0.0766,  0.0011, -0.3549,\n",
            "         -0.1618,  0.5247]])\n"
          ]
        }
      ]
    },
    {
      "metadata": {
        "id": "67p6GoRFoPrq"
      },
      "cell_type": "markdown",
      "source": [
        "For each of the 100 input images, we get 10 outputs, one for each class. These outputs represent probabilities, but for the that the output row should lie between 0 to 1 and add upto 1.\n",
        "\n",
        "For converting the output to probabilities such that it lies between 0 to 1 we use <b>Softmax function</b>."
      ]
    },
    {
      "metadata": {
        "id": "Fr-zAyQ_oPrr"
      },
      "cell_type": "markdown",
      "source": [
        "## What is Softmax function?"
      ]
    },
    {
      "metadata": {
        "id": "tNtsjvlgoPrr"
      },
      "cell_type": "markdown",
      "source": [
        "#### The softmax function is a function that turns a vector of K real values into a vector of K real values that sum to 1. The input values can be positive, negative, zero, or greater than one, but the softmax transforms them into values between 0 and 1, so that they can be interpreted as probabilities. If one of the inputs is small or negative, the softmax turns it into a small probability, and if an input is large, then it turns it into a large probability, but it will always remain between 0 and 1.\n",
        "\n",
        "#### The softmax function is sometimes called the softargmax function, or multi-class logistic regression. This is because the softmax is a generalization of logistic regression that can be used for multi-class classification, and its formula is very similar to the sigmoid function which is used for logistic regression. The softmax function can be used in a classifier only when the classes are mutually exclusive.\n",
        "\n",
        "#### Many multi-layer neural networks end in a penultimate layer which outputs real-valued scores that are not conveniently scaled and which may be difficult to work with. Here the softmax is very useful because it converts the scores to a normalized probability distribution, which can be displayed to a user or used as input to other systems. For this reason it is usual to append a softmax function as the final layer of the neural network."
      ]
    },
    {
      "metadata": {
        "id": "ELy8osUFoPrr"
      },
      "cell_type": "markdown",
      "source": [
        "![image.png](attachment:image.png)"
      ]
    },
    {
      "metadata": {
        "id": "SSbxejqooPrr"
      },
      "cell_type": "markdown",
      "source": [
        "## How it is Calculated ?"
      ]
    },
    {
      "metadata": {
        "id": "prD_ZIb_oPrs"
      },
      "cell_type": "markdown",
      "source": [
        "![image.png](attachment:image.png)"
      ]
    },
    {
      "metadata": {
        "id": "YbdX-zogoPrs"
      },
      "cell_type": "markdown",
      "source": [
        "![image.png](attachment:image.png)"
      ]
    },
    {
      "metadata": {
        "trusted": true,
        "id": "c4OnfPlCoPrs",
        "outputId": "7f09b22d-0b7a-4915-9633-e0de4a94b6af",
        "colab": {
          "base_uri": "https://localhost:8080/"
        }
      },
      "cell_type": "code",
      "source": [
        "## Apply softmax for each output row\n",
        "probs = F.softmax(outputs, dim = 1)\n",
        "\n",
        "## chaecking at sample probabilities\n",
        "print(\"Sample probabilities:\\n\", probs[:2].data)\n",
        "\n",
        "print(\"\\n\")\n",
        "## Add up the probabilities of an output row\n",
        "print(\"Sum: \", torch.sum(probs[0]).item())\n",
        "max_probs, preds = torch.max(probs, dim = 1)\n",
        "print(\"\\n\")\n",
        "print(preds)\n",
        "print(\"\\n\")\n",
        "print(max_probs)"
      ],
      "execution_count": 15,
      "outputs": [
        {
          "output_type": "stream",
          "name": "stdout",
          "text": [
            "Sample probabilities:\n",
            " tensor([[0.1132, 0.1265, 0.0743, 0.0993, 0.1180, 0.0798, 0.1083, 0.0771, 0.0859,\n",
            "         0.1178],\n",
            "        [0.0702, 0.1408, 0.0646, 0.1678, 0.0831, 0.0961, 0.0891, 0.0624, 0.0757,\n",
            "         0.1504]])\n",
            "\n",
            "\n",
            "Sum:  1.0\n",
            "\n",
            "\n",
            "tensor([1, 3, 0, 9, 3, 3, 9, 9, 1, 9, 9, 9, 9, 6, 9, 4, 1, 3, 1, 1, 1, 3, 9, 3,\n",
            "        9, 9, 9, 4, 9, 2, 3, 0, 3, 1, 9, 3, 1, 3, 9, 3, 3, 4, 3, 3, 9, 4, 4, 3,\n",
            "        3, 3, 1, 9, 3, 1, 9, 9, 9, 4, 9, 9, 9, 2, 9, 9, 9, 3, 9, 3, 9, 3, 9, 9,\n",
            "        3, 0, 4, 1, 3, 9, 3, 9, 1, 3, 9, 3, 3, 1, 3, 4, 9, 1, 3, 3, 9, 3, 3, 4,\n",
            "        3, 4, 9, 4, 4, 1, 1, 9, 9, 9, 3, 9, 9, 9, 9, 5, 9, 3, 3, 9, 9, 9, 9, 3,\n",
            "        3, 9, 9, 9, 3, 3, 3, 9])\n",
            "\n",
            "\n",
            "tensor([0.1265, 0.1678, 0.1212, 0.1448, 0.1541, 0.1960, 0.1387, 0.1424, 0.1196,\n",
            "        0.1237, 0.1643, 0.1434, 0.1269, 0.1233, 0.1553, 0.1277, 0.1397, 0.1766,\n",
            "        0.1144, 0.1228, 0.1293, 0.2119, 0.1359, 0.1418, 0.1490, 0.1412, 0.1412,\n",
            "        0.1254, 0.1189, 0.1238, 0.1623, 0.1261, 0.1397, 0.1377, 0.1456, 0.1410,\n",
            "        0.1213, 0.1181, 0.1266, 0.1460, 0.1574, 0.1468, 0.1431, 0.1318, 0.1596,\n",
            "        0.1498, 0.1234, 0.1231, 0.1520, 0.1495, 0.1304, 0.1315, 0.1706, 0.1439,\n",
            "        0.1170, 0.1964, 0.1232, 0.1184, 0.1472, 0.1644, 0.1289, 0.1146, 0.1408,\n",
            "        0.1358, 0.1340, 0.1542, 0.1297, 0.1377, 0.1892, 0.1550, 0.1340, 0.1518,\n",
            "        0.1408, 0.1309, 0.1385, 0.1417, 0.1692, 0.1946, 0.1276, 0.1302, 0.1551,\n",
            "        0.1307, 0.1480, 0.1433, 0.1373, 0.1466, 0.1314, 0.1323, 0.1389, 0.1178,\n",
            "        0.1606, 0.1286, 0.1310, 0.1834, 0.1245, 0.1433, 0.1553, 0.1510, 0.1162,\n",
            "        0.1415, 0.1246, 0.1451, 0.1541, 0.1364, 0.1283, 0.1535, 0.1451, 0.1609,\n",
            "        0.1368, 0.1504, 0.1323, 0.1423, 0.1164, 0.1490, 0.1309, 0.1206, 0.1313,\n",
            "        0.1397, 0.1478, 0.1330, 0.1472, 0.1871, 0.1433, 0.1241, 0.1431, 0.1403,\n",
            "        0.1685, 0.1167], grad_fn=<MaxBackward0>)\n"
          ]
        }
      ]
    },
    {
      "metadata": {
        "trusted": true,
        "id": "yRI4u7nRoPrt",
        "outputId": "d6d39fa9-0f39-4cdc-9650-b14157a92fc4",
        "colab": {
          "base_uri": "https://localhost:8080/"
        }
      },
      "cell_type": "code",
      "source": [
        "labels"
      ],
      "execution_count": 16,
      "outputs": [
        {
          "output_type": "execute_result",
          "data": {
            "text/plain": [
              "tensor([9, 0, 4, 1, 2, 3, 7, 4, 9, 9, 7, 4, 7, 4, 1, 9, 7, 6, 3, 2, 0, 6, 1, 9,\n",
              "        5, 1, 1, 9, 9, 7, 0, 5, 6, 9, 2, 2, 7, 7, 2, 5, 0, 6, 6, 0, 7, 9, 7, 5,\n",
              "        3, 0, 4, 3, 0, 4, 8, 0, 0, 1, 7, 8, 8, 7, 1, 2, 6, 0, 5, 9, 0, 6, 3, 1,\n",
              "        3, 4, 8, 7, 2, 8, 1, 1, 7, 6, 2, 6, 8, 2, 6, 6, 3, 9, 9, 3, 7, 5, 9, 7,\n",
              "        0, 7, 9, 7, 4, 3, 0, 4, 4, 4, 3, 1, 1, 7, 5, 0, 3, 3, 6, 9, 9, 8, 9, 2,\n",
              "        2, 5, 4, 1, 3, 8, 3, 9])"
            ]
          },
          "metadata": {},
          "execution_count": 16
        }
      ]
    },
    {
      "metadata": {
        "id": "22K86Zi0oPrt"
      },
      "cell_type": "markdown",
      "source": [
        "## Evaluation Metric and Loss Function"
      ]
    },
    {
      "metadata": {
        "id": "Oeoy_s7coPrt"
      },
      "cell_type": "markdown",
      "source": [
        "Here we evaluate our model by finding the percentage of labels that were predicted correctly i.e. the <b>accuracy</b> of the predictions.\n",
        "\n",
        "The <b>==</b> performas an element-wise comparision of two tensors with the same shape, and returns a tensor of the same shape,containing <b>0s</b> for unequal elements, and <b>1s</b> for equal elements. Passing the result to <b>torch.sum</b> returns the number of labels that were predicted correctly. Finally we divide by the total total number of images to get the accuracy."
      ]
    },
    {
      "metadata": {
        "trusted": true,
        "id": "g3LEpszYoPrt",
        "outputId": "2fe06f7d-952d-466a-ab30-918bd45ae6a7",
        "colab": {
          "base_uri": "https://localhost:8080/"
        }
      },
      "cell_type": "code",
      "source": [
        "def accuracy(outputs, labels):\n",
        "    _, preds = torch.max(outputs, dim = 1)\n",
        "    return(torch.tensor(torch.sum(preds == labels).item()/ len(preds)))\n",
        "\n",
        "print(\"Accuracy: \",accuracy(outputs, labels))\n",
        "print(\"\\n\")\n",
        "loss_fn = F.cross_entropy\n",
        "print(\"Loss Function: \",loss_fn)\n",
        "print(\"\\n\")\n",
        "## Loss for the current batch\n",
        "loss = loss_fn(outputs, labels)\n",
        "print(loss)"
      ],
      "execution_count": 17,
      "outputs": [
        {
          "output_type": "stream",
          "name": "stdout",
          "text": [
            "Accuracy:  tensor(0.1250)\n",
            "\n",
            "\n",
            "Loss Function:  <function cross_entropy at 0x7b84a818b6a0>\n",
            "\n",
            "\n",
            "tensor(2.3398, grad_fn=<NllLossBackward0>)\n"
          ]
        }
      ]
    },
    {
      "metadata": {
        "id": "CpqkTLBsoPru"
      },
      "cell_type": "markdown",
      "source": [
        "While accuracy is a great way to evluate the model, it can't be used as a loss function for optimizing our model using gradient descent in this case for the following reasons:\n",
        "\n",
        "- > It does not take into account the actual probabilities predicted by the model,so it can't provide sufficient feedback for increemental improvements.\n",
        "\n",
        "Due to this reason accuracy is a great evaluation metric for classification metric ,but not a good loss function.A commonly used loss function for classification problems is the <b>Cross Entropy</b>."
      ]
    },
    {
      "metadata": {
        "id": "_5mUy9TWoPru"
      },
      "cell_type": "markdown",
      "source": [
        "## What is Cross-Entropy"
      ]
    },
    {
      "metadata": {
        "id": "d39rs0nFoPru"
      },
      "cell_type": "markdown",
      "source": [
        "<b>Cross-entropy</b> is commonly used to quantify the difference between two probabilities distribution. Usually the \"True\" distribution(the one that your machine learning algorithm is trying to match) is expressed in terms of a one-hot distribution.\n",
        "\n",
        "For example, suppose for a specific training instance,the label is B(out of possible labels A,B and C).The one-hot distribution for this training instance is therefore."
      ]
    },
    {
      "metadata": {
        "id": "h_VQ1S9KoPru"
      },
      "cell_type": "markdown",
      "source": [
        "![image.png](attachment:image.png)"
      ]
    },
    {
      "metadata": {
        "id": "UrRnKRX_oPrv"
      },
      "cell_type": "markdown",
      "source": [
        "We can interpret the above \"True\" distribution to mean that the training instance has 0% probability of being Class A, 100% probability of Class B and 0% probability of being Class C.\n",
        "\n",
        "Now suppose the machine learning algorithm predicts the following probability distribution:"
      ]
    },
    {
      "metadata": {
        "id": "WDEOU7HJoPrv"
      },
      "cell_type": "markdown",
      "source": [
        "![image.png](attachment:image.png)"
      ]
    },
    {
      "metadata": {
        "id": "TRYMDwKaoPrv"
      },
      "cell_type": "markdown",
      "source": [
        "Now to check how this probability distribution is close to True distribution.Here we will use the <b>Cross-entropy loss function.</b>"
      ]
    },
    {
      "metadata": {
        "id": "p-kJWp2coPrv"
      },
      "cell_type": "markdown",
      "source": [
        "![image.png](attachment:image.png)"
      ]
    },
    {
      "metadata": {
        "id": "yJWdCmv4oPrv"
      },
      "cell_type": "markdown",
      "source": [
        "Here <b>p(x) = output probability</b>, and <b>q(x) = Actual probability</b>.\n",
        "\n",
        "The sum is over the three classes A,B and C.In this case the loss is<b>0.479.</b>"
      ]
    },
    {
      "metadata": {
        "id": "K4WWo_83oPrv"
      },
      "cell_type": "markdown",
      "source": [
        "![image.png](attachment:image.png)"
      ]
    },
    {
      "metadata": {
        "id": "whuI-wvGoPrw"
      },
      "cell_type": "markdown",
      "source": [
        "## Training the Model"
      ]
    },
    {
      "metadata": {
        "id": "2Fj3gXXioPrw"
      },
      "cell_type": "markdown",
      "source": [
        "Here is the pseudo-code which we will use to trainthe model"
      ]
    },
    {
      "metadata": {
        "id": "mrWtT_HooPrw"
      },
      "cell_type": "markdown",
      "source": [
        "![image.png](attachment:image.png)"
      ]
    },
    {
      "metadata": {
        "trusted": true,
        "id": "c2bm6RmGoPrw"
      },
      "cell_type": "code",
      "source": [
        "class MnistModel(nn.Module):\n",
        "    def __init__(self):\n",
        "        super().__init__()\n",
        "        self.linear = nn.Linear(input_size, num_classes)\n",
        "\n",
        "    def forward(self, xb):\n",
        "        xb = xb.reshape(-1, 784)\n",
        "        out = self.linear(xb)\n",
        "        return(out)\n",
        "\n",
        "    def training_step(self, batch):\n",
        "        images, labels = batch\n",
        "        out = self(images) ## Generate predictions\n",
        "        loss = F.cross_entropy(out, labels) ## Calculate the loss\n",
        "        return(loss)\n",
        "\n",
        "    def validation_step(self, batch):\n",
        "        images, labels = batch\n",
        "        out = self(images)\n",
        "        loss = F.cross_entropy(out, labels)\n",
        "        acc = accuracy(out, labels)\n",
        "        return({'val_loss':loss, 'val_acc': acc})\n",
        "\n",
        "    def validation_epoch_end(self, outputs):\n",
        "        batch_losses = [x['val_loss'] for x in outputs]\n",
        "        epoch_loss = torch.stack(batch_losses).mean()\n",
        "        batch_accs = [x['val_acc'] for x in outputs]\n",
        "        epoch_acc = torch.stack(batch_accs).mean()\n",
        "        return({'val_loss': epoch_loss.item(), 'val_acc' : epoch_acc.item()})\n",
        "\n",
        "    def epoch_end(self, epoch,result):\n",
        "        print(\"Epoch [{}], val_loss: {:.4f}, val_acc: {:.4f}\".format(epoch, result['val_loss'], result['val_acc']))\n",
        "\n",
        "\n",
        "model = MnistModel()"
      ],
      "execution_count": 18,
      "outputs": []
    },
    {
      "metadata": {
        "trusted": true,
        "id": "ttL_G0KIoPrw"
      },
      "cell_type": "code",
      "source": [
        "def evaluate(model, val_loader):\n",
        "    outputs = [model.validation_step(batch) for batch in val_loader]\n",
        "    return(model.validation_epoch_end(outputs))\n",
        "\n",
        "def fit(epochs, lr, model, train_loader, val_loader, opt_func = torch.optim.SGD):\n",
        "    history = []\n",
        "    optimizer = opt_func(model.parameters(), lr)\n",
        "    for epoch in range(epochs):\n",
        "\n",
        "        ## Training Phas\n",
        "        for batch in train_loader:\n",
        "            loss = model.training_step(batch)\n",
        "            loss.backward()\n",
        "            optimizer.step()\n",
        "            optimizer.zero_grad()\n",
        "\n",
        "        ## Validation phase\n",
        "        result = evaluate(model, val_loader)\n",
        "        model.epoch_end(epoch, result)\n",
        "        history.append(result)\n",
        "    return(history)"
      ],
      "execution_count": 19,
      "outputs": []
    },
    {
      "metadata": {
        "trusted": true,
        "id": "Wfz4qyj1oPrx",
        "outputId": "ee3db6ed-e109-479b-8f37-cfab7e40ab3c",
        "colab": {
          "base_uri": "https://localhost:8080/"
        }
      },
      "cell_type": "code",
      "source": [
        "result0 = evaluate(model, val_loader)\n",
        "result0"
      ],
      "execution_count": 20,
      "outputs": [
        {
          "output_type": "execute_result",
          "data": {
            "text/plain": [
              "{'val_loss': 2.3435800075531006, 'val_acc': 0.06853243708610535}"
            ]
          },
          "metadata": {},
          "execution_count": 20
        }
      ]
    },
    {
      "metadata": {
        "id": "dJir9VIBoPrx"
      },
      "cell_type": "markdown",
      "source": [
        "The initial accuracy is around 8% which is one might expect from a randomly initialized model.\n",
        "\n",
        "We are ready to train the model. Let's train for 5 epochs"
      ]
    },
    {
      "metadata": {
        "trusted": true,
        "id": "kycrbA32oPrx",
        "outputId": "d163b95e-30ac-4966-9116-666f9131c660",
        "colab": {
          "base_uri": "https://localhost:8080/"
        }
      },
      "cell_type": "code",
      "source": [
        "history1 = fit(5, 0.001, model, train_loader, val_loader)"
      ],
      "execution_count": 21,
      "outputs": [
        {
          "output_type": "stream",
          "name": "stdout",
          "text": [
            "Epoch [0], val_loss: 1.9653, val_acc: 0.6093\n",
            "Epoch [1], val_loss: 1.6917, val_acc: 0.7288\n",
            "Epoch [2], val_loss: 1.4879, val_acc: 0.7619\n",
            "Epoch [3], val_loss: 1.3346, val_acc: 0.7794\n",
            "Epoch [4], val_loss: 1.2169, val_acc: 0.7936\n"
          ]
        }
      ]
    },
    {
      "metadata": {
        "trusted": true,
        "id": "LIbsEXKLoPrx",
        "outputId": "755f1f19-bcaa-4cec-9c08-3cc88d114ec7",
        "colab": {
          "base_uri": "https://localhost:8080/"
        }
      },
      "cell_type": "code",
      "source": [
        "history2 = fit(5, 0.001, model, train_loader, val_loader)"
      ],
      "execution_count": 22,
      "outputs": [
        {
          "output_type": "stream",
          "name": "stdout",
          "text": [
            "Epoch [0], val_loss: 1.1246, val_acc: 0.8045\n",
            "Epoch [1], val_loss: 1.0505, val_acc: 0.8136\n",
            "Epoch [2], val_loss: 0.9899, val_acc: 0.8202\n",
            "Epoch [3], val_loss: 0.9396, val_acc: 0.8242\n",
            "Epoch [4], val_loss: 0.8969, val_acc: 0.8280\n"
          ]
        }
      ]
    },
    {
      "metadata": {
        "trusted": true,
        "id": "dJTHO94BoPrx",
        "outputId": "d38a9075-fe09-4985-c098-6c6a0a86f597",
        "colab": {
          "base_uri": "https://localhost:8080/"
        }
      },
      "cell_type": "code",
      "source": [
        "history3 = fit(5, 0.001, model, train_loader, val_loader)"
      ],
      "execution_count": 23,
      "outputs": [
        {
          "output_type": "stream",
          "name": "stdout",
          "text": [
            "Epoch [0], val_loss: 0.8604, val_acc: 0.8326\n",
            "Epoch [1], val_loss: 0.8288, val_acc: 0.8355\n",
            "Epoch [2], val_loss: 0.8010, val_acc: 0.8384\n",
            "Epoch [3], val_loss: 0.7766, val_acc: 0.8405\n",
            "Epoch [4], val_loss: 0.7548, val_acc: 0.8425\n"
          ]
        }
      ]
    },
    {
      "metadata": {
        "trusted": true,
        "id": "3NsCI7w5oPry",
        "outputId": "45b541b7-b8d0-45bd-ed13-d37024307db0",
        "colab": {
          "base_uri": "https://localhost:8080/"
        }
      },
      "cell_type": "code",
      "source": [
        "history4 = fit(5, 0.001, model, train_loader, val_loader)"
      ],
      "execution_count": 24,
      "outputs": [
        {
          "output_type": "stream",
          "name": "stdout",
          "text": [
            "Epoch [0], val_loss: 0.7352, val_acc: 0.8442\n",
            "Epoch [1], val_loss: 0.7176, val_acc: 0.8455\n",
            "Epoch [2], val_loss: 0.7016, val_acc: 0.8475\n",
            "Epoch [3], val_loss: 0.6869, val_acc: 0.8488\n",
            "Epoch [4], val_loss: 0.6735, val_acc: 0.8506\n"
          ]
        }
      ]
    },
    {
      "metadata": {
        "trusted": true,
        "id": "sLUqspieoPry",
        "outputId": "5d1c5070-3f64-4797-c43a-97197d7b555a",
        "colab": {
          "base_uri": "https://localhost:8080/",
          "height": 489
        }
      },
      "cell_type": "code",
      "source": [
        "## Replace these values with your result\n",
        "history = [result0] + history1 + history2 + history3 + history4\n",
        "accuracies = [result['val_acc'] for result in history]\n",
        "plt.plot(accuracies, '-x')\n",
        "plt.xlabel('epoch')\n",
        "plt.ylabel('accuracy')\n",
        "plt.title('Accuracy Vs. No. of epochs')"
      ],
      "execution_count": 25,
      "outputs": [
        {
          "output_type": "execute_result",
          "data": {
            "text/plain": [
              "Text(0.5, 1.0, 'Accuracy Vs. No. of epochs')"
            ]
          },
          "metadata": {},
          "execution_count": 25
        },
        {
          "output_type": "display_data",
          "data": {
            "text/plain": [
              "<Figure size 640x480 with 1 Axes>"
            ],
            "image/png": "[encoded data removed]"
          },
          "metadata": {}
        }
      ]
    },
    {
      "metadata": {
        "id": "ifoheI6doPry"
      },
      "cell_type": "markdown",
      "source": [
        "## Testing with individual images"
      ]
    },
    {
      "metadata": {
        "trusted": true,
        "id": "hMEYggF6oPry"
      },
      "cell_type": "code",
      "source": [
        "## Define the test dataset\n",
        "test_dataset = MNIST(root = 'data/', train = False, transform = transforms.ToTensor())"
      ],
      "execution_count": 26,
      "outputs": []
    },
    {
      "metadata": {
        "trusted": true,
        "id": "C3admEU0oPry",
        "outputId": "1927eda8-ad8f-4ae0-b542-b804e129fdb5",
        "colab": {
          "base_uri": "https://localhost:8080/",
          "height": 465
        }
      },
      "cell_type": "code",
      "source": [
        "img, label = test_dataset[0]\n",
        "plt.imshow(img[0], cmap = 'gray')\n",
        "print(\"shape: \", img.shape)\n",
        "print('Label: ', label)"
      ],
      "execution_count": 27,
      "outputs": [
        {
          "output_type": "stream",
          "name": "stdout",
          "text": [
            "shape:  torch.Size([1, 28, 28])\n",
            "Label:  7\n"
          ]
        },
        {
          "output_type": "display_data",
          "data": {
            "text/plain": [
              "<Figure size 640x480 with 1 Axes>"
            ],
            "image/png": "[encoded data removed]"
          },
          "metadata": {}
        }
      ]
    },
    {
      "metadata": {
        "trusted": true,
        "id": "4tJHRNTaoPrz",
        "outputId": "cde57b8f-444b-443f-e838-cc0de9d97445",
        "colab": {
          "base_uri": "https://localhost:8080/"
        }
      },
      "cell_type": "code",
      "source": [
        "print(img.unsqueeze(0).shape)\n",
        "print(img.shape)"
      ],
      "execution_count": 28,
      "outputs": [
        {
          "output_type": "stream",
          "name": "stdout",
          "text": [
            "torch.Size([1, 1, 28, 28])\n",
            "torch.Size([1, 28, 28])\n"
          ]
        }
      ]
    },
    {
      "metadata": {
        "trusted": true,
        "id": "qCyZ1azRoPrz"
      },
      "cell_type": "code",
      "source": [
        "def predict_image(img, model):\n",
        "    xb = img.unsqueeze(0)\n",
        "    yb = model(xb)\n",
        "    _, preds = torch.max(yb, dim = 1)\n",
        "    return(preds[0].item())"
      ],
      "execution_count": 29,
      "outputs": []
    },
    {
      "metadata": {
        "trusted": true,
        "id": "0ejOdTbKoPrz",
        "outputId": "7436197c-b7e7-4f19-ca72-3a8b38ec2e06",
        "colab": {
          "base_uri": "https://localhost:8080/",
          "height": 447
        }
      },
      "cell_type": "code",
      "source": [
        "img, label = test_dataset[0]\n",
        "plt.imshow(img[0], cmap = 'gray')\n",
        "print('Label:', label, ', Predicted :', predict_image(img, model))"
      ],
      "execution_count": 30,
      "outputs": [
        {
          "output_type": "stream",
          "name": "stdout",
          "text": [
            "Label: 7 , Predicted : 7\n"
          ]
        },
        {
          "output_type": "display_data",
          "data": {
            "text/plain": [
              "<Figure size 640x480 with 1 Axes>"
            ],
            "image/png": "[encoded data removed]"
          },
          "metadata": {}
        }
      ]
    },
    {
      "metadata": {
        "trusted": true,
        "id": "p_peqTgpoPrz",
        "outputId": "fab9eb2e-ea01-42a5-8bb1-101302186804",
        "colab": {
          "base_uri": "https://localhost:8080/",
          "height": 447
        }
      },
      "cell_type": "code",
      "source": [
        "img, label = test_dataset[9]\n",
        "plt.imshow(img[0], cmap = 'gray')\n",
        "print(\"Label:\", label, ',Predicted:', predict_image(img, model))"
      ],
      "execution_count": 31,
      "outputs": [
        {
          "output_type": "stream",
          "name": "stdout",
          "text": [
            "Label: 9 ,Predicted: 9\n"
          ]
        },
        {
          "output_type": "display_data",
          "data": {
            "text/plain": [
              "<Figure size 640x480 with 1 Axes>"
            ],
            "image/png": "[encoded data removed]"
          },
          "metadata": {}
        }
      ]
    },
    {
      "metadata": {
        "trusted": true,
        "id": "XG0z0_1qoPrz",
        "outputId": "d6cb7501-fc28-4af4-d8ff-23922b308b00",
        "colab": {
          "base_uri": "https://localhost:8080/",
          "height": 447
        }
      },
      "cell_type": "code",
      "source": [
        "img, label = test_dataset[25]\n",
        "plt.imshow(img[0], cmap = 'gray')\n",
        "print(\"Label:\", label, ',Predicted:', predict_image(img, model))"
      ],
      "execution_count": 32,
      "outputs": [
        {
          "output_type": "stream",
          "name": "stdout",
          "text": [
            "Label: 0 ,Predicted: 0\n"
          ]
        },
        {
          "output_type": "display_data",
          "data": {
            "text/plain": [
              "<Figure size 640x480 with 1 Axes>"
            ],
            "image/png": "[encoded data removed]"
          },
          "metadata": {}
        }
      ]
    },
    {
      "metadata": {
        "trusted": true,
        "id": "ILz_GyeloPr0",
        "outputId": "60567aaf-21d3-43f7-d8c8-180fc831047c",
        "colab": {
          "base_uri": "https://localhost:8080/",
          "height": 447
        }
      },
      "cell_type": "code",
      "source": [
        "img, label = test_dataset[5000]\n",
        "plt.imshow(img[0], cmap = 'gray')\n",
        "print(\"Label:\", label, ',Predicted:', predict_image(img, model))"
      ],
      "execution_count": 33,
      "outputs": [
        {
          "output_type": "stream",
          "name": "stdout",
          "text": [
            "Label: 3 ,Predicted: 3\n"
          ]
        },
        {
          "output_type": "display_data",
          "data": {
            "text/plain": [
              "<Figure size 640x480 with 1 Axes>"
            ],
            "image/png": "[encoded data removed]"
          },
          "metadata": {}
        }
      ]
    },
    {
      "metadata": {
        "trusted": true,
        "id": "Si47YAIuoPr0",
        "outputId": "e20331da-b112-49a0-b28c-35d023c3f8e2",
        "colab": {
          "base_uri": "https://localhost:8080/"
        }
      },
      "cell_type": "code",
      "source": [
        "test_loader = DataLoader(test_dataset, batch_size = 256)\n",
        "result = evaluate(model, test_loader)\n",
        "result"
      ],
      "execution_count": 34,
      "outputs": [
        {
          "output_type": "execute_result",
          "data": {
            "text/plain": [
              "{'val_loss': 0.6442108154296875, 'val_acc': 0.859179675579071}"
            ]
          },
          "metadata": {},
          "execution_count": 34
        }
      ]
    },
    {
      "metadata": {
        "id": "Kbs67_U4oPr0"
      },
      "cell_type": "markdown",
      "source": [
        "## Saving and loading the Model"
      ]
    },
    {
      "metadata": {
        "trusted": true,
        "id": "kT6zTA-9oPr0"
      },
      "cell_type": "code",
      "source": [
        "torch.save(model.state_dict(), 'mnist-logistic.pth')"
      ],
      "execution_count": 35,
      "outputs": []
    },
    {
      "metadata": {
        "id": "vs0BLNbBoPr0"
      },
      "cell_type": "markdown",
      "source": [
        "The <b>.state_dict</b> method returns an OrderedDict containing all the weights and bias matrices mapped to the right attributes of the model."
      ]
    },
    {
      "metadata": {
        "trusted": true,
        "id": "2SYkrXHaoPr0",
        "outputId": "9ccf9ff1-4bf3-4636-a235-27ad505b44f4",
        "colab": {
          "base_uri": "https://localhost:8080/"
        }
      },
      "cell_type": "code",
      "source": [
        "model.state_dict()"
      ],
      "execution_count": 36,
      "outputs": [
        {
          "output_type": "execute_result",
          "data": {
            "text/plain": [
              "OrderedDict([('linear.weight',\n",
              "              tensor([[ 0.0119, -0.0277,  0.0320,  ...,  0.0211,  0.0343, -0.0055],\n",
              "                      [-0.0300,  0.0112, -0.0072,  ..., -0.0070, -0.0054,  0.0214],\n",
              "                      [ 0.0169, -0.0008,  0.0074,  ...,  0.0175,  0.0058,  0.0351],\n",
              "                      ...,\n",
              "                      [ 0.0223,  0.0177, -0.0027,  ...,  0.0252, -0.0177, -0.0073],\n",
              "                      [ 0.0151, -0.0300, -0.0109,  ...,  0.0318,  0.0340, -0.0350],\n",
              "                      [ 0.0280, -0.0234, -0.0053,  ...,  0.0341, -0.0067, -0.0187]])),\n",
              "             ('linear.bias',\n",
              "              tensor([-0.0625,  0.0635, -0.0171, -0.0011,  0.0365,  0.0434, -0.0180,  0.0223,\n",
              "                      -0.1017, -0.0334]))])"
            ]
          },
          "metadata": {},
          "execution_count": 36
        }
      ]
    },
    {
      "metadata": {
        "trusted": true,
        "id": "ysoxwjlsoPr1",
        "outputId": "b4cfe8e5-61a4-4dc5-9f73-84ff7f89f3f5",
        "colab": {
          "base_uri": "https://localhost:8080/"
        }
      },
      "cell_type": "code",
      "source": [
        "model2 = MnistModel()\n",
        "model2.load_state_dict(torch.load('mnist-logistic.pth'))\n",
        "model2.state_dict()"
      ],
      "execution_count": 37,
      "outputs": [
        {
          "output_type": "execute_result",
          "data": {
            "text/plain": [
              "OrderedDict([('linear.weight',\n",
              "              tensor([[ 0.0119, -0.0277,  0.0320,  ...,  0.0211,  0.0343, -0.0055],\n",
              "                      [-0.0300,  0.0112, -0.0072,  ..., -0.0070, -0.0054,  0.0214],\n",
              "                      [ 0.0169, -0.0008,  0.0074,  ...,  0.0175,  0.0058,  0.0351],\n",
              "                      ...,\n",
              "                      [ 0.0223,  0.0177, -0.0027,  ...,  0.0252, -0.0177, -0.0073],\n",
              "                      [ 0.0151, -0.0300, -0.0109,  ...,  0.0318,  0.0340, -0.0350],\n",
              "                      [ 0.0280, -0.0234, -0.0053,  ...,  0.0341, -0.0067, -0.0187]])),\n",
              "             ('linear.bias',\n",
              "              tensor([-0.0625,  0.0635, -0.0171, -0.0011,  0.0365,  0.0434, -0.0180,  0.0223,\n",
              "                      -0.1017, -0.0334]))])"
            ]
          },
          "metadata": {},
          "execution_count": 37
        }
      ]
    },
    {
      "metadata": {
        "trusted": true,
        "id": "a_LUuedeoPr1",
        "outputId": "fcc1b30d-db08-434a-b101-d89151bec3ba",
        "colab": {
          "base_uri": "https://localhost:8080/"
        }
      },
      "cell_type": "code",
      "source": [
        "test_loader = DataLoader(test_dataset, batch_size = 256)\n",
        "result = evaluate(model2, test_loader)\n",
        "result"
      ],
      "execution_count": 38,
      "outputs": [
        {
          "output_type": "execute_result",
          "data": {
            "text/plain": [
              "{'val_loss': 0.6442108154296875, 'val_acc': 0.859179675579071}"
            ]
          },
          "metadata": {},
          "execution_count": 38
        }
      ]
    },
    {
      "metadata": {
        "id": "bF4lizNHoPr1"
      },
      "cell_type": "markdown",
      "source": [
        "## Credits"
      ]
    },
    {
      "metadata": {
        "id": "pA-azlc6oPr1"
      },
      "cell_type": "markdown",
      "source": [
        "#### [1. https://jovian.ai/aakashns/03-logistic-regression](#1)\n",
        "#### [2. https://deepai.org/machine-learning-glossary-and-terms/softmax-layer](#2)\n",
        "#### [3. https://stackoverflow.com/questions/41990250/what-is-cross-entropy](#3)\n",
        "#### [4. https://en.wikipedia.org/wiki/MNIST_database](#4)\n",
        "#### [5. https://github.com/pytorch/pytorch](#5)"
      ]
    }
  ],
  "metadata": {
    "kernelspec": {
      "display_name": "Python 3",
      "name": "python3"
    },
    "language_info": {
      "pygments_lexer": "ipython3",
      "nbconvert_exporter": "python",
      "version": "3.6.4",
      "file_extension": ".py",
      "codemirror_mode": {
        "name": "ipython",
        "version": 3
      },
      "name": "python",
      "mimetype": "text/x-python"
    },
    "colab": {
      "name": "Solving MNIST using PyTorch",
      "provenance": [],
      "gpuType": "T4",
      "include_colab_link": true
    },
    "accelerator": "GPU"
  },
  "nbformat": 4,
  "nbformat_minor": 0
}