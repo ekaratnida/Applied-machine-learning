{
  "nbformat": 4,
  "nbformat_minor": 0,
  "metadata": {
    "colab": {
      "provenance": [],
      "authorship_tag": "ABX9TyMblyroZaVMnIUwM78ugn+y",
      "include_colab_link": true
    },
    "kernelspec": {
      "name": "python3",
      "display_name": "Python 3"
    },
    "language_info": {
      "name": "python"
    }
  },
  "cells": [
    {
      "cell_type": "markdown",
      "metadata": {
        "id": "view-in-github",
        "colab_type": "text"
      },
      "source": [
        "<a href=\"https://colab.research.google.com/github/ekaratnida/Applied-machine-learning/blob/master/ReadBTCdata2.ipynb\" target=\"_parent\"><img src=\"https://colab.research.google.com/assets/colab-badge.svg\" alt=\"Open In Colab\"/></a>"
      ]
    },
    {
      "cell_type": "code",
      "source": [
        "import time, requests, pandas as pd\n",
        "pd.set_option(\"display.max_colwidth\", None)\n",
        "INFO_URL = \"https://api.hyperliquid.xyz/info\""
      ],
      "metadata": {
        "id": "wMal_8Q_bO_8"
      },
      "execution_count": 1,
      "outputs": []
    },
    {
      "cell_type": "code",
      "source": [
        "def fetch_hl_candles(coin=\"BTC\", interval=\"15m\", days=7):\n",
        "    now_ms = int(time.time() * 1000)\n",
        "    start_ms = now_ms - days * 24 * 60 * 60 * 1000\n",
        "    payload = {\n",
        "        \"type\": \"candleSnapshot\",\n",
        "        \"req\": {\"coin\": coin, \"interval\": interval, \"startTime\": start_ms, \"endTime\": now_ms},\n",
        "    }\n",
        "    r = requests.post(INFO_URL, json=payload, timeout=15)\n",
        "    r.raise_for_status()\n",
        "    data = r.json()  # list of candles\n",
        "    #print(data)\n",
        "    df = pd.DataFrame(data)\n",
        "\n",
        "    # rename and clean\n",
        "    rename = {\"t\":\"open_time\",\"T\":\"close_time\",\"o\":\"open\",\"h\":\"high\",\"l\":\"low\",\"c\":\"close\",\"v\":\"volume\",\"n\":\"trades\",\"i\":\"interval\",\"s\":\"symbol\"}\n",
        "    df = df.rename(columns=rename)\n",
        "    num_cols = [\"open\",\"high\",\"low\",\"close\",\"volume\"]\n",
        "    for c in num_cols:\n",
        "        df[c] = pd.to_numeric(df[c], errors=\"coerce\")\n",
        "    df[\"open_time\"]  = pd.to_datetime(df[\"open_time\"],  unit=\"ms\", utc=True)\n",
        "    df[\"close_time\"] = pd.to_datetime(df[\"close_time\"], unit=\"ms\", utc=True)\n",
        "    return df.sort_values(\"open_time\")"
      ],
      "metadata": {
        "id": "jR2O3MRQVgsn"
      },
      "execution_count": 2,
      "outputs": []
    },
    {
      "cell_type": "code",
      "source": [
        "df = fetch_hl_candles(\"BTC\", \"1h\", days=7)\n",
        "print(df.shape)\n",
        "print(df.tail()) #[[\"open_time\",\"open\",\"high\",\"low\",\"close\"]])\n"
      ],
      "metadata": {
        "colab": {
          "base_uri": "https://localhost:8080/"
        },
        "id": "dAItU-WibhEc",
        "outputId": "231199ea-6411-486d-de5f-898277f900ef"
      },
      "execution_count": 3,
      "outputs": [
        {
          "output_type": "stream",
          "name": "stdout",
          "text": [
            "(169, 10)\n",
            "                    open_time                       close_time symbol  \\\n",
            "164 2025-08-22 08:00:00+00:00 2025-08-22 08:59:59.999000+00:00    BTC   \n",
            "165 2025-08-22 09:00:00+00:00 2025-08-22 09:59:59.999000+00:00    BTC   \n",
            "166 2025-08-22 10:00:00+00:00 2025-08-22 10:59:59.999000+00:00    BTC   \n",
            "167 2025-08-22 11:00:00+00:00 2025-08-22 11:59:59.999000+00:00    BTC   \n",
            "168 2025-08-22 12:00:00+00:00 2025-08-22 12:59:59.999000+00:00    BTC   \n",
            "\n",
            "    interval      open     close      high       low      volume  trades  \n",
            "164       1h  113065.0  112971.0  113284.0  112924.0   385.39413    6475  \n",
            "165       1h  112972.0  113026.0  113102.0  112782.0   276.78663    5941  \n",
            "166       1h  113026.0  112510.0  113042.0  112501.0   340.40292    7396  \n",
            "167       1h  112509.0  112307.0  112613.0  112159.0  1003.36392    9112  \n",
            "168       1h  112307.0  112037.0  112349.0  112000.0   585.08182    6588  \n"
          ]
        }
      ]
    },
    {
      "cell_type": "code",
      "source": [
        "import requests\n",
        "import pandas as pd\n",
        "import time\n",
        "\n",
        "INFO_URL = \"https://api.hyperliquid.xyz/info\"   # replace with correct endpoint\n",
        "NEWS_URL = \"https://newsapi.org/v2/everything\"\n",
        "from google.colab import userdata\n",
        "NEWS_API_KEY = userdata.get('NEWS_API')"
      ],
      "metadata": {
        "id": "RgJcLTUjt024"
      },
      "execution_count": 4,
      "outputs": []
    },
    {
      "cell_type": "code",
      "source": [
        "\n",
        "def fetch_hl_candles(coin=\"BTC\", interval=\"15m\", days=7):\n",
        "    now_ms = int(time.time() * 1000)\n",
        "    start_ms = now_ms - days * 24 * 60 * 60 * 1000\n",
        "    payload = {\n",
        "        \"type\": \"candleSnapshot\",\n",
        "        \"req\": {\"coin\": coin, \"interval\": interval, \"startTime\": start_ms, \"endTime\": now_ms},\n",
        "    }\n",
        "    r = requests.post(INFO_URL, json=payload, timeout=15)\n",
        "    r.raise_for_status()\n",
        "    data = r.json()  # list of candles\n",
        "    df = pd.DataFrame(data)\n",
        "\n",
        "    # rename and clean\n",
        "    rename = {\"t\":\"open_time\",\"T\":\"close_time\",\"o\":\"open\",\"h\":\"high\",\"l\":\"low\",\"c\":\"close\",\n",
        "              \"v\":\"volume\",\"n\":\"trades\",\"i\":\"interval\",\"s\":\"symbol\"}\n",
        "    df = df.rename(columns=rename)\n",
        "    num_cols = [\"open\",\"high\",\"low\",\"close\",\"volume\"]\n",
        "    for c in num_cols:\n",
        "        df[c] = pd.to_numeric(df[c], errors=\"coerce\")\n",
        "    df[\"open_time\"]  = pd.to_datetime(df[\"open_time\"],  unit=\"ms\", utc=True)\n",
        "    df[\"close_time\"] = pd.to_datetime(df[\"close_time\"], unit=\"ms\", utc=True)\n",
        "    return df.sort_values(\"open_time\")\n",
        "\n",
        "\n",
        "def fetch_btc_news(days=7, page_size=10):\n",
        "    now = pd.Timestamp.utcnow()\n",
        "    from_date = (now - pd.Timedelta(days=days)).strftime(\"%Y-%m-%d\")\n",
        "\n",
        "    params = {\n",
        "        \"q\": \"bitcoin OR BTC\",\n",
        "        \"from\": from_date,\n",
        "        \"sortBy\": \"publishedAt\",\n",
        "        \"language\": \"en\",\n",
        "        \"apiKey\": NEWS_API_KEY,\n",
        "        \"pageSize\": page_size\n",
        "    }\n",
        "    r = requests.get(NEWS_URL, params=params, timeout=15)\n",
        "    r.raise_for_status()\n",
        "    articles = r.json().get(\"articles\", [])\n",
        "    df = pd.DataFrame(articles)\n",
        "    if not df.empty:\n",
        "        df[\"publishedAt\"] = pd.to_datetime(df[\"publishedAt\"], utc=True)\n",
        "    return df\n",
        "\n",
        "\n",
        "def sync_price_with_news():\n",
        "    # 1. Fetch candles\n",
        "    candles = fetch_hl_candles()\n",
        "    # 2. Fetch news\n",
        "    news = fetch_btc_news()\n",
        "\n",
        "    if news.empty:\n",
        "        return candles, news\n",
        "\n",
        "    # 3. Merge by time window (map each news item to nearest candle)\n",
        "    merged = pd.merge_asof(\n",
        "        news.sort_values(\"publishedAt\"),\n",
        "        candles.sort_values(\"open_time\"),\n",
        "        left_on=\"publishedAt\",\n",
        "        right_on=\"open_time\",\n",
        "        direction=\"backward\"\n",
        "    )\n",
        "    return merged\n",
        "\n",
        "\n",
        "if __name__ == \"__main__\":\n",
        "    merged_df = sync_price_with_news()\n",
        "    print(merged_df[[\"publishedAt\",\"title\",\"open\",\"close\",\"high\",\"low\",\"volume\"]].head())\n"
      ],
      "metadata": {
        "colab": {
          "base_uri": "https://localhost:8080/"
        },
        "id": "-LUdzf9otxOy",
        "outputId": "0aaf6fb3-8a75-4d39-ac00-fe2a5301642b"
      },
      "execution_count": 5,
      "outputs": [
        {
          "output_type": "stream",
          "name": "stdout",
          "text": [
            "                publishedAt  \\\n",
            "0 2025-08-21 11:55:45+00:00   \n",
            "1 2025-08-21 11:55:53+00:00   \n",
            "2 2025-08-21 12:00:00+00:00   \n",
            "3 2025-08-21 12:00:00+00:00   \n",
            "4 2025-08-21 12:00:00+00:00   \n",
            "\n",
            "                                                                                     title  \\\n",
            "0         Bitcoin Falters in Choppy Market, Ether Stays Resilient: Crypto Daybook Americas   \n",
            "1                  Hong Kong construction firm’s stock jumps on $483M Bitcoin treasury bet   \n",
            "2                     Bitcoin Bombshell: Eric Trump Hints At Secret $22 Billion Nation Buy   \n",
            "3                Markets Today: Bitcoin Bears Start to Emerge, Ye's YZY Surges Then Slumps   \n",
            "4  LendFriend Expands Crypto Mortgage Programs to California, Colorado, Florida, and Texas   \n",
            "\n",
            "       open     close      high       low      volume  \n",
            "0  113326.0  113113.0  113326.0  112956.0  1042.16112  \n",
            "1  113326.0  113113.0  113326.0  112956.0  1042.16112  \n",
            "2  113113.0  113118.0  113173.0  113017.0   100.78287  \n",
            "3  113113.0  113118.0  113173.0  113017.0   100.78287  \n",
            "4  113113.0  113118.0  113173.0  113017.0   100.78287  \n"
          ]
        }
      ]
    },
    {
      "cell_type": "markdown",
      "source": [
        "##Exercise\n",
        "Use multiple APIs from this link (https://github.com/public-apis/public-apis?tab=readme-ov-file\n",
        ") or from other sources to generate a dataset based on your objective."
      ],
      "metadata": {
        "id": "bAySvJ04xSQv"
      }
    },
    {
      "cell_type": "code",
      "source": [],
      "metadata": {
        "id": "YD-Gw205xpTj"
      },
      "execution_count": null,
      "outputs": []
    }
  ]
}