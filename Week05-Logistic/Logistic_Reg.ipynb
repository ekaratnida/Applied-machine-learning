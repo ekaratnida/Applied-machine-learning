{
  "cells": [
    {
      "cell_type": "markdown",
      "metadata": {
        "id": "view-in-github",
        "colab_type": "text"
      },
      "source": [
        "<a href=\"https://colab.research.google.com/github/ekaratnida/Applied-machine-learning/blob/master/Week05-Logistic/Logistic_Reg.ipynb\" target=\"_parent\"><img src=\"https://colab.research.google.com/assets/colab-badge.svg\" alt=\"Open In Colab\"/></a>"
      ]
    },
    {
      "cell_type": "markdown",
      "metadata": {
        "id": "i1P1JR5CL8VB"
      },
      "source": [
        "# Classification"
      ]
    },
    {
      "cell_type": "markdown",
      "metadata": {
        "id": "_VjIl3bmL8VC"
      },
      "source": [
        "# Logistic Regression"
      ]
    },
    {
      "cell_type": "code",
      "execution_count": 1,
      "metadata": {
        "id": "YsIW85lhL8VC"
      },
      "outputs": [],
      "source": [
        "from sklearn.datasets import make_classification\n",
        "import numpy as np"
      ]
    },
    {
      "cell_type": "markdown",
      "metadata": {
        "id": "7PwXY6EaL8VD"
      },
      "source": [
        "# Sigmoid function"
      ]
    },
    {
      "cell_type": "code",
      "execution_count": 2,
      "metadata": {
        "id": "IusVaCo7L8VD"
      },
      "outputs": [],
      "source": [
        "def sigmoid(z):\n",
        "    \"\"\" sigmoid \"\"\"\n",
        "    return 1 / (1 + np.exp(-z))"
      ]
    },
    {
      "cell_type": "markdown",
      "metadata": {
        "id": "0KRT60j_L8VE"
      },
      "source": [
        "# Cost function (NLLLoss)\n"
      ]
    },
    {
      "cell_type": "code",
      "execution_count": 3,
      "metadata": {
        "id": "szSUF9CgL8VE"
      },
      "outputs": [],
      "source": [
        "def cost(x, y, theta):\n",
        "    m = x.shape[0]\n",
        "    h = sigmoid(np.matmul(x, theta))\n",
        "    print(\"h = \",h)\n",
        "    cost = -1* (1/m)*(np.matmul(-y.T, np.log(h)) + np.matmul((1 -y.T), np.log(1 - h)))\n",
        "    return cost"
      ]
    },
    {
      "cell_type": "markdown",
      "metadata": {
        "id": "lDVJ3r-uL8VE"
      },
      "source": [
        "# Gradient descent"
      ]
    },
    {
      "cell_type": "code",
      "execution_count": 4,
      "metadata": {
        "id": "buum9PeWL8VE"
      },
      "outputs": [],
      "source": [
        "def gradient_Descent(theta, alpha, x , y):\n",
        "    m = x.shape[0]\n",
        "    h = sigmoid(theta.T.dot(x.T))\n",
        "    error = h-y\n",
        "    grad = x.T.dot(error.T)\n",
        "    theta = theta - (alpha * grad)/m\n",
        "    return theta"
      ]
    },
    {
      "cell_type": "markdown",
      "metadata": {
        "id": "NpA1eknAL8VF"
      },
      "source": [
        "# Training model"
      ]
    },
    {
      "cell_type": "code",
      "execution_count": 32,
      "metadata": {
        "id": "ty067FuZL8VF",
        "outputId": "a2d35b6a-1703-41e4-b954-3f35a9ab3ea7",
        "colab": {
          "base_uri": "https://localhost:8080/"
        }
      },
      "outputs": [
        {
          "output_type": "stream",
          "name": "stdout",
          "text": [
            "[[ 0.96106455  0.93095988  0.87507402  0.7105399 ]\n",
            " [-0.13406433  0.00470758 -0.89989113  0.62318767]\n",
            " [-0.97772158 -2.55856575  1.64949685 -0.92974401]\n",
            " [ 1.26372099  0.44538374 -0.19533331 -1.97934857]\n",
            " [-0.31859205  0.2193885  -1.03015981 -0.20271649]\n",
            " [ 1.05965521  1.2045055   0.11108051 -1.09376775]\n",
            " [ 0.6404234  -0.36120904 -2.10924743 -0.71156531]\n",
            " [-1.7356517  -1.05194397 -0.75494625  0.61173844]\n",
            " [ 0.9047388   0.97969276  0.32837496  0.12924181]\n",
            " [ 1.44693294  0.14484156 -0.0856099   0.48707415]]\n",
            "[1 0 0 0 0 1 1 0 1 1]\n",
            "[[ 1.          0.96106455  0.93095988  0.87507402  0.7105399 ]\n",
            " [ 1.         -0.13406433  0.00470758 -0.89989113  0.62318767]\n",
            " [ 1.         -0.97772158 -2.55856575  1.64949685 -0.92974401]\n",
            " [ 1.          1.26372099  0.44538374 -0.19533331 -1.97934857]\n",
            " [ 1.         -0.31859205  0.2193885  -1.03015981 -0.20271649]\n",
            " [ 1.          1.05965521  1.2045055   0.11108051 -1.09376775]\n",
            " [ 1.          0.6404234  -0.36120904 -2.10924743 -0.71156531]\n",
            " [ 1.         -1.7356517  -1.05194397 -0.75494625  0.61173844]\n",
            " [ 1.          0.9047388   0.97969276  0.32837496  0.12924181]\n",
            " [ 1.          1.44693294  0.14484156 -0.0856099   0.48707415]]\n",
            "Theta =  [[0.1154843 ]\n",
            " [0.61848026]\n",
            " [0.97425621]\n",
            " [0.990345  ]\n",
            " [0.4090541 ]]\n",
            "h =  [[0.94174083]\n",
            " [0.36368729]\n",
            " [0.13618653]\n",
            " [0.58643926]\n",
            " [0.28086405]\n",
            " [0.83576959]\n",
            " [0.10605466]\n",
            " [0.07603295]\n",
            " [0.8837954 ]\n",
            " [0.78868852]]\n",
            "Cost =  [-0.09539434]\n",
            "Theta =  [[0.11631457]\n",
            " [0.64603546]\n",
            " [0.98097809]\n",
            " [0.95172148]\n",
            " [0.42158679]]\n",
            "h =  [[0.94277149]\n",
            " [0.40340621]\n",
            " [0.08685238]\n",
            " [0.60202465]\n",
            " [0.30586507]\n",
            " [0.84311722]\n",
            " [0.14781705]\n",
            " [0.07135987]\n",
            " [0.8908205 ]\n",
            " [0.8222856 ]]\n",
            "Cost =  [-0.04847757]\n",
            "Theta =  [[0.10903657]\n",
            " [0.76717236]\n",
            " [0.99723893]\n",
            " [0.78143552]\n",
            " [0.48305473]]\n",
            "h =  [[0.9426183  0.42856894 0.06394461 0.60562201 0.319531   0.84388768\n",
            "  0.18086357 0.06833623 0.89339919 0.84126877]]\n",
            "[[1 0 0 1 0 1 0 0 1 1]]\n"
          ]
        }
      ],
      "source": [
        "X, Y = make_classification(n_samples=10, n_features=4, n_redundant=0, n_informative=1,\n",
        "                             n_clusters_per_class=1)\n",
        "\n",
        "print(X)\n",
        "print(Y)\n",
        "\n",
        "X_b = np.c_[np.ones((X.shape[0],1)),X]\n",
        "print(X_b)\n",
        "n_iterations = 10\n",
        "learning_rate = 0.3\n",
        "\n",
        "#init\n",
        "Theta = np.random.random((X_b.shape[1],1))\n",
        "print(\"Theta = \",Theta)\n",
        "\n",
        "for i in range(n_iterations):\n",
        "    Theta = gradient_Descent(Theta, learning_rate, X_b, Y)\n",
        "    if i % 5 == 0:\n",
        "      print(\"Cost = \", cost(X_b, Y, Theta))\n",
        "      print(\"Theta = \", Theta)\n",
        "\n",
        "h = sigmoid(Theta.T.dot(X_b.T))\n",
        "print(\"h = \",h)\n",
        "print((h > .5).astype(int) )"
      ]
    },
    {
      "cell_type": "code",
      "source": [
        "from sklearn.linear_model import LogisticRegression\n",
        "from sklearn.multiclass import OneVsRestClassifier\n",
        "Y = [0, 2, 0,1,1,2,0,1,0,2]\n",
        "clf = OneVsRestClassifier(LogisticRegression()).fit(X, Y)\n",
        "print(\"Actual Y =\",Y)\n",
        "print(clf.predict(X))\n",
        "print(clf.predict_proba(X))\n",
        "clf.score(X, Y)"
      ],
      "metadata": {
        "colab": {
          "base_uri": "https://localhost:8080/"
        },
        "id": "KIFatCrDUrEW",
        "outputId": "73c43023-6dfb-439a-fba1-40dedfbf4869"
      },
      "execution_count": 38,
      "outputs": [
        {
          "output_type": "stream",
          "name": "stdout",
          "text": [
            "Actual Y = [0, 2, 0, 1, 1, 2, 0, 1, 0, 2]\n",
            "[0 0 0 0 1 0 1 1 0 0]\n",
            "[[0.48395516 0.08845442 0.42759041]\n",
            " [0.34145623 0.32215342 0.33639035]\n",
            " [0.67362078 0.27063689 0.05574233]\n",
            " [0.37846875 0.35278741 0.26874383]\n",
            " [0.26295067 0.47661911 0.26043022]\n",
            " [0.35747403 0.28544748 0.35707849]\n",
            " [0.25506835 0.44195215 0.3029795 ]\n",
            " [0.3201187  0.53760181 0.14227949]\n",
            " [0.42323925 0.16054884 0.41621192]\n",
            " [0.47916423 0.08738092 0.43345485]]\n"
          ]
        },
        {
          "output_type": "execute_result",
          "data": {
            "text/plain": [
              "0.5"
            ]
          },
          "metadata": {},
          "execution_count": 38
        }
      ]
    },
    {
      "cell_type": "markdown",
      "metadata": {
        "id": "hj2RuXR6L8VG"
      },
      "source": [
        "# SKLearn"
      ]
    },
    {
      "cell_type": "code",
      "execution_count": 19,
      "metadata": {
        "id": "4MgOhfe0L8VG",
        "outputId": "ac81ace8-58ac-4913-c790-f6dd81f2d0cd",
        "colab": {
          "base_uri": "https://localhost:8080/"
        }
      },
      "outputs": [
        {
          "output_type": "stream",
          "name": "stdout",
          "text": [
            "[[5.1 3.5 1.4 0.2]\n",
            " [4.9 3.  1.4 0.2]\n",
            " [4.7 3.2 1.3 0.2]\n",
            " [4.6 3.1 1.5 0.2]\n",
            " [5.  3.6 1.4 0.2]\n",
            " [5.4 3.9 1.7 0.4]\n",
            " [4.6 3.4 1.4 0.3]\n",
            " [5.  3.4 1.5 0.2]\n",
            " [4.4 2.9 1.4 0.2]\n",
            " [4.9 3.1 1.5 0.1]\n",
            " [5.4 3.7 1.5 0.2]\n",
            " [4.8 3.4 1.6 0.2]\n",
            " [4.8 3.  1.4 0.1]\n",
            " [4.3 3.  1.1 0.1]\n",
            " [5.8 4.  1.2 0.2]\n",
            " [5.7 4.4 1.5 0.4]\n",
            " [5.4 3.9 1.3 0.4]\n",
            " [5.1 3.5 1.4 0.3]\n",
            " [5.7 3.8 1.7 0.3]\n",
            " [5.1 3.8 1.5 0.3]\n",
            " [5.4 3.4 1.7 0.2]\n",
            " [5.1 3.7 1.5 0.4]\n",
            " [4.6 3.6 1.  0.2]\n",
            " [5.1 3.3 1.7 0.5]\n",
            " [4.8 3.4 1.9 0.2]\n",
            " [5.  3.  1.6 0.2]\n",
            " [5.  3.4 1.6 0.4]\n",
            " [5.2 3.5 1.5 0.2]\n",
            " [5.2 3.4 1.4 0.2]\n",
            " [4.7 3.2 1.6 0.2]\n",
            " [4.8 3.1 1.6 0.2]\n",
            " [5.4 3.4 1.5 0.4]\n",
            " [5.2 4.1 1.5 0.1]\n",
            " [5.5 4.2 1.4 0.2]\n",
            " [4.9 3.1 1.5 0.2]\n",
            " [5.  3.2 1.2 0.2]\n",
            " [5.5 3.5 1.3 0.2]\n",
            " [4.9 3.6 1.4 0.1]\n",
            " [4.4 3.  1.3 0.2]\n",
            " [5.1 3.4 1.5 0.2]\n",
            " [5.  3.5 1.3 0.3]\n",
            " [4.5 2.3 1.3 0.3]\n",
            " [4.4 3.2 1.3 0.2]\n",
            " [5.  3.5 1.6 0.6]\n",
            " [5.1 3.8 1.9 0.4]\n",
            " [4.8 3.  1.4 0.3]\n",
            " [5.1 3.8 1.6 0.2]\n",
            " [4.6 3.2 1.4 0.2]\n",
            " [5.3 3.7 1.5 0.2]\n",
            " [5.  3.3 1.4 0.2]\n",
            " [7.  3.2 4.7 1.4]\n",
            " [6.4 3.2 4.5 1.5]\n",
            " [6.9 3.1 4.9 1.5]\n",
            " [5.5 2.3 4.  1.3]\n",
            " [6.5 2.8 4.6 1.5]\n",
            " [5.7 2.8 4.5 1.3]\n",
            " [6.3 3.3 4.7 1.6]\n",
            " [4.9 2.4 3.3 1. ]\n",
            " [6.6 2.9 4.6 1.3]\n",
            " [5.2 2.7 3.9 1.4]\n",
            " [5.  2.  3.5 1. ]\n",
            " [5.9 3.  4.2 1.5]\n",
            " [6.  2.2 4.  1. ]\n",
            " [6.1 2.9 4.7 1.4]\n",
            " [5.6 2.9 3.6 1.3]\n",
            " [6.7 3.1 4.4 1.4]\n",
            " [5.6 3.  4.5 1.5]\n",
            " [5.8 2.7 4.1 1. ]\n",
            " [6.2 2.2 4.5 1.5]\n",
            " [5.6 2.5 3.9 1.1]\n",
            " [5.9 3.2 4.8 1.8]\n",
            " [6.1 2.8 4.  1.3]\n",
            " [6.3 2.5 4.9 1.5]\n",
            " [6.1 2.8 4.7 1.2]\n",
            " [6.4 2.9 4.3 1.3]\n",
            " [6.6 3.  4.4 1.4]\n",
            " [6.8 2.8 4.8 1.4]\n",
            " [6.7 3.  5.  1.7]\n",
            " [6.  2.9 4.5 1.5]\n",
            " [5.7 2.6 3.5 1. ]\n",
            " [5.5 2.4 3.8 1.1]\n",
            " [5.5 2.4 3.7 1. ]\n",
            " [5.8 2.7 3.9 1.2]\n",
            " [6.  2.7 5.1 1.6]\n",
            " [5.4 3.  4.5 1.5]\n",
            " [6.  3.4 4.5 1.6]\n",
            " [6.7 3.1 4.7 1.5]\n",
            " [6.3 2.3 4.4 1.3]\n",
            " [5.6 3.  4.1 1.3]\n",
            " [5.5 2.5 4.  1.3]\n",
            " [5.5 2.6 4.4 1.2]\n",
            " [6.1 3.  4.6 1.4]\n",
            " [5.8 2.6 4.  1.2]\n",
            " [5.  2.3 3.3 1. ]\n",
            " [5.6 2.7 4.2 1.3]\n",
            " [5.7 3.  4.2 1.2]\n",
            " [5.7 2.9 4.2 1.3]\n",
            " [6.2 2.9 4.3 1.3]\n",
            " [5.1 2.5 3.  1.1]\n",
            " [5.7 2.8 4.1 1.3]\n",
            " [6.3 3.3 6.  2.5]\n",
            " [5.8 2.7 5.1 1.9]\n",
            " [7.1 3.  5.9 2.1]\n",
            " [6.3 2.9 5.6 1.8]\n",
            " [6.5 3.  5.8 2.2]\n",
            " [7.6 3.  6.6 2.1]\n",
            " [4.9 2.5 4.5 1.7]\n",
            " [7.3 2.9 6.3 1.8]\n",
            " [6.7 2.5 5.8 1.8]\n",
            " [7.2 3.6 6.1 2.5]\n",
            " [6.5 3.2 5.1 2. ]\n",
            " [6.4 2.7 5.3 1.9]\n",
            " [6.8 3.  5.5 2.1]\n",
            " [5.7 2.5 5.  2. ]\n",
            " [5.8 2.8 5.1 2.4]\n",
            " [6.4 3.2 5.3 2.3]\n",
            " [6.5 3.  5.5 1.8]\n",
            " [7.7 3.8 6.7 2.2]\n",
            " [7.7 2.6 6.9 2.3]\n",
            " [6.  2.2 5.  1.5]\n",
            " [6.9 3.2 5.7 2.3]\n",
            " [5.6 2.8 4.9 2. ]\n",
            " [7.7 2.8 6.7 2. ]\n",
            " [6.3 2.7 4.9 1.8]\n",
            " [6.7 3.3 5.7 2.1]\n",
            " [7.2 3.2 6.  1.8]\n",
            " [6.2 2.8 4.8 1.8]\n",
            " [6.1 3.  4.9 1.8]\n",
            " [6.4 2.8 5.6 2.1]\n",
            " [7.2 3.  5.8 1.6]\n",
            " [7.4 2.8 6.1 1.9]\n",
            " [7.9 3.8 6.4 2. ]\n",
            " [6.4 2.8 5.6 2.2]\n",
            " [6.3 2.8 5.1 1.5]\n",
            " [6.1 2.6 5.6 1.4]\n",
            " [7.7 3.  6.1 2.3]\n",
            " [6.3 3.4 5.6 2.4]\n",
            " [6.4 3.1 5.5 1.8]\n",
            " [6.  3.  4.8 1.8]\n",
            " [6.9 3.1 5.4 2.1]\n",
            " [6.7 3.1 5.6 2.4]\n",
            " [6.9 3.1 5.1 2.3]\n",
            " [5.8 2.7 5.1 1.9]\n",
            " [6.8 3.2 5.9 2.3]\n",
            " [6.7 3.3 5.7 2.5]\n",
            " [6.7 3.  5.2 2.3]\n",
            " [6.3 2.5 5.  1.9]\n",
            " [6.5 3.  5.2 2. ]\n",
            " [6.2 3.4 5.4 2.3]\n",
            " [5.9 3.  5.1 1.8]]\n",
            "[0 0 0 0 0 0 0 0 0 0 0 0 0 0 0 0 0 0 0 0 0 0 0 0 0 0 0 0 0 0 0 0 0 0 0 0 0\n",
            " 0 0 0 0 0 0 0 0 0 0 0 0 0 1 1 1 1 1 1 1 1 1 1 1 1 1 1 1 1 1 1 1 1 1 1 1 1\n",
            " 1 1 1 1 1 1 1 1 1 1 1 1 1 1 1 1 1 1 1 1 1 1 1 1 1 1 2 2 2 2 2 2 2 2 2 2 2\n",
            " 2 2 2 2 2 2 2 2 2 2 2 2 2 2 2 2 2 2 2 2 2 2 2 2 2 2 2 2 2 2 2 2 2 2 2 2 2\n",
            " 2 2]\n",
            "[2 2]\n"
          ]
        },
        {
          "output_type": "stream",
          "name": "stderr",
          "text": [
            "/usr/local/lib/python3.11/dist-packages/sklearn/linear_model/_logistic.py:465: ConvergenceWarning: lbfgs failed to converge (status=1):\n",
            "STOP: TOTAL NO. of ITERATIONS REACHED LIMIT.\n",
            "\n",
            "Increase the number of iterations (max_iter) or scale the data as shown in:\n",
            "    https://scikit-learn.org/stable/modules/preprocessing.html\n",
            "Please also refer to the documentation for alternative solver options:\n",
            "    https://scikit-learn.org/stable/modules/linear_model.html#logistic-regression\n",
            "  n_iter_i = _check_optimize_result(\n"
          ]
        }
      ],
      "source": [
        "from sklearn.datasets import load_iris\n",
        "from sklearn.linear_model import LogisticRegression\n",
        "X, y = load_iris(return_X_y=True)\n",
        "print(X)\n",
        "print(y)\n",
        "clf = LogisticRegression(random_state=0).fit(X, y)\n",
        "print(clf.predict(X[-2:, :]))\n",
        "#clf.predict_proba(X[:2, :])\n",
        "#clf.score(X, y)\n"
      ]
    },
    {
      "cell_type": "code",
      "execution_count": 21,
      "metadata": {
        "id": "5_b1reBrL8VG",
        "outputId": "0b518b1a-52c3-48ab-fc84-f7657ef0b4af",
        "colab": {
          "base_uri": "https://localhost:8080/",
          "height": 307
        }
      },
      "outputs": [
        {
          "output_type": "display_data",
          "data": {
            "text/plain": [
              "<Figure size 400x300 with 1 Axes>"
            ],
            "image/png": "[encoded data removed]"
          },
          "metadata": {}
        }
      ],
      "source": [
        "# Code source: Gael Varoquaux\n",
        "# License: BSD 3 clause\n",
        "\n",
        "import numpy as np\n",
        "import matplotlib.pyplot as plt\n",
        "\n",
        "from sklearn import linear_model\n",
        "from scipy.special import expit\n",
        "\n",
        "# General a toy dataset:s it's just a straight line with some Gaussian noise:\n",
        "xmin, xmax = -5, 5\n",
        "n_samples = 100\n",
        "np.random.seed(0)\n",
        "X = np.random.normal(size=n_samples)\n",
        "y = (X > 0).astype(np.float64)\n",
        "X[X > 0] *= 4\n",
        "X += .3 * np.random.normal(size=n_samples)\n",
        "\n",
        "X = X[:, np.newaxis]\n",
        "\n",
        "# Fit the classifier\n",
        "clf = linear_model.LogisticRegression(C=1e5)\n",
        "clf.fit(X, y)\n",
        "\n",
        "# and plot the result\n",
        "plt.figure(1, figsize=(4, 3))\n",
        "plt.clf()\n",
        "plt.scatter(X.ravel(), y, color='black', zorder=20)\n",
        "X_test = np.linspace(-5, 10, 300)\n",
        "\n",
        "loss = expit(X_test * clf.coef_ + clf.intercept_).ravel()\n",
        "plt.plot(X_test, loss, color='red', linewidth=3)\n",
        "\n",
        "ols = linear_model.LinearRegression()\n",
        "ols.fit(X, y)\n",
        "plt.plot(X_test, ols.coef_ * X_test + ols.intercept_, linewidth=1)\n",
        "plt.axhline(.5, color='.5')\n",
        "\n",
        "plt.ylabel('y')\n",
        "plt.xlabel('X')\n",
        "plt.xticks(range(-5, 10))\n",
        "plt.yticks([0, 0.5, 1])\n",
        "plt.ylim(-.25, 1.25)\n",
        "plt.xlim(-4, 10)\n",
        "plt.legend(('Logistic Regression Model', 'Linear Regression Model'),\n",
        "           loc=\"lower right\", fontsize='small')\n",
        "plt.tight_layout()\n",
        "plt.show()"
      ]
    },
    {
      "cell_type": "code",
      "execution_count": 22,
      "metadata": {
        "id": "oQRbmyPwL8VH",
        "outputId": "b111503a-4289-41ed-efc2-3325da472965",
        "colab": {
          "base_uri": "https://localhost:8080/",
          "height": 287
        }
      },
      "outputs": [
        {
          "output_type": "display_data",
          "data": {
            "text/plain": [
              "<Figure size 400x300 with 1 Axes>"
            ],
            "image/png": "[encoded data removed]"
          },
          "metadata": {}
        }
      ],
      "source": [
        "# Code source: Gaël Varoquaux\n",
        "# Modified for documentation by Jaques Grobler\n",
        "# License: BSD 3 clause\n",
        "\n",
        "import numpy as np\n",
        "import matplotlib.pyplot as plt\n",
        "from sklearn.linear_model import LogisticRegression\n",
        "from sklearn import datasets\n",
        "\n",
        "# import some data to play with\n",
        "iris = datasets.load_iris()\n",
        "X = iris.data[:, :2]  # we only take the first two features.\n",
        "Y = iris.target\n",
        "\n",
        "logreg = LogisticRegression(C=1e5)\n",
        "\n",
        "# Create an instance of Logistic Regression Classifier and fit the data.\n",
        "logreg.fit(X, Y)\n",
        "\n",
        "# Plot the decision boundary. For that, we will assign a color to each\n",
        "# point in the mesh [x_min, x_max]x[y_min, y_max].\n",
        "x_min, x_max = X[:, 0].min() - .5, X[:, 0].max() + .5\n",
        "y_min, y_max = X[:, 1].min() - .5, X[:, 1].max() + .5\n",
        "h = .02  # step size in the mesh\n",
        "xx, yy = np.meshgrid(np.arange(x_min, x_max, h), np.arange(y_min, y_max, h))\n",
        "Z = logreg.predict(np.c_[xx.ravel(), yy.ravel()])\n",
        "\n",
        "# Put the result into a color plot\n",
        "Z = Z.reshape(xx.shape)\n",
        "plt.figure(1, figsize=(4, 3))\n",
        "plt.pcolormesh(xx, yy, Z, cmap=plt.cm.Paired)\n",
        "\n",
        "# Plot also the training points\n",
        "plt.scatter(X[:, 0], X[:, 1], c=Y, edgecolors='k', cmap=plt.cm.Paired)\n",
        "plt.xlabel('Sepal length')\n",
        "plt.ylabel('Sepal width')\n",
        "\n",
        "plt.xlim(xx.min(), xx.max())\n",
        "plt.ylim(yy.min(), yy.max())\n",
        "plt.xticks(())\n",
        "plt.yticks(())\n",
        "\n",
        "plt.show()"
      ]
    },
    {
      "cell_type": "code",
      "execution_count": 29,
      "metadata": {
        "id": "p7LFdTquL8VO",
        "colab": {
          "base_uri": "https://localhost:8080/",
          "height": 447
        },
        "outputId": "0cbf63e3-e678-4002-cf58-bcd3db658b5b"
      },
      "outputs": [
        {
          "output_type": "execute_result",
          "data": {
            "text/plain": [
              "<sklearn.inspection._plot.decision_boundary.DecisionBoundaryDisplay at 0x7da67d5498d0>"
            ]
          },
          "metadata": {},
          "execution_count": 29
        },
        {
          "output_type": "display_data",
          "data": {
            "text/plain": [
              "<Figure size 640x480 with 1 Axes>"
            ],
            "image/png": "[encoded data removed]"
          },
          "metadata": {}
        }
      ],
      "source": [
        "from sklearn.inspection import DecisionBoundaryDisplay\n",
        "display = DecisionBoundaryDisplay(\n",
        "    xx0=xx, xx1=yy, response=Z\n",
        ")\n",
        "display.plot()"
      ]
    }
  ],
  "metadata": {
    "kernelspec": {
      "display_name": "Python 3",
      "language": "python",
      "name": "python3"
    },
    "language_info": {
      "codemirror_mode": {
        "name": "ipython",
        "version": 3
      },
      "file_extension": ".py",
      "mimetype": "text/x-python",
      "name": "python",
      "nbconvert_exporter": "python",
      "pygments_lexer": "ipython3",
      "version": "3.7.4"
    },
    "colab": {
      "provenance": [],
      "include_colab_link": true
    }
  },
  "nbformat": 4,
  "nbformat_minor": 0
}