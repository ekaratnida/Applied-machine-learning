{
  "metadata": {
    "language_info": {
      "codemirror_mode": {
        "name": "ipython",
        "version": 3
      },
      "file_extension": ".py",
      "mimetype": "text/x-python",
      "name": "python",
      "nbconvert_exporter": "python",
      "pygments_lexer": "ipython3",
      "version": "3.7.10"
    },
    "orig_nbformat": 2,
    "kernelspec": {
      "name": "python3710jvsc74a57bd0563d867f513b1db22a50c0772d3498166496ad16228d7c1d495fd4c7e7a93ad6",
      "display_name": "Python 3.7.10 64-bit ('graph': conda)"
    },
    "metadata": {
      "interpreter": {
        "hash": "31f2aee4e71d21fbe5cf8b01ff0e069b9275f58929596ceb00d14d90e3e16cd6"
      }
    },
    "colab": {
      "provenance": [],
      "include_colab_link": true
    }
  },
  "nbformat": 4,
  "nbformat_minor": 0,
  "cells": [
    {
      "cell_type": "markdown",
      "metadata": {
        "id": "view-in-github",
        "colab_type": "text"
      },
      "source": [
        "<a href=\"https://colab.research.google.com/github/ekaratnida/Applied-machine-learning/blob/master/sna/fraud/40_test_data.ipynb\" target=\"_parent\"><img src=\"https://colab.research.google.com/assets/colab-badge.svg\" alt=\"Open In Colab\"/></a>"
      ]
    },
    {
      "source": [
        "# Data Preparation\n",
        "\n",
        "In this notebook, we will re-construct the dataset.\n",
        "\n",
        "Graph Neural Networks work by learning representation for nodes or edges of a graph that are well suited for some downstream task. We can model the fraud detection problem as a node classification task, and the goal of the graph neural network would be to learn how to use information from the topology of the sub-graph for each transaction node to transform the node's features to a representation space where the node can be easily classified as fraud or not.\n",
        "\n",
        "Specifically, we will be using a relational graph convolutional neural network model (R-GCN) on a heterogeneous graph since we have nodes and edges of different types."
      ],
      "cell_type": "markdown",
      "metadata": {
        "id": "D3qdR2yh28Ep"
      }
    },
    {
      "source": [
        "## Set up Colab environment"
      ],
      "cell_type": "markdown",
      "metadata": {
        "id": "7EVPGrtK28Er"
      }
    },
    {
      "cell_type": "code",
      "execution_count": null,
      "metadata": {
        "id": "QwVdnNTh28Es",
        "outputId": "d0032fd8-4e74-4cda-ad5b-14ced128348d",
        "colab": {
          "base_uri": "https://localhost:8080/"
        }
      },
      "outputs": [
        {
          "output_type": "stream",
          "name": "stdout",
          "text": [
            "Drive already mounted at /content/drive; to attempt to forcibly remount, call drive.mount(\"/content/drive\", force_remount=True).\n"
          ]
        }
      ],
      "source": [
        "from google.colab import drive\n",
        "drive.mount('/content/drive')"
      ]
    },
    {
      "cell_type": "code",
      "execution_count": null,
      "metadata": {
        "id": "BvnC0hmM28Et",
        "outputId": "b84d0bab-ac2d-4e8d-efcb-561cf155e9ab",
        "colab": {
          "base_uri": "https://localhost:8080/"
        }
      },
      "outputs": [
        {
          "output_type": "stream",
          "name": "stdout",
          "text": [
            "/content/drive/MyDrive/graph-fraud-detection\n"
          ]
        }
      ],
      "source": [
        "import os\n",
        "cur_path = \"/content/drive/MyDrive/graph-fraud-detection/\"\n",
        "os.chdir(cur_path)\n",
        "!pwd"
      ]
    },
    {
      "source": [
        "## Data Overview\n",
        "\n",
        "Import the numpy and pandas modules."
      ],
      "cell_type": "markdown",
      "metadata": {
        "id": "-JhB7M7-28Et"
      }
    },
    {
      "cell_type": "code",
      "execution_count": null,
      "metadata": {
        "id": "NSN-soi328Et"
      },
      "outputs": [],
      "source": [
        "import numpy as np\n",
        "import pandas as pd"
      ]
    },
    {
      "source": [
        "## Data Description\n",
        "\n",
        "### Transaction Table\n",
        "- TransactionDT: timedelta from a given reference datetime (not an actual timestamp)\n",
        "- TransactionAMT: transaction payment amount in USD\n",
        "- ProductCD: product code, the product for each transaction\n",
        "- card1 - card6: payment card information, such as card type, card category, issue bank, country, etc.\n",
        "- addr: address\n",
        "- dist: distance\n",
        "- P_ and (R__) emaildomain: purchaser and recipient email domain\n",
        "- C1-C14: counting, such as how many addresses are found to be associated with the payment card, etc. The actual meaning is masked.\n",
        "- D1-D15: timedelta, such as days between previous transaction, etc.\n",
        "- M1-M9: match, such as names on card and address, etc.\n",
        "- Vxxx: Vesta engineered rich features, including ranking, counting, and other entity relations.\n",
        "\n",
        "Categorical Features:\n",
        "- ProductCD\n",
        "- card1 - card6\n",
        "- addr1, addr2\n",
        "- P_emaildomain\n",
        "- R_emaildomain\n",
        "- M1 - M9\n",
        "\n",
        "## Identity Table\n",
        "Variables in this table are identity information – network connection information (IP, ISP, Proxy, etc) and digital signature (UA/browser/os/version, etc) associated with transactions.\n",
        "They're collected by Vesta’s fraud protection system and digital security partners.\n",
        "(The field names are masked and pairwise dictionary will not be provided for privacy protection and contract agreement)\n",
        "\n",
        "Categorical Features:\n",
        "- DeviceType\n",
        "- DeviceInfo\n",
        "- id_12 - id_38"
      ],
      "cell_type": "markdown",
      "metadata": {
        "id": "hwie0S3d28Eu"
      }
    },
    {
      "cell_type": "code",
      "execution_count": null,
      "metadata": {
        "id": "LNIDG22T28Eu"
      },
      "outputs": [],
      "source": [
        "transaction_df = pd.read_csv('./ieee-data/train_transaction.csv')\n",
        "identity_df = pd.read_csv('./ieee-data/train_identity.csv')\n",
        "test_transaction = pd.read_csv('./ieee-data/test_transaction.csv')\n",
        "test_identity = pd.read_csv('./ieee-data/test_identity.csv')"
      ]
    },
    {
      "source": [
        "We provide a general processing framework to convert a relational table to heterogeneous graph edgelists based on the column types of the relational table. Some of the data transformation and feature engineering techniques include:\n",
        "\n",
        "- Performing numerical encoding for categorical variables and logarithmic transformation for transaction amount\n",
        "- Constructing graph edgelists between transactions and other entities for the various relation types\n",
        "\n",
        "The inputs to the data preprocessing script are passed in as python command line arguments. All the columns in the relational table are classifed into one of 3 types for the purposes of data transformation:\n",
        "\n",
        "- Identity columns --id-cols: columns that contain identity information related to a user or transaction for example IP address, Phone Number, device identifiers etc. These column types become node types in the heterogeneous graph, and the entries in these columns become the nodes. The column names for these column types need to passed in to the script.\n",
        "\n",
        "- Categorical columns --cat-cols: columns that correspond to categorical features for a user's age group or whether a provided address matches with an address on file. The entries in these columns undergo numerical feature transformation and are used as node attributes in the heterogeneous graph. The columns names for these column types also needs to be passed in to the script\n",
        "\n",
        "- Numerical columns: columns that correspond to numerical features like how many times a user has tried a transaction and so on. The entries here are also used as node attributes in the heterogeneous graph. The script assumes that all columns in the tables that are not identity columns or categorical columns are numerical columns"
      ],
      "cell_type": "markdown",
      "metadata": {
        "id": "__XDRfoD28Eu"
      }
    },
    {
      "cell_type": "code",
      "execution_count": null,
      "metadata": {
        "id": "vrFLbdU328Ev"
      },
      "outputs": [],
      "source": [
        "id_cols = ['card1','card2','card3','card4','card5','card6','ProductCD','addr1','addr2','P_emaildomain','R_emaildomain']\n",
        "cat_cols = ['M1','M2','M3','M4','M5','M6','M7','M8','M9']\n",
        "train_data_ratio = 0.8"
      ]
    },
    {
      "source": [
        "Based on the train/test ratio we assigned before, extact the IDs of test data."
      ],
      "cell_type": "markdown",
      "metadata": {
        "id": "B2Yrn1d128Ev"
      }
    },
    {
      "cell_type": "code",
      "source": [
        "transaction_df = transaction_df.sample(frac=0.2,random_state=1)"
      ],
      "metadata": {
        "id": "vVw_2WPRBL4t"
      },
      "execution_count": null,
      "outputs": []
    },
    {
      "cell_type": "code",
      "source": [
        "transaction_df.shape"
      ],
      "metadata": {
        "id": "C7_S6ihKDP_a",
        "outputId": "e56a21c4-1502-462a-fbba-865f6b93ae87",
        "colab": {
          "base_uri": "https://localhost:8080/"
        }
      },
      "execution_count": null,
      "outputs": [
        {
          "output_type": "execute_result",
          "data": {
            "text/plain": [
              "(59054, 394)"
            ]
          },
          "metadata": {},
          "execution_count": 13
        }
      ]
    },
    {
      "cell_type": "code",
      "execution_count": null,
      "metadata": {
        "id": "b0sxRRUG28Ev"
      },
      "outputs": [],
      "source": [
        "n_train = int(transaction_df.shape[0]*train_data_ratio)\n",
        "test_ids = transaction_df.TransactionID.values[n_train:]"
      ]
    },
    {
      "cell_type": "code",
      "execution_count": null,
      "metadata": {
        "id": "jdUNrVFg28Ev",
        "outputId": "0eb4df29-9e63-4900-da9f-7d2dffc3e66e",
        "colab": {
          "base_uri": "https://localhost:8080/"
        }
      },
      "outputs": [
        {
          "output_type": "stream",
          "name": "stdout",
          "text": [
            "Percent fraud for train transactions: 3.4798806172342993\n",
            "Percent fraud for test transactions: 3.7592075184150366\n",
            "Percent fraud for all transactions: 3.535746943475463\n"
          ]
        }
      ],
      "source": [
        "get_fraud_frac = lambda series: 100 * sum(series)/len(series)\n",
        "print(\"Percent fraud for train transactions: {}\".format(get_fraud_frac(transaction_df.isFraud[:n_train])))\n",
        "print(\"Percent fraud for test transactions: {}\".format(get_fraud_frac(transaction_df.isFraud[n_train:])))\n",
        "print(\"Percent fraud for all transactions: {}\".format(get_fraud_frac(transaction_df.isFraud)))"
      ]
    },
    {
      "source": [
        " Save test IDs into the `test.csv` file"
      ],
      "cell_type": "markdown",
      "metadata": {
        "id": "3U3SQxYq28Ev"
      }
    },
    {
      "cell_type": "code",
      "source": [
        "'''transaction_df.isFraud.value_counts()\n",
        "# Separate the classes\n",
        "df_pos = transaction_df[transaction_df['isFraud'] == 1]\n",
        "df_neg = transaction_df[transaction_df['isFraud'] == 0]\n",
        "\n",
        "# Downsample negative class to match positive class size\n",
        "df_neg_downsampled = df_neg.sample(n=len(df_pos), random_state=42)\n",
        "\n",
        "# Combine\n",
        "transaction_df = pd.concat([df_pos, df_neg_downsampled], ignore_index=True)'''\n"
      ],
      "metadata": {
        "id": "mk5HHgum6egl"
      },
      "execution_count": null,
      "outputs": []
    },
    {
      "cell_type": "code",
      "execution_count": null,
      "metadata": {
        "id": "ZxkG5e_T28Ev"
      },
      "outputs": [],
      "source": [
        "with open('data/test.csv', 'w') as f:\n",
        "    f.writelines(map(lambda x: str(x) + \"\\n\", test_ids))"
      ]
    },
    {
      "source": [
        "Based on the standard we talked about before, define non-feature-columns and feature-columns for creating graph."
      ],
      "cell_type": "markdown",
      "metadata": {
        "id": "3Trbuo1P28Ew"
      }
    },
    {
      "cell_type": "code",
      "execution_count": null,
      "metadata": {
        "id": "ve7c7n8028Ew",
        "outputId": "026666ed-287a-4452-84b0-83bf803d2fef",
        "colab": {
          "base_uri": "https://localhost:8080/"
        }
      },
      "outputs": [
        {
          "output_type": "stream",
          "name": "stdout",
          "text": [
            "['isFraud', 'TransactionDT', 'card1', 'card2', 'card3', 'card4', 'card5', 'card6', 'ProductCD', 'addr1', 'addr2', 'P_emaildomain', 'R_emaildomain']\n"
          ]
        }
      ],
      "source": [
        "non_feature_cols = ['isFraud', 'TransactionDT'] + id_cols\n",
        "print(non_feature_cols)"
      ]
    },
    {
      "cell_type": "code",
      "execution_count": null,
      "metadata": {
        "id": "oaXqxvS828Ew",
        "outputId": "a87910f6-5dec-4409-c8cb-34b7fa084539",
        "colab": {
          "base_uri": "https://localhost:8080/"
        }
      },
      "outputs": [
        {
          "output_type": "stream",
          "name": "stdout",
          "text": [
            "['TransactionID', 'TransactionAmt', 'dist1', 'dist2', 'C1', 'C2', 'C3', 'C4', 'C5', 'C6', 'C7', 'C8', 'C9', 'C10', 'C11', 'C12', 'C13', 'C14', 'D1', 'D2', 'D3', 'D4', 'D5', 'D6', 'D7', 'D8', 'D9', 'D10', 'D11', 'D12', 'D13', 'D14', 'D15', 'M1', 'M2', 'M3', 'M4', 'M5', 'M6', 'M7', 'M8', 'M9', 'V1', 'V2', 'V3', 'V4', 'V5', 'V6', 'V7', 'V8', 'V9', 'V10', 'V11', 'V12', 'V13', 'V14', 'V15', 'V16', 'V17', 'V18', 'V19', 'V20', 'V21', 'V22', 'V23', 'V24', 'V25', 'V26', 'V27', 'V28', 'V29', 'V30', 'V31', 'V32', 'V33', 'V34', 'V35', 'V36', 'V37', 'V38', 'V39', 'V40', 'V41', 'V42', 'V43', 'V44', 'V45', 'V46', 'V47', 'V48', 'V49', 'V50', 'V51', 'V52', 'V53', 'V54', 'V55', 'V56', 'V57', 'V58', 'V59', 'V60', 'V61', 'V62', 'V63', 'V64', 'V65', 'V66', 'V67', 'V68', 'V69', 'V70', 'V71', 'V72', 'V73', 'V74', 'V75', 'V76', 'V77', 'V78', 'V79', 'V80', 'V81', 'V82', 'V83', 'V84', 'V85', 'V86', 'V87', 'V88', 'V89', 'V90', 'V91', 'V92', 'V93', 'V94', 'V95', 'V96', 'V97', 'V98', 'V99', 'V100', 'V101', 'V102', 'V103', 'V104', 'V105', 'V106', 'V107', 'V108', 'V109', 'V110', 'V111', 'V112', 'V113', 'V114', 'V115', 'V116', 'V117', 'V118', 'V119', 'V120', 'V121', 'V122', 'V123', 'V124', 'V125', 'V126', 'V127', 'V128', 'V129', 'V130', 'V131', 'V132', 'V133', 'V134', 'V135', 'V136', 'V137', 'V138', 'V139', 'V140', 'V141', 'V142', 'V143', 'V144', 'V145', 'V146', 'V147', 'V148', 'V149', 'V150', 'V151', 'V152', 'V153', 'V154', 'V155', 'V156', 'V157', 'V158', 'V159', 'V160', 'V161', 'V162', 'V163', 'V164', 'V165', 'V166', 'V167', 'V168', 'V169', 'V170', 'V171', 'V172', 'V173', 'V174', 'V175', 'V176', 'V177', 'V178', 'V179', 'V180', 'V181', 'V182', 'V183', 'V184', 'V185', 'V186', 'V187', 'V188', 'V189', 'V190', 'V191', 'V192', 'V193', 'V194', 'V195', 'V196', 'V197', 'V198', 'V199', 'V200', 'V201', 'V202', 'V203', 'V204', 'V205', 'V206', 'V207', 'V208', 'V209', 'V210', 'V211', 'V212', 'V213', 'V214', 'V215', 'V216', 'V217', 'V218', 'V219', 'V220', 'V221', 'V222', 'V223', 'V224', 'V225', 'V226', 'V227', 'V228', 'V229', 'V230', 'V231', 'V232', 'V233', 'V234', 'V235', 'V236', 'V237', 'V238', 'V239', 'V240', 'V241', 'V242', 'V243', 'V244', 'V245', 'V246', 'V247', 'V248', 'V249', 'V250', 'V251', 'V252', 'V253', 'V254', 'V255', 'V256', 'V257', 'V258', 'V259', 'V260', 'V261', 'V262', 'V263', 'V264', 'V265', 'V266', 'V267', 'V268', 'V269', 'V270', 'V271', 'V272', 'V273', 'V274', 'V275', 'V276', 'V277', 'V278', 'V279', 'V280', 'V281', 'V282', 'V283', 'V284', 'V285', 'V286', 'V287', 'V288', 'V289', 'V290', 'V291', 'V292', 'V293', 'V294', 'V295', 'V296', 'V297', 'V298', 'V299', 'V300', 'V301', 'V302', 'V303', 'V304', 'V305', 'V306', 'V307', 'V308', 'V309', 'V310', 'V311', 'V312', 'V313', 'V314', 'V315', 'V316', 'V317', 'V318', 'V319', 'V320', 'V321', 'V322', 'V323', 'V324', 'V325', 'V326', 'V327', 'V328', 'V329', 'V330', 'V331', 'V332', 'V333', 'V334', 'V335', 'V336', 'V337', 'V338', 'V339']\n"
          ]
        }
      ],
      "source": [
        "feature_cols = [col for col in transaction_df.columns if col not in non_feature_cols]\n",
        "print(feature_cols)"
      ]
    },
    {
      "source": [
        "Transfer categorical features to be dummy variables and scale the `TransactionAmt` feature by log10."
      ],
      "cell_type": "markdown",
      "metadata": {
        "id": "ii0cWGql28Ew"
      }
    },
    {
      "cell_type": "code",
      "execution_count": null,
      "metadata": {
        "id": "dEclvPdI28Ew"
      },
      "outputs": [],
      "source": [
        "features = pd.get_dummies(transaction_df[feature_cols], columns=cat_cols, dtype=float).fillna(0)\n",
        "features['TransactionAmt'] = features['TransactionAmt'].apply(np.log10)"
      ]
    },
    {
      "cell_type": "code",
      "execution_count": null,
      "metadata": {
        "id": "D8_dnP9l28Ew",
        "outputId": "f7751b96-1ca5-4d83-bd2e-e86a7e72b3e9",
        "colab": {
          "base_uri": "https://localhost:8080/"
        }
      },
      "outputs": [
        {
          "output_type": "execute_result",
          "data": {
            "text/plain": [
              "(59054, 391)"
            ]
          },
          "metadata": {},
          "execution_count": 20
        }
      ],
      "source": [
        "features.shape"
      ]
    },
    {
      "cell_type": "code",
      "execution_count": null,
      "metadata": {
        "id": "hdPirz5_28Ew",
        "outputId": "0be217ce-9be1-4637-8be3-cb43c2a105ea",
        "colab": {
          "base_uri": "https://localhost:8080/"
        }
      },
      "outputs": [
        {
          "output_type": "stream",
          "name": "stdout",
          "text": [
            "['TransactionID', 'TransactionAmt', 'dist1', 'dist2', 'C1', 'C2', 'C3', 'C4', 'C5', 'C6', 'C7', 'C8', 'C9', 'C10', 'C11', 'C12', 'C13', 'C14', 'D1', 'D2', 'D3', 'D4', 'D5', 'D6', 'D7', 'D8', 'D9', 'D10', 'D11', 'D12', 'D13', 'D14', 'D15', 'V1', 'V2', 'V3', 'V4', 'V5', 'V6', 'V7', 'V8', 'V9', 'V10', 'V11', 'V12', 'V13', 'V14', 'V15', 'V16', 'V17', 'V18', 'V19', 'V20', 'V21', 'V22', 'V23', 'V24', 'V25', 'V26', 'V27', 'V28', 'V29', 'V30', 'V31', 'V32', 'V33', 'V34', 'V35', 'V36', 'V37', 'V38', 'V39', 'V40', 'V41', 'V42', 'V43', 'V44', 'V45', 'V46', 'V47', 'V48', 'V49', 'V50', 'V51', 'V52', 'V53', 'V54', 'V55', 'V56', 'V57', 'V58', 'V59', 'V60', 'V61', 'V62', 'V63', 'V64', 'V65', 'V66', 'V67', 'V68', 'V69', 'V70', 'V71', 'V72', 'V73', 'V74', 'V75', 'V76', 'V77', 'V78', 'V79', 'V80', 'V81', 'V82', 'V83', 'V84', 'V85', 'V86', 'V87', 'V88', 'V89', 'V90', 'V91', 'V92', 'V93', 'V94', 'V95', 'V96', 'V97', 'V98', 'V99', 'V100', 'V101', 'V102', 'V103', 'V104', 'V105', 'V106', 'V107', 'V108', 'V109', 'V110', 'V111', 'V112', 'V113', 'V114', 'V115', 'V116', 'V117', 'V118', 'V119', 'V120', 'V121', 'V122', 'V123', 'V124', 'V125', 'V126', 'V127', 'V128', 'V129', 'V130', 'V131', 'V132', 'V133', 'V134', 'V135', 'V136', 'V137', 'V138', 'V139', 'V140', 'V141', 'V142', 'V143', 'V144', 'V145', 'V146', 'V147', 'V148', 'V149', 'V150', 'V151', 'V152', 'V153', 'V154', 'V155', 'V156', 'V157', 'V158', 'V159', 'V160', 'V161', 'V162', 'V163', 'V164', 'V165', 'V166', 'V167', 'V168', 'V169', 'V170', 'V171', 'V172', 'V173', 'V174', 'V175', 'V176', 'V177', 'V178', 'V179', 'V180', 'V181', 'V182', 'V183', 'V184', 'V185', 'V186', 'V187', 'V188', 'V189', 'V190', 'V191', 'V192', 'V193', 'V194', 'V195', 'V196', 'V197', 'V198', 'V199', 'V200', 'V201', 'V202', 'V203', 'V204', 'V205', 'V206', 'V207', 'V208', 'V209', 'V210', 'V211', 'V212', 'V213', 'V214', 'V215', 'V216', 'V217', 'V218', 'V219', 'V220', 'V221', 'V222', 'V223', 'V224', 'V225', 'V226', 'V227', 'V228', 'V229', 'V230', 'V231', 'V232', 'V233', 'V234', 'V235', 'V236', 'V237', 'V238', 'V239', 'V240', 'V241', 'V242', 'V243', 'V244', 'V245', 'V246', 'V247', 'V248', 'V249', 'V250', 'V251', 'V252', 'V253', 'V254', 'V255', 'V256', 'V257', 'V258', 'V259', 'V260', 'V261', 'V262', 'V263', 'V264', 'V265', 'V266', 'V267', 'V268', 'V269', 'V270', 'V271', 'V272', 'V273', 'V274', 'V275', 'V276', 'V277', 'V278', 'V279', 'V280', 'V281', 'V282', 'V283', 'V284', 'V285', 'V286', 'V287', 'V288', 'V289', 'V290', 'V291', 'V292', 'V293', 'V294', 'V295', 'V296', 'V297', 'V298', 'V299', 'V300', 'V301', 'V302', 'V303', 'V304', 'V305', 'V306', 'V307', 'V308', 'V309', 'V310', 'V311', 'V312', 'V313', 'V314', 'V315', 'V316', 'V317', 'V318', 'V319', 'V320', 'V321', 'V322', 'V323', 'V324', 'V325', 'V326', 'V327', 'V328', 'V329', 'V330', 'V331', 'V332', 'V333', 'V334', 'V335', 'V336', 'V337', 'V338', 'V339', 'M1_F', 'M1_T', 'M2_F', 'M2_T', 'M3_F', 'M3_T', 'M4_M0', 'M4_M1', 'M4_M2', 'M5_F', 'M5_T', 'M6_F', 'M6_T', 'M7_F', 'M7_T', 'M8_F', 'M8_T', 'M9_F', 'M9_T']\n"
          ]
        }
      ],
      "source": [
        "print(list(features.columns))"
      ]
    },
    {
      "source": [
        "Save the features into `features.csv` for future training.\n",
        "\n",
        "p.s. We don't need the index column and header."
      ],
      "cell_type": "markdown",
      "metadata": {
        "id": "IQhAEzPU28Ew"
      }
    },
    {
      "cell_type": "code",
      "execution_count": null,
      "metadata": {
        "id": "Ro6f1aa328Ew"
      },
      "outputs": [],
      "source": [
        "features.to_csv('data/features.csv', index=False, header=False)"
      ]
    },
    {
      "source": [
        "Save the IDs and label into the `tags.csv`."
      ],
      "cell_type": "markdown",
      "metadata": {
        "id": "EmrH0t0328Ex"
      }
    },
    {
      "cell_type": "code",
      "execution_count": null,
      "metadata": {
        "id": "9nl54xVx28Ex"
      },
      "outputs": [],
      "source": [
        "transaction_df[['TransactionID', 'isFraud']].to_csv('data/tags.csv', index=False)"
      ]
    },
    {
      "source": [
        "Select the columns that define the edges."
      ],
      "cell_type": "markdown",
      "metadata": {
        "id": "zNHUMky528Ex"
      }
    },
    {
      "cell_type": "code",
      "execution_count": null,
      "metadata": {
        "id": "90XXEyOD28Ex",
        "outputId": "de237e61-059e-469a-adef-4d097420176d",
        "colab": {
          "base_uri": "https://localhost:8080/"
        }
      },
      "outputs": [
        {
          "output_type": "stream",
          "name": "stdout",
          "text": [
            "['card1', 'card2', 'card3', 'card4', 'card5', 'card6', 'ProductCD', 'addr1', 'addr2', 'P_emaildomain', 'R_emaildomain', 'TransactionID', 'id_01', 'id_02', 'id_03', 'id_04', 'id_05', 'id_06', 'id_07', 'id_08', 'id_09', 'id_10', 'id_11', 'id_12', 'id_13', 'id_14', 'id_15', 'id_16', 'id_17', 'id_18', 'id_19', 'id_20', 'id_21', 'id_22', 'id_23', 'id_24', 'id_25', 'id_26', 'id_27', 'id_28', 'id_29', 'id_30', 'id_31', 'id_32', 'id_33', 'id_34', 'id_35', 'id_36', 'id_37', 'id_38', 'DeviceType', 'DeviceInfo']\n"
          ]
        }
      ],
      "source": [
        "edge_types = id_cols + list(identity_df.columns)\n",
        "print(edge_types)"
      ]
    },
    {
      "cell_type": "code",
      "execution_count": null,
      "metadata": {
        "id": "3ShY6zqB28Ex",
        "outputId": "e769bd8b-153a-4816-d35d-df4bcd9cefcd",
        "colab": {
          "base_uri": "https://localhost:8080/",
          "height": 273
        }
      },
      "outputs": [
        {
          "output_type": "execute_result",
          "data": {
            "text/plain": [
              "   TransactionID  card1  card2  card3       card4  card5   card6 ProductCD  \\\n",
              "0        3054316   7664  490.0  150.0        visa  226.0   debit         R   \n",
              "1        3169840  14426  111.0  150.0  mastercard  224.0   debit         W   \n",
              "2        3440616  12544  321.0  150.0        visa  226.0   debit         W   \n",
              "3        3468992   8695  170.0  150.0        visa  226.0  credit         W   \n",
              "4        3369076   3277  111.0  150.0        visa  226.0   debit         W   \n",
              "\n",
              "   addr1  addr2  ...        id_31 id_32      id_33           id_34  id_35  \\\n",
              "0  264.0   87.0  ...  chrome 63.0  24.0  2048x1152  match_status:2      T   \n",
              "1  272.0   87.0  ...          NaN   NaN        NaN             NaN    NaN   \n",
              "2  184.0   87.0  ...          NaN   NaN        NaN             NaN    NaN   \n",
              "3  184.0   87.0  ...          NaN   NaN        NaN             NaN    NaN   \n",
              "4  231.0   87.0  ...          NaN   NaN        NaN             NaN    NaN   \n",
              "\n",
              "   id_36  id_37  id_38  DeviceType  DeviceInfo  \n",
              "0      F      T      F     desktop     Windows  \n",
              "1    NaN    NaN    NaN         NaN         NaN  \n",
              "2    NaN    NaN    NaN         NaN         NaN  \n",
              "3    NaN    NaN    NaN         NaN         NaN  \n",
              "4    NaN    NaN    NaN         NaN         NaN  \n",
              "\n",
              "[5 rows x 52 columns]"
            ],
            "text/html": [
              "\n",
              "  <div id=\"df-847e5a6c-383e-4159-a58d-65ac2083a817\" class=\"colab-df-container\">\n",
              "    <div>\n",
              "<style scoped>\n",
              "    .dataframe tbody tr th:only-of-type {\n",
              "        vertical-align: middle;\n",
              "    }\n",
              "\n",
              "    .dataframe tbody tr th {\n",
              "        vertical-align: top;\n",
              "    }\n",
              "\n",
              "    .dataframe thead th {\n",
              "        text-align: right;\n",
              "    }\n",
              "</style>\n",
              "<table border=\"1\" class=\"dataframe\">\n",
              "  <thead>\n",
              "    <tr style=\"text-align: right;\">\n",
              "      <th></th>\n",
              "      <th>TransactionID</th>\n",
              "      <th>card1</th>\n",
              "      <th>card2</th>\n",
              "      <th>card3</th>\n",
              "      <th>card4</th>\n",
              "      <th>card5</th>\n",
              "      <th>card6</th>\n",
              "      <th>ProductCD</th>\n",
              "      <th>addr1</th>\n",
              "      <th>addr2</th>\n",
              "      <th>...</th>\n",
              "      <th>id_31</th>\n",
              "      <th>id_32</th>\n",
              "      <th>id_33</th>\n",
              "      <th>id_34</th>\n",
              "      <th>id_35</th>\n",
              "      <th>id_36</th>\n",
              "      <th>id_37</th>\n",
              "      <th>id_38</th>\n",
              "      <th>DeviceType</th>\n",
              "      <th>DeviceInfo</th>\n",
              "    </tr>\n",
              "  </thead>\n",
              "  <tbody>\n",
              "    <tr>\n",
              "      <th>0</th>\n",
              "      <td>3054316</td>\n",
              "      <td>7664</td>\n",
              "      <td>490.0</td>\n",
              "      <td>150.0</td>\n",
              "      <td>visa</td>\n",
              "      <td>226.0</td>\n",
              "      <td>debit</td>\n",
              "      <td>R</td>\n",
              "      <td>264.0</td>\n",
              "      <td>87.0</td>\n",
              "      <td>...</td>\n",
              "      <td>chrome 63.0</td>\n",
              "      <td>24.0</td>\n",
              "      <td>2048x1152</td>\n",
              "      <td>match_status:2</td>\n",
              "      <td>T</td>\n",
              "      <td>F</td>\n",
              "      <td>T</td>\n",
              "      <td>F</td>\n",
              "      <td>desktop</td>\n",
              "      <td>Windows</td>\n",
              "    </tr>\n",
              "    <tr>\n",
              "      <th>1</th>\n",
              "      <td>3169840</td>\n",
              "      <td>14426</td>\n",
              "      <td>111.0</td>\n",
              "      <td>150.0</td>\n",
              "      <td>mastercard</td>\n",
              "      <td>224.0</td>\n",
              "      <td>debit</td>\n",
              "      <td>W</td>\n",
              "      <td>272.0</td>\n",
              "      <td>87.0</td>\n",
              "      <td>...</td>\n",
              "      <td>NaN</td>\n",
              "      <td>NaN</td>\n",
              "      <td>NaN</td>\n",
              "      <td>NaN</td>\n",
              "      <td>NaN</td>\n",
              "      <td>NaN</td>\n",
              "      <td>NaN</td>\n",
              "      <td>NaN</td>\n",
              "      <td>NaN</td>\n",
              "      <td>NaN</td>\n",
              "    </tr>\n",
              "    <tr>\n",
              "      <th>2</th>\n",
              "      <td>3440616</td>\n",
              "      <td>12544</td>\n",
              "      <td>321.0</td>\n",
              "      <td>150.0</td>\n",
              "      <td>visa</td>\n",
              "      <td>226.0</td>\n",
              "      <td>debit</td>\n",
              "      <td>W</td>\n",
              "      <td>184.0</td>\n",
              "      <td>87.0</td>\n",
              "      <td>...</td>\n",
              "      <td>NaN</td>\n",
              "      <td>NaN</td>\n",
              "      <td>NaN</td>\n",
              "      <td>NaN</td>\n",
              "      <td>NaN</td>\n",
              "      <td>NaN</td>\n",
              "      <td>NaN</td>\n",
              "      <td>NaN</td>\n",
              "      <td>NaN</td>\n",
              "      <td>NaN</td>\n",
              "    </tr>\n",
              "    <tr>\n",
              "      <th>3</th>\n",
              "      <td>3468992</td>\n",
              "      <td>8695</td>\n",
              "      <td>170.0</td>\n",
              "      <td>150.0</td>\n",
              "      <td>visa</td>\n",
              "      <td>226.0</td>\n",
              "      <td>credit</td>\n",
              "      <td>W</td>\n",
              "      <td>184.0</td>\n",
              "      <td>87.0</td>\n",
              "      <td>...</td>\n",
              "      <td>NaN</td>\n",
              "      <td>NaN</td>\n",
              "      <td>NaN</td>\n",
              "      <td>NaN</td>\n",
              "      <td>NaN</td>\n",
              "      <td>NaN</td>\n",
              "      <td>NaN</td>\n",
              "      <td>NaN</td>\n",
              "      <td>NaN</td>\n",
              "      <td>NaN</td>\n",
              "    </tr>\n",
              "    <tr>\n",
              "      <th>4</th>\n",
              "      <td>3369076</td>\n",
              "      <td>3277</td>\n",
              "      <td>111.0</td>\n",
              "      <td>150.0</td>\n",
              "      <td>visa</td>\n",
              "      <td>226.0</td>\n",
              "      <td>debit</td>\n",
              "      <td>W</td>\n",
              "      <td>231.0</td>\n",
              "      <td>87.0</td>\n",
              "      <td>...</td>\n",
              "      <td>NaN</td>\n",
              "      <td>NaN</td>\n",
              "      <td>NaN</td>\n",
              "      <td>NaN</td>\n",
              "      <td>NaN</td>\n",
              "      <td>NaN</td>\n",
              "      <td>NaN</td>\n",
              "      <td>NaN</td>\n",
              "      <td>NaN</td>\n",
              "      <td>NaN</td>\n",
              "    </tr>\n",
              "  </tbody>\n",
              "</table>\n",
              "<p>5 rows × 52 columns</p>\n",
              "</div>\n",
              "    <div class=\"colab-df-buttons\">\n",
              "\n",
              "  <div class=\"colab-df-container\">\n",
              "    <button class=\"colab-df-convert\" onclick=\"convertToInteractive('df-847e5a6c-383e-4159-a58d-65ac2083a817')\"\n",
              "            title=\"Convert this dataframe to an interactive table.\"\n",
              "            style=\"display:none;\">\n",
              "\n",
              "  <svg xmlns=\"http://www.w3.org/2000/svg\" height=\"24px\" viewBox=\"0 -960 960 960\">\n",
              "    <path d=\"M120-120v-720h720v720H120Zm60-500h600v-160H180v160Zm220 220h160v-160H400v160Zm0 220h160v-160H400v160ZM180-400h160v-160H180v160Zm440 0h160v-160H620v160ZM180-180h160v-160H180v160Zm440 0h160v-160H620v160Z\"/>\n",
              "  </svg>\n",
              "    </button>\n",
              "\n",
              "  <style>\n",
              "    .colab-df-container {\n",
              "      display:flex;\n",
              "      gap: 12px;\n",
              "    }\n",
              "\n",
              "    .colab-df-convert {\n",
              "      background-color: #E8F0FE;\n",
              "      border: none;\n",
              "      border-radius: 50%;\n",
              "      cursor: pointer;\n",
              "      display: none;\n",
              "      fill: #1967D2;\n",
              "      height: 32px;\n",
              "      padding: 0 0 0 0;\n",
              "      width: 32px;\n",
              "    }\n",
              "\n",
              "    .colab-df-convert:hover {\n",
              "      background-color: #E2EBFA;\n",
              "      box-shadow: 0px 1px 2px rgba(60, 64, 67, 0.3), 0px 1px 3px 1px rgba(60, 64, 67, 0.15);\n",
              "      fill: #174EA6;\n",
              "    }\n",
              "\n",
              "    .colab-df-buttons div {\n",
              "      margin-bottom: 4px;\n",
              "    }\n",
              "\n",
              "    [theme=dark] .colab-df-convert {\n",
              "      background-color: #3B4455;\n",
              "      fill: #D2E3FC;\n",
              "    }\n",
              "\n",
              "    [theme=dark] .colab-df-convert:hover {\n",
              "      background-color: #434B5C;\n",
              "      box-shadow: 0px 1px 3px 1px rgba(0, 0, 0, 0.15);\n",
              "      filter: drop-shadow(0px 1px 2px rgba(0, 0, 0, 0.3));\n",
              "      fill: #FFFFFF;\n",
              "    }\n",
              "  </style>\n",
              "\n",
              "    <script>\n",
              "      const buttonEl =\n",
              "        document.querySelector('#df-847e5a6c-383e-4159-a58d-65ac2083a817 button.colab-df-convert');\n",
              "      buttonEl.style.display =\n",
              "        google.colab.kernel.accessAllowed ? 'block' : 'none';\n",
              "\n",
              "      async function convertToInteractive(key) {\n",
              "        const element = document.querySelector('#df-847e5a6c-383e-4159-a58d-65ac2083a817');\n",
              "        const dataTable =\n",
              "          await google.colab.kernel.invokeFunction('convertToInteractive',\n",
              "                                                    [key], {});\n",
              "        if (!dataTable) return;\n",
              "\n",
              "        const docLinkHtml = 'Like what you see? Visit the ' +\n",
              "          '<a target=\"_blank\" href=https://colab.research.google.com/notebooks/data_table.ipynb>data table notebook</a>'\n",
              "          + ' to learn more about interactive tables.';\n",
              "        element.innerHTML = '';\n",
              "        dataTable['output_type'] = 'display_data';\n",
              "        await google.colab.output.renderOutput(dataTable, element);\n",
              "        const docLink = document.createElement('div');\n",
              "        docLink.innerHTML = docLinkHtml;\n",
              "        element.appendChild(docLink);\n",
              "      }\n",
              "    </script>\n",
              "  </div>\n",
              "\n",
              "\n",
              "    <div id=\"df-bf5b30aa-2c2f-4373-8591-97ab367951fa\">\n",
              "      <button class=\"colab-df-quickchart\" onclick=\"quickchart('df-bf5b30aa-2c2f-4373-8591-97ab367951fa')\"\n",
              "                title=\"Suggest charts\"\n",
              "                style=\"display:none;\">\n",
              "\n",
              "<svg xmlns=\"http://www.w3.org/2000/svg\" height=\"24px\"viewBox=\"0 0 24 24\"\n",
              "     width=\"24px\">\n",
              "    <g>\n",
              "        <path d=\"M19 3H5c-1.1 0-2 .9-2 2v14c0 1.1.9 2 2 2h14c1.1 0 2-.9 2-2V5c0-1.1-.9-2-2-2zM9 17H7v-7h2v7zm4 0h-2V7h2v10zm4 0h-2v-4h2v4z\"/>\n",
              "    </g>\n",
              "</svg>\n",
              "      </button>\n",
              "\n",
              "<style>\n",
              "  .colab-df-quickchart {\n",
              "      --bg-color: #E8F0FE;\n",
              "      --fill-color: #1967D2;\n",
              "      --hover-bg-color: #E2EBFA;\n",
              "      --hover-fill-color: #174EA6;\n",
              "      --disabled-fill-color: #AAA;\n",
              "      --disabled-bg-color: #DDD;\n",
              "  }\n",
              "\n",
              "  [theme=dark] .colab-df-quickchart {\n",
              "      --bg-color: #3B4455;\n",
              "      --fill-color: #D2E3FC;\n",
              "      --hover-bg-color: #434B5C;\n",
              "      --hover-fill-color: #FFFFFF;\n",
              "      --disabled-bg-color: #3B4455;\n",
              "      --disabled-fill-color: #666;\n",
              "  }\n",
              "\n",
              "  .colab-df-quickchart {\n",
              "    background-color: var(--bg-color);\n",
              "    border: none;\n",
              "    border-radius: 50%;\n",
              "    cursor: pointer;\n",
              "    display: none;\n",
              "    fill: var(--fill-color);\n",
              "    height: 32px;\n",
              "    padding: 0;\n",
              "    width: 32px;\n",
              "  }\n",
              "\n",
              "  .colab-df-quickchart:hover {\n",
              "    background-color: var(--hover-bg-color);\n",
              "    box-shadow: 0 1px 2px rgba(60, 64, 67, 0.3), 0 1px 3px 1px rgba(60, 64, 67, 0.15);\n",
              "    fill: var(--button-hover-fill-color);\n",
              "  }\n",
              "\n",
              "  .colab-df-quickchart-complete:disabled,\n",
              "  .colab-df-quickchart-complete:disabled:hover {\n",
              "    background-color: var(--disabled-bg-color);\n",
              "    fill: var(--disabled-fill-color);\n",
              "    box-shadow: none;\n",
              "  }\n",
              "\n",
              "  .colab-df-spinner {\n",
              "    border: 2px solid var(--fill-color);\n",
              "    border-color: transparent;\n",
              "    border-bottom-color: var(--fill-color);\n",
              "    animation:\n",
              "      spin 1s steps(1) infinite;\n",
              "  }\n",
              "\n",
              "  @keyframes spin {\n",
              "    0% {\n",
              "      border-color: transparent;\n",
              "      border-bottom-color: var(--fill-color);\n",
              "      border-left-color: var(--fill-color);\n",
              "    }\n",
              "    20% {\n",
              "      border-color: transparent;\n",
              "      border-left-color: var(--fill-color);\n",
              "      border-top-color: var(--fill-color);\n",
              "    }\n",
              "    30% {\n",
              "      border-color: transparent;\n",
              "      border-left-color: var(--fill-color);\n",
              "      border-top-color: var(--fill-color);\n",
              "      border-right-color: var(--fill-color);\n",
              "    }\n",
              "    40% {\n",
              "      border-color: transparent;\n",
              "      border-right-color: var(--fill-color);\n",
              "      border-top-color: var(--fill-color);\n",
              "    }\n",
              "    60% {\n",
              "      border-color: transparent;\n",
              "      border-right-color: var(--fill-color);\n",
              "    }\n",
              "    80% {\n",
              "      border-color: transparent;\n",
              "      border-right-color: var(--fill-color);\n",
              "      border-bottom-color: var(--fill-color);\n",
              "    }\n",
              "    90% {\n",
              "      border-color: transparent;\n",
              "      border-bottom-color: var(--fill-color);\n",
              "    }\n",
              "  }\n",
              "</style>\n",
              "\n",
              "      <script>\n",
              "        async function quickchart(key) {\n",
              "          const quickchartButtonEl =\n",
              "            document.querySelector('#' + key + ' button');\n",
              "          quickchartButtonEl.disabled = true;  // To prevent multiple clicks.\n",
              "          quickchartButtonEl.classList.add('colab-df-spinner');\n",
              "          try {\n",
              "            const charts = await google.colab.kernel.invokeFunction(\n",
              "                'suggestCharts', [key], {});\n",
              "          } catch (error) {\n",
              "            console.error('Error during call to suggestCharts:', error);\n",
              "          }\n",
              "          quickchartButtonEl.classList.remove('colab-df-spinner');\n",
              "          quickchartButtonEl.classList.add('colab-df-quickchart-complete');\n",
              "        }\n",
              "        (() => {\n",
              "          let quickchartButtonEl =\n",
              "            document.querySelector('#df-bf5b30aa-2c2f-4373-8591-97ab367951fa button');\n",
              "          quickchartButtonEl.style.display =\n",
              "            google.colab.kernel.accessAllowed ? 'block' : 'none';\n",
              "        })();\n",
              "      </script>\n",
              "    </div>\n",
              "\n",
              "    </div>\n",
              "  </div>\n"
            ],
            "application/vnd.google.colaboratory.intrinsic+json": {
              "type": "dataframe",
              "variable_name": "full_identity_df"
            }
          },
          "metadata": {},
          "execution_count": 25
        }
      ],
      "source": [
        "all_id_cols = ['TransactionID'] + id_cols\n",
        "full_identity_df = transaction_df[all_id_cols].merge(identity_df, on='TransactionID', how='left')\n",
        "full_identity_df.head(5)"
      ]
    },
    {
      "cell_type": "code",
      "source": [
        "full_identity_df.shape"
      ],
      "metadata": {
        "id": "7s7GaCbK7M3B",
        "outputId": "a5a4c040-3d23-40e8-c0ff-f4d39f18c0ae",
        "colab": {
          "base_uri": "https://localhost:8080/"
        }
      },
      "execution_count": null,
      "outputs": [
        {
          "output_type": "execute_result",
          "data": {
            "text/plain": [
              "(59054, 52)"
            ]
          },
          "metadata": {},
          "execution_count": 26
        }
      ]
    },
    {
      "source": [
        "For each identity feature, save the data into the corresponding `relation_{FEATURE NAME}_edgelist.csv`. Each csv file represents one kind of edge."
      ],
      "cell_type": "markdown",
      "metadata": {
        "id": "GXXfFwlI28Ex"
      }
    },
    {
      "cell_type": "code",
      "execution_count": null,
      "metadata": {
        "id": "6pRcaSQn28Ex",
        "outputId": "d80267c7-48e5-4dbc-de96-5142f87a62b5",
        "colab": {
          "base_uri": "https://localhost:8080/"
        }
      },
      "outputs": [
        {
          "output_type": "stream",
          "name": "stdout",
          "text": [
            "{'card1':        TransactionID  card1\n",
            "0            3054316   7664\n",
            "1            3169840  14426\n",
            "2            3440616  12544\n",
            "3            3468992   8695\n",
            "4            3369076   3277\n",
            "...              ...    ...\n",
            "59049        3333074  15063\n",
            "59050        3526566   9400\n",
            "59051        3412437   7508\n",
            "59052        3426508  12449\n",
            "59053        3005714   9300\n",
            "\n",
            "[59054 rows x 2 columns], 'card2':        TransactionID  card2\n",
            "0            3054316  490.0\n",
            "1            3169840  111.0\n",
            "2            3440616  321.0\n",
            "3            3468992  170.0\n",
            "4            3369076  111.0\n",
            "...              ...    ...\n",
            "59049        3333074  514.0\n",
            "59050        3526566  111.0\n",
            "59051        3412437  321.0\n",
            "59052        3426508  174.0\n",
            "59053        3005714  103.0\n",
            "\n",
            "[58147 rows x 2 columns], 'card3':        TransactionID  card3\n",
            "0            3054316  150.0\n",
            "1            3169840  150.0\n",
            "2            3440616  150.0\n",
            "3            3468992  150.0\n",
            "4            3369076  150.0\n",
            "...              ...    ...\n",
            "59049        3333074  150.0\n",
            "59050        3526566  150.0\n",
            "59051        3412437  150.0\n",
            "59052        3426508  150.0\n",
            "59053        3005714  185.0\n",
            "\n",
            "[58891 rows x 2 columns], 'card4':        TransactionID       card4\n",
            "0            3054316        visa\n",
            "1            3169840  mastercard\n",
            "2            3440616        visa\n",
            "3            3468992        visa\n",
            "4            3369076        visa\n",
            "...              ...         ...\n",
            "59049        3333074        visa\n",
            "59050        3526566  mastercard\n",
            "59051        3412437        visa\n",
            "59052        3426508  mastercard\n",
            "59053        3005714        visa\n",
            "\n",
            "[58890 rows x 2 columns], 'card5':        TransactionID  card5\n",
            "0            3054316  226.0\n",
            "1            3169840  224.0\n",
            "2            3440616  226.0\n",
            "3            3468992  226.0\n",
            "4            3369076  226.0\n",
            "...              ...    ...\n",
            "59049        3333074  226.0\n",
            "59050        3526566  224.0\n",
            "59051        3412437  226.0\n",
            "59052        3426508  117.0\n",
            "59053        3005714  138.0\n",
            "\n",
            "[58651 rows x 2 columns], 'card6':        TransactionID   card6\n",
            "0            3054316   debit\n",
            "1            3169840   debit\n",
            "2            3440616   debit\n",
            "3            3468992  credit\n",
            "4            3369076   debit\n",
            "...              ...     ...\n",
            "59049        3333074  credit\n",
            "59050        3526566   debit\n",
            "59051        3412437   debit\n",
            "59052        3426508   debit\n",
            "59053        3005714   debit\n",
            "\n",
            "[58891 rows x 2 columns], 'ProductCD':        TransactionID ProductCD\n",
            "0            3054316         R\n",
            "1            3169840         W\n",
            "2            3440616         W\n",
            "3            3468992         W\n",
            "4            3369076         W\n",
            "...              ...       ...\n",
            "59049        3333074         W\n",
            "59050        3526566         W\n",
            "59051        3412437         W\n",
            "59052        3426508         W\n",
            "59053        3005714         C\n",
            "\n",
            "[59054 rows x 2 columns], 'addr1':        TransactionID  addr1\n",
            "0            3054316  264.0\n",
            "1            3169840  272.0\n",
            "2            3440616  184.0\n",
            "3            3468992  184.0\n",
            "4            3369076  231.0\n",
            "...              ...    ...\n",
            "59048        3036317  472.0\n",
            "59049        3333074  384.0\n",
            "59050        3526566  315.0\n",
            "59051        3412437  158.0\n",
            "59052        3426508  143.0\n",
            "\n",
            "[52451 rows x 2 columns], 'addr2':        TransactionID  addr2\n",
            "0            3054316   87.0\n",
            "1            3169840   87.0\n",
            "2            3440616   87.0\n",
            "3            3468992   87.0\n",
            "4            3369076   87.0\n",
            "...              ...    ...\n",
            "59048        3036317   87.0\n",
            "59049        3333074   87.0\n",
            "59050        3526566   87.0\n",
            "59051        3412437   87.0\n",
            "59052        3426508   87.0\n",
            "\n",
            "[52451 rows x 2 columns], 'P_emaildomain':        TransactionID   P_emaildomain\n",
            "0            3054316       yahoo.com\n",
            "1            3169840       gmail.com\n",
            "3            3468992   anonymous.com\n",
            "5            3513212       gmail.com\n",
            "6            3039454   anonymous.com\n",
            "...              ...             ...\n",
            "59045        3259392       gmail.com\n",
            "59046        3421777       gmail.com\n",
            "59049        3333074     comcast.net\n",
            "59050        3526566       yahoo.com\n",
            "59053        3005714  prodigy.net.mx\n",
            "\n",
            "[49580 rows x 2 columns], 'R_emaildomain':        TransactionID   R_emaildomain\n",
            "0            3054316       yahoo.com\n",
            "9            3081028       gmail.com\n",
            "11           3136642     hotmail.com\n",
            "12           3345613     hotmail.com\n",
            "14           2990938       yahoo.com\n",
            "...              ...             ...\n",
            "59033        2990046   anonymous.com\n",
            "59038        3046383         aol.com\n",
            "59045        3259392       gmail.com\n",
            "59046        3421777       gmail.com\n",
            "59053        3005714  prodigy.net.mx\n",
            "\n",
            "[13591 rows x 2 columns], 'TransactionID':        TransactionID  TransactionID\n",
            "0            3054316        3054316\n",
            "1            3169840        3169840\n",
            "2            3440616        3440616\n",
            "3            3468992        3468992\n",
            "4            3369076        3369076\n",
            "...              ...            ...\n",
            "59049        3333074        3333074\n",
            "59050        3526566        3526566\n",
            "59051        3412437        3412437\n",
            "59052        3426508        3426508\n",
            "59053        3005714        3005714\n",
            "\n",
            "[59054 rows x 2 columns], 'id_01':        TransactionID  id_01\n",
            "0            3054316   -5.0\n",
            "6            3039454    0.0\n",
            "9            3081028    0.0\n",
            "11           3136642   -5.0\n",
            "12           3345613   -5.0\n",
            "...              ...    ...\n",
            "59038        3046383   -5.0\n",
            "59041        3270802    0.0\n",
            "59045        3259392   -5.0\n",
            "59046        3421777  -10.0\n",
            "59053        3005714   -5.0\n",
            "\n",
            "[14302 rows x 2 columns], 'id_02':        TransactionID     id_02\n",
            "0            3054316   32780.0\n",
            "6            3039454   67021.0\n",
            "9            3081028   55724.0\n",
            "11           3136642  318108.0\n",
            "12           3345613  597970.0\n",
            "...              ...       ...\n",
            "59038        3046383   42257.0\n",
            "59041        3270802  113473.0\n",
            "59045        3259392   91194.0\n",
            "59046        3421777  148185.0\n",
            "59053        3005714  169493.0\n",
            "\n",
            "[13968 rows x 2 columns], 'id_03':        TransactionID  id_03\n",
            "19           3555798    0.0\n",
            "23           3002719    0.0\n",
            "25           3436575    0.0\n",
            "45           3167602    0.0\n",
            "85           3483344    1.0\n",
            "...              ...    ...\n",
            "59031        3044043    0.0\n",
            "59038        3046383    0.0\n",
            "59041        3270802    0.0\n",
            "59046        3421777    0.0\n",
            "59053        3005714    0.0\n",
            "\n",
            "[6528 rows x 2 columns], 'id_04':        TransactionID  id_04\n",
            "19           3555798    0.0\n",
            "23           3002719    0.0\n",
            "25           3436575    0.0\n",
            "45           3167602    0.0\n",
            "85           3483344    0.0\n",
            "...              ...    ...\n",
            "59031        3044043    0.0\n",
            "59038        3046383    0.0\n",
            "59041        3270802    0.0\n",
            "59046        3421777    0.0\n",
            "59053        3005714    0.0\n",
            "\n",
            "[6528 rows x 2 columns], 'id_05':        TransactionID  id_05\n",
            "0            3054316    0.0\n",
            "6            3039454    0.0\n",
            "9            3081028    0.0\n",
            "11           3136642    0.0\n",
            "12           3345613    2.0\n",
            "...              ...    ...\n",
            "59033        2990046    0.0\n",
            "59038        3046383    2.0\n",
            "59041        3270802    0.0\n",
            "59046        3421777    0.0\n",
            "59053        3005714    0.0\n",
            "\n",
            "[13560 rows x 2 columns], 'id_06':        TransactionID  id_06\n",
            "0            3054316    0.0\n",
            "6            3039454    0.0\n",
            "9            3081028    0.0\n",
            "11           3136642    0.0\n",
            "12           3345613  -25.0\n",
            "...              ...    ...\n",
            "59033        2990046    0.0\n",
            "59038        3046383    0.0\n",
            "59041        3270802   -8.0\n",
            "59046        3421777   -9.0\n",
            "59053        3005714    0.0\n",
            "\n",
            "[13560 rows x 2 columns], 'id_07':        TransactionID  id_07\n",
            "112          2988062   -1.0\n",
            "290          3352009   14.0\n",
            "587          3105735    8.0\n",
            "649          3032014   14.0\n",
            "659          3034415   22.0\n",
            "...              ...    ...\n",
            "58520        3204405   25.0\n",
            "58932        3245230   16.0\n",
            "59001        3035860   15.0\n",
            "59007        3511725    7.0\n",
            "59029        3274834   17.0\n",
            "\n",
            "[473 rows x 2 columns], 'id_08':        TransactionID  id_08\n",
            "112          2988062 -100.0\n",
            "290          3352009  -35.0\n",
            "587          3105735  -23.0\n",
            "649          3032014  -47.0\n",
            "659          3034415  -31.0\n",
            "...              ...    ...\n",
            "58520        3204405  -32.0\n",
            "58932        3245230  -19.0\n",
            "59001        3035860 -100.0\n",
            "59007        3511725  -33.0\n",
            "59029        3274834  -16.0\n",
            "\n",
            "[473 rows x 2 columns], 'id_09':        TransactionID  id_09\n",
            "0            3054316    0.0\n",
            "19           3555798    0.0\n",
            "23           3002719    0.0\n",
            "25           3436575    0.0\n",
            "45           3167602    0.0\n",
            "...              ...    ...\n",
            "59031        3044043    0.0\n",
            "59038        3046383    0.0\n",
            "59041        3270802    0.0\n",
            "59046        3421777    0.0\n",
            "59053        3005714    0.0\n",
            "\n",
            "[7411 rows x 2 columns], 'id_10':        TransactionID  id_10\n",
            "0            3054316    0.0\n",
            "19           3555798    0.0\n",
            "23           3002719    0.0\n",
            "25           3436575    0.0\n",
            "45           3167602    0.0\n",
            "...              ...    ...\n",
            "59031        3044043    0.0\n",
            "59038        3046383    0.0\n",
            "59041        3270802    0.0\n",
            "59046        3421777    0.0\n",
            "59053        3005714    0.0\n",
            "\n",
            "[7411 rows x 2 columns], 'id_11':        TransactionID  id_11\n",
            "0            3054316  100.0\n",
            "6            3039454  100.0\n",
            "9            3081028  100.0\n",
            "11           3136642  100.0\n",
            "12           3345613  100.0\n",
            "...              ...    ...\n",
            "59038        3046383  100.0\n",
            "59041        3270802  100.0\n",
            "59045        3259392  100.0\n",
            "59046        3421777  100.0\n",
            "59053        3005714  100.0\n",
            "\n",
            "[13978 rows x 2 columns], 'id_12':        TransactionID     id_12\n",
            "0            3054316  NotFound\n",
            "6            3039454  NotFound\n",
            "9            3081028  NotFound\n",
            "11           3136642  NotFound\n",
            "12           3345613  NotFound\n",
            "...              ...       ...\n",
            "59038        3046383  NotFound\n",
            "59041        3270802  NotFound\n",
            "59045        3259392  NotFound\n",
            "59046        3421777  NotFound\n",
            "59053        3005714  NotFound\n",
            "\n",
            "[14302 rows x 2 columns], 'id_13':        TransactionID  id_13\n",
            "0            3054316   52.0\n",
            "11           3136642   52.0\n",
            "12           3345613   33.0\n",
            "19           3555798   52.0\n",
            "22           3003545   49.0\n",
            "...              ...    ...\n",
            "59033        2990046   49.0\n",
            "59038        3046383   52.0\n",
            "59045        3259392   52.0\n",
            "59046        3421777   64.0\n",
            "59053        3005714   52.0\n",
            "\n",
            "[12670 rows x 2 columns], 'id_14':        TransactionID  id_14\n",
            "0            3054316 -360.0\n",
            "6            3039454 -360.0\n",
            "9            3081028 -480.0\n",
            "11           3136642 -300.0\n",
            "14           2990938 -300.0\n",
            "...              ...    ...\n",
            "59033        2990046 -300.0\n",
            "59038        3046383 -300.0\n",
            "59041        3270802 -300.0\n",
            "59045        3259392 -420.0\n",
            "59053        3005714 -360.0\n",
            "\n",
            "[7857 rows x 2 columns], 'id_15':        TransactionID  id_15\n",
            "0            3054316  Found\n",
            "6            3039454    New\n",
            "9            3081028    New\n",
            "11           3136642    New\n",
            "12           3345613    New\n",
            "...              ...    ...\n",
            "59038        3046383  Found\n",
            "59041        3270802  Found\n",
            "59045        3259392    New\n",
            "59046        3421777  Found\n",
            "59053        3005714  Found\n",
            "\n",
            "[13979 rows x 2 columns], 'id_16':        TransactionID     id_16\n",
            "0            3054316  NotFound\n",
            "6            3039454  NotFound\n",
            "9            3081028  NotFound\n",
            "11           3136642  NotFound\n",
            "12           3345613  NotFound\n",
            "...              ...       ...\n",
            "59038        3046383     Found\n",
            "59041        3270802     Found\n",
            "59045        3259392  NotFound\n",
            "59046        3421777     Found\n",
            "59053        3005714     Found\n",
            "\n",
            "[12784 rows x 2 columns], 'id_17':        TransactionID  id_17\n",
            "0            3054316  166.0\n",
            "6            3039454  166.0\n",
            "9            3081028  166.0\n",
            "11           3136642  166.0\n",
            "12           3345613  225.0\n",
            "...              ...    ...\n",
            "59038        3046383  166.0\n",
            "59041        3270802  166.0\n",
            "59045        3259392  166.0\n",
            "59046        3421777  225.0\n",
            "59053        3005714  225.0\n",
            "\n",
            "[13818 rows x 2 columns], 'id_18':        TransactionID  id_18\n",
            "12           3345613   15.0\n",
            "14           2990938   12.0\n",
            "22           3003545   13.0\n",
            "23           3002719   15.0\n",
            "46           3120878   15.0\n",
            "...              ...    ...\n",
            "58991        3397348   15.0\n",
            "59007        3511725   13.0\n",
            "59029        3274834   13.0\n",
            "59033        2990046   15.0\n",
            "59041        3270802   15.0\n",
            "\n",
            "[4405 rows x 2 columns], 'id_19':        TransactionID  id_19\n",
            "0            3054316  312.0\n",
            "6            3039454  139.0\n",
            "9            3081028  299.0\n",
            "11           3136642  100.0\n",
            "12           3345613  417.0\n",
            "...              ...    ...\n",
            "59038        3046383  390.0\n",
            "59041        3270802  312.0\n",
            "59045        3259392  410.0\n",
            "59046        3421777  254.0\n",
            "59053        3005714  427.0\n",
            "\n",
            "[13812 rows x 2 columns], 'id_20':        TransactionID  id_20\n",
            "0            3054316  214.0\n",
            "6            3039454  404.0\n",
            "9            3081028  222.0\n",
            "11           3136642  535.0\n",
            "12           3345613  507.0\n",
            "...              ...    ...\n",
            "59038        3046383  489.0\n",
            "59041        3270802  600.0\n",
            "59045        3259392  222.0\n",
            "59046        3421777  507.0\n",
            "59053        3005714  507.0\n",
            "\n",
            "[13806 rows x 2 columns], 'id_21':        TransactionID  id_21\n",
            "112          2988062  657.0\n",
            "290          3352009  252.0\n",
            "587          3105735  252.0\n",
            "649          3032014  306.0\n",
            "659          3034415  253.0\n",
            "...              ...    ...\n",
            "58520        3204405  252.0\n",
            "58932        3245230  440.0\n",
            "59001        3035860  668.0\n",
            "59007        3511725  727.0\n",
            "59029        3274834  638.0\n",
            "\n",
            "[472 rows x 2 columns], 'id_22':        TransactionID  id_22\n",
            "112          2988062   41.0\n",
            "290          3352009   14.0\n",
            "587          3105735   14.0\n",
            "649          3032014   14.0\n",
            "659          3034415   14.0\n",
            "...              ...    ...\n",
            "58520        3204405   14.0\n",
            "58932        3245230   41.0\n",
            "59001        3035860   14.0\n",
            "59007        3511725   14.0\n",
            "59029        3274834   14.0\n",
            "\n",
            "[473 rows x 2 columns], 'id_23':        TransactionID                 id_23\n",
            "112          2988062    IP_PROXY:ANONYMOUS\n",
            "290          3352009  IP_PROXY:TRANSPARENT\n",
            "587          3105735  IP_PROXY:TRANSPARENT\n",
            "649          3032014  IP_PROXY:TRANSPARENT\n",
            "659          3034415    IP_PROXY:ANONYMOUS\n",
            "...              ...                   ...\n",
            "58520        3204405  IP_PROXY:TRANSPARENT\n",
            "58932        3245230    IP_PROXY:ANONYMOUS\n",
            "59001        3035860       IP_PROXY:HIDDEN\n",
            "59007        3511725  IP_PROXY:TRANSPARENT\n",
            "59029        3274834  IP_PROXY:TRANSPARENT\n",
            "\n",
            "[473 rows x 2 columns], 'id_24':        TransactionID  id_24\n",
            "112          2988062   15.0\n",
            "290          3352009   11.0\n",
            "587          3105735   11.0\n",
            "649          3032014   11.0\n",
            "659          3034415   11.0\n",
            "...              ...    ...\n",
            "58482        3186424   11.0\n",
            "58520        3204405   11.0\n",
            "59001        3035860   15.0\n",
            "59007        3511725   11.0\n",
            "59029        3274834   16.0\n",
            "\n",
            "[443 rows x 2 columns], 'id_25':        TransactionID  id_25\n",
            "112          2988062  161.0\n",
            "290          3352009  321.0\n",
            "587          3105735  321.0\n",
            "649          3032014  359.0\n",
            "659          3034415  276.0\n",
            "...              ...    ...\n",
            "58520        3204405  321.0\n",
            "58932        3245230  511.0\n",
            "59001        3035860  126.0\n",
            "59007        3511725  130.0\n",
            "59029        3274834  205.0\n",
            "\n",
            "[469 rows x 2 columns], 'id_26':        TransactionID  id_26\n",
            "112          2988062  159.0\n",
            "290          3352009  100.0\n",
            "587          3105735  169.0\n",
            "649          3032014  121.0\n",
            "659          3034415  121.0\n",
            "...              ...    ...\n",
            "58520        3204405  169.0\n",
            "58932        3245230  150.0\n",
            "59001        3035860  161.0\n",
            "59007        3511725  146.0\n",
            "59029        3274834  204.0\n",
            "\n",
            "[472 rows x 2 columns], 'id_27':        TransactionID  id_27\n",
            "112          2988062  Found\n",
            "290          3352009  Found\n",
            "587          3105735  Found\n",
            "649          3032014  Found\n",
            "659          3034415  Found\n",
            "...              ...    ...\n",
            "58520        3204405  Found\n",
            "58932        3245230  Found\n",
            "59001        3035860  Found\n",
            "59007        3511725  Found\n",
            "59029        3274834  Found\n",
            "\n",
            "[473 rows x 2 columns], 'id_28':        TransactionID  id_28\n",
            "0            3054316  Found\n",
            "6            3039454    New\n",
            "9            3081028    New\n",
            "11           3136642    New\n",
            "12           3345613    New\n",
            "...              ...    ...\n",
            "59038        3046383  Found\n",
            "59041        3270802  Found\n",
            "59045        3259392    New\n",
            "59046        3421777  Found\n",
            "59053        3005714  Found\n",
            "\n",
            "[13978 rows x 2 columns], 'id_29':        TransactionID     id_29\n",
            "0            3054316     Found\n",
            "6            3039454  NotFound\n",
            "9            3081028  NotFound\n",
            "11           3136642  NotFound\n",
            "12           3345613  NotFound\n",
            "...              ...       ...\n",
            "59038        3046383     Found\n",
            "59041        3270802     Found\n",
            "59045        3259392  NotFound\n",
            "59046        3421777     Found\n",
            "59053        3005714     Found\n",
            "\n",
            "[13978 rows x 2 columns], 'id_30':        TransactionID             id_30\n",
            "0            3054316         Windows 7\n",
            "6            3039454       Windows 8.1\n",
            "9            3081028        iOS 11.1.2\n",
            "11           3136642        Windows 10\n",
            "14           2990938        Windows 10\n",
            "...              ...               ...\n",
            "59029        3274834         Windows 7\n",
            "59033        2990046        iOS 11.1.2\n",
            "59038        3046383         Windows 7\n",
            "59041        3270802  Mac OS X 10_11_6\n",
            "59045        3259392        Windows 10\n",
            "\n",
            "[7602 rows x 2 columns], 'id_31':        TransactionID                    id_31\n",
            "0            3054316              chrome 63.0\n",
            "6            3039454      ie 11.0 for desktop\n",
            "9            3081028       mobile safari 11.0\n",
            "11           3136642              chrome 63.0\n",
            "12           3345613  chrome 64.0 for android\n",
            "...              ...                      ...\n",
            "59038        3046383              chrome 63.0\n",
            "59041        3270802           safari generic\n",
            "59045        3259392      ie 11.0 for desktop\n",
            "59046        3421777              chrome 65.0\n",
            "59053        3005714              chrome 49.0\n",
            "\n",
            "[13909 rows x 2 columns], 'id_32':        TransactionID  id_32\n",
            "0            3054316   24.0\n",
            "6            3039454   24.0\n",
            "9            3081028   32.0\n",
            "11           3136642   24.0\n",
            "14           2990938   24.0\n",
            "...              ...    ...\n",
            "59029        3274834   24.0\n",
            "59033        2990046   32.0\n",
            "59038        3046383   24.0\n",
            "59041        3270802   24.0\n",
            "59045        3259392   24.0\n",
            "\n",
            "[7603 rows x 2 columns], 'id_33':        TransactionID      id_33\n",
            "0            3054316  2048x1152\n",
            "9            3081028   1334x750\n",
            "11           3136642  1920x1080\n",
            "14           2990938  1920x1080\n",
            "19           3555798   1600x900\n",
            "...              ...        ...\n",
            "59029        3274834  1680x1050\n",
            "59033        2990046  2208x1242\n",
            "59038        3046383  1920x1080\n",
            "59041        3270802   1280x800\n",
            "59045        3259392  1920x1080\n",
            "\n",
            "[7201 rows x 2 columns], 'id_34':        TransactionID           id_34\n",
            "0            3054316  match_status:2\n",
            "6            3039454  match_status:2\n",
            "9            3081028  match_status:1\n",
            "11           3136642  match_status:2\n",
            "14           2990938  match_status:2\n",
            "...              ...             ...\n",
            "59029        3274834  match_status:2\n",
            "59033        2990046  match_status:1\n",
            "59038        3046383  match_status:2\n",
            "59041        3270802  match_status:2\n",
            "59045        3259392  match_status:2\n",
            "\n",
            "[7640 rows x 2 columns], 'id_35':        TransactionID id_35\n",
            "0            3054316     T\n",
            "6            3039454     T\n",
            "9            3081028     T\n",
            "11           3136642     T\n",
            "12           3345613     F\n",
            "...              ...   ...\n",
            "59038        3046383     T\n",
            "59041        3270802     T\n",
            "59045        3259392     T\n",
            "59046        3421777     F\n",
            "59053        3005714     F\n",
            "\n",
            "[13979 rows x 2 columns], 'id_36':        TransactionID id_36\n",
            "0            3054316     F\n",
            "6            3039454     T\n",
            "9            3081028     F\n",
            "11           3136642     F\n",
            "12           3345613     F\n",
            "...              ...   ...\n",
            "59038        3046383     F\n",
            "59041        3270802     T\n",
            "59045        3259392     F\n",
            "59046        3421777     F\n",
            "59053        3005714     T\n",
            "\n",
            "[13979 rows x 2 columns], 'id_37':        TransactionID id_37\n",
            "0            3054316     T\n",
            "6            3039454     T\n",
            "9            3081028     T\n",
            "11           3136642     T\n",
            "12           3345613     T\n",
            "...              ...   ...\n",
            "59038        3046383     T\n",
            "59041        3270802     T\n",
            "59045        3259392     T\n",
            "59046        3421777     T\n",
            "59053        3005714     T\n",
            "\n",
            "[13979 rows x 2 columns], 'id_38':        TransactionID id_38\n",
            "0            3054316     F\n",
            "6            3039454     T\n",
            "9            3081028     T\n",
            "11           3136642     F\n",
            "12           3345613     F\n",
            "...              ...   ...\n",
            "59038        3046383     F\n",
            "59041        3270802     T\n",
            "59045        3259392     T\n",
            "59046        3421777     F\n",
            "59053        3005714     F\n",
            "\n",
            "[13979 rows x 2 columns], 'DeviceType':        TransactionID DeviceType\n",
            "0            3054316    desktop\n",
            "6            3039454    desktop\n",
            "9            3081028     mobile\n",
            "11           3136642    desktop\n",
            "12           3345613     mobile\n",
            "...              ...        ...\n",
            "59038        3046383    desktop\n",
            "59041        3270802    desktop\n",
            "59045        3259392    desktop\n",
            "59046        3421777    desktop\n",
            "59053        3005714    desktop\n",
            "\n",
            "[13961 rows x 2 columns], 'DeviceInfo':        TransactionID             DeviceInfo\n",
            "0            3054316                Windows\n",
            "6            3039454            Trident/7.0\n",
            "9            3081028             iOS Device\n",
            "11           3136642                Windows\n",
            "12           3345613  SM-G925I Build/NRD90M\n",
            "...              ...                    ...\n",
            "59031        3044043   LG-H542 Build/LRX22G\n",
            "59033        2990046             iOS Device\n",
            "59038        3046383                Windows\n",
            "59041        3270802                  MacOS\n",
            "59045        3259392            Trident/7.0\n",
            "\n",
            "[11721 rows x 2 columns]}\n"
          ]
        }
      ],
      "source": [
        "edges = {}\n",
        "for etype in edge_types:\n",
        "    edgelist = full_identity_df[['TransactionID', etype]].dropna()\n",
        "    edgelist.to_csv('data/relation_{}_edgelist.csv'.format(etype), index=False, header=True)\n",
        "    edges[etype] = edgelist\n",
        "\n",
        "print(edges)"
      ]
    },
    {
      "source": [
        "Let's re-check the edges we defined."
      ],
      "cell_type": "markdown",
      "metadata": {
        "id": "OAQsk6_W28Ex"
      }
    },
    {
      "cell_type": "code",
      "execution_count": null,
      "metadata": {
        "id": "pW5z0_gv28Ex"
      },
      "outputs": [],
      "source": [
        "\n",
        "import glob\n",
        "\n",
        "file_list = glob.glob('./data/*edgelist.csv')\n",
        "\n",
        "edges = \",\".join(map(lambda x: x.split(\"/\")[-1], [file for file in file_list if \"relation\" in file]))\n",
        "\n",
        "edges_full = ''\n",
        "for etype in edge_types:\n",
        "    edges_full += ',data/relation_{}_edgelist.csv'.format(etype)\n",
        "\n"
      ]
    },
    {
      "cell_type": "code",
      "execution_count": null,
      "metadata": {
        "id": "dTIoDfJ028Ex",
        "outputId": "56095841-3eab-4074-e851-b3039c441648",
        "colab": {
          "base_uri": "https://localhost:8080/",
          "height": 123
        }
      },
      "outputs": [
        {
          "output_type": "execute_result",
          "data": {
            "text/plain": [
              "'relation_card2_edgelist.csv,relation_addr2_edgelist.csv,relation_card5_edgelist.csv,relation_addr1_edgelist.csv,relation_card4_edgelist.csv,relation_ProductCD_edgelist.csv,relation_card6_edgelist.csv,relation_card3_edgelist.csv,relation_card1_edgelist.csv,relation_P_emaildomain_edgelist.csv,relation_R_emaildomain_edgelist.csv,relation_id_01_edgelist.csv,relation_TransactionID_edgelist.csv,relation_id_03_edgelist.csv,relation_id_02_edgelist.csv,relation_id_04_edgelist.csv,relation_id_06_edgelist.csv,relation_id_05_edgelist.csv,relation_id_07_edgelist.csv,relation_id_08_edgelist.csv,relation_id_10_edgelist.csv,relation_id_09_edgelist.csv,relation_id_13_edgelist.csv,relation_id_14_edgelist.csv,relation_id_12_edgelist.csv,relation_id_16_edgelist.csv,relation_id_11_edgelist.csv,relation_id_15_edgelist.csv,relation_id_17_edgelist.csv,relation_id_19_edgelist.csv,relation_id_18_edgelist.csv,relation_id_21_edgelist.csv,relation_id_23_edgelist.csv,relation_id_22_edgelist.csv,relation_id_24_edgelist.csv,relation_id_20_edgelist.csv,relation_id_25_edgelist.csv,relation_id_27_edgelist.csv,relation_id_31_edgelist.csv,relation_id_28_edgelist.csv,relation_id_32_edgelist.csv,relation_id_26_edgelist.csv,relation_id_29_edgelist.csv,relation_id_30_edgelist.csv,relation_id_33_edgelist.csv,relation_id_34_edgelist.csv,relation_id_35_edgelist.csv,relation_id_36_edgelist.csv,relation_id_38_edgelist.csv,relation_id_37_edgelist.csv,relation_DeviceType_edgelist.csv,relation_DeviceInfo_edgelist.csv'"
            ],
            "application/vnd.google.colaboratory.intrinsic+json": {
              "type": "string"
            }
          },
          "metadata": {},
          "execution_count": 29
        }
      ],
      "source": [
        "edges"
      ]
    }
  ]
}