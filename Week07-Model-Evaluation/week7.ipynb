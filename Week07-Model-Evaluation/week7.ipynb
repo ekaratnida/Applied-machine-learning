{
  "nbformat": 4,
  "nbformat_minor": 0,
  "metadata": {
    "kernelspec": {
      "name": "python3",
      "display_name": "Python 3",
      "language": "python"
    },
    "language_info": {
      "name": "python",
      "version": "3.7.6",
      "mimetype": "text/x-python",
      "codemirror_mode": {
        "name": "ipython",
        "version": 3
      },
      "pygments_lexer": "ipython3",
      "nbconvert_exporter": "python",
      "file_extension": ".py"
    },
    "colab": {
      "name": "week7.ipynb",
      "provenance": [],
      "include_colab_link": true
    }
  },
  "cells": [
    {
      "cell_type": "markdown",
      "metadata": {
        "id": "view-in-github",
        "colab_type": "text"
      },
      "source": [
        "<a href=\"https://colab.research.google.com/github/ekaratnida/Applied-machine-learning/blob/master/Week07-Model-Evaluation/week7.ipynb\" target=\"_parent\"><img src=\"https://colab.research.google.com/assets/colab-badge.svg\" alt=\"Open In Colab\"/></a>"
      ]
    },
    {
      "cell_type": "markdown",
      "metadata": {
        "id": "EIPoBy-7AOXt"
      },
      "source": [
        "# ![](http://)**1. Hold-out method**"
      ]
    },
    {
      "cell_type": "code",
      "metadata": {
        "_uuid": "d629ff2d2480ee46fbb7e2d37f6b5fab8052498a",
        "_cell_guid": "79c7e3d0-c299-4dcb-8224-4455121ee9b0",
        "trusted": true,
        "colab": {
          "base_uri": "https://localhost:8080/"
        },
        "id": "qf-WaWXsAOX1",
        "outputId": "a0d424c1-2c78-4492-ef07-92eaf4c1a5cf"
      },
      "source": [
        "import numpy as np\n",
        "from numpy import random\n",
        "from sklearn.model_selection import train_test_split\n",
        "import warnings\n",
        "warnings.filterwarnings('ignore')\n",
        "from sklearn.metrics import mean_squared_error\n",
        "np.set_printoptions(formatter={'float': lambda x: \"{0:0.2f}\".format(x)})\n",
        "\n",
        "X, y = np.arange(10).reshape((5, 2)),random.rand(5) # 4 columns, 100 rows, 80:20%\n",
        "print(X)\n",
        "print(y)\n",
        "X_train, X_test, y_train, y_test = train_test_split(X, y, test_size=0.20, random_state=42)\n",
        "print('X train ', X_train)\n",
        "print('y train ', y_train)\n",
        "print('X test ', X_test)\n",
        "print('y test ', y_test)\n",
        "\n",
        "from sklearn.metrics import r2_score\n",
        "from sklearn.linear_model import LinearRegression\n",
        "lr = LinearRegression()\n",
        "model = lr.fit(X_train,y_train)\n",
        "y_pred = model.predict(X_test)\n",
        "print('y_pred ', y_pred)\n",
        "print(r2_score(y_test, y_pred))\n",
        "print(mean_squared_error(y_test,y_pred))"
      ],
      "execution_count": 22,
      "outputs": [
        {
          "output_type": "stream",
          "name": "stdout",
          "text": [
            "[[0 1]\n",
            " [2 3]\n",
            " [4 5]\n",
            " [6 7]\n",
            " [8 9]]\n",
            "[0.76 0.47 0.23 0.58 0.17]\n",
            "X train  [[8 9]\n",
            " [4 5]\n",
            " [0 1]\n",
            " [6 7]]\n",
            "y train  [0.17 0.23 0.76 0.58]\n",
            "X test  [[2 3]]\n",
            "y test  [0.47]\n",
            "y_pred  [0.58]\n",
            "nan\n",
            "0.012544595613907892\n"
          ]
        }
      ]
    },
    {
      "cell_type": "markdown",
      "metadata": {
        "id": "jkttijo_GQBi"
      },
      "source": [
        "### **Cross Validation (Grid search)**"
      ]
    },
    {
      "cell_type": "code",
      "metadata": {
        "colab": {
          "base_uri": "https://localhost:8080/"
        },
        "id": "BuW8ekvKGO4u",
        "outputId": "d4da55ee-9567-4991-aaba-46d14d3ed6b2"
      },
      "source": [
        "from sklearn import datasets\n",
        "from sklearn.model_selection import GridSearchCV\n",
        "from sklearn.linear_model import LogisticRegression\n",
        "iris = datasets.load_iris()\n",
        "\n",
        "# Create regularization penalty space\n",
        "penalty = ['l1', 'l2']\n",
        "\n",
        "# Create regularization hyperparameter space\n",
        "C = np.logspace(0, 4, 10)\n",
        "print(C)\n",
        "\n",
        "# Create hyperparameter options\n",
        "hyperparameters = dict(C=C, penalty=penalty)\n",
        "\n",
        "clf = LogisticRegression()\n",
        "#print(clf.get_params())\n",
        "model = GridSearchCV(clf, hyperparameters, cv=5, verbose=0)\n",
        "best_model = model.fit(iris.data, iris.target)\n",
        "\n",
        "# View best hyperparameters\n",
        "print('Best params:', best_model.best_params_)\n",
        "print(best_model.best_estimator_)"
      ],
      "execution_count": 23,
      "outputs": [
        {
          "output_type": "stream",
          "name": "stdout",
          "text": [
            "[1.00 2.78 7.74 21.54 59.95 166.81 464.16 1291.55 3593.81 10000.00]\n",
            "Best params: {'C': 7.742636826811269, 'penalty': 'l2'}\n",
            "LogisticRegression(C=7.742636826811269)\n"
          ]
        }
      ]
    },
    {
      "cell_type": "markdown",
      "metadata": {
        "id": "e5IXRmb2AOX3"
      },
      "source": [
        "# **3. Confusion matrix**"
      ]
    },
    {
      "cell_type": "code",
      "metadata": {
        "trusted": true,
        "id": "D3tblkPAAOX4",
        "colab": {
          "base_uri": "https://localhost:8080/"
        },
        "outputId": "308d6a45-be63-4e5d-bc96-0e5d90460e73"
      },
      "source": [
        "from sklearn.metrics import confusion_matrix\n",
        "y_true = [0, 0, 0, 1, 1, 1, 1, 1, 0, 1]\n",
        "y_pred = [0, 0, 0, 1, 1, 1, 1, 1, 1, 1]\n",
        "\n",
        "test = confusion_matrix(y_true, y_pred)\n",
        "print(test.shape) #2D array\n",
        "tn, fp, fn, tp = confusion_matrix(y_true, y_pred).ravel() #1D array\n",
        "print(\"tp=\",tp,\" fp=\",fp)\n",
        "print(\"fn=\",fn,\" tn=\", tn)\n",
        "\n",
        "from sklearn import metrics\n",
        "\n",
        "precision = metrics.precision_score(y_true, y_pred)\n",
        "recall = metrics.recall_score(y_true, y_pred)\n",
        "f1 = metrics.f1_score(y_true, y_pred)\n",
        "accuracy = metrics.accuracy_score(y_true, y_pred)\n",
        "\n",
        "print(\"accuracy = \", accuracy)\n",
        "print(\"precision = \",precision)\n",
        "print(\"recall = \", recall)\n",
        "print(\"f1 = \", f1)\n",
        "\n",
        "print(\"**************\")\n",
        "\n",
        "target_names = ['class 0', 'class 1']\n",
        "print(metrics.classification_report(y_true, y_pred, target_names=target_names))"
      ],
      "execution_count": 24,
      "outputs": [
        {
          "output_type": "stream",
          "name": "stdout",
          "text": [
            "(2, 2)\n",
            "tp= 6  fp= 1\n",
            "fn= 0  tn= 3\n",
            "accuracy =  0.9\n",
            "precision =  0.8571428571428571\n",
            "recall =  1.0\n",
            "f1 =  0.923076923076923\n",
            "**************\n",
            "              precision    recall  f1-score   support\n",
            "\n",
            "     class 0       1.00      0.75      0.86         4\n",
            "     class 1       0.86      1.00      0.92         6\n",
            "\n",
            "    accuracy                           0.90        10\n",
            "   macro avg       0.93      0.88      0.89        10\n",
            "weighted avg       0.91      0.90      0.90        10\n",
            "\n"
          ]
        }
      ]
    },
    {
      "cell_type": "code",
      "metadata": {
        "trusted": true,
        "id": "hI7PNvegAOX4",
        "colab": {
          "base_uri": "https://localhost:8080/",
          "height": 466
        },
        "outputId": "8da554a9-6108-4145-9c86-b0ea6d06232c"
      },
      "source": [
        "import matplotlib.pyplot as plt\n",
        "from sklearn.datasets import make_classification\n",
        "from sklearn.model_selection import train_test_split\n",
        "from sklearn.metrics import ConfusionMatrixDisplay, confusion_matrix\n",
        "\n",
        "X, y = make_classification(random_state=0)\n",
        "#print(\"X = \",X)\n",
        "#print(\"y = \",y)\n",
        "\n",
        "X_train, X_test, y_train, y_test = train_test_split(X, y, random_state=123) #75:25\n",
        "\n",
        "clf = LogisticRegression()\n",
        "\n",
        "clf.fit(X_train, y_train)\n",
        "predictions = clf.predict(X_test)\n",
        "cm = confusion_matrix(y_test, predictions, labels=clf.classes_)\n",
        "disp = ConfusionMatrixDisplay(confusion_matrix=cm, display_labels=clf.classes_)\n",
        "disp.plot()\n"
      ],
      "execution_count": 25,
      "outputs": [
        {
          "output_type": "execute_result",
          "data": {
            "text/plain": [
              "<sklearn.metrics._plot.confusion_matrix.ConfusionMatrixDisplay at 0x7f911d68e3b0>"
            ]
          },
          "metadata": {},
          "execution_count": 25
        },
        {
          "output_type": "display_data",
          "data": {
            "text/plain": [
              "<Figure size 640x480 with 2 Axes>"
            ],
            "image/png": "[encoded data removed]"
          },
          "metadata": {}
        }
      ]
    },
    {
      "cell_type": "code",
      "metadata": {
        "trusted": true,
        "id": "pz6pOMTsAOX5",
        "colab": {
          "base_uri": "https://localhost:8080/",
          "height": 501
        },
        "outputId": "7938ad36-70f7-44e9-8dd6-9589986c002d"
      },
      "source": [
        "# roc curve and auc\n",
        "from sklearn.datasets import make_classification\n",
        "from sklearn.linear_model import LogisticRegression\n",
        "from sklearn.model_selection import train_test_split\n",
        "from sklearn.metrics import roc_curve\n",
        "from sklearn.metrics import roc_auc_score\n",
        "from matplotlib import pyplot\n",
        "\n",
        "# generate 2 class dataset\n",
        "X, y = make_classification(n_samples=1000, n_classes=2, random_state=1)\n",
        "print(X.shape)\n",
        "\n",
        "# split into train/test sets\n",
        "trainX, testX, trainy, testy = train_test_split(X, y, test_size=0.3, random_state=2)\n",
        "\n",
        "# generate a no skill prediction (majority class)\n",
        "ns_probs = [0 for _ in range(len(testy))]\n",
        "\n",
        "# fit a model\n",
        "model = LogisticRegression()\n",
        "model.fit(trainX, trainy)\n",
        "\n",
        "# predict probabilities\n",
        "lr_probs = model.predict_proba(testX)\n",
        "\n",
        "# keep probabilities for the positive outcome only\n",
        "lr_probs = lr_probs[:, 1]\n",
        "\n",
        "# calculate scores\n",
        "ns_auc = roc_auc_score(testy, ns_probs)\n",
        "lr_auc = roc_auc_score(testy, lr_probs)\n",
        "\n",
        "# summarize scores\n",
        "print('No Skill: ROC AUC=%.3f' % (ns_auc))\n",
        "print('Logistic: ROC AUC=%.3f' % (lr_auc))\n",
        "\n",
        "# calculate roc curves\n",
        "ns_fpr, ns_tpr, _ = roc_curve(testy, ns_probs)\n",
        "lr_fpr, lr_tpr, _ = roc_curve(testy, lr_probs)\n",
        "\n",
        "# plot the roc curve for the model\n",
        "pyplot.plot(ns_fpr, ns_tpr, linestyle='--', label='No Skill')\n",
        "pyplot.plot(lr_fpr, lr_tpr, marker='.', label='Logistic')\n",
        "\n",
        "# axis labels\n",
        "pyplot.xlabel('False Positive Rate')\n",
        "pyplot.ylabel('True Positive Rate')\n",
        "\n",
        "# show the legend\n",
        "pyplot.legend()\n",
        "\n",
        "# show the plot\n",
        "pyplot.show()\n"
      ],
      "execution_count": 26,
      "outputs": [
        {
          "output_type": "stream",
          "name": "stdout",
          "text": [
            "(1000, 20)\n",
            "No Skill: ROC AUC=0.500\n",
            "Logistic: ROC AUC=0.919\n"
          ]
        },
        {
          "output_type": "display_data",
          "data": {
            "text/plain": [
              "<Figure size 640x480 with 1 Axes>"
            ],
            "image/png": "[encoded data removed]"
          },
          "metadata": {}
        }
      ]
    }
  ]
}