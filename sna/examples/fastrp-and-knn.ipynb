{
  "cells": [
    {
      "cell_type": "markdown",
      "id": "5cb64c55",
      "metadata": {
        "id": "5cb64c55"
      },
      "source": [
        "# Product recommendations with kNN based on FastRP embeddings"
      ]
    },
    {
      "cell_type": "markdown",
      "id": "ff8330bd",
      "metadata": {
        "id": "ff8330bd"
      },
      "source": [
        "<a target=\"_blank\" href=\"https://colab.research.google.com/github/neo4j/graph-data-science-client/blob/main/examples/fastrp-and-knn.ipynb\">\n",
        "  <img src=\"https://colab.research.google.com/assets/colab-badge.svg\" alt=\"Open In Colab\"/>\n",
        "</a>"
      ]
    },
    {
      "cell_type": "markdown",
      "id": "a759796d",
      "metadata": {
        "id": "a759796d"
      },
      "source": [
        "This Jupyter notebook is hosted [here](https://github.com/neo4j/graph-data-science-client/blob/main/examples/fastrp-and-knn.ipynb) in the Neo4j Graph Data Science Client Github repository.\n",
        "\n",
        "The notebook exemplifies how to use the `graphdatascience` Python library to operate Neo4j GDS.\n",
        "It shows an adapted version of the FastRP and kNN end-to-end example from the GDS Manual, found [here](https://neo4j.com/docs/graph-data-science/current/end-to-end-examples/fastrp-knn-example).\n",
        "\n",
        "We consider a graph of products and customers, and we want to find new products to recommend for each customer. We want to use [the K-Nearest Neighbors algorithm (kNN)](https://neo4j.com/docs/graph-data-science/current/algorithms/knn/) to identify similar customers and base our product recommendations on that. In order to be able to leverage topological information about the graph in kNN, we will first create node embeddings using [FastRP](https://neo4j.com/docs/graph-data-science/current/machine-learning/node-embeddings/fastrp/). These embeddings will be the input to the kNN algorithm.\n",
        "\n",
        "We will then use a Cypher query to generate recommendations for each pair of similar customers, where products that have been purchased by one of the customers will be recommended to the other."
      ]
    },
    {
      "cell_type": "markdown",
      "id": "c4596ec8",
      "metadata": {
        "id": "c4596ec8"
      },
      "source": [
        "## Prerequisites\n",
        "\n",
        "Running this notebook requires a Neo4j server with a recent version (2.0+) of GDS installed.\n",
        "We recommend using Neo4j Desktop with GDS, or AuraDS.\n",
        "\n",
        "The `graphdatascience` Python library needs to be installed as well. See the examples in the Setup section below and in the [client installation instructions](https://neo4j.com/docs/graph-data-science-client/current/installation/)."
      ]
    },
    {
      "cell_type": "markdown",
      "id": "39328998",
      "metadata": {
        "id": "39328998"
      },
      "source": [
        "## Setup\n",
        "\n",
        "We start by installing and importing our dependencies, and setting up our GDS client connection to the database.\n",
        "\n",
        "TIP: Alternatively, you can use [Aura Graph Analytics Serverless](https://neo4j.com/docs/graph-data-science-client/current/graph-analytics-serverless/) and skip the whole Setup section below."
      ]
    },
    {
      "cell_type": "code",
      "execution_count": 19,
      "id": "8fde45a7",
      "metadata": {
        "id": "8fde45a7",
        "outputId": "0ecbd3fc-4c7e-45bb-9d69-c03708506921",
        "colab": {
          "base_uri": "https://localhost:8080/"
        }
      },
      "outputs": [
        {
          "output_type": "stream",
          "name": "stdout",
          "text": [
            "Requirement already satisfied: graphdatascience in /usr/local/lib/python3.11/dist-packages (1.15.1)\n",
            "Requirement already satisfied: multimethod<3.0,>=1.0 in /usr/local/lib/python3.11/dist-packages (from graphdatascience) (2.0)\n",
            "Requirement already satisfied: neo4j<6.0,>=4.4.12 in /usr/local/lib/python3.11/dist-packages (from graphdatascience) (5.28.1)\n",
            "Requirement already satisfied: numpy<2.3 in /usr/local/lib/python3.11/dist-packages (from graphdatascience) (2.0.2)\n",
            "Requirement already satisfied: pandas<3.0,>=1.0 in /usr/local/lib/python3.11/dist-packages (from graphdatascience) (2.2.2)\n",
            "Requirement already satisfied: pyarrow<20.0,>=16.0 in /usr/local/lib/python3.11/dist-packages (from graphdatascience) (18.1.0)\n",
            "Requirement already satisfied: textdistance<5.0,>=4.0 in /usr/local/lib/python3.11/dist-packages (from graphdatascience) (4.6.3)\n",
            "Requirement already satisfied: tqdm<5.0,>=4.0 in /usr/local/lib/python3.11/dist-packages (from graphdatascience) (4.67.1)\n",
            "Requirement already satisfied: typing-extensions<5.0,>=4.0 in /usr/local/lib/python3.11/dist-packages (from graphdatascience) (4.14.0)\n",
            "Requirement already satisfied: requests in /usr/local/lib/python3.11/dist-packages (from graphdatascience) (2.32.3)\n",
            "Requirement already satisfied: tenacity>=9.0 in /usr/local/lib/python3.11/dist-packages (from graphdatascience) (9.1.2)\n",
            "Requirement already satisfied: pytz in /usr/local/lib/python3.11/dist-packages (from neo4j<6.0,>=4.4.12->graphdatascience) (2025.2)\n",
            "Requirement already satisfied: python-dateutil>=2.8.2 in /usr/local/lib/python3.11/dist-packages (from pandas<3.0,>=1.0->graphdatascience) (2.9.0.post0)\n",
            "Requirement already satisfied: tzdata>=2022.7 in /usr/local/lib/python3.11/dist-packages (from pandas<3.0,>=1.0->graphdatascience) (2025.2)\n",
            "Requirement already satisfied: charset-normalizer<4,>=2 in /usr/local/lib/python3.11/dist-packages (from requests->graphdatascience) (3.4.2)\n",
            "Requirement already satisfied: idna<4,>=2.5 in /usr/local/lib/python3.11/dist-packages (from requests->graphdatascience) (3.10)\n",
            "Requirement already satisfied: urllib3<3,>=1.21.1 in /usr/local/lib/python3.11/dist-packages (from requests->graphdatascience) (2.4.0)\n",
            "Requirement already satisfied: certifi>=2017.4.17 in /usr/local/lib/python3.11/dist-packages (from requests->graphdatascience) (2025.6.15)\n",
            "Requirement already satisfied: six>=1.5 in /usr/local/lib/python3.11/dist-packages (from python-dateutil>=2.8.2->pandas<3.0,>=1.0->graphdatascience) (1.17.0)\n"
          ]
        }
      ],
      "source": [
        "# Install necessary dependencies\n",
        "%pip install graphdatascience"
      ]
    },
    {
      "cell_type": "code",
      "execution_count": 20,
      "id": "44abe56c",
      "metadata": {
        "id": "44abe56c"
      },
      "outputs": [],
      "source": [
        "import os\n",
        "\n",
        "from graphdatascience import GraphDataScience\n",
        "\n",
        "# Get Neo4j DB URI and credentials from environment if applicable\n",
        "NEO4J_URI = os.environ.get(\"NEO4J_URI\", \"bolt://3.83.139.10:7687\")\n",
        "NEO4J_AUTH = None\n",
        "if os.environ.get(\"NEO4J_USER\") and os.environ.get(\"NEO4J_PASSWORD\"):\n",
        "    NEO4J_AUTH = (\n",
        "        os.environ.get(\"NEO4J_USER\"),\n",
        "        os.environ.get(\"NEO4J_PASSWORD\"),\n",
        "    )\n",
        "\n",
        "NEO4J_AUTH = (\"neo4j\",\"drain-switches-captain\")\n",
        "gds = GraphDataScience(NEO4J_URI, auth=NEO4J_AUTH)"
      ]
    },
    {
      "cell_type": "code",
      "execution_count": 21,
      "id": "0dc5d368",
      "metadata": {
        "tags": [
          "verify-version"
        ],
        "id": "0dc5d368"
      },
      "outputs": [],
      "source": [
        "from graphdatascience import ServerVersion\n",
        "\n",
        "assert gds.server_version() >= ServerVersion(1, 8, 0)"
      ]
    },
    {
      "cell_type": "markdown",
      "id": "0878b3e7",
      "metadata": {
        "id": "0878b3e7"
      },
      "source": [
        "## Example graph creation\n",
        "\n",
        "We now create a graph of products and customers in the database. The `amount` relationship property represents the average weekly amount of money spent by a customer on a given product."
      ]
    },
    {
      "cell_type": "code",
      "execution_count": 22,
      "id": "1da893ee",
      "metadata": {
        "id": "1da893ee"
      },
      "outputs": [],
      "source": [
        "# The `run_cypher` method can be used to run arbitrary Cypher queries on the database.\n",
        "_ = gds.run_cypher(\n",
        "    \"\"\"\n",
        "        CREATE\n",
        "         (dan:Person {name: 'Dan'}),\n",
        "         (annie:Person {name: 'Annie'}),\n",
        "         (matt:Person {name: 'Matt'}),\n",
        "         (jeff:Person {name: 'Jeff'}),\n",
        "         (brie:Person {name: 'Brie'}),\n",
        "         (elsa:Person {name: 'Elsa'}),\n",
        "\n",
        "         (cookies:Product {name: 'Cookies'}),\n",
        "         (tomatoes:Product {name: 'Tomatoes'}),\n",
        "         (cucumber:Product {name: 'Cucumber'}),\n",
        "         (celery:Product {name: 'Celery'}),\n",
        "         (kale:Product {name: 'Kale'}),\n",
        "         (milk:Product {name: 'Milk'}),\n",
        "         (chocolate:Product {name: 'Chocolate'}),\n",
        "\n",
        "         (dan)-[:BUYS {amount: 1.2}]->(cookies),\n",
        "         (dan)-[:BUYS {amount: 3.2}]->(milk),\n",
        "         (dan)-[:BUYS {amount: 2.2}]->(chocolate),\n",
        "\n",
        "         (annie)-[:BUYS {amount: 1.2}]->(cucumber),\n",
        "         (annie)-[:BUYS {amount: 3.2}]->(milk),\n",
        "         (annie)-[:BUYS {amount: 3.2}]->(tomatoes),\n",
        "\n",
        "         (matt)-[:BUYS {amount: 3}]->(tomatoes),\n",
        "         (matt)-[:BUYS {amount: 2}]->(kale),\n",
        "         (matt)-[:BUYS {amount: 1}]->(cucumber),\n",
        "\n",
        "         (jeff)-[:BUYS {amount: 3}]->(cookies),\n",
        "         (jeff)-[:BUYS {amount: 2}]->(milk),\n",
        "\n",
        "         (brie)-[:BUYS {amount: 1}]->(tomatoes),\n",
        "         (brie)-[:BUYS {amount: 2}]->(milk),\n",
        "         (brie)-[:BUYS {amount: 2}]->(kale),\n",
        "         (brie)-[:BUYS {amount: 3}]->(cucumber),\n",
        "         (brie)-[:BUYS {amount: 0.3}]->(celery),\n",
        "\n",
        "         (elsa)-[:BUYS {amount: 3}]->(chocolate),\n",
        "         (elsa)-[:BUYS {amount: 3}]->(milk)\n",
        "    \"\"\"\n",
        ")"
      ]
    },
    {
      "cell_type": "markdown",
      "id": "ebe0e20c",
      "metadata": {
        "id": "ebe0e20c"
      },
      "source": [
        "## Projecting into GDS\n",
        "\n",
        "In order to be able to analyze the data in our database, we proceed to projecting it into memory where GDS can operate on it."
      ]
    },
    {
      "cell_type": "code",
      "execution_count": 23,
      "id": "a57cd9f6",
      "metadata": {
        "id": "a57cd9f6",
        "outputId": "410aff14-a9d3-427f-d2f0-5b7ac40fcb17",
        "colab": {
          "base_uri": "https://localhost:8080/"
        }
      },
      "outputs": [
        {
          "output_type": "stream",
          "name": "stdout",
          "text": [
            "Required memory for native loading: 545 KiB\n"
          ]
        }
      ],
      "source": [
        "# We define how we want to project our database into GDS\n",
        "node_projection = [\"Person\", \"Product\"]\n",
        "relationship_projection = {\"BUYS\": {\"orientation\": \"UNDIRECTED\", \"properties\": \"amount\"}}\n",
        "\n",
        "# Before actually going through with the projection, let's check how much memory is required\n",
        "result = gds.graph.project.estimate(node_projection, relationship_projection)\n",
        "\n",
        "print(f\"Required memory for native loading: {result['requiredMemory']}\")"
      ]
    },
    {
      "cell_type": "code",
      "execution_count": 24,
      "id": "35c72bd4",
      "metadata": {
        "id": "35c72bd4",
        "outputId": "ce49614d-9998-49fc-96ae-30ffbd8c005b",
        "colab": {
          "base_uri": "https://localhost:8080/"
        }
      },
      "outputs": [
        {
          "output_type": "stream",
          "name": "stdout",
          "text": [
            "The projection took 24 ms\n",
            "Graph 'purchases' node count: 13\n",
            "Graph 'purchases' node labels: ['Product', 'Person']\n"
          ]
        }
      ],
      "source": [
        "# For this small graph memory requirement is low. Let us go through with the projection\n",
        "if gds.graph.exists(\"purchases\").all():\n",
        "  gds.graph.drop(\"purchases\")\n",
        "\n",
        "G, result = gds.graph.project(\"purchases\", node_projection, relationship_projection)\n",
        "\n",
        "print(f\"The projection took {result['projectMillis']} ms\")\n",
        "\n",
        "# We can use convenience methods on `G` to check if the projection looks correct\n",
        "print(f\"Graph '{G.name()}' node count: {G.node_count()}\")\n",
        "print(f\"Graph '{G.name()}' node labels: {G.node_labels()}\")"
      ]
    },
    {
      "cell_type": "markdown",
      "id": "f734edb7",
      "metadata": {
        "id": "f734edb7"
      },
      "source": [
        "## Creating FastRP node embeddings\n",
        "\n",
        "Next we use the [FastRP algorithm](https://neo4j.com/docs/graph-data-science/current/machine-learning/node-embeddings/fastrp/) to generate node embeddings that capture topological information from the graph. We choose to work with `embeddingDimension` set to 4 which is sufficient since our example graph is very small. The `iterationWeights` are chosen empirically to yield sensible results. Please see [the syntax section of the FastRP documentation](https://neo4j.com/docs/graph-data-science/current/machine-learning/node-embeddings/fastrp/#algorithms-embeddings-fastrp-syntax) for more information on these parameters.\n",
        "\n",
        "Since we want to use the embeddings as input when we run kNN later we use FastRP’s mutate mode."
      ]
    },
    {
      "cell_type": "code",
      "execution_count": 25,
      "id": "f3e6916f",
      "metadata": {
        "id": "f3e6916f",
        "outputId": "241f0933-812b-42c8-dd54-4fabbc7953a2",
        "colab": {
          "base_uri": "https://localhost:8080/"
        }
      },
      "outputs": [
        {
          "output_type": "stream",
          "name": "stdout",
          "text": [
            "Required memory for running FastRP: 2160 Bytes\n"
          ]
        }
      ],
      "source": [
        "# We can also estimate memory of running algorithms like FastRP, so let's do that first\n",
        "result = gds.fastRP.mutate.estimate(\n",
        "    G,\n",
        "    mutateProperty=\"embedding\",\n",
        "    randomSeed=42,\n",
        "    embeddingDimension=4,\n",
        "    relationshipWeightProperty=\"amount\",\n",
        "    iterationWeights=[0.8, 1, 1, 1],\n",
        ")\n",
        "\n",
        "print(f\"Required memory for running FastRP: {result['requiredMemory']}\")"
      ]
    },
    {
      "cell_type": "code",
      "execution_count": 26,
      "id": "8c2a3932",
      "metadata": {
        "id": "8c2a3932",
        "outputId": "76614408-1176-4c17-aafd-98fe0503ff31",
        "colab": {
          "base_uri": "https://localhost:8080/"
        }
      },
      "outputs": [
        {
          "output_type": "stream",
          "name": "stdout",
          "text": [
            "Number of embedding vectors produced: 13\n"
          ]
        }
      ],
      "source": [
        "# Now let's run FastRP and mutate our projected graph 'purchases' with the results\n",
        "result = gds.fastRP.mutate(\n",
        "    G,\n",
        "    mutateProperty=\"embedding\",\n",
        "    randomSeed=42,\n",
        "    embeddingDimension=4,\n",
        "    relationshipWeightProperty=\"amount\",\n",
        "    iterationWeights=[0.8, 1, 1, 1],\n",
        ")\n",
        "\n",
        "# Let's make sure we got an embedding for each node\n",
        "print(f\"Number of embedding vectors produced: {result['nodePropertiesWritten']}\")"
      ]
    },
    {
      "cell_type": "markdown",
      "id": "1213e261",
      "metadata": {
        "id": "1213e261"
      },
      "source": [
        "## Similarities with kNN\n",
        "\n",
        "Now we can run [kNN](https://neo4j.com/docs/graph-data-science/current/algorithms/knn/) to identify similar nodes by using the node embeddings that we generated with FastRP as `nodeProperties`. Since we are working with a small graph, we can set `sampleRate` to 1 and `deltaThreshold` to 0 without having to worry about long computation times. The `concurrency` parameter is set to 1 (along with the fixed `randomSeed`) in order to get a deterministic result. Please see [the syntax section of the kNN documentation](https://neo4j.com/docs/graph-data-science/current/algorithms/knn/#algorithms-knn-syntax) for more information on these parameters.\n",
        "\n",
        "Note that we will use the algorithm’s write mode to write the properties and relationships back to our database, so that we can analyze them later using Cypher."
      ]
    },
    {
      "cell_type": "code",
      "execution_count": 27,
      "id": "9b132f95",
      "metadata": {
        "id": "9b132f95",
        "outputId": "4579b902-5975-46bd-bc58-8bdaaef2442b",
        "colab": {
          "base_uri": "https://localhost:8080/"
        }
      },
      "outputs": [
        {
          "output_type": "stream",
          "name": "stdout",
          "text": [
            "Relationships produced: 26\n",
            "Nodes compared: 13\n",
            "Mean similarity: 0.929229002732497\n"
          ]
        }
      ],
      "source": [
        "# Run kNN and write back to db (we skip memory estimation this time...)\n",
        "result = gds.knn.write(\n",
        "    G,\n",
        "    topK=2,\n",
        "    nodeProperties=[\"embedding\"],\n",
        "    randomSeed=42,\n",
        "    concurrency=1,\n",
        "    sampleRate=1.0,\n",
        "    deltaThreshold=0.0,\n",
        "    writeRelationshipType=\"SIMILAR\",\n",
        "    writeProperty=\"score\",\n",
        ")\n",
        "\n",
        "print(f\"Relationships produced: {result['relationshipsWritten']}\")\n",
        "print(f\"Nodes compared: {result['nodesCompared']}\")\n",
        "print(f\"Mean similarity: {result['similarityDistribution']['mean']}\")"
      ]
    },
    {
      "cell_type": "markdown",
      "id": "f2bed240",
      "metadata": {
        "id": "f2bed240"
      },
      "source": [
        "As we can see the mean similarity between nodes is quite high. This is due to the fact that we have a small example where there are no long paths between nodes leading to many similar FastRP node embeddings."
      ]
    },
    {
      "cell_type": "markdown",
      "id": "ff4175c9",
      "metadata": {
        "id": "ff4175c9"
      },
      "source": [
        "## Exploring the results\n",
        "\n",
        "Let us now inspect the results of our kNN call by using Cypher. We can use the `SIMILARITY` relationship type to filter out the relationships we are interested in. And since we just care about similarities between people for our product recommendation engine, we make sure to only match nodes with the `Person` label.\n",
        "\n",
        "Please see [the Cypher manual](https://neo4j.com/docs/cypher-manual/current/) for documentation on how to use Cypher."
      ]
    },
    {
      "cell_type": "code",
      "execution_count": 28,
      "id": "ebf3e425",
      "metadata": {
        "id": "ebf3e425",
        "outputId": "540c4a39-183f-4b69-d784-ebe43ac24fa3",
        "colab": {
          "base_uri": "https://localhost:8080/",
          "height": 206
        }
      },
      "outputs": [
        {
          "output_type": "execute_result",
          "data": {
            "text/plain": [
              "  person1 person2  similarity\n",
              "0     Dan    Elsa    0.986683\n",
              "1    Elsa     Dan    0.986683\n",
              "2    Matt    Brie    0.974018\n",
              "3   Annie    Matt    0.972405\n",
              "4    Jeff   Annie    0.866778"
            ],
            "text/html": [
              "\n",
              "  <div id=\"df-e2e4efab-136d-4a7c-94e3-fdedbf3b1023\" class=\"colab-df-container\">\n",
              "    <div>\n",
              "<style scoped>\n",
              "    .dataframe tbody tr th:only-of-type {\n",
              "        vertical-align: middle;\n",
              "    }\n",
              "\n",
              "    .dataframe tbody tr th {\n",
              "        vertical-align: top;\n",
              "    }\n",
              "\n",
              "    .dataframe thead th {\n",
              "        text-align: right;\n",
              "    }\n",
              "</style>\n",
              "<table border=\"1\" class=\"dataframe\">\n",
              "  <thead>\n",
              "    <tr style=\"text-align: right;\">\n",
              "      <th></th>\n",
              "      <th>person1</th>\n",
              "      <th>person2</th>\n",
              "      <th>similarity</th>\n",
              "    </tr>\n",
              "  </thead>\n",
              "  <tbody>\n",
              "    <tr>\n",
              "      <th>0</th>\n",
              "      <td>Dan</td>\n",
              "      <td>Elsa</td>\n",
              "      <td>0.986683</td>\n",
              "    </tr>\n",
              "    <tr>\n",
              "      <th>1</th>\n",
              "      <td>Elsa</td>\n",
              "      <td>Dan</td>\n",
              "      <td>0.986683</td>\n",
              "    </tr>\n",
              "    <tr>\n",
              "      <th>2</th>\n",
              "      <td>Matt</td>\n",
              "      <td>Brie</td>\n",
              "      <td>0.974018</td>\n",
              "    </tr>\n",
              "    <tr>\n",
              "      <th>3</th>\n",
              "      <td>Annie</td>\n",
              "      <td>Matt</td>\n",
              "      <td>0.972405</td>\n",
              "    </tr>\n",
              "    <tr>\n",
              "      <th>4</th>\n",
              "      <td>Jeff</td>\n",
              "      <td>Annie</td>\n",
              "      <td>0.866778</td>\n",
              "    </tr>\n",
              "  </tbody>\n",
              "</table>\n",
              "</div>\n",
              "    <div class=\"colab-df-buttons\">\n",
              "\n",
              "  <div class=\"colab-df-container\">\n",
              "    <button class=\"colab-df-convert\" onclick=\"convertToInteractive('df-e2e4efab-136d-4a7c-94e3-fdedbf3b1023')\"\n",
              "            title=\"Convert this dataframe to an interactive table.\"\n",
              "            style=\"display:none;\">\n",
              "\n",
              "  <svg xmlns=\"http://www.w3.org/2000/svg\" height=\"24px\" viewBox=\"0 -960 960 960\">\n",
              "    <path d=\"M120-120v-720h720v720H120Zm60-500h600v-160H180v160Zm220 220h160v-160H400v160Zm0 220h160v-160H400v160ZM180-400h160v-160H180v160Zm440 0h160v-160H620v160ZM180-180h160v-160H180v160Zm440 0h160v-160H620v160Z\"/>\n",
              "  </svg>\n",
              "    </button>\n",
              "\n",
              "  <style>\n",
              "    .colab-df-container {\n",
              "      display:flex;\n",
              "      gap: 12px;\n",
              "    }\n",
              "\n",
              "    .colab-df-convert {\n",
              "      background-color: #E8F0FE;\n",
              "      border: none;\n",
              "      border-radius: 50%;\n",
              "      cursor: pointer;\n",
              "      display: none;\n",
              "      fill: #1967D2;\n",
              "      height: 32px;\n",
              "      padding: 0 0 0 0;\n",
              "      width: 32px;\n",
              "    }\n",
              "\n",
              "    .colab-df-convert:hover {\n",
              "      background-color: #E2EBFA;\n",
              "      box-shadow: 0px 1px 2px rgba(60, 64, 67, 0.3), 0px 1px 3px 1px rgba(60, 64, 67, 0.15);\n",
              "      fill: #174EA6;\n",
              "    }\n",
              "\n",
              "    .colab-df-buttons div {\n",
              "      margin-bottom: 4px;\n",
              "    }\n",
              "\n",
              "    [theme=dark] .colab-df-convert {\n",
              "      background-color: #3B4455;\n",
              "      fill: #D2E3FC;\n",
              "    }\n",
              "\n",
              "    [theme=dark] .colab-df-convert:hover {\n",
              "      background-color: #434B5C;\n",
              "      box-shadow: 0px 1px 3px 1px rgba(0, 0, 0, 0.15);\n",
              "      filter: drop-shadow(0px 1px 2px rgba(0, 0, 0, 0.3));\n",
              "      fill: #FFFFFF;\n",
              "    }\n",
              "  </style>\n",
              "\n",
              "    <script>\n",
              "      const buttonEl =\n",
              "        document.querySelector('#df-e2e4efab-136d-4a7c-94e3-fdedbf3b1023 button.colab-df-convert');\n",
              "      buttonEl.style.display =\n",
              "        google.colab.kernel.accessAllowed ? 'block' : 'none';\n",
              "\n",
              "      async function convertToInteractive(key) {\n",
              "        const element = document.querySelector('#df-e2e4efab-136d-4a7c-94e3-fdedbf3b1023');\n",
              "        const dataTable =\n",
              "          await google.colab.kernel.invokeFunction('convertToInteractive',\n",
              "                                                    [key], {});\n",
              "        if (!dataTable) return;\n",
              "\n",
              "        const docLinkHtml = 'Like what you see? Visit the ' +\n",
              "          '<a target=\"_blank\" href=https://colab.research.google.com/notebooks/data_table.ipynb>data table notebook</a>'\n",
              "          + ' to learn more about interactive tables.';\n",
              "        element.innerHTML = '';\n",
              "        dataTable['output_type'] = 'display_data';\n",
              "        await google.colab.output.renderOutput(dataTable, element);\n",
              "        const docLink = document.createElement('div');\n",
              "        docLink.innerHTML = docLinkHtml;\n",
              "        element.appendChild(docLink);\n",
              "      }\n",
              "    </script>\n",
              "  </div>\n",
              "\n",
              "\n",
              "    <div id=\"df-1b451f33-138d-45a2-993c-33c0b6ad82e0\">\n",
              "      <button class=\"colab-df-quickchart\" onclick=\"quickchart('df-1b451f33-138d-45a2-993c-33c0b6ad82e0')\"\n",
              "                title=\"Suggest charts\"\n",
              "                style=\"display:none;\">\n",
              "\n",
              "<svg xmlns=\"http://www.w3.org/2000/svg\" height=\"24px\"viewBox=\"0 0 24 24\"\n",
              "     width=\"24px\">\n",
              "    <g>\n",
              "        <path d=\"M19 3H5c-1.1 0-2 .9-2 2v14c0 1.1.9 2 2 2h14c1.1 0 2-.9 2-2V5c0-1.1-.9-2-2-2zM9 17H7v-7h2v7zm4 0h-2V7h2v10zm4 0h-2v-4h2v4z\"/>\n",
              "    </g>\n",
              "</svg>\n",
              "      </button>\n",
              "\n",
              "<style>\n",
              "  .colab-df-quickchart {\n",
              "      --bg-color: #E8F0FE;\n",
              "      --fill-color: #1967D2;\n",
              "      --hover-bg-color: #E2EBFA;\n",
              "      --hover-fill-color: #174EA6;\n",
              "      --disabled-fill-color: #AAA;\n",
              "      --disabled-bg-color: #DDD;\n",
              "  }\n",
              "\n",
              "  [theme=dark] .colab-df-quickchart {\n",
              "      --bg-color: #3B4455;\n",
              "      --fill-color: #D2E3FC;\n",
              "      --hover-bg-color: #434B5C;\n",
              "      --hover-fill-color: #FFFFFF;\n",
              "      --disabled-bg-color: #3B4455;\n",
              "      --disabled-fill-color: #666;\n",
              "  }\n",
              "\n",
              "  .colab-df-quickchart {\n",
              "    background-color: var(--bg-color);\n",
              "    border: none;\n",
              "    border-radius: 50%;\n",
              "    cursor: pointer;\n",
              "    display: none;\n",
              "    fill: var(--fill-color);\n",
              "    height: 32px;\n",
              "    padding: 0;\n",
              "    width: 32px;\n",
              "  }\n",
              "\n",
              "  .colab-df-quickchart:hover {\n",
              "    background-color: var(--hover-bg-color);\n",
              "    box-shadow: 0 1px 2px rgba(60, 64, 67, 0.3), 0 1px 3px 1px rgba(60, 64, 67, 0.15);\n",
              "    fill: var(--button-hover-fill-color);\n",
              "  }\n",
              "\n",
              "  .colab-df-quickchart-complete:disabled,\n",
              "  .colab-df-quickchart-complete:disabled:hover {\n",
              "    background-color: var(--disabled-bg-color);\n",
              "    fill: var(--disabled-fill-color);\n",
              "    box-shadow: none;\n",
              "  }\n",
              "\n",
              "  .colab-df-spinner {\n",
              "    border: 2px solid var(--fill-color);\n",
              "    border-color: transparent;\n",
              "    border-bottom-color: var(--fill-color);\n",
              "    animation:\n",
              "      spin 1s steps(1) infinite;\n",
              "  }\n",
              "\n",
              "  @keyframes spin {\n",
              "    0% {\n",
              "      border-color: transparent;\n",
              "      border-bottom-color: var(--fill-color);\n",
              "      border-left-color: var(--fill-color);\n",
              "    }\n",
              "    20% {\n",
              "      border-color: transparent;\n",
              "      border-left-color: var(--fill-color);\n",
              "      border-top-color: var(--fill-color);\n",
              "    }\n",
              "    30% {\n",
              "      border-color: transparent;\n",
              "      border-left-color: var(--fill-color);\n",
              "      border-top-color: var(--fill-color);\n",
              "      border-right-color: var(--fill-color);\n",
              "    }\n",
              "    40% {\n",
              "      border-color: transparent;\n",
              "      border-right-color: var(--fill-color);\n",
              "      border-top-color: var(--fill-color);\n",
              "    }\n",
              "    60% {\n",
              "      border-color: transparent;\n",
              "      border-right-color: var(--fill-color);\n",
              "    }\n",
              "    80% {\n",
              "      border-color: transparent;\n",
              "      border-right-color: var(--fill-color);\n",
              "      border-bottom-color: var(--fill-color);\n",
              "    }\n",
              "    90% {\n",
              "      border-color: transparent;\n",
              "      border-bottom-color: var(--fill-color);\n",
              "    }\n",
              "  }\n",
              "</style>\n",
              "\n",
              "      <script>\n",
              "        async function quickchart(key) {\n",
              "          const quickchartButtonEl =\n",
              "            document.querySelector('#' + key + ' button');\n",
              "          quickchartButtonEl.disabled = true;  // To prevent multiple clicks.\n",
              "          quickchartButtonEl.classList.add('colab-df-spinner');\n",
              "          try {\n",
              "            const charts = await google.colab.kernel.invokeFunction(\n",
              "                'suggestCharts', [key], {});\n",
              "          } catch (error) {\n",
              "            console.error('Error during call to suggestCharts:', error);\n",
              "          }\n",
              "          quickchartButtonEl.classList.remove('colab-df-spinner');\n",
              "          quickchartButtonEl.classList.add('colab-df-quickchart-complete');\n",
              "        }\n",
              "        (() => {\n",
              "          let quickchartButtonEl =\n",
              "            document.querySelector('#df-1b451f33-138d-45a2-993c-33c0b6ad82e0 button');\n",
              "          quickchartButtonEl.style.display =\n",
              "            google.colab.kernel.accessAllowed ? 'block' : 'none';\n",
              "        })();\n",
              "      </script>\n",
              "    </div>\n",
              "\n",
              "    </div>\n",
              "  </div>\n"
            ],
            "application/vnd.google.colaboratory.intrinsic+json": {
              "type": "dataframe",
              "summary": "{\n  \"name\": \")\",\n  \"rows\": 5,\n  \"fields\": [\n    {\n      \"column\": \"person1\",\n      \"properties\": {\n        \"dtype\": \"string\",\n        \"num_unique_values\": 5,\n        \"samples\": [\n          \"Elsa\",\n          \"Jeff\",\n          \"Matt\"\n        ],\n        \"semantic_type\": \"\",\n        \"description\": \"\"\n      }\n    },\n    {\n      \"column\": \"person2\",\n      \"properties\": {\n        \"dtype\": \"string\",\n        \"num_unique_values\": 5,\n        \"samples\": [\n          \"Dan\",\n          \"Annie\",\n          \"Brie\"\n        ],\n        \"semantic_type\": \"\",\n        \"description\": \"\"\n      }\n    },\n    {\n      \"column\": \"similarity\",\n      \"properties\": {\n        \"dtype\": \"number\",\n        \"std\": 0.05106015924326089,\n        \"min\": 0.8667784333229065,\n        \"max\": 0.9866832494735718,\n        \"num_unique_values\": 4,\n        \"samples\": [\n          0.9740184545516968,\n          0.8667784333229065,\n          0.9866832494735718\n        ],\n        \"semantic_type\": \"\",\n        \"description\": \"\"\n      }\n    }\n  ]\n}"
            }
          },
          "metadata": {},
          "execution_count": 28
        }
      ],
      "source": [
        "gds.run_cypher(\n",
        "    \"\"\"\n",
        "        MATCH (p1:Person)-[r:SIMILAR]->(p2:Person)\n",
        "        RETURN p1.name AS person1, p2.name AS person2, r.score AS similarity\n",
        "        ORDER BY similarity DESCENDING, person1, person2\n",
        "    \"\"\"\n",
        ")"
      ]
    },
    {
      "cell_type": "markdown",
      "id": "086f561b",
      "metadata": {
        "id": "086f561b"
      },
      "source": [
        "Our kNN results indicate among other things that the `Person` nodes named \"Annie\" and \"Matt\" are very similar. Looking at the `BUYS` relationships for these two nodes we can see that such a conclusion makes sense. They both buy three products, two of which are the same (`Product` nodes named \"Cucumber\" and \"Tomatoes\") for both people and with similar amounts. We can therefore have high confidence in our approach."
      ]
    },
    {
      "cell_type": "markdown",
      "id": "752bf299",
      "metadata": {
        "id": "752bf299"
      },
      "source": [
        "## Making recommendations\n",
        "\n",
        "Using the information we derived that the `Person` nodes named \"Annie\" and \"Matt\" are similar, we can make product recommendations for each of them. Since they are similar, we can assume that products purchased by only one of the people may be of interest to buy also for the other person not already buying the product. By this principle we can derive product recommendations for the `Person` named \"Matt\" using a simple Cypher query."
      ]
    },
    {
      "cell_type": "code",
      "execution_count": 29,
      "id": "cb05d14f",
      "metadata": {
        "id": "cb05d14f",
        "outputId": "841aca52-441d-4a32-eb76-aac3096ae56e",
        "colab": {
          "base_uri": "https://localhost:8080/",
          "height": 81
        }
      },
      "outputs": [
        {
          "output_type": "execute_result",
          "data": {
            "text/plain": [
              "  recommendation\n",
              "0           Kale"
            ],
            "text/html": [
              "\n",
              "  <div id=\"df-83af94b5-340e-4d12-9c05-45a25aafb8dd\" class=\"colab-df-container\">\n",
              "    <div>\n",
              "<style scoped>\n",
              "    .dataframe tbody tr th:only-of-type {\n",
              "        vertical-align: middle;\n",
              "    }\n",
              "\n",
              "    .dataframe tbody tr th {\n",
              "        vertical-align: top;\n",
              "    }\n",
              "\n",
              "    .dataframe thead th {\n",
              "        text-align: right;\n",
              "    }\n",
              "</style>\n",
              "<table border=\"1\" class=\"dataframe\">\n",
              "  <thead>\n",
              "    <tr style=\"text-align: right;\">\n",
              "      <th></th>\n",
              "      <th>recommendation</th>\n",
              "    </tr>\n",
              "  </thead>\n",
              "  <tbody>\n",
              "    <tr>\n",
              "      <th>0</th>\n",
              "      <td>Kale</td>\n",
              "    </tr>\n",
              "  </tbody>\n",
              "</table>\n",
              "</div>\n",
              "    <div class=\"colab-df-buttons\">\n",
              "\n",
              "  <div class=\"colab-df-container\">\n",
              "    <button class=\"colab-df-convert\" onclick=\"convertToInteractive('df-83af94b5-340e-4d12-9c05-45a25aafb8dd')\"\n",
              "            title=\"Convert this dataframe to an interactive table.\"\n",
              "            style=\"display:none;\">\n",
              "\n",
              "  <svg xmlns=\"http://www.w3.org/2000/svg\" height=\"24px\" viewBox=\"0 -960 960 960\">\n",
              "    <path d=\"M120-120v-720h720v720H120Zm60-500h600v-160H180v160Zm220 220h160v-160H400v160Zm0 220h160v-160H400v160ZM180-400h160v-160H180v160Zm440 0h160v-160H620v160ZM180-180h160v-160H180v160Zm440 0h160v-160H620v160Z\"/>\n",
              "  </svg>\n",
              "    </button>\n",
              "\n",
              "  <style>\n",
              "    .colab-df-container {\n",
              "      display:flex;\n",
              "      gap: 12px;\n",
              "    }\n",
              "\n",
              "    .colab-df-convert {\n",
              "      background-color: #E8F0FE;\n",
              "      border: none;\n",
              "      border-radius: 50%;\n",
              "      cursor: pointer;\n",
              "      display: none;\n",
              "      fill: #1967D2;\n",
              "      height: 32px;\n",
              "      padding: 0 0 0 0;\n",
              "      width: 32px;\n",
              "    }\n",
              "\n",
              "    .colab-df-convert:hover {\n",
              "      background-color: #E2EBFA;\n",
              "      box-shadow: 0px 1px 2px rgba(60, 64, 67, 0.3), 0px 1px 3px 1px rgba(60, 64, 67, 0.15);\n",
              "      fill: #174EA6;\n",
              "    }\n",
              "\n",
              "    .colab-df-buttons div {\n",
              "      margin-bottom: 4px;\n",
              "    }\n",
              "\n",
              "    [theme=dark] .colab-df-convert {\n",
              "      background-color: #3B4455;\n",
              "      fill: #D2E3FC;\n",
              "    }\n",
              "\n",
              "    [theme=dark] .colab-df-convert:hover {\n",
              "      background-color: #434B5C;\n",
              "      box-shadow: 0px 1px 3px 1px rgba(0, 0, 0, 0.15);\n",
              "      filter: drop-shadow(0px 1px 2px rgba(0, 0, 0, 0.3));\n",
              "      fill: #FFFFFF;\n",
              "    }\n",
              "  </style>\n",
              "\n",
              "    <script>\n",
              "      const buttonEl =\n",
              "        document.querySelector('#df-83af94b5-340e-4d12-9c05-45a25aafb8dd button.colab-df-convert');\n",
              "      buttonEl.style.display =\n",
              "        google.colab.kernel.accessAllowed ? 'block' : 'none';\n",
              "\n",
              "      async function convertToInteractive(key) {\n",
              "        const element = document.querySelector('#df-83af94b5-340e-4d12-9c05-45a25aafb8dd');\n",
              "        const dataTable =\n",
              "          await google.colab.kernel.invokeFunction('convertToInteractive',\n",
              "                                                    [key], {});\n",
              "        if (!dataTable) return;\n",
              "\n",
              "        const docLinkHtml = 'Like what you see? Visit the ' +\n",
              "          '<a target=\"_blank\" href=https://colab.research.google.com/notebooks/data_table.ipynb>data table notebook</a>'\n",
              "          + ' to learn more about interactive tables.';\n",
              "        element.innerHTML = '';\n",
              "        dataTable['output_type'] = 'display_data';\n",
              "        await google.colab.output.renderOutput(dataTable, element);\n",
              "        const docLink = document.createElement('div');\n",
              "        docLink.innerHTML = docLinkHtml;\n",
              "        element.appendChild(docLink);\n",
              "      }\n",
              "    </script>\n",
              "  </div>\n",
              "\n",
              "\n",
              "    </div>\n",
              "  </div>\n"
            ],
            "application/vnd.google.colaboratory.intrinsic+json": {
              "type": "dataframe",
              "summary": "{\n  \"name\": \")\",\n  \"rows\": 1,\n  \"fields\": [\n    {\n      \"column\": \"recommendation\",\n      \"properties\": {\n        \"dtype\": \"string\",\n        \"num_unique_values\": 1,\n        \"samples\": [\n          \"Kale\"\n        ],\n        \"semantic_type\": \"\",\n        \"description\": \"\"\n      }\n    }\n  ]\n}"
            }
          },
          "metadata": {},
          "execution_count": 29
        }
      ],
      "source": [
        "gds.run_cypher(\n",
        "    \"\"\"\n",
        "        MATCH (:Person {name: \"Annie\"})-[:BUYS]->(p1:Product)\n",
        "        WITH collect(p1) as products\n",
        "        MATCH (:Person {name: \"Matt\"})-[:BUYS]->(p2:Product)\n",
        "        WHERE not p2 in products\n",
        "        RETURN p2.name as recommendation\n",
        "    \"\"\"\n",
        ")"
      ]
    },
    {
      "cell_type": "markdown",
      "id": "f732dc04",
      "metadata": {
        "id": "f732dc04"
      },
      "source": [
        "Indeed, \"Kale\" is the one product that the Person named \"Annie\" buys that is also not purchased by the Person named \"Matt\"."
      ]
    },
    {
      "cell_type": "markdown",
      "id": "7b43798c",
      "metadata": {
        "id": "7b43798c"
      },
      "source": [
        "## Cleaning up\n",
        "\n",
        "Before finishing we can clean up the example data from both the GDS in-memory state and the database."
      ]
    },
    {
      "cell_type": "code",
      "execution_count": 30,
      "id": "fe3961e0",
      "metadata": {
        "id": "fe3961e0"
      },
      "outputs": [],
      "source": [
        "# Remove our projection from the GDS graph catalog\n",
        "G.drop()\n",
        "\n",
        "# Remove all the example data from the database\n",
        "_ = gds.run_cypher(\"MATCH (n) DETACH DELETE n\")"
      ]
    },
    {
      "cell_type": "markdown",
      "id": "d59cb732",
      "metadata": {
        "id": "d59cb732"
      },
      "source": [
        "## Conclusion\n",
        "\n",
        "Using two GDS algorithms and some basic Cypher we were easily able to derive some sensible product recommendations for a customer in our small example.\n",
        "\n",
        "To make sure to get similarities to other customers for every customer in our graph with kNN, we could play around with increasing the `topK` parameter."
      ]
    }
  ],
  "metadata": {
    "language_info": {
      "name": "python"
    },
    "colab": {
      "provenance": []
    },
    "kernelspec": {
      "name": "python3",
      "display_name": "Python 3"
    }
  },
  "nbformat": 4,
  "nbformat_minor": 5
}