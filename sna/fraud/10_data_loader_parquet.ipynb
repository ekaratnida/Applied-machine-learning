{
  "metadata": {
    "language_info": {
      "codemirror_mode": {
        "name": "ipython",
        "version": 3
      },
      "file_extension": ".py",
      "mimetype": "text/x-python",
      "name": "python",
      "nbconvert_exporter": "python",
      "pygments_lexer": "ipython3",
      "version": "3.7.10"
    },
    "orig_nbformat": 2,
    "kernelspec": {
      "name": "python3710jvsc74a57bd0563d867f513b1db22a50c0772d3498166496ad16228d7c1d495fd4c7e7a93ad6",
      "display_name": "Python 3.7.10 64-bit ('graph': conda)"
    },
    "metadata": {
      "interpreter": {
        "hash": "31f2aee4e71d21fbe5cf8b01ff0e069b9275f58929596ceb00d14d90e3e16cd6"
      }
    },
    "colab": {
      "provenance": [],
      "gpuType": "T4",
      "include_colab_link": true
    }
  },
  "nbformat": 4,
  "nbformat_minor": 0,
  "cells": [
    {
      "cell_type": "markdown",
      "metadata": {
        "id": "view-in-github",
        "colab_type": "text"
      },
      "source": [
        "<a href=\"https://colab.research.google.com/github/ekaratnida/Applied-machine-learning/blob/master/sna/fraud/10_data_loader_parquet.ipynb\" target=\"_parent\"><img src=\"https://colab.research.google.com/assets/colab-badge.svg\" alt=\"Open In Colab\"/></a>"
      ]
    },
    {
      "source": [
        "# Data Preparation\n",
        "\n",
        "In this notebook, we will re-construct the dataset.\n",
        "\n",
        "Graph Neural Networks work by learning representation for nodes or edges of a graph that are well suited for some downstream task. We can model the fraud detection problem as a node classification task, and the goal of the graph neural network would be to learn how to use information from the topology of the sub-graph for each transaction node to transform the node's features to a representation space where the node can be easily classified as fraud or not.\n",
        "\n",
        "Specifically, we will be using a relational graph convolutional neural network model (R-GCN) on a heterogeneous graph since we have nodes and edges of different types."
      ],
      "cell_type": "markdown",
      "metadata": {
        "id": "BQvBXue0gqRh"
      }
    },
    {
      "source": [
        "## Set up Colab environment"
      ],
      "cell_type": "markdown",
      "metadata": {
        "id": "mOk1GjIWgqRl"
      }
    },
    {
      "cell_type": "code",
      "execution_count": 2,
      "metadata": {
        "colab": {
          "base_uri": "https://localhost:8080/"
        },
        "id": "YgECJqbUgqRn",
        "outputId": "efa7af64-f03f-4981-dd41-83655faeba06"
      },
      "outputs": [
        {
          "output_type": "stream",
          "name": "stdout",
          "text": [
            "Drive already mounted at /content/drive; to attempt to forcibly remount, call drive.mount(\"/content/drive\", force_remount=True).\n"
          ]
        }
      ],
      "source": [
        "from google.colab import drive\n",
        "drive.mount('/content/drive')"
      ]
    },
    {
      "cell_type": "code",
      "execution_count": 3,
      "metadata": {
        "colab": {
          "base_uri": "https://localhost:8080/"
        },
        "id": "Sh1LY2RHgqRo",
        "outputId": "ca00890d-aad6-465e-cf6a-aab56b359975"
      },
      "outputs": [
        {
          "output_type": "stream",
          "name": "stdout",
          "text": [
            "/content/drive/MyDrive/graph-fraud-detection\n"
          ]
        }
      ],
      "source": [
        "import os\n",
        "cur_path = \"/content/drive/MyDrive/graph-fraud-detection/\"\n",
        "os.chdir(cur_path)\n",
        "!pwd"
      ]
    },
    {
      "source": [
        "## Data Overview\n",
        "\n",
        "Import the numpy and pandas modules."
      ],
      "cell_type": "markdown",
      "metadata": {
        "id": "vYAkefv9gqRp"
      }
    },
    {
      "cell_type": "code",
      "execution_count": 4,
      "metadata": {
        "id": "Hx8ZsMuRgqRp"
      },
      "outputs": [],
      "source": [
        "import numpy as np\n",
        "import pandas as pd"
      ]
    },
    {
      "source": [
        "## Data Description\n",
        "\n",
        "### Transaction Table\n",
        "- TransactionDT: timedelta from a given reference datetime (not an actual timestamp)\n",
        "- TransactionAMT: transaction payment amount in USD\n",
        "- ProductCD: product code, the product for each transaction\n",
        "- card1 - card6: payment card information, such as card type, card category, issue bank, country, etc.\n",
        "- addr: address\n",
        "- dist: distance\n",
        "- P_ and (R__) emaildomain: purchaser and recipient email domain\n",
        "- C1-C14: counting, such as how many addresses are found to be associated with the payment card, etc. The actual meaning is masked.\n",
        "- D1-D15: timedelta, such as days between previous transaction, etc.\n",
        "- M1-M9: match, such as names on card and address, etc.\n",
        "- Vxxx: Vesta engineered rich features, including ranking, counting, and other entity relations.\n",
        "\n",
        "Categorical Features:\n",
        "- ProductCD\n",
        "- card1 - card6\n",
        "- addr1, addr2\n",
        "- P_emaildomain\n",
        "- R_emaildomain\n",
        "- M1 - M9\n",
        "\n",
        "## Identity Table\n",
        "Variables in this table are identity information – network connection information (IP, ISP, Proxy, etc) and digital signature (UA/browser/os/version, etc) associated with transactions.\n",
        "They're collected by Vesta’s fraud protection system and digital security partners.\n",
        "(The field names are masked and pairwise dictionary will not be provided for privacy protection and contract agreement)\n",
        "\n",
        "Categorical Features:\n",
        "- DeviceType\n",
        "- DeviceInfo\n",
        "- id_12 - id_38"
      ],
      "cell_type": "markdown",
      "metadata": {
        "id": "Al1h8iQ7gqRp"
      }
    },
    {
      "cell_type": "code",
      "execution_count": 9,
      "metadata": {
        "id": "MJJp4UO1gqRq"
      },
      "outputs": [],
      "source": [
        "'''transaction_df = pd.read_csv('./ieee-data/train_transaction.csv')\n",
        "identity_df = pd.read_csv('./ieee-data/train_identity.csv')\n",
        "test_transaction = pd.read_csv('./ieee-data/test_transaction.csv')\n",
        "test_identity = pd.read_csv('./ieee-data/test_identity.csv')'''\n",
        "\n",
        "_transaction_df = pd.read_parquet('./ieee-data/train_transaction.parquet')\n",
        "identity_df = pd.read_parquet('./ieee-data/train_identity.parquet')\n",
        "test_transaction = pd.read_parquet('./ieee-data/test_transaction.parquet')\n",
        "test_identity = pd.read_parquet('./ieee-data/test_identity.parquet')"
      ]
    },
    {
      "cell_type": "code",
      "source": [
        "# Sample 20% from each class\n",
        "#transaction_df = transaction_df.groupby('isFraud', group_keys=False).apply(lambda x: x.sample(frac=0.2, random_state=42))\n",
        "\n",
        "# Separate the classes\n",
        "df_pos = _transaction_df[_transaction_df['isFraud'] == 1]\n",
        "print(\"positive size\", df_pos.shape)\n",
        "df_neg = _transaction_df[_transaction_df['isFraud'] == 0]\n",
        "print(\"negative size\", df_neg.shape)\n",
        "\n",
        "# Downsample negative class to match positive class size\n",
        "df_neg_downsampled = df_neg.sample(n=len(df_pos)*2, random_state=42)\n",
        "\n",
        "# Combine\n",
        "transaction_df = pd.concat([df_pos, df_neg_downsampled], ignore_index=True)\n",
        "print(\"New transaction size\", transaction_df.shape)\n",
        "print(transaction_df.isFraud.value_counts())"
      ],
      "metadata": {
        "colab": {
          "base_uri": "https://localhost:8080/"
        },
        "id": "EbaZUcssVhOf",
        "outputId": "14859651-4583-414e-e4b0-ae748d4c6e29"
      },
      "execution_count": 13,
      "outputs": [
        {
          "output_type": "stream",
          "name": "stdout",
          "text": [
            "positive size (20663, 394)\n",
            "negative size (569877, 394)\n",
            "New negative size (61989, 394)\n"
          ]
        }
      ]
    },
    {
      "source": [
        "We provide a general processing framework to convert a relational table to heterogeneous graph edgelists based on the column types of the relational table. Some of the data transformation and feature engineering techniques include:\n",
        "\n",
        "- Performing numerical encoding for categorical variables and logarithmic transformation for transaction amount\n",
        "- Constructing graph edgelists between transactions and other entities for the various relation types\n",
        "\n",
        "The inputs to the data preprocessing script are passed in as python command line arguments. All the columns in the relational table are classifed into one of 3 types for the purposes of data transformation:\n",
        "\n",
        "- Identity columns --id-cols: columns that contain identity information related to a user or transaction for example IP address, Phone Number, device identifiers etc. These column types become node types in the heterogeneous graph, and the entries in these columns become the nodes. The column names for these column types need to passed in to the script.\n",
        "\n",
        "- Categorical columns --cat-cols: columns that correspond to categorical features for a user's age group or whether a provided address matches with an address on file. The entries in these columns undergo numerical feature transformation and are used as node attributes in the heterogeneous graph. The columns names for these column types also needs to be passed in to the script\n",
        "\n",
        "- Numerical columns: columns that correspond to numerical features like how many times a user has tried a transaction and so on. The entries here are also used as node attributes in the heterogeneous graph. The script assumes that all columns in the tables that are not identity columns or categorical columns are numerical columns"
      ],
      "cell_type": "markdown",
      "metadata": {
        "id": "5qIYlAzGgqRr"
      }
    },
    {
      "cell_type": "code",
      "execution_count": 15,
      "metadata": {
        "id": "JtI4ulMRgqRs"
      },
      "outputs": [],
      "source": [
        "id_cols = ['card1','card2','card3','card4','card5','card6','ProductCD','addr1','addr2','P_emaildomain','R_emaildomain']\n",
        "cat_cols = ['M1','M2','M3','M4','M5','M6','M7','M8','M9']\n",
        "train_data_ratio = 0.8"
      ]
    },
    {
      "source": [
        "Based on the train/test ratio we assigned before, extact the IDs of test data."
      ],
      "cell_type": "markdown",
      "metadata": {
        "id": "0V1cOEBCgqRs"
      }
    },
    {
      "cell_type": "code",
      "execution_count": 18,
      "metadata": {
        "id": "m9uboIgrgqRt"
      },
      "outputs": [],
      "source": [
        "#n_train = int(transaction_df.shape[0]*train_data_ratio)\n",
        "#print(n_train)\n",
        "#test_ids = transaction_df.TransactionID.values[n_train:] #this is a validation set, not a test set.\n",
        "#print(len(test_ids))\n",
        "from sklearn.model_selection import train_test_split\n",
        "X, y = transaction_df.drop(columns='isFraud'), transaction_df.isFraud\n",
        "X_train, X_test, y_train, y_test = train_test_split(X,y, test_size=0.2, random_state=42)"
      ]
    },
    {
      "cell_type": "code",
      "execution_count": 19,
      "metadata": {
        "id": "WKT_43X6gqRt"
      },
      "outputs": [],
      "source": [
        "#get_fraud_frac = lambda series: 100 * sum(series)/len(series)\n",
        "#print(\"Percent fraud for train transactions: {}\".format(get_fraud_frac(transaction_df.isFraud[:n_train])))\n",
        "#print(\"Percent fraud for test transactions: {}\".format(get_fraud_frac(transaction_df.isFraud[n_train:])))\n",
        "#print(\"Percent fraud for all transactions: {}\".format(get_fraud_frac(transaction_df.isFraud)))"
      ]
    },
    {
      "source": [
        " Save test IDs into the `test.csv` file"
      ],
      "cell_type": "markdown",
      "metadata": {
        "id": "PaqgahVSgqRu"
      }
    },
    {
      "cell_type": "code",
      "execution_count": 20,
      "metadata": {
        "id": "2wWGFtqSgqRv"
      },
      "outputs": [],
      "source": [
        "with open('data/test.csv', 'w') as f:\n",
        "    f.writelines(map(lambda x: str(x) + \"\\n\", X_test.TransactionID))"
      ]
    },
    {
      "source": [
        "Based on the standard we talked about before, define non-feature-columns and feature-columns for creating graph."
      ],
      "cell_type": "markdown",
      "metadata": {
        "id": "sTZzZ5lPgqRv"
      }
    },
    {
      "cell_type": "code",
      "execution_count": 21,
      "metadata": {
        "colab": {
          "base_uri": "https://localhost:8080/"
        },
        "id": "Lt1wG3xggqRv",
        "outputId": "dd899c56-ceb7-4340-9382-7ea20c6e571e"
      },
      "outputs": [
        {
          "output_type": "stream",
          "name": "stdout",
          "text": [
            "['isFraud', 'TransactionDT', 'card1', 'card2', 'card3', 'card4', 'card5', 'card6', 'ProductCD', 'addr1', 'addr2', 'P_emaildomain', 'R_emaildomain']\n"
          ]
        }
      ],
      "source": [
        "non_feature_cols = ['isFraud', 'TransactionDT'] + id_cols\n",
        "print(non_feature_cols)"
      ]
    },
    {
      "cell_type": "code",
      "execution_count": 22,
      "metadata": {
        "colab": {
          "base_uri": "https://localhost:8080/"
        },
        "id": "JaTDEDU_gqRw",
        "outputId": "89371cd1-cd08-4fd8-efc8-4de44c506a78"
      },
      "outputs": [
        {
          "output_type": "stream",
          "name": "stdout",
          "text": [
            "['TransactionID', 'TransactionAmt', 'dist1', 'dist2', 'C1', 'C2', 'C3', 'C4', 'C5', 'C6', 'C7', 'C8', 'C9', 'C10', 'C11', 'C12', 'C13', 'C14', 'D1', 'D2', 'D3', 'D4', 'D5', 'D6', 'D7', 'D8', 'D9', 'D10', 'D11', 'D12', 'D13', 'D14', 'D15', 'M1', 'M2', 'M3', 'M4', 'M5', 'M6', 'M7', 'M8', 'M9', 'V1', 'V2', 'V3', 'V4', 'V5', 'V6', 'V7', 'V8', 'V9', 'V10', 'V11', 'V12', 'V13', 'V14', 'V15', 'V16', 'V17', 'V18', 'V19', 'V20', 'V21', 'V22', 'V23', 'V24', 'V25', 'V26', 'V27', 'V28', 'V29', 'V30', 'V31', 'V32', 'V33', 'V34', 'V35', 'V36', 'V37', 'V38', 'V39', 'V40', 'V41', 'V42', 'V43', 'V44', 'V45', 'V46', 'V47', 'V48', 'V49', 'V50', 'V51', 'V52', 'V53', 'V54', 'V55', 'V56', 'V57', 'V58', 'V59', 'V60', 'V61', 'V62', 'V63', 'V64', 'V65', 'V66', 'V67', 'V68', 'V69', 'V70', 'V71', 'V72', 'V73', 'V74', 'V75', 'V76', 'V77', 'V78', 'V79', 'V80', 'V81', 'V82', 'V83', 'V84', 'V85', 'V86', 'V87', 'V88', 'V89', 'V90', 'V91', 'V92', 'V93', 'V94', 'V95', 'V96', 'V97', 'V98', 'V99', 'V100', 'V101', 'V102', 'V103', 'V104', 'V105', 'V106', 'V107', 'V108', 'V109', 'V110', 'V111', 'V112', 'V113', 'V114', 'V115', 'V116', 'V117', 'V118', 'V119', 'V120', 'V121', 'V122', 'V123', 'V124', 'V125', 'V126', 'V127', 'V128', 'V129', 'V130', 'V131', 'V132', 'V133', 'V134', 'V135', 'V136', 'V137', 'V138', 'V139', 'V140', 'V141', 'V142', 'V143', 'V144', 'V145', 'V146', 'V147', 'V148', 'V149', 'V150', 'V151', 'V152', 'V153', 'V154', 'V155', 'V156', 'V157', 'V158', 'V159', 'V160', 'V161', 'V162', 'V163', 'V164', 'V165', 'V166', 'V167', 'V168', 'V169', 'V170', 'V171', 'V172', 'V173', 'V174', 'V175', 'V176', 'V177', 'V178', 'V179', 'V180', 'V181', 'V182', 'V183', 'V184', 'V185', 'V186', 'V187', 'V188', 'V189', 'V190', 'V191', 'V192', 'V193', 'V194', 'V195', 'V196', 'V197', 'V198', 'V199', 'V200', 'V201', 'V202', 'V203', 'V204', 'V205', 'V206', 'V207', 'V208', 'V209', 'V210', 'V211', 'V212', 'V213', 'V214', 'V215', 'V216', 'V217', 'V218', 'V219', 'V220', 'V221', 'V222', 'V223', 'V224', 'V225', 'V226', 'V227', 'V228', 'V229', 'V230', 'V231', 'V232', 'V233', 'V234', 'V235', 'V236', 'V237', 'V238', 'V239', 'V240', 'V241', 'V242', 'V243', 'V244', 'V245', 'V246', 'V247', 'V248', 'V249', 'V250', 'V251', 'V252', 'V253', 'V254', 'V255', 'V256', 'V257', 'V258', 'V259', 'V260', 'V261', 'V262', 'V263', 'V264', 'V265', 'V266', 'V267', 'V268', 'V269', 'V270', 'V271', 'V272', 'V273', 'V274', 'V275', 'V276', 'V277', 'V278', 'V279', 'V280', 'V281', 'V282', 'V283', 'V284', 'V285', 'V286', 'V287', 'V288', 'V289', 'V290', 'V291', 'V292', 'V293', 'V294', 'V295', 'V296', 'V297', 'V298', 'V299', 'V300', 'V301', 'V302', 'V303', 'V304', 'V305', 'V306', 'V307', 'V308', 'V309', 'V310', 'V311', 'V312', 'V313', 'V314', 'V315', 'V316', 'V317', 'V318', 'V319', 'V320', 'V321', 'V322', 'V323', 'V324', 'V325', 'V326', 'V327', 'V328', 'V329', 'V330', 'V331', 'V332', 'V333', 'V334', 'V335', 'V336', 'V337', 'V338', 'V339']\n"
          ]
        }
      ],
      "source": [
        "feature_cols = [col for col in X_train.columns if col not in non_feature_cols]\n",
        "print(feature_cols)"
      ]
    },
    {
      "source": [
        "Transfer categorical features to be dummy variables and scale the `TransactionAmt` feature by log10."
      ],
      "cell_type": "markdown",
      "metadata": {
        "id": "09EyUighgqRw"
      }
    },
    {
      "cell_type": "code",
      "execution_count": 23,
      "metadata": {
        "id": "7O6oEGmAgqRw"
      },
      "outputs": [],
      "source": [
        "features = pd.get_dummies(X_train[feature_cols], columns=cat_cols, dtype=float).fillna(0)\n",
        "features['TransactionAmt'] = features['TransactionAmt'].apply(np.log10)"
      ]
    },
    {
      "cell_type": "code",
      "execution_count": 24,
      "metadata": {
        "colab": {
          "base_uri": "https://localhost:8080/"
        },
        "id": "Ajbmj0nGgqRw",
        "outputId": "6df33f20-813d-4248-d976-5736d793e07c"
      },
      "outputs": [
        {
          "output_type": "execute_result",
          "data": {
            "text/plain": [
              "(49591, 391)"
            ]
          },
          "metadata": {},
          "execution_count": 24
        }
      ],
      "source": [
        "features.shape"
      ]
    },
    {
      "cell_type": "code",
      "execution_count": 25,
      "metadata": {
        "colab": {
          "base_uri": "https://localhost:8080/"
        },
        "id": "MFxQHblxgqRw",
        "outputId": "a0855147-b5fb-4ee5-8e52-da9e491b1648"
      },
      "outputs": [
        {
          "output_type": "stream",
          "name": "stdout",
          "text": [
            "['TransactionID', 'TransactionAmt', 'dist1', 'dist2', 'C1', 'C2', 'C3', 'C4', 'C5', 'C6', 'C7', 'C8', 'C9', 'C10', 'C11', 'C12', 'C13', 'C14', 'D1', 'D2', 'D3', 'D4', 'D5', 'D6', 'D7', 'D8', 'D9', 'D10', 'D11', 'D12', 'D13', 'D14', 'D15', 'V1', 'V2', 'V3', 'V4', 'V5', 'V6', 'V7', 'V8', 'V9', 'V10', 'V11', 'V12', 'V13', 'V14', 'V15', 'V16', 'V17', 'V18', 'V19', 'V20', 'V21', 'V22', 'V23', 'V24', 'V25', 'V26', 'V27', 'V28', 'V29', 'V30', 'V31', 'V32', 'V33', 'V34', 'V35', 'V36', 'V37', 'V38', 'V39', 'V40', 'V41', 'V42', 'V43', 'V44', 'V45', 'V46', 'V47', 'V48', 'V49', 'V50', 'V51', 'V52', 'V53', 'V54', 'V55', 'V56', 'V57', 'V58', 'V59', 'V60', 'V61', 'V62', 'V63', 'V64', 'V65', 'V66', 'V67', 'V68', 'V69', 'V70', 'V71', 'V72', 'V73', 'V74', 'V75', 'V76', 'V77', 'V78', 'V79', 'V80', 'V81', 'V82', 'V83', 'V84', 'V85', 'V86', 'V87', 'V88', 'V89', 'V90', 'V91', 'V92', 'V93', 'V94', 'V95', 'V96', 'V97', 'V98', 'V99', 'V100', 'V101', 'V102', 'V103', 'V104', 'V105', 'V106', 'V107', 'V108', 'V109', 'V110', 'V111', 'V112', 'V113', 'V114', 'V115', 'V116', 'V117', 'V118', 'V119', 'V120', 'V121', 'V122', 'V123', 'V124', 'V125', 'V126', 'V127', 'V128', 'V129', 'V130', 'V131', 'V132', 'V133', 'V134', 'V135', 'V136', 'V137', 'V138', 'V139', 'V140', 'V141', 'V142', 'V143', 'V144', 'V145', 'V146', 'V147', 'V148', 'V149', 'V150', 'V151', 'V152', 'V153', 'V154', 'V155', 'V156', 'V157', 'V158', 'V159', 'V160', 'V161', 'V162', 'V163', 'V164', 'V165', 'V166', 'V167', 'V168', 'V169', 'V170', 'V171', 'V172', 'V173', 'V174', 'V175', 'V176', 'V177', 'V178', 'V179', 'V180', 'V181', 'V182', 'V183', 'V184', 'V185', 'V186', 'V187', 'V188', 'V189', 'V190', 'V191', 'V192', 'V193', 'V194', 'V195', 'V196', 'V197', 'V198', 'V199', 'V200', 'V201', 'V202', 'V203', 'V204', 'V205', 'V206', 'V207', 'V208', 'V209', 'V210', 'V211', 'V212', 'V213', 'V214', 'V215', 'V216', 'V217', 'V218', 'V219', 'V220', 'V221', 'V222', 'V223', 'V224', 'V225', 'V226', 'V227', 'V228', 'V229', 'V230', 'V231', 'V232', 'V233', 'V234', 'V235', 'V236', 'V237', 'V238', 'V239', 'V240', 'V241', 'V242', 'V243', 'V244', 'V245', 'V246', 'V247', 'V248', 'V249', 'V250', 'V251', 'V252', 'V253', 'V254', 'V255', 'V256', 'V257', 'V258', 'V259', 'V260', 'V261', 'V262', 'V263', 'V264', 'V265', 'V266', 'V267', 'V268', 'V269', 'V270', 'V271', 'V272', 'V273', 'V274', 'V275', 'V276', 'V277', 'V278', 'V279', 'V280', 'V281', 'V282', 'V283', 'V284', 'V285', 'V286', 'V287', 'V288', 'V289', 'V290', 'V291', 'V292', 'V293', 'V294', 'V295', 'V296', 'V297', 'V298', 'V299', 'V300', 'V301', 'V302', 'V303', 'V304', 'V305', 'V306', 'V307', 'V308', 'V309', 'V310', 'V311', 'V312', 'V313', 'V314', 'V315', 'V316', 'V317', 'V318', 'V319', 'V320', 'V321', 'V322', 'V323', 'V324', 'V325', 'V326', 'V327', 'V328', 'V329', 'V330', 'V331', 'V332', 'V333', 'V334', 'V335', 'V336', 'V337', 'V338', 'V339', 'M1_F', 'M1_T', 'M2_F', 'M2_T', 'M3_F', 'M3_T', 'M4_M0', 'M4_M1', 'M4_M2', 'M5_F', 'M5_T', 'M6_F', 'M6_T', 'M7_F', 'M7_T', 'M8_F', 'M8_T', 'M9_F', 'M9_T']\n"
          ]
        }
      ],
      "source": [
        "print(list(features.columns))"
      ]
    },
    {
      "source": [
        "Save the features into `features.csv` for future training.\n",
        "\n",
        "p.s. We don't need the index column and header."
      ],
      "cell_type": "markdown",
      "metadata": {
        "id": "Gtyu0r0GgqRx"
      }
    },
    {
      "cell_type": "code",
      "execution_count": 26,
      "metadata": {
        "id": "kdVcsTU6gqRx"
      },
      "outputs": [],
      "source": [
        "features.to_csv('data/features.csv', index=False, header=False)\n",
        "#features.to_parquet('data/features.parquet')"
      ]
    },
    {
      "cell_type": "code",
      "source": [
        "y_train.name"
      ],
      "metadata": {
        "colab": {
          "base_uri": "https://localhost:8080/",
          "height": 35
        },
        "id": "J9r-M4V5oI0l",
        "outputId": "815faaed-d564-4030-dbea-2d592640331b"
      },
      "execution_count": 27,
      "outputs": [
        {
          "output_type": "execute_result",
          "data": {
            "text/plain": [
              "'isFraud'"
            ],
            "application/vnd.google.colaboratory.intrinsic+json": {
              "type": "string"
            }
          },
          "metadata": {},
          "execution_count": 27
        }
      ]
    },
    {
      "source": [
        "Save the IDs and label into the `tags.csv`."
      ],
      "cell_type": "markdown",
      "metadata": {
        "id": "IAwgBvtvgqRx"
      }
    },
    {
      "cell_type": "code",
      "execution_count": 28,
      "metadata": {
        "id": "ZaXS71nNgqRx"
      },
      "outputs": [],
      "source": [
        "new_df = pd.concat([X_train['TransactionID'], y_train], axis=1)\n",
        "new_df.to_csv('data/tags.csv', index=False)\n",
        "#transaction_df[['TransactionID', 'isFraud']].to_csv('data/tags.csv', index=False)\n",
        "#transaction_df[['TransactionID', 'isFraud']].to_parquet('data/tags.parquet')"
      ]
    },
    {
      "source": [
        "Select the columns that define the edges."
      ],
      "cell_type": "markdown",
      "metadata": {
        "id": "wVyOKkXAgqRy"
      }
    },
    {
      "cell_type": "code",
      "execution_count": 29,
      "metadata": {
        "colab": {
          "base_uri": "https://localhost:8080/"
        },
        "id": "71gp5J0wgqRy",
        "outputId": "a78bccdf-3117-4744-f4b3-672b57e4403a"
      },
      "outputs": [
        {
          "output_type": "stream",
          "name": "stdout",
          "text": [
            "['card1', 'card2', 'card3', 'card4', 'card5', 'card6', 'ProductCD', 'addr1', 'addr2', 'P_emaildomain', 'R_emaildomain', 'TransactionID', 'id_01', 'id_02', 'id_03', 'id_04', 'id_05', 'id_06', 'id_07', 'id_08', 'id_09', 'id_10', 'id_11', 'id_12', 'id_13', 'id_14', 'id_15', 'id_16', 'id_17', 'id_18', 'id_19', 'id_20', 'id_21', 'id_22', 'id_23', 'id_24', 'id_25', 'id_26', 'id_27', 'id_28', 'id_29', 'id_30', 'id_31', 'id_32', 'id_33', 'id_34', 'id_35', 'id_36', 'id_37', 'id_38', 'DeviceType', 'DeviceInfo']\n"
          ]
        }
      ],
      "source": [
        "edge_types = id_cols + list(identity_df.columns)\n",
        "print(edge_types)"
      ]
    },
    {
      "cell_type": "code",
      "execution_count": 30,
      "metadata": {
        "colab": {
          "base_uri": "https://localhost:8080/",
          "height": 446
        },
        "id": "BkiBhVq8gqRy",
        "outputId": "066360cb-0210-45cf-e4e0-f31c01921a7e"
      },
      "outputs": [
        {
          "output_type": "execute_result",
          "data": {
            "text/plain": [
              "   TransactionID  card1  card2  card3 card4  card5   card6 ProductCD  addr1  \\\n",
              "0        2987203  18268  583.0  150.0  visa  226.0  credit         W  251.0   \n",
              "1        2987240  13413  103.0  185.0  visa  137.0  credit         C    NaN   \n",
              "2        2987243  13413  103.0  185.0  visa  137.0  credit         C    NaN   \n",
              "3        2987245  13413  103.0  185.0  visa  137.0  credit         C    NaN   \n",
              "4        2987288  16578  545.0  185.0  visa  226.0  credit         C    NaN   \n",
              "\n",
              "   addr2  ...                    id_31 id_32  id_33  id_34  id_35  id_36  \\\n",
              "0   87.0  ...                      NaN   NaN    NaN    NaN    NaN    NaN   \n",
              "1    NaN  ...  chrome 54.0 for android   NaN   None   None      F      F   \n",
              "2    NaN  ...  chrome 54.0 for android   NaN   None   None      F      F   \n",
              "3    NaN  ...  chrome 54.0 for android   NaN   None   None      F      F   \n",
              "4    NaN  ...      chrome 62.0 for ios   NaN   None   None      F      F   \n",
              "\n",
              "   id_37  id_38  DeviceType                 DeviceInfo  \n",
              "0    NaN    NaN         NaN                        NaN  \n",
              "1      T      T      mobile  Redmi Note 4 Build/MMB29M  \n",
              "2      T      T      mobile  Redmi Note 4 Build/MMB29M  \n",
              "3      T      T      mobile  Redmi Note 4 Build/MMB29M  \n",
              "4      F      F      mobile                       None  \n",
              "\n",
              "[5 rows x 52 columns]"
            ],
            "text/html": [
              "\n",
              "  <div id=\"df-1b4a5f0f-f750-4962-8ccf-aa1ca1fbafe3\" class=\"colab-df-container\">\n",
              "    <div>\n",
              "<style scoped>\n",
              "    .dataframe tbody tr th:only-of-type {\n",
              "        vertical-align: middle;\n",
              "    }\n",
              "\n",
              "    .dataframe tbody tr th {\n",
              "        vertical-align: top;\n",
              "    }\n",
              "\n",
              "    .dataframe thead th {\n",
              "        text-align: right;\n",
              "    }\n",
              "</style>\n",
              "<table border=\"1\" class=\"dataframe\">\n",
              "  <thead>\n",
              "    <tr style=\"text-align: right;\">\n",
              "      <th></th>\n",
              "      <th>TransactionID</th>\n",
              "      <th>card1</th>\n",
              "      <th>card2</th>\n",
              "      <th>card3</th>\n",
              "      <th>card4</th>\n",
              "      <th>card5</th>\n",
              "      <th>card6</th>\n",
              "      <th>ProductCD</th>\n",
              "      <th>addr1</th>\n",
              "      <th>addr2</th>\n",
              "      <th>...</th>\n",
              "      <th>id_31</th>\n",
              "      <th>id_32</th>\n",
              "      <th>id_33</th>\n",
              "      <th>id_34</th>\n",
              "      <th>id_35</th>\n",
              "      <th>id_36</th>\n",
              "      <th>id_37</th>\n",
              "      <th>id_38</th>\n",
              "      <th>DeviceType</th>\n",
              "      <th>DeviceInfo</th>\n",
              "    </tr>\n",
              "  </thead>\n",
              "  <tbody>\n",
              "    <tr>\n",
              "      <th>0</th>\n",
              "      <td>2987203</td>\n",
              "      <td>18268</td>\n",
              "      <td>583.0</td>\n",
              "      <td>150.0</td>\n",
              "      <td>visa</td>\n",
              "      <td>226.0</td>\n",
              "      <td>credit</td>\n",
              "      <td>W</td>\n",
              "      <td>251.0</td>\n",
              "      <td>87.0</td>\n",
              "      <td>...</td>\n",
              "      <td>NaN</td>\n",
              "      <td>NaN</td>\n",
              "      <td>NaN</td>\n",
              "      <td>NaN</td>\n",
              "      <td>NaN</td>\n",
              "      <td>NaN</td>\n",
              "      <td>NaN</td>\n",
              "      <td>NaN</td>\n",
              "      <td>NaN</td>\n",
              "      <td>NaN</td>\n",
              "    </tr>\n",
              "    <tr>\n",
              "      <th>1</th>\n",
              "      <td>2987240</td>\n",
              "      <td>13413</td>\n",
              "      <td>103.0</td>\n",
              "      <td>185.0</td>\n",
              "      <td>visa</td>\n",
              "      <td>137.0</td>\n",
              "      <td>credit</td>\n",
              "      <td>C</td>\n",
              "      <td>NaN</td>\n",
              "      <td>NaN</td>\n",
              "      <td>...</td>\n",
              "      <td>chrome 54.0 for android</td>\n",
              "      <td>NaN</td>\n",
              "      <td>None</td>\n",
              "      <td>None</td>\n",
              "      <td>F</td>\n",
              "      <td>F</td>\n",
              "      <td>T</td>\n",
              "      <td>T</td>\n",
              "      <td>mobile</td>\n",
              "      <td>Redmi Note 4 Build/MMB29M</td>\n",
              "    </tr>\n",
              "    <tr>\n",
              "      <th>2</th>\n",
              "      <td>2987243</td>\n",
              "      <td>13413</td>\n",
              "      <td>103.0</td>\n",
              "      <td>185.0</td>\n",
              "      <td>visa</td>\n",
              "      <td>137.0</td>\n",
              "      <td>credit</td>\n",
              "      <td>C</td>\n",
              "      <td>NaN</td>\n",
              "      <td>NaN</td>\n",
              "      <td>...</td>\n",
              "      <td>chrome 54.0 for android</td>\n",
              "      <td>NaN</td>\n",
              "      <td>None</td>\n",
              "      <td>None</td>\n",
              "      <td>F</td>\n",
              "      <td>F</td>\n",
              "      <td>T</td>\n",
              "      <td>T</td>\n",
              "      <td>mobile</td>\n",
              "      <td>Redmi Note 4 Build/MMB29M</td>\n",
              "    </tr>\n",
              "    <tr>\n",
              "      <th>3</th>\n",
              "      <td>2987245</td>\n",
              "      <td>13413</td>\n",
              "      <td>103.0</td>\n",
              "      <td>185.0</td>\n",
              "      <td>visa</td>\n",
              "      <td>137.0</td>\n",
              "      <td>credit</td>\n",
              "      <td>C</td>\n",
              "      <td>NaN</td>\n",
              "      <td>NaN</td>\n",
              "      <td>...</td>\n",
              "      <td>chrome 54.0 for android</td>\n",
              "      <td>NaN</td>\n",
              "      <td>None</td>\n",
              "      <td>None</td>\n",
              "      <td>F</td>\n",
              "      <td>F</td>\n",
              "      <td>T</td>\n",
              "      <td>T</td>\n",
              "      <td>mobile</td>\n",
              "      <td>Redmi Note 4 Build/MMB29M</td>\n",
              "    </tr>\n",
              "    <tr>\n",
              "      <th>4</th>\n",
              "      <td>2987288</td>\n",
              "      <td>16578</td>\n",
              "      <td>545.0</td>\n",
              "      <td>185.0</td>\n",
              "      <td>visa</td>\n",
              "      <td>226.0</td>\n",
              "      <td>credit</td>\n",
              "      <td>C</td>\n",
              "      <td>NaN</td>\n",
              "      <td>NaN</td>\n",
              "      <td>...</td>\n",
              "      <td>chrome 62.0 for ios</td>\n",
              "      <td>NaN</td>\n",
              "      <td>None</td>\n",
              "      <td>None</td>\n",
              "      <td>F</td>\n",
              "      <td>F</td>\n",
              "      <td>F</td>\n",
              "      <td>F</td>\n",
              "      <td>mobile</td>\n",
              "      <td>None</td>\n",
              "    </tr>\n",
              "  </tbody>\n",
              "</table>\n",
              "<p>5 rows × 52 columns</p>\n",
              "</div>\n",
              "    <div class=\"colab-df-buttons\">\n",
              "\n",
              "  <div class=\"colab-df-container\">\n",
              "    <button class=\"colab-df-convert\" onclick=\"convertToInteractive('df-1b4a5f0f-f750-4962-8ccf-aa1ca1fbafe3')\"\n",
              "            title=\"Convert this dataframe to an interactive table.\"\n",
              "            style=\"display:none;\">\n",
              "\n",
              "  <svg xmlns=\"http://www.w3.org/2000/svg\" height=\"24px\" viewBox=\"0 -960 960 960\">\n",
              "    <path d=\"M120-120v-720h720v720H120Zm60-500h600v-160H180v160Zm220 220h160v-160H400v160Zm0 220h160v-160H400v160ZM180-400h160v-160H180v160Zm440 0h160v-160H620v160ZM180-180h160v-160H180v160Zm440 0h160v-160H620v160Z\"/>\n",
              "  </svg>\n",
              "    </button>\n",
              "\n",
              "  <style>\n",
              "    .colab-df-container {\n",
              "      display:flex;\n",
              "      gap: 12px;\n",
              "    }\n",
              "\n",
              "    .colab-df-convert {\n",
              "      background-color: #E8F0FE;\n",
              "      border: none;\n",
              "      border-radius: 50%;\n",
              "      cursor: pointer;\n",
              "      display: none;\n",
              "      fill: #1967D2;\n",
              "      height: 32px;\n",
              "      padding: 0 0 0 0;\n",
              "      width: 32px;\n",
              "    }\n",
              "\n",
              "    .colab-df-convert:hover {\n",
              "      background-color: #E2EBFA;\n",
              "      box-shadow: 0px 1px 2px rgba(60, 64, 67, 0.3), 0px 1px 3px 1px rgba(60, 64, 67, 0.15);\n",
              "      fill: #174EA6;\n",
              "    }\n",
              "\n",
              "    .colab-df-buttons div {\n",
              "      margin-bottom: 4px;\n",
              "    }\n",
              "\n",
              "    [theme=dark] .colab-df-convert {\n",
              "      background-color: #3B4455;\n",
              "      fill: #D2E3FC;\n",
              "    }\n",
              "\n",
              "    [theme=dark] .colab-df-convert:hover {\n",
              "      background-color: #434B5C;\n",
              "      box-shadow: 0px 1px 3px 1px rgba(0, 0, 0, 0.15);\n",
              "      filter: drop-shadow(0px 1px 2px rgba(0, 0, 0, 0.3));\n",
              "      fill: #FFFFFF;\n",
              "    }\n",
              "  </style>\n",
              "\n",
              "    <script>\n",
              "      const buttonEl =\n",
              "        document.querySelector('#df-1b4a5f0f-f750-4962-8ccf-aa1ca1fbafe3 button.colab-df-convert');\n",
              "      buttonEl.style.display =\n",
              "        google.colab.kernel.accessAllowed ? 'block' : 'none';\n",
              "\n",
              "      async function convertToInteractive(key) {\n",
              "        const element = document.querySelector('#df-1b4a5f0f-f750-4962-8ccf-aa1ca1fbafe3');\n",
              "        const dataTable =\n",
              "          await google.colab.kernel.invokeFunction('convertToInteractive',\n",
              "                                                    [key], {});\n",
              "        if (!dataTable) return;\n",
              "\n",
              "        const docLinkHtml = 'Like what you see? Visit the ' +\n",
              "          '<a target=\"_blank\" href=https://colab.research.google.com/notebooks/data_table.ipynb>data table notebook</a>'\n",
              "          + ' to learn more about interactive tables.';\n",
              "        element.innerHTML = '';\n",
              "        dataTable['output_type'] = 'display_data';\n",
              "        await google.colab.output.renderOutput(dataTable, element);\n",
              "        const docLink = document.createElement('div');\n",
              "        docLink.innerHTML = docLinkHtml;\n",
              "        element.appendChild(docLink);\n",
              "      }\n",
              "    </script>\n",
              "  </div>\n",
              "\n",
              "\n",
              "    <div id=\"df-a9541ac9-f631-440f-9726-7af95f48a3c2\">\n",
              "      <button class=\"colab-df-quickchart\" onclick=\"quickchart('df-a9541ac9-f631-440f-9726-7af95f48a3c2')\"\n",
              "                title=\"Suggest charts\"\n",
              "                style=\"display:none;\">\n",
              "\n",
              "<svg xmlns=\"http://www.w3.org/2000/svg\" height=\"24px\"viewBox=\"0 0 24 24\"\n",
              "     width=\"24px\">\n",
              "    <g>\n",
              "        <path d=\"M19 3H5c-1.1 0-2 .9-2 2v14c0 1.1.9 2 2 2h14c1.1 0 2-.9 2-2V5c0-1.1-.9-2-2-2zM9 17H7v-7h2v7zm4 0h-2V7h2v10zm4 0h-2v-4h2v4z\"/>\n",
              "    </g>\n",
              "</svg>\n",
              "      </button>\n",
              "\n",
              "<style>\n",
              "  .colab-df-quickchart {\n",
              "      --bg-color: #E8F0FE;\n",
              "      --fill-color: #1967D2;\n",
              "      --hover-bg-color: #E2EBFA;\n",
              "      --hover-fill-color: #174EA6;\n",
              "      --disabled-fill-color: #AAA;\n",
              "      --disabled-bg-color: #DDD;\n",
              "  }\n",
              "\n",
              "  [theme=dark] .colab-df-quickchart {\n",
              "      --bg-color: #3B4455;\n",
              "      --fill-color: #D2E3FC;\n",
              "      --hover-bg-color: #434B5C;\n",
              "      --hover-fill-color: #FFFFFF;\n",
              "      --disabled-bg-color: #3B4455;\n",
              "      --disabled-fill-color: #666;\n",
              "  }\n",
              "\n",
              "  .colab-df-quickchart {\n",
              "    background-color: var(--bg-color);\n",
              "    border: none;\n",
              "    border-radius: 50%;\n",
              "    cursor: pointer;\n",
              "    display: none;\n",
              "    fill: var(--fill-color);\n",
              "    height: 32px;\n",
              "    padding: 0;\n",
              "    width: 32px;\n",
              "  }\n",
              "\n",
              "  .colab-df-quickchart:hover {\n",
              "    background-color: var(--hover-bg-color);\n",
              "    box-shadow: 0 1px 2px rgba(60, 64, 67, 0.3), 0 1px 3px 1px rgba(60, 64, 67, 0.15);\n",
              "    fill: var(--button-hover-fill-color);\n",
              "  }\n",
              "\n",
              "  .colab-df-quickchart-complete:disabled,\n",
              "  .colab-df-quickchart-complete:disabled:hover {\n",
              "    background-color: var(--disabled-bg-color);\n",
              "    fill: var(--disabled-fill-color);\n",
              "    box-shadow: none;\n",
              "  }\n",
              "\n",
              "  .colab-df-spinner {\n",
              "    border: 2px solid var(--fill-color);\n",
              "    border-color: transparent;\n",
              "    border-bottom-color: var(--fill-color);\n",
              "    animation:\n",
              "      spin 1s steps(1) infinite;\n",
              "  }\n",
              "\n",
              "  @keyframes spin {\n",
              "    0% {\n",
              "      border-color: transparent;\n",
              "      border-bottom-color: var(--fill-color);\n",
              "      border-left-color: var(--fill-color);\n",
              "    }\n",
              "    20% {\n",
              "      border-color: transparent;\n",
              "      border-left-color: var(--fill-color);\n",
              "      border-top-color: var(--fill-color);\n",
              "    }\n",
              "    30% {\n",
              "      border-color: transparent;\n",
              "      border-left-color: var(--fill-color);\n",
              "      border-top-color: var(--fill-color);\n",
              "      border-right-color: var(--fill-color);\n",
              "    }\n",
              "    40% {\n",
              "      border-color: transparent;\n",
              "      border-right-color: var(--fill-color);\n",
              "      border-top-color: var(--fill-color);\n",
              "    }\n",
              "    60% {\n",
              "      border-color: transparent;\n",
              "      border-right-color: var(--fill-color);\n",
              "    }\n",
              "    80% {\n",
              "      border-color: transparent;\n",
              "      border-right-color: var(--fill-color);\n",
              "      border-bottom-color: var(--fill-color);\n",
              "    }\n",
              "    90% {\n",
              "      border-color: transparent;\n",
              "      border-bottom-color: var(--fill-color);\n",
              "    }\n",
              "  }\n",
              "</style>\n",
              "\n",
              "      <script>\n",
              "        async function quickchart(key) {\n",
              "          const quickchartButtonEl =\n",
              "            document.querySelector('#' + key + ' button');\n",
              "          quickchartButtonEl.disabled = true;  // To prevent multiple clicks.\n",
              "          quickchartButtonEl.classList.add('colab-df-spinner');\n",
              "          try {\n",
              "            const charts = await google.colab.kernel.invokeFunction(\n",
              "                'suggestCharts', [key], {});\n",
              "          } catch (error) {\n",
              "            console.error('Error during call to suggestCharts:', error);\n",
              "          }\n",
              "          quickchartButtonEl.classList.remove('colab-df-spinner');\n",
              "          quickchartButtonEl.classList.add('colab-df-quickchart-complete');\n",
              "        }\n",
              "        (() => {\n",
              "          let quickchartButtonEl =\n",
              "            document.querySelector('#df-a9541ac9-f631-440f-9726-7af95f48a3c2 button');\n",
              "          quickchartButtonEl.style.display =\n",
              "            google.colab.kernel.accessAllowed ? 'block' : 'none';\n",
              "        })();\n",
              "      </script>\n",
              "    </div>\n",
              "\n",
              "    </div>\n",
              "  </div>\n"
            ],
            "application/vnd.google.colaboratory.intrinsic+json": {
              "type": "dataframe",
              "variable_name": "full_identity_df"
            }
          },
          "metadata": {},
          "execution_count": 30
        }
      ],
      "source": [
        "all_id_cols = ['TransactionID'] + id_cols\n",
        "full_identity_df = transaction_df[all_id_cols].merge(identity_df, on='TransactionID', how='left')\n",
        "full_identity_df.head(5)"
      ]
    },
    {
      "cell_type": "code",
      "source": [
        "full_identity_df.shape"
      ],
      "metadata": {
        "colab": {
          "base_uri": "https://localhost:8080/"
        },
        "id": "RbvoyQThpT3n",
        "outputId": "68517d07-7264-4c7a-a141-03f80fa687e0"
      },
      "execution_count": 31,
      "outputs": [
        {
          "output_type": "execute_result",
          "data": {
            "text/plain": [
              "(61989, 52)"
            ]
          },
          "metadata": {},
          "execution_count": 31
        }
      ]
    },
    {
      "source": [
        "For each identity feature, save the data into the corresponding `relation_{FEATURE NAME}_edgelist.csv`. Each csv file represents one kind of edge."
      ],
      "cell_type": "markdown",
      "metadata": {
        "id": "BmyJAbeYgqRz"
      }
    },
    {
      "cell_type": "code",
      "execution_count": 32,
      "metadata": {
        "id": "NnShF6jSgqRz",
        "colab": {
          "base_uri": "https://localhost:8080/"
        },
        "outputId": "091370a0-b0e7-474e-a1c2-7c760e73b593"
      },
      "outputs": [
        {
          "output_type": "stream",
          "name": "stdout",
          "text": [
            "{'card1':        TransactionID  card1\n",
            "0            2987203  18268\n",
            "1            2987240  13413\n",
            "2            2987243  13413\n",
            "3            2987245  13413\n",
            "4            2987288  16578\n",
            "...              ...    ...\n",
            "61984        3458465   3094\n",
            "61985        3218150  11333\n",
            "61986        3163435  10112\n",
            "61987        3135772   2443\n",
            "61988        3436745   8320\n",
            "\n",
            "[61989 rows x 2 columns], 'card2':        TransactionID  card2\n",
            "0            2987203  583.0\n",
            "1            2987240  103.0\n",
            "2            2987243  103.0\n",
            "3            2987245  103.0\n",
            "4            2987288  545.0\n",
            "...              ...    ...\n",
            "61984        3458465  276.0\n",
            "61985        3218150  555.0\n",
            "61986        3163435  360.0\n",
            "61987        3135772  555.0\n",
            "61988        3436745  476.0\n",
            "\n",
            "[60931 rows x 2 columns], 'card3':        TransactionID  card3\n",
            "0            2987203  150.0\n",
            "1            2987240  185.0\n",
            "2            2987243  185.0\n",
            "3            2987245  185.0\n",
            "4            2987288  185.0\n",
            "...              ...    ...\n",
            "61984        3458465  150.0\n",
            "61985        3218150  150.0\n",
            "61986        3163435  150.0\n",
            "61987        3135772  150.0\n",
            "61988        3436745  150.0\n",
            "\n",
            "[61843 rows x 2 columns], 'card4':        TransactionID card4\n",
            "0            2987203  visa\n",
            "1            2987240  visa\n",
            "2            2987243  visa\n",
            "3            2987245  visa\n",
            "4            2987288  visa\n",
            "...              ...   ...\n",
            "61984        3458465  visa\n",
            "61985        3218150  visa\n",
            "61986        3163435  visa\n",
            "61987        3135772  visa\n",
            "61988        3436745  visa\n",
            "\n",
            "[61841 rows x 2 columns], 'card5':        TransactionID  card5\n",
            "0            2987203  226.0\n",
            "1            2987240  137.0\n",
            "2            2987243  137.0\n",
            "3            2987245  137.0\n",
            "4            2987288  226.0\n",
            "...              ...    ...\n",
            "61984        3458465  226.0\n",
            "61985        3218150  226.0\n",
            "61986        3163435  166.0\n",
            "61987        3135772  226.0\n",
            "61988        3436745  166.0\n",
            "\n",
            "[61495 rows x 2 columns], 'card6':        TransactionID   card6\n",
            "0            2987203  credit\n",
            "1            2987240  credit\n",
            "2            2987243  credit\n",
            "3            2987245  credit\n",
            "4            2987288  credit\n",
            "...              ...     ...\n",
            "61984        3458465   debit\n",
            "61985        3218150   debit\n",
            "61986        3163435   debit\n",
            "61987        3135772   debit\n",
            "61988        3436745   debit\n",
            "\n",
            "[61843 rows x 2 columns], 'ProductCD':        TransactionID ProductCD\n",
            "0            2987203         W\n",
            "1            2987240         C\n",
            "2            2987243         C\n",
            "3            2987245         C\n",
            "4            2987288         C\n",
            "...              ...       ...\n",
            "61984        3458465         W\n",
            "61985        3218150         W\n",
            "61986        3163435         W\n",
            "61987        3135772         S\n",
            "61988        3436745         W\n",
            "\n",
            "[61989 rows x 2 columns], 'addr1':        TransactionID  addr1\n",
            "0            2987203  251.0\n",
            "5            2987367  472.0\n",
            "9            2987736  231.0\n",
            "10           2987779  441.0\n",
            "11           2987780  441.0\n",
            "...              ...    ...\n",
            "61984        3458465  191.0\n",
            "61985        3218150  433.0\n",
            "61986        3163435  204.0\n",
            "61987        3135772  184.0\n",
            "61988        3436745  337.0\n",
            "\n",
            "[49976 rows x 2 columns], 'addr2':        TransactionID  addr2\n",
            "0            2987203   87.0\n",
            "5            2987367   87.0\n",
            "9            2987736   87.0\n",
            "10           2987779   87.0\n",
            "11           2987780   87.0\n",
            "...              ...    ...\n",
            "61984        3458465   87.0\n",
            "61985        3218150   87.0\n",
            "61986        3163435   87.0\n",
            "61987        3135772   87.0\n",
            "61988        3436745   87.0\n",
            "\n",
            "[49976 rows x 2 columns], 'P_emaildomain':        TransactionID P_emaildomain\n",
            "0            2987203       aol.com\n",
            "1            2987240   hotmail.com\n",
            "2            2987243   hotmail.com\n",
            "3            2987245   hotmail.com\n",
            "4            2987288   outlook.com\n",
            "...              ...           ...\n",
            "61982        3149031   hotmail.com\n",
            "61983        3285042     gmail.com\n",
            "61984        3458465       aol.com\n",
            "61986        3163435     gmail.com\n",
            "61988        3436745     gmail.com\n",
            "\n",
            "[52498 rows x 2 columns], 'R_emaildomain':        TransactionID  R_emaildomain\n",
            "1            2987240    hotmail.com\n",
            "2            2987243    hotmail.com\n",
            "3            2987245    hotmail.com\n",
            "4            2987288    outlook.com\n",
            "5            2987367      gmail.com\n",
            "...              ...            ...\n",
            "61972        3440433      gmail.com\n",
            "61973        3107238  anonymous.com\n",
            "61978        3431738      gmail.com\n",
            "61982        3149031    hotmail.com\n",
            "61987        3135772      gmail.com\n",
            "\n",
            "[20523 rows x 2 columns], 'TransactionID':        TransactionID\n",
            "0            2987203\n",
            "1            2987240\n",
            "2            2987243\n",
            "3            2987245\n",
            "4            2987288\n",
            "...              ...\n",
            "61984        3458465\n",
            "61985        3218150\n",
            "61986        3163435\n",
            "61987        3135772\n",
            "61988        3436745\n",
            "\n",
            "[61989 rows x 1 columns], 'id_01':        TransactionID  id_01\n",
            "1            2987240    0.0\n",
            "2            2987243    0.0\n",
            "3            2987245    0.0\n",
            "4            2987288  -20.0\n",
            "5            2987367   -5.0\n",
            "...              ...    ...\n",
            "61964        3078174  -10.0\n",
            "61972        3440433   -5.0\n",
            "61973        3107238  -30.0\n",
            "61978        3431738   -5.0\n",
            "61987        3135772   -5.0\n",
            "\n",
            "[21088 rows x 2 columns], 'id_02':        TransactionID     id_02\n",
            "1            2987240  169947.0\n",
            "2            2987243  222455.0\n",
            "3            2987245  271870.0\n",
            "4            2987288  258138.0\n",
            "5            2987367  141271.0\n",
            "...              ...       ...\n",
            "61964        3078174  238792.0\n",
            "61972        3440433  412814.0\n",
            "61973        3107238   79354.0\n",
            "61978        3431738  108584.0\n",
            "61987        3135772   68755.0\n",
            "\n",
            "[20748 rows x 2 columns], 'id_03':        TransactionID  id_03\n",
            "1            2987240    0.0\n",
            "2            2987243    0.0\n",
            "3            2987245    0.0\n",
            "11           2987780    0.0\n",
            "12           2987781    0.0\n",
            "...              ...    ...\n",
            "61959        3548180    0.0\n",
            "61964        3078174    0.0\n",
            "61972        3440433    0.0\n",
            "61973        3107238    0.0\n",
            "61987        3135772    0.0\n",
            "\n",
            "[11510 rows x 2 columns], 'id_04':        TransactionID  id_04\n",
            "1            2987240    0.0\n",
            "2            2987243    0.0\n",
            "3            2987245    0.0\n",
            "11           2987780    0.0\n",
            "12           2987781    0.0\n",
            "...              ...    ...\n",
            "61959        3548180    0.0\n",
            "61964        3078174    0.0\n",
            "61972        3440433    0.0\n",
            "61973        3107238    0.0\n",
            "61987        3135772    0.0\n",
            "\n",
            "[11510 rows x 2 columns], 'id_05':        TransactionID  id_05\n",
            "1            2987240    3.0\n",
            "2            2987243    0.0\n",
            "3            2987245    3.0\n",
            "4            2987288    0.0\n",
            "5            2987367    9.0\n",
            "...              ...    ...\n",
            "61964        3078174    0.0\n",
            "61972        3440433  -11.0\n",
            "61973        3107238    0.0\n",
            "61978        3431738    0.0\n",
            "61987        3135772    1.0\n",
            "\n",
            "[20224 rows x 2 columns], 'id_06':        TransactionID  id_06\n",
            "1            2987240    0.0\n",
            "2            2987243    0.0\n",
            "3            2987245    0.0\n",
            "4            2987288   -1.0\n",
            "5            2987367  -81.0\n",
            "...              ...    ...\n",
            "61964        3078174    0.0\n",
            "61972        3440433  -62.0\n",
            "61973        3107238    0.0\n",
            "61978        3431738   -1.0\n",
            "61987        3135772    0.0\n",
            "\n",
            "[20224 rows x 2 columns], 'id_07':        TransactionID  id_07\n",
            "15           2988062   -1.0\n",
            "16           2988064   -1.0\n",
            "35           2988702    2.0\n",
            "37           2988706    2.0\n",
            "65           2990559   -4.0\n",
            "...              ...    ...\n",
            "61305        3419771   21.0\n",
            "61337        3541982   15.0\n",
            "61827        3042038   29.0\n",
            "61922        3040964  -13.0\n",
            "61964        3078174   23.0\n",
            "\n",
            "[791 rows x 2 columns], 'id_08':        TransactionID  id_08\n",
            "15           2988062 -100.0\n",
            "16           2988064 -100.0\n",
            "35           2988702  -33.0\n",
            "37           2988706  -33.0\n",
            "65           2990559 -100.0\n",
            "...              ...    ...\n",
            "61305        3419771  -26.0\n",
            "61337        3541982  -49.0\n",
            "61827        3042038   -9.0\n",
            "61922        3040964 -100.0\n",
            "61964        3078174  -12.0\n",
            "\n",
            "[791 rows x 2 columns], 'id_09':        TransactionID  id_09\n",
            "1            2987240    0.0\n",
            "2            2987243    0.0\n",
            "3            2987245    0.0\n",
            "5            2987367    0.0\n",
            "8            2987683    0.0\n",
            "...              ...    ...\n",
            "61959        3548180    0.0\n",
            "61964        3078174    0.0\n",
            "61972        3440433    0.0\n",
            "61973        3107238    0.0\n",
            "61987        3135772    0.0\n",
            "\n",
            "[12816 rows x 2 columns], 'id_10':        TransactionID  id_10\n",
            "1            2987240    0.0\n",
            "2            2987243    0.0\n",
            "3            2987245    0.0\n",
            "5            2987367    0.0\n",
            "8            2987683    0.0\n",
            "...              ...    ...\n",
            "61959        3548180    0.0\n",
            "61964        3078174    0.0\n",
            "61972        3440433    0.0\n",
            "61973        3107238    0.0\n",
            "61987        3135772    0.0\n",
            "\n",
            "[12816 rows x 2 columns], 'id_11':        TransactionID       id_11\n",
            "1            2987240  100.000000\n",
            "2            2987243  100.000000\n",
            "3            2987245  100.000000\n",
            "4            2987288  100.000000\n",
            "5            2987367   97.540001\n",
            "...              ...         ...\n",
            "61964        3078174  100.000000\n",
            "61972        3440433  100.000000\n",
            "61973        3107238  100.000000\n",
            "61978        3431738  100.000000\n",
            "61987        3135772  100.000000\n",
            "\n",
            "[20749 rows x 2 columns], 'id_12':        TransactionID     id_12\n",
            "1            2987240  NotFound\n",
            "2            2987243  NotFound\n",
            "3            2987245  NotFound\n",
            "4            2987288  NotFound\n",
            "5            2987367  NotFound\n",
            "...              ...       ...\n",
            "61964        3078174     Found\n",
            "61972        3440433  NotFound\n",
            "61973        3107238  NotFound\n",
            "61978        3431738  NotFound\n",
            "61987        3135772     Found\n",
            "\n",
            "[21088 rows x 2 columns], 'id_13':        TransactionID  id_13\n",
            "2            2987243   43.0\n",
            "3            2987245   43.0\n",
            "4            2987288   49.0\n",
            "5            2987367   52.0\n",
            "6            2987405   49.0\n",
            "...              ...    ...\n",
            "61964        3078174   52.0\n",
            "61972        3440433   64.0\n",
            "61973        3107238   52.0\n",
            "61978        3431738   52.0\n",
            "61987        3135772   52.0\n",
            "\n",
            "[19175 rows x 2 columns], 'id_14':        TransactionID  id_14\n",
            "5            2987367 -300.0\n",
            "10           2987779 -300.0\n",
            "11           2987780 -300.0\n",
            "12           2987781 -300.0\n",
            "13           2987869 -360.0\n",
            "...              ...    ...\n",
            "61959        3548180 -360.0\n",
            "61960        3496776 -480.0\n",
            "61964        3078174 -480.0\n",
            "61978        3431738 -300.0\n",
            "61987        3135772 -300.0\n",
            "\n",
            "[9183 rows x 2 columns], 'id_15':        TransactionID    id_15\n",
            "1            2987240    Found\n",
            "2            2987243    Found\n",
            "3            2987245    Found\n",
            "4            2987288  Unknown\n",
            "5            2987367      New\n",
            "...              ...      ...\n",
            "61964        3078174    Found\n",
            "61972        3440433    Found\n",
            "61973        3107238    Found\n",
            "61978        3431738      New\n",
            "61987        3135772    Found\n",
            "\n",
            "[20753 rows x 2 columns], 'id_16':        TransactionID     id_16\n",
            "1            2987240     Found\n",
            "2            2987243     Found\n",
            "3            2987245     Found\n",
            "5            2987367  NotFound\n",
            "8            2987683  NotFound\n",
            "...              ...       ...\n",
            "61964        3078174     Found\n",
            "61972        3440433     Found\n",
            "61973        3107238     Found\n",
            "61978        3431738  NotFound\n",
            "61987        3135772     Found\n",
            "\n",
            "[18872 rows x 2 columns], 'id_17':        TransactionID  id_17\n",
            "1            2987240  225.0\n",
            "2            2987243  225.0\n",
            "3            2987245  225.0\n",
            "4            2987288  225.0\n",
            "5            2987367  166.0\n",
            "...              ...    ...\n",
            "61964        3078174  166.0\n",
            "61972        3440433  225.0\n",
            "61973        3107238  225.0\n",
            "61978        3431738  166.0\n",
            "61987        3135772  166.0\n",
            "\n",
            "[20461 rows x 2 columns], 'id_18':        TransactionID  id_18\n",
            "5            2987367   13.0\n",
            "35           2988702   12.0\n",
            "37           2988706   12.0\n",
            "46           2989116   15.0\n",
            "54           2989598   12.0\n",
            "...              ...    ...\n",
            "61882        3379770   15.0\n",
            "61940        3255654   15.0\n",
            "61956        3329730   13.0\n",
            "61972        3440433   15.0\n",
            "61978        3431738   13.0\n",
            "\n",
            "[6740 rows x 2 columns], 'id_19':        TransactionID  id_19\n",
            "1            2987240  266.0\n",
            "2            2987243  266.0\n",
            "3            2987245  266.0\n",
            "4            2987288  290.0\n",
            "5            2987367  121.0\n",
            "...              ...    ...\n",
            "61964        3078174  546.0\n",
            "61972        3440433  176.0\n",
            "61973        3107238  607.0\n",
            "61978        3431738  193.0\n",
            "61987        3135772  214.0\n",
            "\n",
            "[20453 rows x 2 columns], 'id_20':        TransactionID  id_20\n",
            "1            2987240  325.0\n",
            "2            2987243  325.0\n",
            "3            2987245  325.0\n",
            "4            2987288  401.0\n",
            "5            2987367  333.0\n",
            "...              ...    ...\n",
            "61964        3078174  222.0\n",
            "61972        3440433  507.0\n",
            "61973        3107238  561.0\n",
            "61978        3431738  278.0\n",
            "61987        3135772  533.0\n",
            "\n",
            "[20442 rows x 2 columns], 'id_21':        TransactionID  id_21\n",
            "15           2988062  657.0\n",
            "16           2988064  657.0\n",
            "35           2988702  252.0\n",
            "37           2988706  252.0\n",
            "65           2990559  657.0\n",
            "...              ...    ...\n",
            "61305        3419771  252.0\n",
            "61337        3541982  228.0\n",
            "61827        3042038  514.0\n",
            "61922        3040964  189.0\n",
            "61964        3078174  358.0\n",
            "\n",
            "[792 rows x 2 columns], 'id_22':        TransactionID  id_22\n",
            "15           2988062   41.0\n",
            "16           2988064   41.0\n",
            "35           2988702   14.0\n",
            "37           2988706   14.0\n",
            "65           2990559   41.0\n",
            "...              ...    ...\n",
            "61305        3419771   14.0\n",
            "61337        3541982   14.0\n",
            "61827        3042038   14.0\n",
            "61922        3040964   14.0\n",
            "61964        3078174   14.0\n",
            "\n",
            "[793 rows x 2 columns], 'id_23':        TransactionID                 id_23\n",
            "15           2988062    IP_PROXY:ANONYMOUS\n",
            "16           2988064    IP_PROXY:ANONYMOUS\n",
            "35           2988702  IP_PROXY:TRANSPARENT\n",
            "37           2988706  IP_PROXY:TRANSPARENT\n",
            "65           2990559    IP_PROXY:ANONYMOUS\n",
            "...              ...                   ...\n",
            "61305        3419771  IP_PROXY:TRANSPARENT\n",
            "61337        3541982  IP_PROXY:TRANSPARENT\n",
            "61827        3042038  IP_PROXY:TRANSPARENT\n",
            "61922        3040964       IP_PROXY:HIDDEN\n",
            "61964        3078174  IP_PROXY:TRANSPARENT\n",
            "\n",
            "[793 rows x 2 columns], 'id_24':        TransactionID  id_24\n",
            "15           2988062   15.0\n",
            "16           2988064   15.0\n",
            "35           2988702   11.0\n",
            "37           2988706   11.0\n",
            "65           2990559   15.0\n",
            "...              ...    ...\n",
            "61305        3419771   11.0\n",
            "61337        3541982   16.0\n",
            "61827        3042038   15.0\n",
            "61922        3040964   15.0\n",
            "61964        3078174   16.0\n",
            "\n",
            "[742 rows x 2 columns], 'id_25':        TransactionID  id_25\n",
            "15           2988062  161.0\n",
            "16           2988064  161.0\n",
            "35           2988702  321.0\n",
            "37           2988706  321.0\n",
            "65           2990559  161.0\n",
            "...              ...    ...\n",
            "61305        3419771  321.0\n",
            "61337        3541982  426.0\n",
            "61827        3042038  141.0\n",
            "61922        3040964  512.0\n",
            "61964        3078174  334.0\n",
            "\n",
            "[783 rows x 2 columns], 'id_26':        TransactionID  id_26\n",
            "15           2988062  159.0\n",
            "16           2988064  159.0\n",
            "35           2988702  184.0\n",
            "37           2988706  184.0\n",
            "65           2990559  159.0\n",
            "...              ...    ...\n",
            "61305        3419771  142.0\n",
            "61337        3541982  161.0\n",
            "61827        3042038  142.0\n",
            "61922        3040964  184.0\n",
            "61964        3078174  161.0\n",
            "\n",
            "[791 rows x 2 columns], 'id_27':        TransactionID  id_27\n",
            "15           2988062  Found\n",
            "16           2988064  Found\n",
            "35           2988702  Found\n",
            "37           2988706  Found\n",
            "65           2990559  Found\n",
            "...              ...    ...\n",
            "61305        3419771  Found\n",
            "61337        3541982  Found\n",
            "61827        3042038  Found\n",
            "61922        3040964  Found\n",
            "61964        3078174  Found\n",
            "\n",
            "[793 rows x 2 columns], 'id_28':        TransactionID  id_28\n",
            "1            2987240  Found\n",
            "2            2987243  Found\n",
            "3            2987245  Found\n",
            "4            2987288    New\n",
            "5            2987367  Found\n",
            "...              ...    ...\n",
            "61964        3078174  Found\n",
            "61972        3440433  Found\n",
            "61973        3107238  Found\n",
            "61978        3431738    New\n",
            "61987        3135772  Found\n",
            "\n",
            "[20749 rows x 2 columns], 'id_29':        TransactionID     id_29\n",
            "1            2987240     Found\n",
            "2            2987243     Found\n",
            "3            2987245     Found\n",
            "4            2987288  NotFound\n",
            "5            2987367     Found\n",
            "...              ...       ...\n",
            "61964        3078174     Found\n",
            "61972        3440433     Found\n",
            "61973        3107238     Found\n",
            "61978        3431738  NotFound\n",
            "61987        3135772     Found\n",
            "\n",
            "[20749 rows x 2 columns], 'id_30':        TransactionID          id_30\n",
            "5            2987367     Windows 10\n",
            "10           2987779  Android 5.1.1\n",
            "11           2987780  Android 5.1.1\n",
            "12           2987781  Android 5.1.1\n",
            "35           2988702     iOS 11.1.2\n",
            "...              ...            ...\n",
            "61959        3548180     iOS 11.3.0\n",
            "61960        3496776      Windows 7\n",
            "61964        3078174      Windows 7\n",
            "61978        3431738      Windows 7\n",
            "61987        3135772     Windows 10\n",
            "\n",
            "[8873 rows x 2 columns], 'id_31':        TransactionID                    id_31\n",
            "1            2987240  chrome 54.0 for android\n",
            "2            2987243  chrome 54.0 for android\n",
            "3            2987245  chrome 54.0 for android\n",
            "4            2987288      chrome 62.0 for ios\n",
            "5            2987367                  firefox\n",
            "...              ...                      ...\n",
            "61964        3078174             firefox 57.0\n",
            "61972        3440433           chrome generic\n",
            "61973        3107238              chrome 63.0\n",
            "61978        3431738      ie 11.0 for desktop\n",
            "61987        3135772              chrome 63.0\n",
            "\n",
            "[20650 rows x 2 columns], 'id_32':        TransactionID  id_32\n",
            "5            2987367   24.0\n",
            "10           2987779   32.0\n",
            "11           2987780   32.0\n",
            "12           2987781   32.0\n",
            "35           2988702   32.0\n",
            "...              ...    ...\n",
            "61959        3548180   32.0\n",
            "61960        3496776   24.0\n",
            "61964        3078174   24.0\n",
            "61978        3431738   24.0\n",
            "61987        3135772   24.0\n",
            "\n",
            "[8882 rows x 2 columns], 'id_33':        TransactionID      id_33\n",
            "5            2987367   1440x900\n",
            "10           2987779   1024x600\n",
            "11           2987780   1024x600\n",
            "12           2987781   1024x600\n",
            "35           2988702  2208x1242\n",
            "...              ...        ...\n",
            "61959        3548180  2436x1125\n",
            "61960        3496776   1600x899\n",
            "61964        3078174  1920x1080\n",
            "61978        3431738  1920x1080\n",
            "61987        3135772   1600x900\n",
            "\n",
            "[8499 rows x 2 columns], 'id_34':        TransactionID           id_34\n",
            "5            2987367  match_status:2\n",
            "10           2987779  match_status:2\n",
            "11           2987780  match_status:2\n",
            "12           2987781  match_status:2\n",
            "35           2988702  match_status:1\n",
            "...              ...             ...\n",
            "61959        3548180  match_status:2\n",
            "61960        3496776  match_status:2\n",
            "61964        3078174  match_status:2\n",
            "61978        3431738  match_status:2\n",
            "61987        3135772  match_status:2\n",
            "\n",
            "[8927 rows x 2 columns], 'id_35':        TransactionID id_35\n",
            "1            2987240     F\n",
            "2            2987243     F\n",
            "3            2987245     F\n",
            "4            2987288     F\n",
            "5            2987367     T\n",
            "...              ...   ...\n",
            "61964        3078174     T\n",
            "61972        3440433     F\n",
            "61973        3107238     F\n",
            "61978        3431738     T\n",
            "61987        3135772     T\n",
            "\n",
            "[20753 rows x 2 columns], 'id_36':        TransactionID id_36\n",
            "1            2987240     F\n",
            "2            2987243     F\n",
            "3            2987245     F\n",
            "4            2987288     F\n",
            "5            2987367     F\n",
            "...              ...   ...\n",
            "61964        3078174     F\n",
            "61972        3440433     F\n",
            "61973        3107238     F\n",
            "61978        3431738     F\n",
            "61987        3135772     F\n",
            "\n",
            "[20753 rows x 2 columns], 'id_37':        TransactionID id_37\n",
            "1            2987240     T\n",
            "2            2987243     T\n",
            "3            2987245     T\n",
            "4            2987288     F\n",
            "5            2987367     T\n",
            "...              ...   ...\n",
            "61964        3078174     T\n",
            "61972        3440433     T\n",
            "61973        3107238     T\n",
            "61978        3431738     T\n",
            "61987        3135772     T\n",
            "\n",
            "[20753 rows x 2 columns], 'id_38':        TransactionID id_38\n",
            "1            2987240     T\n",
            "2            2987243     T\n",
            "3            2987245     T\n",
            "4            2987288     F\n",
            "5            2987367     F\n",
            "...              ...   ...\n",
            "61964        3078174     F\n",
            "61972        3440433     F\n",
            "61973        3107238     T\n",
            "61978        3431738     T\n",
            "61987        3135772     T\n",
            "\n",
            "[20753 rows x 2 columns], 'DeviceType':        TransactionID DeviceType\n",
            "1            2987240     mobile\n",
            "2            2987243     mobile\n",
            "3            2987245     mobile\n",
            "4            2987288     mobile\n",
            "5            2987367    desktop\n",
            "...              ...        ...\n",
            "61964        3078174    desktop\n",
            "61972        3440433    desktop\n",
            "61973        3107238    desktop\n",
            "61978        3431738    desktop\n",
            "61987        3135772    desktop\n",
            "\n",
            "[20730 rows x 2 columns], 'DeviceInfo':        TransactionID                              DeviceInfo\n",
            "1            2987240               Redmi Note 4 Build/MMB29M\n",
            "2            2987243               Redmi Note 4 Build/MMB29M\n",
            "3            2987245               Redmi Note 4 Build/MMB29M\n",
            "5            2987367                                 rv:52.0\n",
            "7            2987630                                 Windows\n",
            "...              ...                                     ...\n",
            "61964        3078174                                 Windows\n",
            "61972        3440433  Moto G (5) Plus Build/NPNS25.137-15-11\n",
            "61973        3107238                                 Windows\n",
            "61978        3431738                                 rv:11.0\n",
            "61987        3135772                                 Windows\n",
            "\n",
            "[16689 rows x 2 columns]}\n"
          ]
        }
      ],
      "source": [
        "edges = {}\n",
        "for etype in edge_types:\n",
        "    #print(etype)\n",
        "    if etype == 'TransactionID':\n",
        "        edgelist = full_identity_df[['TransactionID']].dropna()\n",
        "    else:\n",
        "        edgelist = full_identity_df[['TransactionID', etype]].dropna()\n",
        "        edgelist.columns = ['TransactionID', etype] # Rename the second column\n",
        "\n",
        "    edgelist.to_csv('data/relation_{}_edgelist.csv'.format(etype))\n",
        "    edges[etype] = edgelist\n",
        "\n",
        "print(edges)"
      ]
    },
    {
      "source": [
        "Let's re-check the edges we defined."
      ],
      "cell_type": "markdown",
      "metadata": {
        "id": "ujSqFgqQgqR0"
      }
    },
    {
      "cell_type": "code",
      "execution_count": 33,
      "metadata": {
        "id": "ZpaFd3YqgqR0"
      },
      "outputs": [],
      "source": [
        "import glob\n",
        "\n",
        "file_list = glob.glob('./data/*edgelist.csv')\n",
        "\n",
        "edges = \",\".join(map(lambda x: x.split(\"/\")[-1], [file for file in file_list if \"relation\" in file]))\n",
        "\n",
        "edges_full = ''\n",
        "for etype in edge_types:\n",
        "    edges_full += ',data/relation_{}_edgelist.csv'.format(etype)\n"
      ]
    },
    {
      "cell_type": "code",
      "execution_count": 34,
      "metadata": {
        "colab": {
          "base_uri": "https://localhost:8080/",
          "height": 123
        },
        "id": "JW0-T82BgqR2",
        "outputId": "8f8d547f-af2e-4f65-fdf9-393c0adea2b1"
      },
      "outputs": [
        {
          "output_type": "execute_result",
          "data": {
            "text/plain": [
              "'relation_card1_edgelist.csv,relation_card2_edgelist.csv,relation_card3_edgelist.csv,relation_card4_edgelist.csv,relation_card5_edgelist.csv,relation_card6_edgelist.csv,relation_ProductCD_edgelist.csv,relation_addr1_edgelist.csv,relation_addr2_edgelist.csv,relation_P_emaildomain_edgelist.csv,relation_R_emaildomain_edgelist.csv,relation_TransactionID_edgelist.csv,relation_id_01_edgelist.csv,relation_id_02_edgelist.csv,relation_id_03_edgelist.csv,relation_id_04_edgelist.csv,relation_id_05_edgelist.csv,relation_id_06_edgelist.csv,relation_id_07_edgelist.csv,relation_id_08_edgelist.csv,relation_id_09_edgelist.csv,relation_id_10_edgelist.csv,relation_id_11_edgelist.csv,relation_id_12_edgelist.csv,relation_id_13_edgelist.csv,relation_id_14_edgelist.csv,relation_id_15_edgelist.csv,relation_id_16_edgelist.csv,relation_id_17_edgelist.csv,relation_id_18_edgelist.csv,relation_id_19_edgelist.csv,relation_id_20_edgelist.csv,relation_id_21_edgelist.csv,relation_id_22_edgelist.csv,relation_id_23_edgelist.csv,relation_id_24_edgelist.csv,relation_id_25_edgelist.csv,relation_id_26_edgelist.csv,relation_id_27_edgelist.csv,relation_id_28_edgelist.csv,relation_id_29_edgelist.csv,relation_id_30_edgelist.csv,relation_id_31_edgelist.csv,relation_id_32_edgelist.csv,relation_id_33_edgelist.csv,relation_id_34_edgelist.csv,relation_id_35_edgelist.csv,relation_id_36_edgelist.csv,relation_id_37_edgelist.csv,relation_id_38_edgelist.csv,relation_DeviceType_edgelist.csv,relation_DeviceInfo_edgelist.csv'"
            ],
            "application/vnd.google.colaboratory.intrinsic+json": {
              "type": "string"
            }
          },
          "metadata": {},
          "execution_count": 34
        }
      ],
      "source": [
        "edges"
      ]
    },
    {
      "cell_type": "code",
      "execution_count": 34,
      "metadata": {
        "id": "hduQQwIJgqR3"
      },
      "outputs": [],
      "source": []
    },
    {
      "source": [],
      "cell_type": "markdown",
      "metadata": {
        "id": "MgcOEqA5gqR3"
      }
    },
    {
      "cell_type": "code",
      "execution_count": 34,
      "metadata": {
        "id": "DG3lrB4UgqR4"
      },
      "outputs": [],
      "source": []
    },
    {
      "cell_type": "code",
      "execution_count": 35,
      "metadata": {
        "id": "PtfG2sd7gqR4"
      },
      "outputs": [],
      "source": [
        "#import networkx as nx\n",
        "#nx.draw_networkx(G_train, edge_color=[G_train.edges[i]['isFraud'] for i in G_train.edges()], node_size=2, with_labels=False,alpha=0.3)"
      ]
    },
    {
      "cell_type": "code",
      "execution_count": 35,
      "metadata": {
        "id": "PIPKvb7xgqR5"
      },
      "outputs": [],
      "source": []
    },
    {
      "cell_type": "code",
      "execution_count": 35,
      "metadata": {
        "id": "uAkVguP6gqSJ"
      },
      "outputs": [],
      "source": []
    }
  ]
}