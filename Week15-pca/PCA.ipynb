{
  "cells": [
    {
      "cell_type": "markdown",
      "metadata": {
        "id": "view-in-github",
        "colab_type": "text"
      },
      "source": [
        "<a href=\"https://colab.research.google.com/github/ekaratnida/Applied-machine-learning/blob/master/Week15-pca/PCA.ipynb\" target=\"_parent\"><img src=\"https://colab.research.google.com/assets/colab-badge.svg\" alt=\"Open In Colab\"/></a>"
      ]
    },
    {
      "cell_type": "markdown",
      "metadata": {
        "id": "hHFwgyW4X8Uu"
      },
      "source": [
        "# PCA"
      ]
    },
    {
      "cell_type": "markdown",
      "source": [
        "#Note\n",
        "1. scikit-learn 's PCA does not apply standardization to the input dataset, it only centers it by subtracting the mean."
      ],
      "metadata": {
        "id": "O7cLvgv9frg3"
      }
    },
    {
      "cell_type": "code",
      "execution_count": 1,
      "metadata": {
        "id": "5xc4Vc7iX8Uv",
        "outputId": "2bdd4a1f-17ea-4644-b37e-3937d31daa26",
        "colab": {
          "base_uri": "https://localhost:8080/",
          "height": 534
        }
      },
      "outputs": [
        {
          "output_type": "stream",
          "name": "stdout",
          "text": [
            "pca.explained_variance_ratio_ [0.9651413 0.0348587]\n",
            "cumsum of variance [0.9651413 1.       ]\n",
            "eigenvalues (lambda) =  [6.69164633 0.241687  ]\n",
            "eigenvectors (vectors)  [[ 0.6923352   0.72157603]\n",
            " [ 0.72157603 -0.6923352 ]]\n"
          ]
        },
        {
          "output_type": "execute_result",
          "data": {
            "text/plain": [
              "(0.7, 7.3, 2.75, 8.25)"
            ]
          },
          "metadata": {},
          "execution_count": 1
        },
        {
          "output_type": "display_data",
          "data": {
            "text/plain": [
              "<Figure size 640x480 with 1 Axes>"
            ],
            "image/png": "[encoded data removed]"
          },
          "metadata": {}
        }
      ],
      "source": [
        "import numpy as np\n",
        "import pandas as pd\n",
        "import matplotlib.pyplot as plt\n",
        "from sklearn.decomposition import PCA\n",
        "from sklearn.preprocessing import StandardScaler\n",
        "#np.set_printoptions(formatter={'float': lambda x: \"{0:0.2f}\".format(x)})\n",
        "\n",
        "X = np.array([[1.0,3.0],\n",
        "              [2.0,3.0],\n",
        "              [3.0,4.0],\n",
        "              [3.0,5.0],\n",
        "              [4.0,4.0],\n",
        "              [4.0,6.0],\n",
        "              [5.0,6.0],\n",
        "              [5.0,7.0],\n",
        "              [6.0,8.0],\n",
        "              [7.0,8.0]])\n",
        "\n",
        "#Feature scaling\n",
        "#In the real use, we should apply the feature scaling in the first step.\n",
        "X_std = X #StandardScaler().fit_transform(X)\n",
        "#print(X_std)\n",
        "\n",
        "pca = PCA(n_components=2) # PCA(.95)\n",
        "pca.fit(X_std)\n",
        "\n",
        "print(\"pca.explained_variance_ratio_\", pca.explained_variance_ratio_)\n",
        "cs = np.cumsum(pca.explained_variance_ratio_)\n",
        "print(\"cumsum of variance\", cs)\n",
        "print(\"eigenvalues (lambda) = \", pca.explained_variance_)\n",
        "print(\"eigenvectors (vectors) \", pca.components_)\n",
        "\n",
        "def draw_vector(v0, v1, ax=None):\n",
        "    ax = ax or plt.gca()\n",
        "    arrowprops=dict(arrowstyle='->', linewidth=2, shrinkA=0, shrinkB=0)\n",
        "    ax.annotate('', v1, v0, arrowprops=arrowprops)\n",
        "\n",
        "# plot data\n",
        "plt.scatter(X[:, 0], X[:, 1], alpha=0.7)\n",
        "for length, vector in zip(pca.explained_variance_, pca.components_):\n",
        "    v = vector * np.sqrt(length)\n",
        "    draw_vector(pca.mean_, pca.mean_ + v)\n",
        "plt.axis('equal')"
      ]
    },
    {
      "cell_type": "markdown",
      "source": [
        "\n",
        "- Discover underlying factors with correlations between features and components"
      ],
      "metadata": {
        "id": "hh81frqMn2Mu"
      }
    },
    {
      "cell_type": "markdown",
      "metadata": {
        "id": "u2r118HQX8Ux"
      },
      "source": [
        "## Implement of Page 14 in lecture"
      ]
    },
    {
      "cell_type": "code",
      "execution_count": 2,
      "metadata": {
        "id": "cmFHgWinX8Ux",
        "outputId": "8e759783-1e94-4391-84d2-8f55e3503b84",
        "colab": {
          "base_uri": "https://localhost:8080/"
        }
      },
      "outputs": [
        {
          "output_type": "stream",
          "name": "stdout",
          "text": [
            "[[-3.80878808]\n",
            " [-3.11645288]\n",
            " [-1.70254164]\n",
            " [-0.98096562]\n",
            " [-1.01020644]\n",
            " [ 0.43294562]\n",
            " [ 1.12528082]\n",
            " [ 1.84685685]\n",
            " [ 3.26076808]\n",
            " [ 3.95310329]]\n",
            "original shape:    (10, 2)\n",
            "transformed shape: (10, 1)\n"
          ]
        }
      ],
      "source": [
        "pca = PCA(n_components=1)\n",
        "pca.fit(X)\n",
        "X_pca = pca.transform(X) #p.14 on slide\n",
        "print(X_pca)\n",
        "print(\"original shape:   \", X.shape)\n",
        "print(\"transformed shape:\", X_pca.shape)"
      ]
    },
    {
      "cell_type": "markdown",
      "source": [
        "## Page 16 of lecture"
      ],
      "metadata": {
        "id": "rIIiqF2AHnpQ"
      }
    },
    {
      "cell_type": "code",
      "execution_count": 3,
      "metadata": {
        "id": "qDwui925X8Ux",
        "outputId": "dadafcdb-96a5-4577-876b-3fb32452ce23",
        "colab": {
          "base_uri": "https://localhost:8080/",
          "height": 794
        }
      },
      "outputs": [
        {
          "output_type": "stream",
          "name": "stdout",
          "text": [
            "X_approx  [[1.36304193 2.65166982]\n",
            " [1.84236996 3.15124231]\n",
            " [2.82127048 4.17148676]\n",
            " [3.32084297 4.69215873]\n",
            " [3.30059852 4.67105925]\n",
            " [4.29974349 5.71240318]\n",
            " [4.77907153 6.21197567]\n",
            " [5.27864401 6.73264763]\n",
            " [6.25754454 7.75289208]\n",
            " [6.73687257 8.25246457]]  \n",
            " \n",
            "X_original [[1. 3.]\n",
            " [2. 3.]\n",
            " [3. 4.]\n",
            " [3. 5.]\n",
            " [4. 4.]\n",
            " [4. 6.]\n",
            " [5. 6.]\n",
            " [5. 7.]\n",
            " [6. 8.]\n",
            " [7. 8.]]\n"
          ]
        },
        {
          "output_type": "display_data",
          "data": {
            "text/plain": [
              "<Figure size 640x480 with 1 Axes>"
            ],
            "image/png": "[encoded data removed]"
          },
          "metadata": {}
        }
      ],
      "source": [
        "X_approx = pca.inverse_transform(X_pca)\n",
        "print(\"X_approx \", X_approx, \" \\n \")\n",
        "print(\"X_original\",X)\n",
        "plt.scatter(X[:, 0], X[:, 1], alpha=0.2)\n",
        "#ต้องปัดทศนิยมก่อน Ceil function\n",
        "plt.scatter(X_approx[:, 0], X_approx[:, 1], alpha=1)\n",
        "plt.show()\n",
        "#plt.axis('equal');"
      ]
    },
    {
      "cell_type": "markdown",
      "metadata": {
        "id": "S19ys0sTX8Uy"
      },
      "source": [
        "# Implement PCA from scratch (Matrix 2x2)"
      ]
    },
    {
      "cell_type": "code",
      "execution_count": 4,
      "metadata": {
        "id": "mqFo2IEJX8Uy",
        "outputId": "0fea4b07-db99-49c7-81a2-cd8ac7e7164e",
        "colab": {
          "base_uri": "https://localhost:8080/"
        }
      },
      "outputs": [
        {
          "output_type": "stream",
          "name": "stdout",
          "text": [
            "[[3.33333333 3.22222222]\n",
            " [3.22222222 3.6       ]]\n",
            "evecs  [[-0.72157603  0.6923352 ]\n",
            " [ 0.6923352   0.72157603]]\n",
            "evals  [0.241687   6.69164633]\n"
          ]
        }
      ],
      "source": [
        "import numpy as np\n",
        "from scipy import linalg as LA\n",
        "\n",
        "# Covariance\n",
        "def cov(x, y):\n",
        "    xbar, ybar = x.mean(), y.mean()\n",
        "    return np.sum((x - xbar)*(y - ybar))/(len(x)-1)\n",
        "\n",
        "# Covariance matrix\n",
        "def cov_mat(X):\n",
        "    return np.array([[cov(X[0], X[0]), cov(X[0], X[1])], \\\n",
        "                     [cov(X[1], X[0]), cov(X[1], X[1])]])\n",
        "\n",
        "# Calculate covariance matrix\n",
        "cc = cov_mat(X.T) # (or with np.cov(X.T))\n",
        "print(cc)\n",
        "\n",
        "evals , evecs = LA.eigh(cc)\n",
        "print(\"evecs \",evecs)\n",
        "print(\"evals \",evals)"
      ]
    },
    {
      "cell_type": "markdown",
      "metadata": {
        "id": "4QINkydCX8Uy"
      },
      "source": [
        "# Projection step"
      ]
    },
    {
      "cell_type": "code",
      "execution_count": 5,
      "metadata": {
        "id": "lH-Sr-XTX8Uy",
        "outputId": "307643eb-ddd1-411e-bcf3-2a157224e11d",
        "colab": {
          "base_uri": "https://localhost:8080/"
        }
      },
      "outputs": [
        {
          "output_type": "stream",
          "name": "stdout",
          "text": [
            "e2  [[0.6923352  0.72157603]] \n",
            "\n",
            "[[-3.  -2.4]\n",
            " [-2.  -2.4]\n",
            " [-1.  -1.4]\n",
            " [-1.  -0.4]\n",
            " [ 0.  -1.4]\n",
            " [ 0.   0.6]\n",
            " [ 1.   0.6]\n",
            " [ 1.   1.6]\n",
            " [ 2.   2.6]\n",
            " [ 3.   2.6]] \n",
            "\n",
            "[[-3.80878808]\n",
            " [-3.11645288]\n",
            " [-1.70254164]\n",
            " [-0.98096562]\n",
            " [-1.01020644]\n",
            " [ 0.43294562]\n",
            " [ 1.12528082]\n",
            " [ 1.84685685]\n",
            " [ 3.26076808]\n",
            " [ 3.95310329]]\n"
          ]
        }
      ],
      "source": [
        "#idx = np.argsort(evals)[::-1]\n",
        "#evecs = evecs[:,idx]\n",
        "#evals = evals[idx]\n",
        "e2 = np.array([evecs[1,:]])\n",
        "print(\"e2 \",e2, \"\\n\")\n",
        "X -= np.mean(X, axis = 0)\n",
        "print(X,\"\\n\")\n",
        "a = np.dot(e2,X.T)\n",
        "print(a.T)"
      ]
    },
    {
      "cell_type": "markdown",
      "metadata": {
        "id": "ihcioBs9X8Uz"
      },
      "source": [
        "# Retrieving old data (x1,x2)"
      ]
    },
    {
      "cell_type": "code",
      "execution_count": 6,
      "metadata": {
        "id": "AQgQvI1OX8Uz",
        "outputId": "7e4a0e28-52b2-4970-9d27-aff5c2d1b7cf",
        "colab": {
          "base_uri": "https://localhost:8080/"
        }
      },
      "outputs": [
        {
          "output_type": "stream",
          "name": "stdout",
          "text": [
            "[[-2.63695807 -2.74833018]\n",
            " [-2.15763004 -2.24875769]\n",
            " [-1.17872952 -1.22851324]\n",
            " [-0.67915703 -0.70784127]\n",
            " [-0.69940148 -0.72894075]\n",
            " [ 0.29974349  0.31240318]\n",
            " [ 0.77907153  0.81197567]\n",
            " [ 1.27864401  1.33264763]\n",
            " [ 2.25754454  2.35289208]\n",
            " [ 2.73687257  2.85246457]]  \n",
            "\n",
            "[[1.36304193 2.65166982]\n",
            " [1.84236996 3.15124231]\n",
            " [2.82127048 4.17148676]\n",
            " [3.32084297 4.69215873]\n",
            " [3.30059852 4.67105925]\n",
            " [4.29974349 5.71240318]\n",
            " [4.77907153 6.21197567]\n",
            " [5.27864401 6.73264763]\n",
            " [6.25754454 7.75289208]\n",
            " [6.73687257 8.25246457]]\n"
          ]
        }
      ],
      "source": [
        "#Reverse\n",
        "b = np.dot(a.T,e2)\n",
        "print(b,\" \\n\")\n",
        "print(b+np.array([4,5.4]))\n"
      ]
    },
    {
      "cell_type": "markdown",
      "metadata": {
        "id": "0cxG0_DmX8Uz"
      },
      "source": [
        "# Exercise"
      ]
    },
    {
      "cell_type": "markdown",
      "source": [],
      "metadata": {
        "id": "v19HqIShSK6G"
      }
    },
    {
      "cell_type": "markdown",
      "metadata": {
        "id": "K-9m2oW2X8Uz"
      },
      "source": [
        "1. Generate data using make_regression, sample = 100, dim = 20, random_state=1234 <br/>\n",
        "2. Find PCA in data <br/>\n",
        " - model = PCA(.95) <br/>\n",
        " - model.fit(x) <br/>\n",
        "3. show  <br/>\n",
        "print(\"pca.explained_variance_ratio_\", pca.explained_variance_ratio_) <br/>\n",
        "cs = np.cumsum(pca.explained_variance_ratio_) <br/>\n",
        "print(cs) <br/>\n",
        "print(pca.explained_variance_) <br/>\n",
        "print(pca.components_) <br/>\n",
        "Plot bar chart of cumulative variance"
      ]
    },
    {
      "cell_type": "markdown",
      "metadata": {
        "id": "Lvv7DwItX8U0"
      },
      "source": [
        "# Application\n",
        "## Apply PCA for dimension reduction and use Logistic Regression to classify the data."
      ]
    },
    {
      "cell_type": "code",
      "execution_count": 7,
      "metadata": {
        "id": "nFmFlU_-X8U0",
        "outputId": "b3798b6a-a62a-4e9a-e65b-0e309be0b84f",
        "colab": {
          "base_uri": "https://localhost:8080/"
        }
      },
      "outputs": [
        {
          "output_type": "stream",
          "name": "stdout",
          "text": [
            "**Author**: Yann LeCun, Corinna Cortes, Christopher J.C. Burges  \n",
            "**Source**: [MNIST Website](http://yann.lecun.com/exdb/mnist/) - Date unknown  \n",
            "**Please cite**:  \n",
            "\n",
            "The MNIST database of handwritten digits with 784 features, raw data available at: http://yann.lecun.com/exdb/mnist/. It can be split in a training set of the first 60,000 examples, and a test set of 10,000 examples  \n",
            "\n",
            "It is a subset of a larger set available from NIST. The digits have been size-normalized and centered in a fixed-size image. It is a good database for people who want to try learning techniques and pattern recognition methods on real-world data while spending minimal efforts on preprocessing and formatting. The original black and white (bilevel) images from NIST were size normalized to fit in a 20x20 pixel box while preserving their aspect ratio. The resulting images contain grey levels as a result of the anti-aliasing technique used by the normalization algorithm. the images were centered in a 28x28 image by computing the center of mass of the pixels, and translating the image so as to position this point at the center of the 28x28 field.  \n",
            "\n",
            "With some classification methods (particularly template-based methods, such as SVM and K-nearest neighbors), the error rate improves when the digits are centered by bounding box rather than center of mass. If you do this kind of pre-processing, you should report it in your publications. The MNIST database was constructed from NIST's NIST originally designated SD-3 as their training set and SD-1 as their test set. However, SD-3 is much cleaner and easier to recognize than SD-1. The reason for this can be found on the fact that SD-3 was collected among Census Bureau employees, while SD-1 was collected among high-school students. Drawing sensible conclusions from learning experiments requires that the result be independent of the choice of training set and test among the complete set of samples. Therefore it was necessary to build a new database by mixing NIST's datasets.  \n",
            "\n",
            "The MNIST training set is composed of 30,000 patterns from SD-3 and 30,000 patterns from SD-1. Our test set was composed of 5,000 patterns from SD-3 and 5,000 patterns from SD-1. The 60,000 pattern training set contained examples from approximately 250 writers. We made sure that the sets of writers of the training set and test set were disjoint. SD-1 contains 58,527 digit images written by 500 different writers. In contrast to SD-3, where blocks of data from each writer appeared in sequence, the data in SD-1 is scrambled. Writer identities for SD-1 is available and we used this information to unscramble the writers. We then split SD-1 in two: characters written by the first 250 writers went into our new training set. The remaining 250 writers were placed in our test set. Thus we had two sets with nearly 30,000 examples each. The new training set was completed with enough examples from SD-3, starting at pattern # 0, to make a full set of 60,000 training patterns. Similarly, the new test set was completed with SD-3 examples starting at pattern # 35,000 to make a full set with 60,000 test patterns. Only a subset of 10,000 test images (5,000 from SD-1 and 5,000 from SD-3) is available on this site. The full 60,000 sample training set is available.\n",
            "\n",
            "Downloaded from openml.org.\n"
          ]
        }
      ],
      "source": [
        "from sklearn.datasets import fetch_openml\n",
        "mnist = fetch_openml('mnist_784')\n",
        "print(mnist.DESCR)"
      ]
    },
    {
      "cell_type": "code",
      "execution_count": 8,
      "metadata": {
        "id": "rTvtvNmTX8U0",
        "outputId": "6831b981-6451-4eb6-c9c3-607400728a17",
        "colab": {
          "base_uri": "https://localhost:8080/"
        }
      },
      "outputs": [
        {
          "output_type": "stream",
          "name": "stdout",
          "text": [
            "(63000, 784)\n",
            "(7000, 784)\n"
          ]
        }
      ],
      "source": [
        "from sklearn.model_selection import train_test_split\n",
        "from sklearn.preprocessing import StandardScaler\n",
        "\n",
        "train_img, test_img, train_lbl, test_lbl = train_test_split(mnist.data, #X\n",
        "                                                           mnist.target, #y\n",
        "                                                           test_size = 0.1,\n",
        "                                                           random_state=0)\n",
        "print(train_img.shape)\n",
        "print(test_img.shape)\n",
        "\n",
        "\n",
        "test_img_original = test_img.copy() #copy for reuse in visualized step.\n",
        "\n",
        "\n",
        "#Standardization\n",
        "scaler = StandardScaler()\n",
        "scaler.fit(train_img)\n",
        "train_img_std = scaler.transform(train_img)\n",
        "test_img_std = scaler.transform(test_img)"
      ]
    },
    {
      "cell_type": "code",
      "execution_count": 23,
      "metadata": {
        "id": "Jlw6TH9cX8U0",
        "outputId": "58f66815-8b9b-4865-8af7-cca579378a3a",
        "colab": {
          "base_uri": "https://localhost:8080/"
        }
      },
      "outputs": [
        {
          "output_type": "stream",
          "name": "stdout",
          "text": [
            "541\n",
            "[5.67143563e-02 4.04708252e-02 3.75353835e-02 2.91411761e-02\n",
            " 2.52499753e-02 2.20032187e-02 1.92016540e-02 1.75066318e-02\n",
            " 1.53480504e-02 1.40306673e-02 1.34559638e-02 1.20654150e-02\n",
            " 1.11785054e-02 1.09566958e-02 1.03184098e-02 9.97926662e-03\n",
            " 9.33567388e-03 9.22388930e-03 8.95113939e-03 8.70464863e-03\n",
            " 8.25657422e-03 8.00672458e-03 7.65327513e-03 7.43891257e-03\n",
            " 7.19272417e-03 6.94117472e-03 6.87698733e-03 6.62345216e-03\n",
            " 6.30299109e-03 6.14445982e-03 6.02084933e-03 5.89295286e-03\n",
            " 5.69335265e-03 5.63158144e-03 5.57288135e-03 5.34531580e-03\n",
            " 5.30663297e-03 5.19091505e-03 5.10428025e-03 4.82268584e-03\n",
            " 4.78215414e-03 4.67733733e-03 4.55263198e-03 4.47201767e-03\n",
            " 4.44517909e-03 4.40869138e-03 4.39085305e-03 4.31740130e-03\n",
            " 4.27170305e-03 4.16992894e-03 4.07200199e-03 3.98319090e-03\n",
            " 3.93295717e-03 3.91567427e-03 3.86535601e-03 3.74241792e-03\n",
            " 3.72153462e-03 3.68620165e-03 3.63390189e-03 3.60272770e-03\n",
            " 3.53314612e-03 3.48031436e-03 3.44659356e-03 3.43489099e-03\n",
            " 3.35186009e-03 3.34152372e-03 3.30419837e-03 3.20032684e-03\n",
            " 3.17826496e-03 3.15576272e-03 3.11865323e-03 3.08318375e-03\n",
            " 3.06166885e-03 3.05504730e-03 2.97158010e-03 2.96861453e-03\n",
            " 2.93492339e-03 2.92709029e-03 2.90329226e-03 2.88193918e-03\n",
            " 2.84659230e-03 2.82502904e-03 2.80926473e-03 2.79583647e-03\n",
            " 2.78464179e-03 2.78223814e-03 2.77792231e-03 2.76130034e-03\n",
            " 2.71767640e-03 2.69873637e-03 2.67608255e-03 2.65500188e-03\n",
            " 2.62714900e-03 2.60654937e-03 2.60237906e-03 2.58578399e-03\n",
            " 2.53960267e-03 2.51585230e-03 2.50361999e-03 2.46041672e-03\n",
            " 2.43766877e-03 2.40280633e-03 2.37747739e-03 2.36027870e-03\n",
            " 2.32081442e-03 2.28561824e-03 2.25684673e-03 2.24425184e-03\n",
            " 2.22124976e-03 2.19783136e-03 2.17682721e-03 2.16652127e-03\n",
            " 2.14916472e-03 2.12563553e-03 2.08012650e-03 2.06462979e-03\n",
            " 2.05035633e-03 2.02092367e-03 2.00329250e-03 1.97976702e-03\n",
            " 1.97059762e-03 1.95999149e-03 1.94368529e-03 1.93501993e-03\n",
            " 1.90948096e-03 1.89168716e-03 1.87507060e-03 1.85598138e-03\n",
            " 1.83847400e-03 1.81253855e-03 1.79722881e-03 1.78801763e-03\n",
            " 1.77335986e-03 1.75585829e-03 1.74595419e-03 1.71521172e-03\n",
            " 1.69173810e-03 1.68254079e-03 1.66887775e-03 1.65277991e-03\n",
            " 1.65045836e-03 1.63274392e-03 1.61254375e-03 1.60138271e-03\n",
            " 1.59858033e-03 1.56613668e-03 1.56230532e-03 1.54990440e-03\n",
            " 1.53696633e-03 1.53562434e-03 1.51313359e-03 1.49085224e-03\n",
            " 1.47957654e-03 1.47323225e-03 1.47107361e-03 1.46172514e-03\n",
            " 1.44319659e-03 1.43973337e-03 1.43006622e-03 1.41745128e-03\n",
            " 1.40700344e-03 1.40251146e-03 1.39822903e-03 1.39661956e-03\n",
            " 1.39490284e-03 1.39180590e-03 1.38850622e-03 1.37270983e-03\n",
            " 1.36689092e-03 1.36126803e-03 1.35062703e-03 1.34612427e-03\n",
            " 1.33333150e-03 1.31798905e-03 1.30397693e-03 1.29725425e-03\n",
            " 1.29205889e-03 1.27399447e-03 1.26931238e-03 1.25567343e-03\n",
            " 1.24629615e-03 1.22450571e-03 1.21742935e-03 1.21304425e-03\n",
            " 1.20963036e-03 1.19678218e-03 1.18548286e-03 1.17661854e-03\n",
            " 1.16272458e-03 1.15824505e-03 1.15248713e-03 1.14588181e-03\n",
            " 1.12857654e-03 1.11741395e-03 1.11539088e-03 1.10841604e-03\n",
            " 1.08865160e-03 1.07967100e-03 1.06051375e-03 1.05474607e-03\n",
            " 1.04866236e-03 1.03886715e-03 1.03628653e-03 1.02549575e-03\n",
            " 1.00884583e-03 9.99437860e-04 9.97914250e-04 9.77272349e-04\n",
            " 9.74468054e-04 9.68600212e-04 9.65655606e-04 9.62652737e-04\n",
            " 9.48080549e-04 9.40255517e-04 9.32333758e-04 9.26852344e-04\n",
            " 9.10051354e-04 9.06688358e-04 8.93606422e-04 8.86046531e-04\n",
            " 8.76468521e-04 8.72440484e-04 8.68257125e-04 8.56901311e-04\n",
            " 8.51944876e-04 8.40486251e-04 8.32156324e-04 8.26377442e-04\n",
            " 8.22699240e-04 8.15400923e-04 8.08964876e-04 8.04496141e-04\n",
            " 7.98486768e-04 7.92235942e-04 7.86788065e-04 7.80983596e-04\n",
            " 7.77746060e-04 7.67485282e-04 7.58531593e-04 7.55621857e-04\n",
            " 7.42597357e-04 7.40962111e-04 7.30256617e-04 7.22121287e-04\n",
            " 7.20451872e-04 7.05566269e-04 6.99512168e-04 6.99008988e-04\n",
            " 6.91666907e-04 6.86399102e-04 6.84667516e-04 6.81483745e-04\n",
            " 6.76921151e-04 6.62838321e-04 6.56339001e-04 6.53490691e-04\n",
            " 6.41273106e-04 6.38204093e-04 6.36177949e-04 6.33476472e-04\n",
            " 6.26199944e-04 6.23142081e-04 6.12783272e-04 6.12513388e-04\n",
            " 6.07633681e-04 6.05026668e-04 5.98903214e-04 5.90808497e-04\n",
            " 5.84134934e-04 5.83884899e-04 5.74634155e-04 5.74104649e-04\n",
            " 5.69357680e-04 5.61543416e-04 5.56750770e-04 5.51579008e-04\n",
            " 5.50680096e-04 5.44514217e-04 5.42988973e-04 5.38002381e-04\n",
            " 5.36249556e-04 5.29622977e-04 5.24562860e-04 5.18222053e-04\n",
            " 5.14191778e-04 5.11143070e-04 5.08423244e-04 5.04381355e-04\n",
            " 4.99951730e-04 4.98556249e-04 4.95383040e-04 4.91857015e-04\n",
            " 4.84331190e-04 4.83031048e-04 4.79708726e-04 4.77290098e-04\n",
            " 4.67256328e-04 4.61951595e-04 4.58421203e-04 4.51773157e-04\n",
            " 4.47940407e-04 4.45020877e-04 4.39759729e-04 4.37206376e-04\n",
            " 4.36202409e-04 4.33689501e-04 4.31485887e-04 4.23328598e-04\n",
            " 4.19862959e-04 4.18506133e-04 4.15356468e-04 4.11260888e-04\n",
            " 4.10265046e-04 4.05044813e-04 3.99896592e-04 3.96468633e-04\n",
            " 3.93448606e-04 3.89412450e-04 3.86826981e-04 3.83525824e-04\n",
            " 3.82211699e-04 3.80471109e-04 3.78006834e-04 3.73916247e-04\n",
            " 3.72026482e-04 3.71206088e-04 3.66843124e-04 3.64935037e-04\n",
            " 3.62111154e-04 3.60234970e-04 3.56356737e-04 3.53829136e-04\n",
            " 3.53090429e-04 3.51074461e-04 3.46791329e-04 3.45594023e-04\n",
            " 3.43188006e-04 3.36975291e-04 3.34191058e-04 3.32377821e-04\n",
            " 3.28701481e-04 3.25853802e-04 3.21643858e-04 3.20380873e-04\n",
            " 3.19164612e-04 3.15111288e-04 3.11198322e-04 3.10695414e-04\n",
            " 3.09852764e-04 3.06821380e-04 3.05313469e-04 3.03135813e-04\n",
            " 3.00085658e-04 2.98682748e-04 2.97201586e-04 2.89948260e-04\n",
            " 2.89862779e-04 2.85323572e-04 2.84432426e-04 2.83103220e-04\n",
            " 2.81999474e-04 2.81050315e-04 2.77805150e-04 2.75952429e-04\n",
            " 2.74398561e-04 2.70756650e-04 2.68951583e-04 2.68024819e-04\n",
            " 2.66811585e-04 2.64779701e-04 2.63822484e-04 2.61529563e-04\n",
            " 2.60121373e-04 2.56972193e-04 2.56254387e-04 2.51165622e-04\n",
            " 2.50230211e-04 2.48841639e-04 2.47446282e-04 2.46667584e-04\n",
            " 2.42955465e-04 2.41672008e-04 2.41130309e-04 2.38525976e-04\n",
            " 2.36890256e-04 2.36355158e-04 2.33267134e-04 2.32266074e-04\n",
            " 2.30888290e-04 2.30504791e-04 2.28084651e-04 2.28004526e-04\n",
            " 2.26472806e-04 2.24971094e-04 2.23633404e-04 2.22104598e-04\n",
            " 2.20746819e-04 2.18569984e-04 2.16272723e-04 2.15258062e-04\n",
            " 2.15246812e-04 2.13974424e-04 2.11737927e-04 2.09739404e-04\n",
            " 2.08209468e-04 2.06675622e-04 2.06151706e-04 2.04904634e-04\n",
            " 2.03240256e-04 2.00288189e-04 1.99405348e-04 1.98823480e-04\n",
            " 1.98428680e-04 1.96553566e-04 1.96143894e-04 1.94825712e-04\n",
            " 1.92560130e-04 1.91734686e-04 1.89452858e-04 1.88533498e-04\n",
            " 1.86740891e-04 1.86298394e-04 1.84068475e-04 1.82181115e-04\n",
            " 1.81423589e-04 1.80621417e-04 1.78943564e-04 1.78255112e-04\n",
            " 1.77334703e-04 1.76927021e-04 1.75613027e-04 1.74495569e-04\n",
            " 1.74256327e-04 1.72659948e-04 1.72135594e-04 1.71087741e-04\n",
            " 1.70038228e-04 1.68387645e-04 1.68004974e-04 1.66346918e-04\n",
            " 1.65801479e-04 1.65104927e-04 1.64307001e-04 1.63419305e-04\n",
            " 1.62157349e-04 1.61348947e-04 1.59505624e-04 1.58508746e-04\n",
            " 1.56133726e-04 1.55220570e-04 1.54587912e-04 1.53868656e-04\n",
            " 1.52254663e-04 1.51364257e-04 1.51016477e-04 1.50353352e-04\n",
            " 1.49835418e-04 1.48575452e-04 1.47965288e-04 1.47366719e-04\n",
            " 1.45573882e-04 1.45395643e-04 1.43557711e-04 1.43364809e-04\n",
            " 1.42458762e-04 1.41801538e-04 1.41132175e-04 1.40612785e-04\n",
            " 1.39505496e-04 1.39311613e-04 1.38161289e-04 1.37173814e-04\n",
            " 1.36384596e-04 1.35259743e-04 1.33842097e-04 1.33134101e-04\n",
            " 1.31916646e-04 1.31529667e-04 1.31037266e-04 1.30485036e-04\n",
            " 1.29860681e-04 1.29049563e-04 1.28569398e-04 1.28362376e-04\n",
            " 1.27299351e-04 1.26958577e-04 1.25895394e-04 1.25196976e-04\n",
            " 1.24650508e-04 1.23332709e-04 1.23070505e-04 1.22368514e-04\n",
            " 1.22071659e-04 1.21213020e-04 1.20013532e-04 1.19695278e-04\n",
            " 1.18649525e-04 1.18344442e-04 1.17465200e-04 1.16400018e-04\n",
            " 1.16242114e-04 1.15976716e-04 1.14801471e-04 1.14412874e-04\n",
            " 1.13569355e-04 1.13122800e-04 1.12479962e-04 1.12061133e-04\n",
            " 1.11674151e-04 1.10957535e-04 1.10633170e-04 1.10190913e-04\n",
            " 1.09351245e-04 1.08998198e-04 1.08715433e-04 1.08053825e-04\n",
            " 1.07405431e-04 1.07172233e-04 1.06798378e-04 1.06248960e-04\n",
            " 1.05556311e-04 1.05044852e-04 1.04432327e-04 1.03427363e-04\n",
            " 1.03207347e-04 1.02784999e-04 1.02219385e-04 1.01268016e-04\n",
            " 1.00961994e-04 1.00302270e-04 1.00065150e-04 9.96552622e-05\n",
            " 9.93499933e-05 9.83915043e-05 9.82308471e-05 9.76975370e-05\n",
            " 9.69932014e-05 9.66486903e-05 9.62657127e-05 9.54066370e-05\n",
            " 9.46920369e-05]\n",
            "cumsum of variance [0.05671436 0.09718518 0.13472057 0.16386174 0.18911172 0.21111494\n",
            " 0.23031659 0.24782322 0.26317127 0.27720194 0.2906579  0.30272332\n",
            " 0.31390182 0.32485852 0.33517693 0.34515619 0.35449187 0.36371576\n",
            " 0.3726669  0.38137155 0.38962812 0.39763484 0.40528812 0.41272703\n",
            " 0.41991976 0.42686093 0.43373792 0.44036137 0.44666436 0.45280882\n",
            " 0.45882967 0.46472262 0.47041598 0.47604756 0.48162044 0.48696576\n",
            " 0.49227239 0.4974633  0.50256758 0.50739027 0.51217242 0.51684976\n",
            " 0.52140239 0.52587441 0.53031959 0.53472828 0.53911913 0.54343654\n",
            " 0.54770824 0.55187817 0.55595017 0.55993336 0.56386632 0.56778199\n",
            " 0.57164735 0.57538977 0.5791113  0.5827975  0.5864314  0.59003413\n",
            " 0.59356728 0.59704759 0.60049419 0.60392908 0.60728094 0.61062246\n",
            " 0.61392666 0.61712699 0.62030525 0.62346101 0.62657967 0.62966285\n",
            " 0.63272452 0.63577957 0.63875115 0.64171976 0.64465468 0.64758177\n",
            " 0.65048507 0.65336701 0.6562136  0.65903863 0.66184789 0.66464373\n",
            " 0.66742837 0.67021061 0.67298853 0.67574983 0.67846751 0.68116624\n",
            " 0.68384233 0.68649733 0.68912448 0.69173103 0.69433341 0.69691919\n",
            " 0.69945879 0.70197464 0.70447826 0.70693868 0.70937635 0.71177916\n",
            " 0.71415663 0.71651691 0.71883773 0.72112335 0.72338019 0.72562444\n",
            " 0.72784569 0.73004353 0.73222035 0.73438687 0.73653604 0.73866167\n",
            " 0.7407418  0.74280643 0.74485679 0.74687771 0.748881   0.75086077\n",
            " 0.75283137 0.75479136 0.75673504 0.75867006 0.76057954 0.76247123\n",
            " 0.7643463  0.76620228 0.76804076 0.7698533  0.77165053 0.77343854\n",
            " 0.7752119  0.77696776 0.77871372 0.78042893 0.78212067 0.78380321\n",
            " 0.78547208 0.78712486 0.78877532 0.79040807 0.79202061 0.79362199\n",
            " 0.79522057 0.79678671 0.79834901 0.79989892 0.80143589 0.80297151\n",
            " 0.80448464 0.8059755  0.80745507 0.8089283  0.81039938 0.8118611\n",
            " 0.8133043  0.81474403 0.8161741  0.81759155 0.81899855 0.82040107\n",
            " 0.82179929 0.82319591 0.82459082 0.82598262 0.82737113 0.82874384\n",
            " 0.83011073 0.831472   0.83282262 0.83416875 0.83550208 0.83682007\n",
            " 0.83812405 0.8394213  0.84071336 0.84198735 0.84325667 0.84451234\n",
            " 0.84575864 0.84698314 0.84820057 0.84941362 0.85062325 0.85182003\n",
            " 0.85300551 0.85418213 0.85534485 0.8565031  0.85765559 0.85880147\n",
            " 0.85993004 0.86104746 0.86216285 0.86327127 0.86435992 0.86543959\n",
            " 0.8665001  0.86755485 0.86860351 0.86964238 0.87067866 0.87170416\n",
            " 0.87271301 0.87371244 0.87471036 0.87568763 0.8766621  0.8776307\n",
            " 0.87859635 0.87955901 0.88050709 0.88144734 0.88237968 0.88330653\n",
            " 0.88421658 0.88512327 0.88601687 0.88690292 0.88777939 0.88865183\n",
            " 0.88952009 0.89037699 0.89122893 0.89206942 0.89290158 0.89372795\n",
            " 0.89455065 0.89536605 0.89617502 0.89697951 0.897778   0.89857024\n",
            " 0.89935703 0.90013801 0.90091576 0.90168324 0.90244177 0.90319739\n",
            " 0.90393999 0.90468095 0.90541121 0.90613333 0.90685378 0.90755935\n",
            " 0.90825886 0.90895787 0.90964954 0.91033594 0.9110206  0.91170209\n",
            " 0.91237901 0.91304185 0.91369819 0.91435168 0.91499295 0.91563115\n",
            " 0.91626733 0.91690081 0.91752701 0.91815015 0.91876293 0.91937545\n",
            " 0.91998308 0.92058811 0.92118701 0.92177782 0.92236195 0.92294584\n",
            " 0.92352047 0.92409458 0.92466394 0.92522548 0.92578223 0.92633381\n",
            " 0.92688449 0.927429   0.92797199 0.92850999 0.92904624 0.92957587\n",
            " 0.93010043 0.93061865 0.93113284 0.93164399 0.93215241 0.93265679\n",
            " 0.93315674 0.9336553  0.93415068 0.93464254 0.93512687 0.9356099\n",
            " 0.93608961 0.9365669  0.93703416 0.93749611 0.93795453 0.9384063\n",
            " 0.93885424 0.93929926 0.93973902 0.94017623 0.94061243 0.94104612\n",
            " 0.94147761 0.94190094 0.9423208  0.94273931 0.94315466 0.94356592\n",
            " 0.94397619 0.94438123 0.94478113 0.9451776  0.94557105 0.94596046\n",
            " 0.94634729 0.94673081 0.94711302 0.94749349 0.9478715  0.94824542\n",
            " 0.94861744 0.94898865 0.94935549 0.94972043 0.95008254 0.95044277\n",
            " 0.95079913 0.95115296 0.95150605 0.95185713 0.95220392 0.95254951\n",
            " 0.9528927  0.95322967 0.95356387 0.95389624 0.95422494 0.9545508\n",
            " 0.95487244 0.95519282 0.95551199 0.9558271  0.9561383  0.95644899\n",
            " 0.95675885 0.95706567 0.95737098 0.95767412 0.9579742  0.95827288\n",
            " 0.95857009 0.95886003 0.9591499  0.95943522 0.95971965 0.96000276\n",
            " 0.96028476 0.96056581 0.96084361 0.96111956 0.96139396 0.96166472\n",
            " 0.96193367 0.9622017  0.96246851 0.96273329 0.96299711 0.96325864\n",
            " 0.96351876 0.96377573 0.96403199 0.96428315 0.96453338 0.96478222\n",
            " 0.96502967 0.96527634 0.96551929 0.96576097 0.9660021  0.96624062\n",
            " 0.96647751 0.96671387 0.96694713 0.9671794  0.96741029 0.96764079\n",
            " 0.96786888 0.96809688 0.96832336 0.96854833 0.96877196 0.96899406\n",
            " 0.96921481 0.96943338 0.96964965 0.96986491 0.97008016 0.97029413\n",
            " 0.97050587 0.97071561 0.97092382 0.9711305  0.97133665 0.97154155\n",
            " 0.97174479 0.97194508 0.97214449 0.97234331 0.97254174 0.97273829\n",
            " 0.97293444 0.97312926 0.97332182 0.97351356 0.97370301 0.97389154\n",
            " 0.97407828 0.97426458 0.97444865 0.97463083 0.97481226 0.97499288\n",
            " 0.97517182 0.97535008 0.97552741 0.97570434 0.97587995 0.97605445\n",
            " 0.9762287  0.97640136 0.9765735  0.97674459 0.97691462 0.97708301\n",
            " 0.97725102 0.97741736 0.97758316 0.97774827 0.97791258 0.978076\n",
            " 0.97823815 0.9783995  0.97855901 0.97871752 0.97887365 0.97902887\n",
            " 0.97918346 0.97933733 0.97948958 0.97964095 0.97979196 0.97994232\n",
            " 0.98009215 0.98024073 0.98038869 0.98053606 0.98068163 0.98082703\n",
            " 0.98097059 0.98111395 0.98125641 0.98139821 0.98153934 0.98167996\n",
            " 0.98181946 0.98195877 0.98209693 0.98223411 0.98237049 0.98250575\n",
            " 0.98263959 0.98277273 0.98290465 0.98303618 0.98316721 0.9832977\n",
            " 0.98342756 0.98355661 0.98368518 0.98381354 0.98394084 0.9840678\n",
            " 0.98419369 0.98431889 0.98444354 0.98456687 0.98468994 0.98481231\n",
            " 0.98493438 0.9850556  0.98517561 0.98529531 0.98541395 0.9855323\n",
            " 0.98564976 0.98576616 0.98588241 0.98599838 0.98611318 0.9862276\n",
            " 0.98634117 0.98645429 0.98656677 0.98667883 0.98679051 0.98690146\n",
            " 0.9870121  0.98712229 0.98723164 0.98734064 0.98744935 0.98755741\n",
            " 0.98766481 0.98777198 0.98787878 0.98798503 0.98809059 0.98819563\n",
            " 0.98830006 0.98840349 0.9885067  0.98860948 0.9887117  0.98881297\n",
            " 0.98891393 0.98901424 0.9891143  0.98921396 0.98931331 0.9894117\n",
            " 0.98950993 0.98960763 0.98970462 0.98980127 0.98989753 0.98999294\n",
            " 0.99008763]\n"
          ]
        }
      ],
      "source": [
        "from sklearn.decomposition import PCA\n",
        "pca = PCA(0.99)\n",
        "pca.fit(train_img_std)\n",
        "\n",
        "print(pca.n_components_) #327 components explain 95% of variance from 768 features\n",
        "print(pca.explained_variance_ratio_)\n",
        "cs = np.cumsum(pca.explained_variance_ratio_)\n",
        "print(\"cumsum of variance\", cs)\n",
        "\n",
        "train_img_compress = pca.transform(train_img_std)\n",
        "test_img_compress = pca.transform(test_img_std)"
      ]
    },
    {
      "cell_type": "code",
      "source": [
        "from sklearn.ensemble import RandomForestClassifier\n",
        "clf = RandomForestClassifier(max_depth=2, random_state=0)\n",
        "clf.fit(train_img_std, train_lbl)\n",
        "print(type(clf.feature_importances_))\n"
      ],
      "metadata": {
        "id": "Wc_ow2HiVx9B",
        "outputId": "cfb008c0-43d0-40f7-d901-86961d1f9bf7",
        "colab": {
          "base_uri": "https://localhost:8080/",
          "height": 193
        }
      },
      "execution_count": 32,
      "outputs": [
        {
          "output_type": "stream",
          "name": "stdout",
          "text": [
            "<class 'numpy.ndarray'>\n"
          ]
        },
        {
          "output_type": "error",
          "ename": "NameError",
          "evalue": "name 'plot' is not defined",
          "traceback": [
            "\u001b[0;31m---------------------------------------------------------------------------\u001b[0m",
            "\u001b[0;31mNameError\u001b[0m                                 Traceback (most recent call last)",
            "\u001b[0;32m<ipython-input-32-cdcc949b33d3>\u001b[0m in \u001b[0;36m<cell line: 5>\u001b[0;34m()\u001b[0m\n\u001b[1;32m      3\u001b[0m \u001b[0mclf\u001b[0m\u001b[0;34m.\u001b[0m\u001b[0mfit\u001b[0m\u001b[0;34m(\u001b[0m\u001b[0mtrain_img_std\u001b[0m\u001b[0;34m,\u001b[0m \u001b[0mtrain_lbl\u001b[0m\u001b[0;34m)\u001b[0m\u001b[0;34m\u001b[0m\u001b[0;34m\u001b[0m\u001b[0m\n\u001b[1;32m      4\u001b[0m \u001b[0mprint\u001b[0m\u001b[0;34m(\u001b[0m\u001b[0mtype\u001b[0m\u001b[0;34m(\u001b[0m\u001b[0mclf\u001b[0m\u001b[0;34m.\u001b[0m\u001b[0mfeature_importances_\u001b[0m\u001b[0;34m)\u001b[0m\u001b[0;34m)\u001b[0m\u001b[0;34m\u001b[0m\u001b[0;34m\u001b[0m\u001b[0m\n\u001b[0;32m----> 5\u001b[0;31m \u001b[0mplot\u001b[0m\u001b[0;34m(\u001b[0m\u001b[0mclf\u001b[0m\u001b[0;34m.\u001b[0m\u001b[0mfeature_importances_\u001b[0m\u001b[0;34m)\u001b[0m\u001b[0;34m\u001b[0m\u001b[0;34m\u001b[0m\u001b[0m\n\u001b[0m",
            "\u001b[0;31mNameError\u001b[0m: name 'plot' is not defined"
          ]
        }
      ]
    },
    {
      "cell_type": "code",
      "source": [
        "# prompt: Please plot bar graph with clf.feature_importances_\n",
        "\n",
        "import matplotlib.pyplot as plt\n",
        "\n",
        "plt.figure(figsize=(10, 6))\n",
        "plt.bar(range(len(clf.feature_importances_)), clf.feature_importances_)\n",
        "plt.xlabel(\"Feature Index\")\n",
        "plt.ylabel(\"Feature Importance\")\n",
        "plt.title(\"Feature Importance Plot\")\n",
        "plt.show()\n"
      ],
      "metadata": {
        "id": "sHzK3wq5XIcx",
        "outputId": "5ce1d0a9-c261-40a1-e428-c2df1a93c632",
        "colab": {
          "base_uri": "https://localhost:8080/",
          "height": 564
        }
      },
      "execution_count": 33,
      "outputs": [
        {
          "output_type": "display_data",
          "data": {
            "text/plain": [
              "<Figure size 1000x600 with 1 Axes>"
            ],
            "image/png": "[encoded data removed]"
          },
          "metadata": {}
        }
      ]
    },
    {
      "cell_type": "markdown",
      "source": [],
      "metadata": {
        "id": "4cH8mrVwV17x"
      }
    },
    {
      "cell_type": "code",
      "execution_count": 24,
      "metadata": {
        "id": "qSH4Dw0UX8U1",
        "outputId": "709607bf-3022-44ce-d53e-f481269a5442",
        "colab": {
          "base_uri": "https://localhost:8080/",
          "height": 219
        }
      },
      "outputs": [
        {
          "output_type": "stream",
          "name": "stderr",
          "text": [
            "/usr/local/lib/python3.10/dist-packages/sklearn/linear_model/_logistic.py:469: ConvergenceWarning: lbfgs failed to converge (status=1):\n",
            "STOP: TOTAL NO. of ITERATIONS REACHED LIMIT.\n",
            "\n",
            "Increase the number of iterations (max_iter) or scale the data as shown in:\n",
            "    https://scikit-learn.org/stable/modules/preprocessing.html\n",
            "Please also refer to the documentation for alternative solver options:\n",
            "    https://scikit-learn.org/stable/modules/linear_model.html#logistic-regression\n",
            "  n_iter_i = _check_optimize_result(\n"
          ]
        },
        {
          "output_type": "execute_result",
          "data": {
            "text/plain": [
              "LogisticRegression()"
            ],
            "text/html": [
              "<style>#sk-container-id-4 {\n",
              "  /* Definition of color scheme common for light and dark mode */\n",
              "  --sklearn-color-text: black;\n",
              "  --sklearn-color-line: gray;\n",
              "  /* Definition of color scheme for unfitted estimators */\n",
              "  --sklearn-color-unfitted-level-0: #fff5e6;\n",
              "  --sklearn-color-unfitted-level-1: #f6e4d2;\n",
              "  --sklearn-color-unfitted-level-2: #ffe0b3;\n",
              "  --sklearn-color-unfitted-level-3: chocolate;\n",
              "  /* Definition of color scheme for fitted estimators */\n",
              "  --sklearn-color-fitted-level-0: #f0f8ff;\n",
              "  --sklearn-color-fitted-level-1: #d4ebff;\n",
              "  --sklearn-color-fitted-level-2: #b3dbfd;\n",
              "  --sklearn-color-fitted-level-3: cornflowerblue;\n",
              "\n",
              "  /* Specific color for light theme */\n",
              "  --sklearn-color-text-on-default-background: var(--sg-text-color, var(--theme-code-foreground, var(--jp-content-font-color1, black)));\n",
              "  --sklearn-color-background: var(--sg-background-color, var(--theme-background, var(--jp-layout-color0, white)));\n",
              "  --sklearn-color-border-box: var(--sg-text-color, var(--theme-code-foreground, var(--jp-content-font-color1, black)));\n",
              "  --sklearn-color-icon: #696969;\n",
              "\n",
              "  @media (prefers-color-scheme: dark) {\n",
              "    /* Redefinition of color scheme for dark theme */\n",
              "    --sklearn-color-text-on-default-background: var(--sg-text-color, var(--theme-code-foreground, var(--jp-content-font-color1, white)));\n",
              "    --sklearn-color-background: var(--sg-background-color, var(--theme-background, var(--jp-layout-color0, #111)));\n",
              "    --sklearn-color-border-box: var(--sg-text-color, var(--theme-code-foreground, var(--jp-content-font-color1, white)));\n",
              "    --sklearn-color-icon: #878787;\n",
              "  }\n",
              "}\n",
              "\n",
              "#sk-container-id-4 {\n",
              "  color: var(--sklearn-color-text);\n",
              "}\n",
              "\n",
              "#sk-container-id-4 pre {\n",
              "  padding: 0;\n",
              "}\n",
              "\n",
              "#sk-container-id-4 input.sk-hidden--visually {\n",
              "  border: 0;\n",
              "  clip: rect(1px 1px 1px 1px);\n",
              "  clip: rect(1px, 1px, 1px, 1px);\n",
              "  height: 1px;\n",
              "  margin: -1px;\n",
              "  overflow: hidden;\n",
              "  padding: 0;\n",
              "  position: absolute;\n",
              "  width: 1px;\n",
              "}\n",
              "\n",
              "#sk-container-id-4 div.sk-dashed-wrapped {\n",
              "  border: 1px dashed var(--sklearn-color-line);\n",
              "  margin: 0 0.4em 0.5em 0.4em;\n",
              "  box-sizing: border-box;\n",
              "  padding-bottom: 0.4em;\n",
              "  background-color: var(--sklearn-color-background);\n",
              "}\n",
              "\n",
              "#sk-container-id-4 div.sk-container {\n",
              "  /* jupyter's `normalize.less` sets `[hidden] { display: none; }`\n",
              "     but bootstrap.min.css set `[hidden] { display: none !important; }`\n",
              "     so we also need the `!important` here to be able to override the\n",
              "     default hidden behavior on the sphinx rendered scikit-learn.org.\n",
              "     See: https://github.com/scikit-learn/scikit-learn/issues/21755 */\n",
              "  display: inline-block !important;\n",
              "  position: relative;\n",
              "}\n",
              "\n",
              "#sk-container-id-4 div.sk-text-repr-fallback {\n",
              "  display: none;\n",
              "}\n",
              "\n",
              "div.sk-parallel-item,\n",
              "div.sk-serial,\n",
              "div.sk-item {\n",
              "  /* draw centered vertical line to link estimators */\n",
              "  background-image: linear-gradient(var(--sklearn-color-text-on-default-background), var(--sklearn-color-text-on-default-background));\n",
              "  background-size: 2px 100%;\n",
              "  background-repeat: no-repeat;\n",
              "  background-position: center center;\n",
              "}\n",
              "\n",
              "/* Parallel-specific style estimator block */\n",
              "\n",
              "#sk-container-id-4 div.sk-parallel-item::after {\n",
              "  content: \"\";\n",
              "  width: 100%;\n",
              "  border-bottom: 2px solid var(--sklearn-color-text-on-default-background);\n",
              "  flex-grow: 1;\n",
              "}\n",
              "\n",
              "#sk-container-id-4 div.sk-parallel {\n",
              "  display: flex;\n",
              "  align-items: stretch;\n",
              "  justify-content: center;\n",
              "  background-color: var(--sklearn-color-background);\n",
              "  position: relative;\n",
              "}\n",
              "\n",
              "#sk-container-id-4 div.sk-parallel-item {\n",
              "  display: flex;\n",
              "  flex-direction: column;\n",
              "}\n",
              "\n",
              "#sk-container-id-4 div.sk-parallel-item:first-child::after {\n",
              "  align-self: flex-end;\n",
              "  width: 50%;\n",
              "}\n",
              "\n",
              "#sk-container-id-4 div.sk-parallel-item:last-child::after {\n",
              "  align-self: flex-start;\n",
              "  width: 50%;\n",
              "}\n",
              "\n",
              "#sk-container-id-4 div.sk-parallel-item:only-child::after {\n",
              "  width: 0;\n",
              "}\n",
              "\n",
              "/* Serial-specific style estimator block */\n",
              "\n",
              "#sk-container-id-4 div.sk-serial {\n",
              "  display: flex;\n",
              "  flex-direction: column;\n",
              "  align-items: center;\n",
              "  background-color: var(--sklearn-color-background);\n",
              "  padding-right: 1em;\n",
              "  padding-left: 1em;\n",
              "}\n",
              "\n",
              "\n",
              "/* Toggleable style: style used for estimator/Pipeline/ColumnTransformer box that is\n",
              "clickable and can be expanded/collapsed.\n",
              "- Pipeline and ColumnTransformer use this feature and define the default style\n",
              "- Estimators will overwrite some part of the style using the `sk-estimator` class\n",
              "*/\n",
              "\n",
              "/* Pipeline and ColumnTransformer style (default) */\n",
              "\n",
              "#sk-container-id-4 div.sk-toggleable {\n",
              "  /* Default theme specific background. It is overwritten whether we have a\n",
              "  specific estimator or a Pipeline/ColumnTransformer */\n",
              "  background-color: var(--sklearn-color-background);\n",
              "}\n",
              "\n",
              "/* Toggleable label */\n",
              "#sk-container-id-4 label.sk-toggleable__label {\n",
              "  cursor: pointer;\n",
              "  display: block;\n",
              "  width: 100%;\n",
              "  margin-bottom: 0;\n",
              "  padding: 0.5em;\n",
              "  box-sizing: border-box;\n",
              "  text-align: center;\n",
              "}\n",
              "\n",
              "#sk-container-id-4 label.sk-toggleable__label-arrow:before {\n",
              "  /* Arrow on the left of the label */\n",
              "  content: \"▸\";\n",
              "  float: left;\n",
              "  margin-right: 0.25em;\n",
              "  color: var(--sklearn-color-icon);\n",
              "}\n",
              "\n",
              "#sk-container-id-4 label.sk-toggleable__label-arrow:hover:before {\n",
              "  color: var(--sklearn-color-text);\n",
              "}\n",
              "\n",
              "/* Toggleable content - dropdown */\n",
              "\n",
              "#sk-container-id-4 div.sk-toggleable__content {\n",
              "  max-height: 0;\n",
              "  max-width: 0;\n",
              "  overflow: hidden;\n",
              "  text-align: left;\n",
              "  /* unfitted */\n",
              "  background-color: var(--sklearn-color-unfitted-level-0);\n",
              "}\n",
              "\n",
              "#sk-container-id-4 div.sk-toggleable__content.fitted {\n",
              "  /* fitted */\n",
              "  background-color: var(--sklearn-color-fitted-level-0);\n",
              "}\n",
              "\n",
              "#sk-container-id-4 div.sk-toggleable__content pre {\n",
              "  margin: 0.2em;\n",
              "  border-radius: 0.25em;\n",
              "  color: var(--sklearn-color-text);\n",
              "  /* unfitted */\n",
              "  background-color: var(--sklearn-color-unfitted-level-0);\n",
              "}\n",
              "\n",
              "#sk-container-id-4 div.sk-toggleable__content.fitted pre {\n",
              "  /* unfitted */\n",
              "  background-color: var(--sklearn-color-fitted-level-0);\n",
              "}\n",
              "\n",
              "#sk-container-id-4 input.sk-toggleable__control:checked~div.sk-toggleable__content {\n",
              "  /* Expand drop-down */\n",
              "  max-height: 200px;\n",
              "  max-width: 100%;\n",
              "  overflow: auto;\n",
              "}\n",
              "\n",
              "#sk-container-id-4 input.sk-toggleable__control:checked~label.sk-toggleable__label-arrow:before {\n",
              "  content: \"▾\";\n",
              "}\n",
              "\n",
              "/* Pipeline/ColumnTransformer-specific style */\n",
              "\n",
              "#sk-container-id-4 div.sk-label input.sk-toggleable__control:checked~label.sk-toggleable__label {\n",
              "  color: var(--sklearn-color-text);\n",
              "  background-color: var(--sklearn-color-unfitted-level-2);\n",
              "}\n",
              "\n",
              "#sk-container-id-4 div.sk-label.fitted input.sk-toggleable__control:checked~label.sk-toggleable__label {\n",
              "  background-color: var(--sklearn-color-fitted-level-2);\n",
              "}\n",
              "\n",
              "/* Estimator-specific style */\n",
              "\n",
              "/* Colorize estimator box */\n",
              "#sk-container-id-4 div.sk-estimator input.sk-toggleable__control:checked~label.sk-toggleable__label {\n",
              "  /* unfitted */\n",
              "  background-color: var(--sklearn-color-unfitted-level-2);\n",
              "}\n",
              "\n",
              "#sk-container-id-4 div.sk-estimator.fitted input.sk-toggleable__control:checked~label.sk-toggleable__label {\n",
              "  /* fitted */\n",
              "  background-color: var(--sklearn-color-fitted-level-2);\n",
              "}\n",
              "\n",
              "#sk-container-id-4 div.sk-label label.sk-toggleable__label,\n",
              "#sk-container-id-4 div.sk-label label {\n",
              "  /* The background is the default theme color */\n",
              "  color: var(--sklearn-color-text-on-default-background);\n",
              "}\n",
              "\n",
              "/* On hover, darken the color of the background */\n",
              "#sk-container-id-4 div.sk-label:hover label.sk-toggleable__label {\n",
              "  color: var(--sklearn-color-text);\n",
              "  background-color: var(--sklearn-color-unfitted-level-2);\n",
              "}\n",
              "\n",
              "/* Label box, darken color on hover, fitted */\n",
              "#sk-container-id-4 div.sk-label.fitted:hover label.sk-toggleable__label.fitted {\n",
              "  color: var(--sklearn-color-text);\n",
              "  background-color: var(--sklearn-color-fitted-level-2);\n",
              "}\n",
              "\n",
              "/* Estimator label */\n",
              "\n",
              "#sk-container-id-4 div.sk-label label {\n",
              "  font-family: monospace;\n",
              "  font-weight: bold;\n",
              "  display: inline-block;\n",
              "  line-height: 1.2em;\n",
              "}\n",
              "\n",
              "#sk-container-id-4 div.sk-label-container {\n",
              "  text-align: center;\n",
              "}\n",
              "\n",
              "/* Estimator-specific */\n",
              "#sk-container-id-4 div.sk-estimator {\n",
              "  font-family: monospace;\n",
              "  border: 1px dotted var(--sklearn-color-border-box);\n",
              "  border-radius: 0.25em;\n",
              "  box-sizing: border-box;\n",
              "  margin-bottom: 0.5em;\n",
              "  /* unfitted */\n",
              "  background-color: var(--sklearn-color-unfitted-level-0);\n",
              "}\n",
              "\n",
              "#sk-container-id-4 div.sk-estimator.fitted {\n",
              "  /* fitted */\n",
              "  background-color: var(--sklearn-color-fitted-level-0);\n",
              "}\n",
              "\n",
              "/* on hover */\n",
              "#sk-container-id-4 div.sk-estimator:hover {\n",
              "  /* unfitted */\n",
              "  background-color: var(--sklearn-color-unfitted-level-2);\n",
              "}\n",
              "\n",
              "#sk-container-id-4 div.sk-estimator.fitted:hover {\n",
              "  /* fitted */\n",
              "  background-color: var(--sklearn-color-fitted-level-2);\n",
              "}\n",
              "\n",
              "/* Specification for estimator info (e.g. \"i\" and \"?\") */\n",
              "\n",
              "/* Common style for \"i\" and \"?\" */\n",
              "\n",
              ".sk-estimator-doc-link,\n",
              "a:link.sk-estimator-doc-link,\n",
              "a:visited.sk-estimator-doc-link {\n",
              "  float: right;\n",
              "  font-size: smaller;\n",
              "  line-height: 1em;\n",
              "  font-family: monospace;\n",
              "  background-color: var(--sklearn-color-background);\n",
              "  border-radius: 1em;\n",
              "  height: 1em;\n",
              "  width: 1em;\n",
              "  text-decoration: none !important;\n",
              "  margin-left: 1ex;\n",
              "  /* unfitted */\n",
              "  border: var(--sklearn-color-unfitted-level-1) 1pt solid;\n",
              "  color: var(--sklearn-color-unfitted-level-1);\n",
              "}\n",
              "\n",
              ".sk-estimator-doc-link.fitted,\n",
              "a:link.sk-estimator-doc-link.fitted,\n",
              "a:visited.sk-estimator-doc-link.fitted {\n",
              "  /* fitted */\n",
              "  border: var(--sklearn-color-fitted-level-1) 1pt solid;\n",
              "  color: var(--sklearn-color-fitted-level-1);\n",
              "}\n",
              "\n",
              "/* On hover */\n",
              "div.sk-estimator:hover .sk-estimator-doc-link:hover,\n",
              ".sk-estimator-doc-link:hover,\n",
              "div.sk-label-container:hover .sk-estimator-doc-link:hover,\n",
              ".sk-estimator-doc-link:hover {\n",
              "  /* unfitted */\n",
              "  background-color: var(--sklearn-color-unfitted-level-3);\n",
              "  color: var(--sklearn-color-background);\n",
              "  text-decoration: none;\n",
              "}\n",
              "\n",
              "div.sk-estimator.fitted:hover .sk-estimator-doc-link.fitted:hover,\n",
              ".sk-estimator-doc-link.fitted:hover,\n",
              "div.sk-label-container:hover .sk-estimator-doc-link.fitted:hover,\n",
              ".sk-estimator-doc-link.fitted:hover {\n",
              "  /* fitted */\n",
              "  background-color: var(--sklearn-color-fitted-level-3);\n",
              "  color: var(--sklearn-color-background);\n",
              "  text-decoration: none;\n",
              "}\n",
              "\n",
              "/* Span, style for the box shown on hovering the info icon */\n",
              ".sk-estimator-doc-link span {\n",
              "  display: none;\n",
              "  z-index: 9999;\n",
              "  position: relative;\n",
              "  font-weight: normal;\n",
              "  right: .2ex;\n",
              "  padding: .5ex;\n",
              "  margin: .5ex;\n",
              "  width: min-content;\n",
              "  min-width: 20ex;\n",
              "  max-width: 50ex;\n",
              "  color: var(--sklearn-color-text);\n",
              "  box-shadow: 2pt 2pt 4pt #999;\n",
              "  /* unfitted */\n",
              "  background: var(--sklearn-color-unfitted-level-0);\n",
              "  border: .5pt solid var(--sklearn-color-unfitted-level-3);\n",
              "}\n",
              "\n",
              ".sk-estimator-doc-link.fitted span {\n",
              "  /* fitted */\n",
              "  background: var(--sklearn-color-fitted-level-0);\n",
              "  border: var(--sklearn-color-fitted-level-3);\n",
              "}\n",
              "\n",
              ".sk-estimator-doc-link:hover span {\n",
              "  display: block;\n",
              "}\n",
              "\n",
              "/* \"?\"-specific style due to the `<a>` HTML tag */\n",
              "\n",
              "#sk-container-id-4 a.estimator_doc_link {\n",
              "  float: right;\n",
              "  font-size: 1rem;\n",
              "  line-height: 1em;\n",
              "  font-family: monospace;\n",
              "  background-color: var(--sklearn-color-background);\n",
              "  border-radius: 1rem;\n",
              "  height: 1rem;\n",
              "  width: 1rem;\n",
              "  text-decoration: none;\n",
              "  /* unfitted */\n",
              "  color: var(--sklearn-color-unfitted-level-1);\n",
              "  border: var(--sklearn-color-unfitted-level-1) 1pt solid;\n",
              "}\n",
              "\n",
              "#sk-container-id-4 a.estimator_doc_link.fitted {\n",
              "  /* fitted */\n",
              "  border: var(--sklearn-color-fitted-level-1) 1pt solid;\n",
              "  color: var(--sklearn-color-fitted-level-1);\n",
              "}\n",
              "\n",
              "/* On hover */\n",
              "#sk-container-id-4 a.estimator_doc_link:hover {\n",
              "  /* unfitted */\n",
              "  background-color: var(--sklearn-color-unfitted-level-3);\n",
              "  color: var(--sklearn-color-background);\n",
              "  text-decoration: none;\n",
              "}\n",
              "\n",
              "#sk-container-id-4 a.estimator_doc_link.fitted:hover {\n",
              "  /* fitted */\n",
              "  background-color: var(--sklearn-color-fitted-level-3);\n",
              "}\n",
              "</style><div id=\"sk-container-id-4\" class=\"sk-top-container\"><div class=\"sk-text-repr-fallback\"><pre>LogisticRegression()</pre><b>In a Jupyter environment, please rerun this cell to show the HTML representation or trust the notebook. <br />On GitHub, the HTML representation is unable to render, please try loading this page with nbviewer.org.</b></div><div class=\"sk-container\" hidden><div class=\"sk-item\"><div class=\"sk-estimator fitted sk-toggleable\"><input class=\"sk-toggleable__control sk-hidden--visually\" id=\"sk-estimator-id-4\" type=\"checkbox\" checked><label for=\"sk-estimator-id-4\" class=\"sk-toggleable__label fitted sk-toggleable__label-arrow fitted\">&nbsp;&nbsp;LogisticRegression<a class=\"sk-estimator-doc-link fitted\" rel=\"noreferrer\" target=\"_blank\" href=\"https://scikit-learn.org/1.5/modules/generated/sklearn.linear_model.LogisticRegression.html\">?<span>Documentation for LogisticRegression</span></a><span class=\"sk-estimator-doc-link fitted\">i<span>Fitted</span></span></label><div class=\"sk-toggleable__content fitted\"><pre>LogisticRegression()</pre></div> </div></div></div></div>"
            ]
          },
          "metadata": {},
          "execution_count": 24
        }
      ],
      "source": [
        "from sklearn.linear_model import LogisticRegression\n",
        "clf = LogisticRegression(solver='lbfgs')\n",
        "clf.fit(train_img_compress, train_lbl)"
      ]
    },
    {
      "cell_type": "code",
      "execution_count": 28,
      "metadata": {
        "id": "VX22VR4IX8U1",
        "outputId": "67a946e2-a8b8-428b-81a7-5061876bdd83",
        "colab": {
          "base_uri": "https://localhost:8080/"
        }
      },
      "outputs": [
        {
          "output_type": "stream",
          "name": "stdout",
          "text": [
            "['1']\n",
            "0.6975714285714286\n"
          ]
        }
      ],
      "source": [
        "print(clf.predict(test_img_compress[0].reshape(1,-1)))\n",
        "print(clf.score(test_img_compress,test_lbl))"
      ]
    },
    {
      "cell_type": "code",
      "source": [
        "n_rows = 2\n",
        "n_cols = 5\n",
        "max_index = n_rows * n_cols\n",
        "fig, axs = plt.subplots(nrows=n_rows, ncols=n_cols, figsize=(n_cols, n_rows),\n",
        "                        subplot_kw={'xticks': [], 'yticks': []})\n",
        "\n",
        "print(\"Note that the title of each image is the predicted result.\")\n",
        "\n",
        "for ax, i in zip(axs.flat, range(max_index)):\n",
        "\n",
        "    # Convert array size 784x1 to 28x28 to be able to plot\n",
        "    my_image = np.array(test_img_original.iloc[i], dtype='float')\n",
        "    #my_image = np.array(test_img_compress[i], dtype='float')\n",
        "    pixels = my_image.reshape((28, 28))\n",
        "\n",
        "    # Plot image with color mapping (cmap) in grayscale\n",
        "    ax.imshow(pixels, cmap='gray')\n",
        "\n",
        "    # Set title with its result\n",
        "    result = clf.predict(test_img_compress[i].reshape(1,-1)) # convert dimension (327,) to (1,327)\n",
        "    ax.set_title(result[0])\n",
        "\n",
        "# Display plot\n",
        "plt.tight_layout()\n",
        "plt.show()"
      ],
      "metadata": {
        "id": "SyJKjXauK3LP",
        "outputId": "0519bef0-b42b-4ea2-c3cd-13e763b4cbe8",
        "colab": {
          "base_uri": "https://localhost:8080/",
          "height": 225
        }
      },
      "execution_count": 29,
      "outputs": [
        {
          "output_type": "stream",
          "name": "stdout",
          "text": [
            "Note that the title of each image is the predicted result.\n"
          ]
        },
        {
          "output_type": "display_data",
          "data": {
            "text/plain": [
              "<Figure size 500x200 with 10 Axes>"
            ],
            "image/png": "[encoded data removed]"
          },
          "metadata": {}
        }
      ]
    },
    {
      "cell_type": "markdown",
      "source": [
        "1. Further reading\n",
        "- AutoEncoder\n",
        "- GAN\n"
      ],
      "metadata": {
        "id": "R1tGYLejcC7x"
      }
    }
  ],
  "metadata": {
    "kernelspec": {
      "display_name": "Python 3",
      "language": "python",
      "name": "python3"
    },
    "language_info": {
      "codemirror_mode": {
        "name": "ipython",
        "version": 3
      },
      "file_extension": ".py",
      "mimetype": "text/x-python",
      "name": "python",
      "nbconvert_exporter": "python",
      "pygments_lexer": "ipython3",
      "version": "3.7.4"
    },
    "colab": {
      "name": "PCA.ipynb",
      "provenance": [],
      "include_colab_link": true
    }
  },
  "nbformat": 4,
  "nbformat_minor": 0
}