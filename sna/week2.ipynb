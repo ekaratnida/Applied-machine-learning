{
  "nbformat": 4,
  "nbformat_minor": 0,
  "metadata": {
    "colab": {
      "provenance": [],
      "authorship_tag": "ABX9TyNhqAm8MRcedE9b/IF7/ajV",
      "include_colab_link": true
    },
    "kernelspec": {
      "name": "python3",
      "display_name": "Python 3"
    },
    "language_info": {
      "name": "python"
    }
  },
  "cells": [
    {
      "cell_type": "markdown",
      "metadata": {
        "id": "view-in-github",
        "colab_type": "text"
      },
      "source": [
        "<a href=\"https://colab.research.google.com/github/ekaratnida/Applied-machine-learning/blob/master/sna/week2.ipynb\" target=\"_parent\"><img src=\"https://colab.research.google.com/assets/colab-badge.svg\" alt=\"Open In Colab\"/></a>"
      ]
    },
    {
      "cell_type": "code",
      "execution_count": null,
      "metadata": {
        "id": "kiGTmNPtOLiz"
      },
      "outputs": [],
      "source": [
        "import networkx as nx\n",
        "import matplotlib.pyplot as plt\n",
        "import pandas as pd\n",
        "nodes_data = {'node_id':['w1','w2','c1','c2','c3','c4','c5']}\n",
        "edges_data = {'source':['w1','w1','w1','w2','w2','w2','c3','c4'],\n",
        "              'target':['c1','c2','c3','c3','c4','c5','c4','c5'],\n",
        "              'dist':[1.5,2,3.5,2.5,1.8,2.0,1.5,1.3]\n",
        "              }\n",
        "ndf = pd.DataFrame(nodes_data)\n",
        "edf = pd.DataFrame(edges_data)\n",
        "G = nx.Graph()\n",
        "for _, row in ndf.iterrows():\n",
        "    G.add_node(row['node_id'])\n",
        "for _, row in edf.iterrows():\n",
        "    G.add_edge(row['source'], row['target'], weight=row['dist'])"
      ]
    },
    {
      "cell_type": "code",
      "source": [
        "out_degree = nx.degree_centrality(G)\n",
        "print(out_degree)"
      ],
      "metadata": {
        "colab": {
          "base_uri": "https://localhost:8080/"
        },
        "id": "cLM1n5iLQVmM",
        "outputId": "aa440547-640b-4427-995b-10d9bad6a556"
      },
      "execution_count": null,
      "outputs": [
        {
          "output_type": "stream",
          "name": "stdout",
          "text": [
            "{'w1': 0.5, 'w2': 0.5, 'c1': 0.16666666666666666, 'c2': 0.16666666666666666, 'c3': 0.5, 'c4': 0.5, 'c5': 0.3333333333333333}\n"
          ]
        }
      ]
    },
    {
      "cell_type": "code",
      "source": [
        "betweenness = nx.betweenness_centrality(G,weight='dist')\n",
        "print(betweenness)"
      ],
      "metadata": {
        "colab": {
          "base_uri": "https://localhost:8080/"
        },
        "id": "tu7pVw8_QtIa",
        "outputId": "1422a14a-ad3c-4781-b21e-fcc44b13d4c0"
      },
      "execution_count": null,
      "outputs": [
        {
          "output_type": "stream",
          "name": "stdout",
          "text": [
            "{'w1': 0.6, 'w2': 0.13333333333333333, 'c1': 0.0, 'c2': 0.0, 'c3': 0.6, 'c4': 0.13333333333333333, 'c5': 0.0}\n"
          ]
        }
      ]
    },
    {
      "cell_type": "code",
      "source": [
        "closeness = nx.closeness_centrality(G,distance='dist')\n",
        "print(closeness)"
      ],
      "metadata": {
        "colab": {
          "base_uri": "https://localhost:8080/"
        },
        "id": "xrY21fKGSJSM",
        "outputId": "1c2863b3-8511-4cd9-c9b9-8c39cc134f57"
      },
      "execution_count": null,
      "outputs": [
        {
          "output_type": "stream",
          "name": "stdout",
          "text": [
            "{'w1': 0.6, 'w2': 0.5454545454545454, 'c1': 0.4, 'c2': 0.4, 'c3': 0.6666666666666666, 'c4': 0.5454545454545454, 'c5': 0.4}\n"
          ]
        }
      ]
    },
    {
      "cell_type": "code",
      "source": [
        "eigenvector = nx.eigenvector_centrality(G,weight='dist',max_iter=1000)\n",
        "print(eigenvector)"
      ],
      "metadata": {
        "colab": {
          "base_uri": "https://localhost:8080/"
        },
        "id": "VUEAYMjaSuL_",
        "outputId": "5ccd03ec-13d0-4d71-f388-220fc91e461c"
      },
      "execution_count": null,
      "outputs": [
        {
          "output_type": "stream",
          "name": "stdout",
          "text": [
            "{'w1': 0.2496439977090048, 'w2': 0.5187905405291899, 'c1': 0.09332147773123796, 'c2': 0.09332147773123796, 'c3': 0.48118253291505064, 'c4': 0.51879054052919, 'c5': 0.3878610551838126}\n"
          ]
        }
      ]
    }
  ]
}